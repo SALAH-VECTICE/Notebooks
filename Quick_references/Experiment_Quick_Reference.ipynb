{
  "nbformat": 4,
  "nbformat_minor": 0,
  "metadata": {
    "colab": {
      "name": "Experiment_Quick_Reference.ipynb",
      "provenance": [],
      "collapsed_sections": [
        "iOEZCpBquZve",
        "dJVH_Esgsnpt",
        "s6g2Cij3kP31",
        "ZSeEC4zuhzFH",
        "xkO5Y33zumd2",
        "M-AtxHg6uovO",
        "WWoXYfJgri0k",
        "2s24ocXGrm3m",
        "34TjIv9nr58d",
        "sN3Dfyh8r-mF",
        "S1Z-bXHWuUpx",
        "VO6Dvf7OumT2",
        "ko-As9rZvWl_",
        "UHFM4Ub76WSn",
        "0IdgweojCx-R",
        "tVRoDWJ8C52Z",
        "IYbG1gJH92Oq",
        "OpJJnU_v9N51",
        "Zi5O2Zyz-mff",
        "OOcSCWAY-2S_",
        "t2Yn52wn_N7W",
        "I0cvGg1F_pYm",
        "3byUYw4OA3KG",
        "4PJWYCvwAn74",
        "d2xUrqaSBKEw",
        "HyRDa3Twf7FR",
        "zSN8VnPvf05e",
        "VkDJPnHrf_Iw",
        "DXJKcd9rBoj3",
        "LlETuPvzfiC1",
        "1xhyjU-fCJ_0",
        "H-ohP59fkghf",
        "B-7Ruwdtfm5u"
      ]
    },
    "kernelspec": {
      "name": "python3",
      "display_name": "Python 3"
    },
    "language_info": {
      "name": "python"
    }
  },
  "cells": [
    {
      "cell_type": "markdown",
      "source": [
        "### Install Vectice"
      ],
      "metadata": {
        "id": "iOEZCpBquZve"
      }
    },
    {
      "cell_type": "code",
      "execution_count": null,
      "metadata": {
        "id": "JRxpaxwZGtB6"
      },
      "outputs": [],
      "source": [
        "!pip install --q \"vectice[github, gitlab, bitbucket]==2.2.3\""
      ]
    },
    {
      "cell_type": "code",
      "source": [
        "!pip show vectice"
      ],
      "metadata": {
        "id": "_aal4jY1G2Yx"
      },
      "execution_count": null,
      "outputs": []
    },
    {
      "cell_type": "markdown",
      "source": [
        "### Vectice Configuration"
      ],
      "metadata": {
        "id": "dJVH_Esgsnpt"
      }
    },
    {
      "cell_type": "code",
      "source": [
        "## Import the required packages\n",
        "from vectice import Vectice\n",
        "from vectice import Experiment\n",
        "from vectice.api.json import ModelType\n",
        "from vectice.api.json import JobType\n",
        "from vectice.api.json import JobArtifactType\n",
        "from vectice.api.json import ModelVersionStatus\n",
        "from vectice.api.json.artifact_version import VersionStrategy\n",
        "from vectice.api.json import FileMetadata\n",
        "import logging\n",
        "import os\n",
        "logging.basicConfig(level=logging.INFO)\n",
        "\n",
        "# Specify the API endpoint for Vectice.\n",
        "# You can specify your API endpoint here in the notebook, but we recommand you to add it to a .env file\n",
        "os.environ['VECTICE_API_ENDPOINT']= \"Your API Endpoint\"\n",
        "\n",
        "# To use the Vectice Python library, you first need to authenticate your account using an API key.\n",
        "# You can generate an API key from the Vectice UI, by going to the \"My API Keys\" section under your profile's picture\n",
        "# Copy and paste your API key here\n",
        "# You can specify your API Token here in the notebook, but we recommand you to add it to a .env file\n",
        "os.environ['VECTICE_API_TOKEN'] = \"Your API Token\"\n",
        "\n",
        "#Project id\n",
        "project_id= ID"
      ],
      "metadata": {
        "id": "wr6dz5aGjpT0"
      },
      "execution_count": null,
      "outputs": []
    },
    {
      "cell_type": "markdown",
      "source": [
        "### Create your experiment"
      ],
      "metadata": {
        "id": "s6g2Cij3kP31"
      }
    },
    {
      "cell_type": "markdown",
      "source": [
        "Experiment is a high level API dedicated to capture your Job and Runs. The Experiment class comes with some great features to make the use of Vectice easier when it comes to managing a unique Job and all its entities.\n",
        "\n",
        "The Experiment can also be used with the context manager syntax (python with keyword). In this case, the end of the run will be automatically managed.\n",
        "\n",
        "When initializing an Experiment, it :\n",
        "\n",
        "- Creates an instance of Vectice to create Artifacts and an instance of the Client to make API calls.\n",
        "\n",
        "- Gets or creates the job linked to the experiment.\n",
        "\n",
        "- Manages the creation of a Runs for this job.\n",
        "\n",
        "- Manages the input and output artifacts. By default, every artifact used before starting the experiment is considered as an _input_ of the job, and every artifact added after starting the experiment is considered as an _output_.\n",
        "\n",
        "- Beside the CRUD naming conventions, Experiment uses other specific naming convention to make its usage as simple as possible.\n",
        "\n",
        "     - add methods : add_dataset_version() will add the defined dataset version to the experiment\n",
        "\n",
        "    - add_model_version() will add the defined model version to the experiment\n",
        "\n",
        "    - log methods :\n",
        "        - log_hyper_parameters() add a set of hyper parameter to the specified model of the run\n",
        "\n",
        "        - log_metrics() add a set of metrics to the specified model of the run. the metrics are timestamped key/values pair"
      ],
      "metadata": {
        "id": "yfW3Oou27Q1l"
      }
    },
    {
      "cell_type": "markdown",
      "source": [
        "When creating an experiment, we need to specify:\n",
        "\n",
        "1) a job (mandatory): Job names are unique for each project\n",
        "\n",
        "2) A project id or name: Only the project id is needed, but if you want to use the project name, the wokspace name or id is required.\n",
        "\n",
        "3) a job type (optional)\n",
        "\n",
        "\n",
        "Job names and job types are useful to group and search runs in the Vectice UI."
      ],
      "metadata": {
        "id": "T4cpdJvG80Sj"
      }
    },
    {
      "cell_type": "code",
      "source": [
        "# autocode = True enables you to track your git changes for your code automatically every time you execute a run (see below).\n",
        "#Only the project id is needed, but if you want to use the project name, the wokspace name or id is required.\n",
        "experiment = Experiment(job=\"New Experiment\", project=project_id, job_type=JobType.PREPARATION, auto_code=True)"
      ],
      "metadata": {
        "id": "vmnBQuXljDPF"
      },
      "execution_count": null,
      "outputs": []
    },
    {
      "cell_type": "markdown",
      "source": [
        "**You can see in the app all the created assets and artifacts. You can easily find them in the \"My Recent Activity\" from the home page of the application or by typing their names in the global search, or by going to the specified section for the asset/artifact in your project in the Vectice application**"
      ],
      "metadata": {
        "id": "YYHlARGv8X5N"
      }
    },
    {
      "cell_type": "markdown",
      "source": [
        "### We create a dataset and a model to use "
      ],
      "metadata": {
        "id": "ZSeEC4zuhzFH"
      }
    },
    {
      "cell_type": "code",
      "source": [
        "## Creating datasets and models to be used to test model and dataset versions\n",
        "dataset = experiment.vectice.create_dataset(name=\"Dataset\")\n",
        "model = experiment.vectice.create_model(name=\"Model\")"
      ],
      "metadata": {
        "id": "Bfj60ZRmh5tO"
      },
      "execution_count": null,
      "outputs": []
    },
    {
      "cell_type": "markdown",
      "source": [
        "You can see in the Vectice app that a new dataset called **Dataset** and a model called **Model** have been created in your project."
      ],
      "metadata": {
        "id": "aKqpKQIBm1Lr"
      }
    },
    {
      "cell_type": "markdown",
      "source": [
        "### Dataset versions"
      ],
      "metadata": {
        "id": "xkO5Y33zumd2"
      }
    },
    {
      "cell_type": "markdown",
      "source": [
        "Experiment enables you to add, get, list, update and delete dataset version"
      ],
      "metadata": {
        "id": "WvF6Li3O_7Xa"
      }
    },
    {
      "cell_type": "markdown",
      "source": [
        "#### Add_dataset_version"
      ],
      "metadata": {
        "id": "M-AtxHg6uovO"
      }
    },
    {
      "cell_type": "markdown",
      "source": [
        "1- Using auto-versioning (By default): The Vectice library automatically detects if there have been changes to the dataset you are using. If it detects changes, it will generate a new version of your dataset automatically or use the last version if not.\n",
        "\n",
        "2- turning off auto-versioning (version_strategy=VersionStrategy.MANUAL): In this case you can add resources and declare your files metadata when adding a dataset version to a dataset.\n",
        "\n",
        "- If you specify a version name:\n",
        "    - If the version doesn't exist in the dataset: A new dataset version will be created with the given name and used in the experiment.\n",
        "    - If the version exists: The exisiting version will be used in the experiment\n",
        "\n",
        "- If you don't specify a version name: A new version will be created and used in the experiment."
      ],
      "metadata": {
        "id": "cSecYvuRptCG"
      }
    },
    {
      "cell_type": "markdown",
      "source": [
        "##### Using auto-versioning"
      ],
      "metadata": {
        "id": "WWoXYfJgri0k"
      }
    },
    {
      "cell_type": "code",
      "source": [
        "#The Vectice library automatically detects if there have been changes to the dataset you are using.\n",
        "#If it detects changes, it will generate a new version of your dataset automatically. \n",
        "\n",
        "experiment.add_dataset_version(dataset=\"Dataset\", version_strategy=VersionStrategy.AUTOMATIC)\n",
        "experiment.start()\n",
        "experiment.complete()"
      ],
      "metadata": {
        "id": "AgFfB9mRsh95"
      },
      "execution_count": null,
      "outputs": []
    },
    {
      "cell_type": "markdown",
      "source": [
        "You can see in the Vectice app that a new run has been created and a dataset version of the dataset **Dataset** is attached to the run."
      ],
      "metadata": {
        "id": "DLvOcrewnHJ2"
      }
    },
    {
      "cell_type": "markdown",
      "source": [
        "##### Turning off auto-versioning"
      ],
      "metadata": {
        "id": "2s24ocXGrm3m"
      }
    },
    {
      "cell_type": "markdown",
      "source": [
        "###### Add a dataset version with resources"
      ],
      "metadata": {
        "id": "34TjIv9nr58d"
      }
    },
    {
      "cell_type": "markdown",
      "source": [
        "- You can turn off auto-versioning and do manuel versioning.\n",
        "- You can add resources in this case\n",
        "- To add resources to a dataset. This dataset should have a connection linked to it, to be able to add resources from the storage.\n",
        "- You can see how to create a connection in Vectice [here](https://doc.vectice.com/connections/index.html)."
      ],
      "metadata": {
        "id": "P8T5TSjJAoX5"
      }
    },
    {
      "cell_type": "code",
      "source": [
        "## We create a dataset with a connection\n",
        "dataset_with_connection = experiment.vectice.create_dataset(name=\"dataset_with_connection\", connection=\"connection name\")"
      ],
      "metadata": {
        "id": "IK05bE_AnltO"
      },
      "execution_count": null,
      "outputs": []
    },
    {
      "cell_type": "markdown",
      "source": [
        "You can see in the Vectice app that a new dataset called **dataset_with_connection** has been created in your project."
      ],
      "metadata": {
        "id": "tvoZWC3LnqpK"
      }
    },
    {
      "cell_type": "code",
      "source": [
        "## Adding a dataset version with resources\n",
        "## Resources. Here, we use a files stored in GCS\n",
        "## You can use your own files\n",
        "resources = [\"gs://vectice_tutorial/kc_house_data_cleaned.csv\"]\n",
        "experiment.add_dataset_version(dataset=\"dataset_with_connection\", version_name=\"My_version\", description=\"new desc\",version_strategy=VersionStrategy.MANUAL,\n",
        "                        is_starred=True, properties={\"key\":\"value\"}, resources=resources)\n",
        "experiment.start()\n",
        "experiment.complete()"
      ],
      "metadata": {
        "id": "cOLm2tSrA3L3"
      },
      "execution_count": null,
      "outputs": []
    },
    {
      "cell_type": "markdown",
      "source": [
        "You can see in the Vectice app that a new run has been created and a new dataset version called **My_version** of the dataset **dataset_with_connection** has been created and attached to the run."
      ],
      "metadata": {
        "id": "KEjxObUrozNl"
      }
    },
    {
      "cell_type": "markdown",
      "source": [
        "###### Add a dataset version and declare files metadata"
      ],
      "metadata": {
        "id": "sN3Dfyh8r-mF"
      }
    },
    {
      "cell_type": "markdown",
      "source": [
        "- You can turn off auto-versioning and do manuel versioning.\n",
        "- You can declare your files metadata manually in this case"
      ],
      "metadata": {
        "id": "GcYOCkdEgbDy"
      }
    },
    {
      "cell_type": "code",
      "source": [
        "experiment.add_dataset_version(dataset=\"Dataset\", version_name=\"new_version\", description=\"new desc\",version_strategy=VersionStrategy.MANUAL,\n",
        "                        is_starred=True, properties={\"key\":\"value\"}, metadata=[FileMetadata(name=\"File.txt\", size=100)])\n",
        "experiment.start()\n",
        "experiment.complete()"
      ],
      "metadata": {
        "id": "83ETpbE_gbPB"
      },
      "execution_count": null,
      "outputs": []
    },
    {
      "cell_type": "markdown",
      "source": [
        "You can see in the Vectice app that a new run has been created and a new dataset version called **new_version** of the dataset dataset_with_connection has been created and attached to the run."
      ],
      "metadata": {
        "id": "lm7I073WsHE_"
      }
    },
    {
      "cell_type": "markdown",
      "source": [
        "#### List dataset versions"
      ],
      "metadata": {
        "id": "S1Z-bXHWuUpx"
      }
    },
    {
      "cell_type": "code",
      "source": [
        "## You can get the list of your dataset versions by providing the dataset name or id\n",
        "experiment.list_dataset_versions(dataset=\"Dataset\")"
      ],
      "metadata": {
        "id": "IzCITE3ovxHv"
      },
      "execution_count": null,
      "outputs": []
    },
    {
      "cell_type": "markdown",
      "source": [
        "#### Get dataset versions"
      ],
      "metadata": {
        "id": "VO6Dvf7OumT2"
      }
    },
    {
      "cell_type": "code",
      "source": [
        "## You can get a dataset version by providing only the version id\n",
        "## If you specify the version name, the dataset name or id is required also.\n",
        "version = experiment.get_dataset_version(version=\"new_version\", dataset=\"Dataset\")\n",
        "version"
      ],
      "metadata": {
        "id": "YR0oOweAuogo"
      },
      "execution_count": null,
      "outputs": []
    },
    {
      "cell_type": "markdown",
      "source": [
        "##### Update dataset version"
      ],
      "metadata": {
        "id": "DibtmZZHvI_-"
      }
    },
    {
      "cell_type": "code",
      "source": [
        "## You can update a dataset version's information by providing only the dataset version id\n",
        "## If you specify the version name, the dataset name or id is required also.\n",
        "experiment.update_dataset_version(version=\"new_version\", dataset=\"Dataset\", name=\"new_version2\", description=\"New_desc\", is_starred=True,\n",
        "                           properties={\"key\": \"new_value\"})"
      ],
      "metadata": {
        "id": "DH8gGLXKwCho"
      },
      "execution_count": null,
      "outputs": []
    },
    {
      "cell_type": "markdown",
      "source": [
        "You can see in the Vectice app that the dataset version has been updated."
      ],
      "metadata": {
        "id": "73xmFfc5uOlx"
      }
    },
    {
      "cell_type": "markdown",
      "source": [
        "#### Delete dataset_version"
      ],
      "metadata": {
        "id": "JEJeVpBDz3Ev"
      }
    },
    {
      "cell_type": "code",
      "source": [
        "## You can delete a dataset version by providing only the version id\n",
        "## If you specify the version name, the dataset name or id is required also.\n",
        "experiment.delete_dataset_version(version=\"new_version2\", dataset=\"Dataset\")"
      ],
      "metadata": {
        "id": "kepSyDqWz2pA"
      },
      "execution_count": null,
      "outputs": []
    },
    {
      "cell_type": "markdown",
      "source": [
        "You can see in the Vectice app that the dataset version has been deleted."
      ],
      "metadata": {
        "id": "J3_-xagJuW15"
      }
    },
    {
      "cell_type": "markdown",
      "source": [
        "### Model versions"
      ],
      "metadata": {
        "id": "ko-As9rZvWl_"
      }
    },
    {
      "cell_type": "markdown",
      "source": [
        "Experiment enables you to add, get, list, update and delete model version"
      ],
      "metadata": {
        "id": "vSfzai0W_Ab4"
      }
    },
    {
      "cell_type": "code",
      "source": [
        "## We initialize our experiment\n",
        "#Only the project id is needed, but if you want to use the project name, the wokspace name or id are required.\n",
        "exp = Experiment(job=\"experiment 2\", project=project_id, job_type=JobType.TRAINING)"
      ],
      "metadata": {
        "id": "KVXd2ZBN6guD"
      },
      "execution_count": null,
      "outputs": []
    },
    {
      "cell_type": "markdown",
      "source": [
        "#### Add model version"
      ],
      "metadata": {
        "id": "UHFM4Ub76WSn"
      }
    },
    {
      "cell_type": "markdown",
      "source": [
        "We can create a model version and declare the version name, description, metrics, hyperparameters, status, the used algorithm, if the version should be starred or not (not starred by default), and attachments."
      ],
      "metadata": {
        "id": "nUCwyGFBABc7"
      }
    },
    {
      "cell_type": "markdown",
      "source": [
        "1- You can use the model name or id.\n",
        "\n",
        "2- If you use the model name:\n",
        "\n",
        "- If the model already exists in the project: It will be used in the experiment.\n",
        "\n",
        "- If the model doesn't exist in the project: A new model will be created with the given name ane used in the experiment.\n",
        "\n",
        "3- If you specify a version name:\n",
        "  - If the version doesn't exist in the model: A new model version will be created with the given name and used in the experiment.\n",
        "  - If the version exists: The version will be used in the experiment\n",
        "\n",
        "4- If you don't specify a version name: A new version will be created and used in the experiment."
      ],
      "metadata": {
        "id": "Ui95QRyBAcJ2"
      }
    },
    {
      "cell_type": "code",
      "source": [
        "## Hyperparameters\n",
        "hyper_parameters = {\"key\": 10, \"key2\": \"value\"}\n",
        "## Metrics\n",
        "metrics = {\"key\": 10, \"key2\": 100}\n",
        "experiment.start()\n",
        "\n",
        "experiment.add_model_version(model=\"Model\", algorithm=\"algo\", status=ModelVersionStatus.STAGING,\n",
        "                          hyper_parameters=hyper_parameters, metrics=metrics)\n",
        "## You can aslo add attachment if you want\n",
        "\n",
        "experiment.complete()"
      ],
      "metadata": {
        "id": "ioaOkcxQ6gHB"
      },
      "execution_count": null,
      "outputs": []
    },
    {
      "cell_type": "markdown",
      "source": [
        "You can see in the Vectice app that a new version of the model **Model** has been created and attached to the created run."
      ],
      "metadata": {
        "id": "m3kBR8yYug_T"
      }
    },
    {
      "cell_type": "markdown",
      "source": [
        "##### Log metrics"
      ],
      "metadata": {
        "id": "0IdgweojCx-R"
      }
    },
    {
      "cell_type": "markdown",
      "source": [
        "You can also log metrics to a new or existing model version"
      ],
      "metadata": {
        "id": "DySv3YcgFOsN"
      }
    },
    {
      "cell_type": "code",
      "source": [
        "## You can log metrics to a model version by providing only the version id\n",
        "## If you specify the version name, the model name or id is required also.\n",
        "experiment.log_metrics(model_version=\"version 1\", metrics={\"key3\": 1, \"key4\":2}, model=\"Model\")"
      ],
      "metadata": {
        "id": "JntuAfnFC1lH"
      },
      "execution_count": null,
      "outputs": []
    },
    {
      "cell_type": "markdown",
      "source": [
        "You can see in the Vectice app that the metrics have been successfully added to the version \"version 1\" of the model **Model**"
      ],
      "metadata": {
        "id": "HILZSAUUvGHj"
      }
    },
    {
      "cell_type": "markdown",
      "source": [
        "##### Log hyperparameters"
      ],
      "metadata": {
        "id": "tVRoDWJ8C52Z"
      }
    },
    {
      "cell_type": "markdown",
      "source": [
        "You can log hyper parameters to a new or existing model version"
      ],
      "metadata": {
        "id": "Slv0_1vHG3u-"
      }
    },
    {
      "cell_type": "code",
      "source": [
        "## You can log hyper parameters to a model version by providing only the version id\n",
        "## If you specify the version name, the model name or id is required also.\n",
        "experiment.log_hyper_parameters(model_version=\"version 1\", hyper_parameters={\"key3\": \"1\", \"key4\":2}, model=\"Model\")"
      ],
      "metadata": {
        "id": "OdfNdjImC8Iv"
      },
      "execution_count": null,
      "outputs": []
    },
    {
      "cell_type": "markdown",
      "source": [
        "You can see in the Vectice app that the hyper parameters have been successfully added to the version \"version 1\" of the model Model"
      ],
      "metadata": {
        "id": "a4w3Pe8WxD8n"
      }
    },
    {
      "cell_type": "markdown",
      "source": [
        "#### Add model version attachments"
      ],
      "metadata": {
        "id": "IYbG1gJH92Oq"
      }
    },
    {
      "cell_type": "markdown",
      "source": [
        "You can also add attachments to a new or existing model version"
      ],
      "metadata": {
        "id": "jjTr2yR6Gv93"
      }
    },
    {
      "cell_type": "code",
      "source": [
        "## You can add attachments to a model version by providing only the version id\n",
        "## If you specify the version name, the model name or id is required also.\n",
        "experiment.add_model_version_attachment(file=[attachment], model_version=\"version 1\", model=\"Model\")"
      ],
      "metadata": {
        "id": "0Wphbj3794fL"
      },
      "execution_count": null,
      "outputs": []
    },
    {
      "cell_type": "markdown",
      "source": [
        "You can see in the Vectice app that the attachments have been successfully added to the version \"version 1\" of the model Model"
      ],
      "metadata": {
        "id": "YI54XJNhyc1H"
      }
    },
    {
      "cell_type": "markdown",
      "source": [
        "#### Get model version"
      ],
      "metadata": {
        "id": "OpJJnU_v9N51"
      }
    },
    {
      "cell_type": "code",
      "source": [
        "## You can get a model version by providing only the version id\n",
        "## If you specify the version name, the model name or id is required also.\n",
        "experiment.get_model_version(version=\"version 1\", model=\"Model\")"
      ],
      "metadata": {
        "id": "occaWkix9U8x"
      },
      "execution_count": null,
      "outputs": []
    },
    {
      "cell_type": "markdown",
      "source": [
        "#### List model versions"
      ],
      "metadata": {
        "id": "Zi5O2Zyz-mff"
      }
    },
    {
      "cell_type": "code",
      "source": [
        "## You can get a the list of model versions by providing the model name or id.\n",
        "experiment.list_model_versions(model=\"Model\")"
      ],
      "metadata": {
        "id": "M-SI90CN-pNb"
      },
      "execution_count": null,
      "outputs": []
    },
    {
      "cell_type": "markdown",
      "source": [
        "#### List model version attachments, metrics and hyperparameters"
      ],
      "metadata": {
        "id": "OOcSCWAY-2S_"
      }
    },
    {
      "cell_type": "markdown",
      "source": [
        "- You can get the list of a model version attachments, metrics, and hyper patameters by providing only the version id\n",
        "\n",
        "- If you specify the version name, the dataset name or id is required also."
      ],
      "metadata": {
        "id": "9O5iw1nYHuEX"
      }
    },
    {
      "cell_type": "code",
      "source": [
        "experiment.list_model_version_attachments(model_version=\"version 1\", model=\"Model\")"
      ],
      "metadata": {
        "id": "1fgmq5-m-9C1"
      },
      "execution_count": null,
      "outputs": []
    },
    {
      "cell_type": "code",
      "source": [
        "experiment.list_metrics(model_version=\"version 1\", model=\"Model\")"
      ],
      "metadata": {
        "id": "ky4sdWftFgNH"
      },
      "execution_count": null,
      "outputs": []
    },
    {
      "cell_type": "code",
      "source": [
        "experiment.list_hyper_parameters(model_version=\"version 1\", model=\"Model\")"
      ],
      "metadata": {
        "id": "ReIxh7nHFic1"
      },
      "execution_count": null,
      "outputs": []
    },
    {
      "cell_type": "markdown",
      "source": [
        "#### List model versions dataframe"
      ],
      "metadata": {
        "id": "t2Yn52wn_N7W"
      }
    },
    {
      "cell_type": "markdown",
      "source": [
        "You can also get all the model versions you created in previous runs, for offline analysis and understanding in more details what's driving the models performance."
      ],
      "metadata": {
        "id": "lTjG9PrwISCv"
      }
    },
    {
      "cell_type": "code",
      "source": [
        "## You can get a dataframe of the a model by providing the model or id\n",
        "experiment.list_model_versions_dataframe(model=\"Model\")"
      ],
      "metadata": {
        "id": "rpF0sD9E_QNp"
      },
      "execution_count": null,
      "outputs": []
    },
    {
      "cell_type": "markdown",
      "source": [
        "#### Update model version"
      ],
      "metadata": {
        "id": "I0cvGg1F_pYm"
      }
    },
    {
      "cell_type": "markdown",
      "source": [
        "You can update your model version's name, description, metrics, hyperparameters, status, the used algorithm, if you want to star the version and attachments."
      ],
      "metadata": {
        "id": "b2j45tHmImyy"
      }
    },
    {
      "cell_type": "code",
      "source": [
        "## You can update a model version's information by providing only the dataset version id\n",
        "## If you specify the version name, the model name or id is required also.\n",
        "\n",
        "## Updated Hyperparameters\n",
        "new_hyper_parameters = {\"key\": 100, \"key2\": \"value 2\"}\n",
        "## Updated metrics\n",
        "new_metrics = {\"key\": 100, \"key2\": 1000}\n",
        "\n",
        "experiment.update_model_version(version=\"version 1\", model=\"Model\", name=\"new version\", description=\"new desc\", status=ModelVersionStatus.PRODUCTION,\n",
        "                         algorithm=\"new algo\", is_starred=True, metrics=new_metrics, hyper_parameters=new_hyper_parameters)"
      ],
      "metadata": {
        "id": "10kvsqo__t2I"
      },
      "execution_count": null,
      "outputs": []
    },
    {
      "cell_type": "markdown",
      "source": [
        "#### Delete model version attachments, metrics and hyper parameters"
      ],
      "metadata": {
        "id": "3byUYw4OA3KG"
      }
    },
    {
      "cell_type": "markdown",
      "source": [
        "-  You can delete a mode version attachments, metrics, and hyper parameters by providing only the version id\n",
        "- If you specify the version name, the model name or id is required also."
      ],
      "metadata": {
        "id": "lWN7l3LLJMrr"
      }
    },
    {
      "cell_type": "code",
      "source": [
        "experiment.delete_model_version_attachment(file=attachment, model_version=\"new version\", model=\"Model\")"
      ],
      "metadata": {
        "id": "ofZUCQrAA5gv"
      },
      "execution_count": null,
      "outputs": []
    },
    {
      "cell_type": "code",
      "source": [
        "experiment.delete_metrics(model_version=\"new version\", model=\"Model\", metrics=new_metrics)"
      ],
      "metadata": {
        "id": "V2F1agCFGUe8"
      },
      "execution_count": null,
      "outputs": []
    },
    {
      "cell_type": "code",
      "source": [
        "experiment.delete_hyper_parameters(model_version=\"new version\", model=\"Model\", keys=[\"key\"])"
      ],
      "metadata": {
        "id": "w8nzkxJfGgMX"
      },
      "execution_count": null,
      "outputs": []
    },
    {
      "cell_type": "markdown",
      "source": [
        "#### Delete model version"
      ],
      "metadata": {
        "id": "4PJWYCvwAn74"
      }
    },
    {
      "cell_type": "code",
      "source": [
        "## You can delete a mode version by providing only the version id\n",
        "## If you specify the version name, the model name or id is required also.\n",
        "experiment.delete_model_version(version=\"new version\", model=\"Model\")"
      ],
      "metadata": {
        "id": "_xNWg9kuAp8w"
      },
      "execution_count": null,
      "outputs": []
    },
    {
      "cell_type": "markdown",
      "source": [
        "### Code versions"
      ],
      "metadata": {
        "id": "d2xUrqaSBKEw"
      }
    },
    {
      "cell_type": "markdown",
      "source": [
        "#### Create code version"
      ],
      "metadata": {
        "id": "HyRDa3Twf7FR"
      }
    },
    {
      "cell_type": "markdown",
      "source": [
        "Vectice enables you to track your source code by creating code versions. This can be done automatically and manually."
      ],
      "metadata": {
        "id": "3-DaR6OHfw4p"
      }
    },
    {
      "cell_type": "markdown",
      "source": [
        "##### Creating a code version automatically\n"
      ],
      "metadata": {
        "id": "zSN8VnPvf05e"
      }
    },
    {
      "cell_type": "markdown",
      "source": [
        "If you are using your local environment with GIT installed or JupyterLab etc... the code tracking can be automated by setting autocode=True when creating the Vectice instance."
      ],
      "metadata": {
        "id": "LhbzoX6ugEns"
      }
    },
    {
      "cell_type": "markdown",
      "source": [
        "##### Creating a code version manually"
      ],
      "metadata": {
        "id": "VkDJPnHrf_Iw"
      }
    },
    {
      "cell_type": "markdown",
      "source": [
        "You can create a code version for your code present in GitHub, GitLab, or Bitbucket manually by using:\n",
        "\n",
        "       **experiment.add_code_version_uri**\n",
        "\n",
        "- For this you need to specify a git_uri composed of the github(or gitlab or bitbucket)/project/repository and an entrypoint composed of folder/file in git."
      ],
      "metadata": {
        "id": "q951NK7rBgrW"
      }
    },
    {
      "cell_type": "code",
      "source": [
        "## Example with Github\n",
        "## You can do the same things for you files in Gitlab or Bitbucket\n",
        "experiment.add_code_version_uri(git_uri=\"https://github.com/vectice/vectice-examples\", entrypoint=\"Quick_References/Experiment_Quick_Referenced.ipynb\")\n",
        "experiment.start()\n",
        "experiment.complete()"
      ],
      "metadata": {
        "id": "7YZFpc41CCUy"
      },
      "execution_count": null,
      "outputs": []
    },
    {
      "cell_type": "markdown",
      "source": [
        "You can see in the Vectice application that a new run has been created and the code version has been attached to this run."
      ],
      "metadata": {
        "id": "2TBDWU2Uzp5U"
      }
    },
    {
      "cell_type": "markdown",
      "source": [
        "#### list_code_version"
      ],
      "metadata": {
        "id": "DXJKcd9rBoj3"
      }
    },
    {
      "cell_type": "markdown",
      "source": [
        "You can also get the list of the code versions created in you project by using **list_code_versions()**"
      ],
      "metadata": {
        "id": "zH-qqJBdeYAs"
      }
    },
    {
      "cell_type": "code",
      "source": [
        "experiment.vectice.list_code_versions()"
      ],
      "metadata": {
        "id": "kd6qNzhqCELv"
      },
      "execution_count": null,
      "outputs": []
    },
    {
      "cell_type": "markdown",
      "source": [
        "#### Get code version"
      ],
      "metadata": {
        "id": "LlETuPvzfiC1"
      }
    },
    {
      "cell_type": "markdown",
      "source": [
        "You can get a code version by using **get_code_version()**"
      ],
      "metadata": {
        "id": "hXwEO1xjfkJu"
      }
    },
    {
      "cell_type": "code",
      "source": [
        "experiment.get_code_version(code_version=\"Version 1\")"
      ],
      "metadata": {
        "id": "ns4eo6njfrtp"
      },
      "execution_count": null,
      "outputs": []
    },
    {
      "cell_type": "markdown",
      "source": [
        "#### Delete code version"
      ],
      "metadata": {
        "id": "1xhyjU-fCJ_0"
      }
    },
    {
      "cell_type": "markdown",
      "source": [
        "You can delete a code version by using **delete.code_version()**"
      ],
      "metadata": {
        "id": "wBOSfPS_fVyE"
      }
    },
    {
      "cell_type": "code",
      "source": [
        "experiment.delete_code_version(code_version=\"Version 1\")"
      ],
      "metadata": {
        "id": "ZO3Zqg5qCR28"
      },
      "execution_count": null,
      "outputs": []
    },
    {
      "cell_type": "markdown",
      "source": [
        "### Run"
      ],
      "metadata": {
        "id": "H-ohP59fkghf"
      }
    },
    {
      "cell_type": "markdown",
      "source": [
        "- By default, every artifact added to the experiment before start() is considered as an _input_ of the job, and every artifact added after the start is considered as an _output\n",
        "- You still can specify inputs, manually if you want, when you start your experiment and outputs when you complete it.\n",
        "- The inputs can be code, dataset and model versions and the outputs can be dataset and model versions.\n"
      ],
      "metadata": {
        "id": "-ktiAWiZ-V_j"
      }
    },
    {
      "cell_type": "code",
      "source": [
        "## We create a new experiment\n",
        "experiment = Experiment(job=\"Experiment 3\", project=project_id, job_type=JobType.TRAINING, auto_code=True)"
      ],
      "metadata": {
        "id": "mP27wDCjhMC7"
      },
      "execution_count": null,
      "outputs": []
    },
    {
      "cell_type": "markdown",
      "source": [
        "#### Start() and complete()\n",
        "\n"
      ],
      "metadata": {
        "id": "B-7Ruwdtfm5u"
      }
    },
    {
      "cell_type": "markdown",
      "source": [
        "By default, every artifact added to the experiment before start() is considered as an input of the job, and every artifact added after the start is considered as an _output"
      ],
      "metadata": {
        "id": "HaC-pmHJl7rj"
      }
    },
    {
      "cell_type": "code",
      "source": [
        "## We add a dataset version and a model version to the experiment before starting it\n",
        "experiment.add_dataset_version(dataset=\"Dataset\", version_strategy=VersionStrategy.AUTOMATIC)\n",
        "experiment.add_code_version_uri(git_uri=\"https://github.com/vectice/vectice-examples\", entrypoint=\"Quick_References/Experiment_Quick_Reference.ipynb\")"
      ],
      "metadata": {
        "id": "oTD0IOWyhWT7"
      },
      "execution_count": null,
      "outputs": []
    },
    {
      "cell_type": "code",
      "source": [
        "## We start the experiment\n",
        "experiment.start()"
      ],
      "metadata": {
        "id": "WunYn0tVVef9"
      },
      "execution_count": null,
      "outputs": []
    },
    {
      "cell_type": "markdown",
      "source": [
        "You can see in the Vectice app that a new run has been created with \"Started\" status and it has the added dataset and code versions attached as inputs."
      ],
      "metadata": {
        "id": "CV-9dm49jcXe"
      }
    },
    {
      "cell_type": "code",
      "source": [
        "## We add a model version to the experiment\n",
        "hyper_parameters = {\"key\": 10, \"key2\": \"value\"}\n",
        "## Metrics\n",
        "metrics = {\"key\": 10, \"key2\": 100}\n",
        "experiment.add_model_version(model=\"Model\", algorithm=\"algorithm\", status=ModelVersionStatus.STAGING,\n",
        "                          hyper_parameters=hyper_parameters, metrics=metrics)"
      ],
      "metadata": {
        "id": "flPFGqCiiUwg"
      },
      "execution_count": null,
      "outputs": []
    },
    {
      "cell_type": "code",
      "source": [
        "## We complete the experiment\n",
        "experiment.complete()"
      ],
      "metadata": {
        "id": "l3nZvxGGfogz"
      },
      "execution_count": null,
      "outputs": []
    },
    {
      "cell_type": "markdown",
      "source": [
        "You can see in the application that the run status has been updated to \"Completed\" and the added model version is attached as an output to the run."
      ],
      "metadata": {
        "id": "__yhQzK3juVV"
      }
    },
    {
      "cell_type": "markdown",
      "source": [
        "You can also create all your artifacts before starting the experiment and specify manually if you want to use them a sinputs or outputs"
      ],
      "metadata": {
        "id": "qzQeVYUGkPfg"
      }
    },
    {
      "cell_type": "code",
      "source": [
        "## We add a dataset and code versions to the experiment and declare that we want to attach them as inputs of our experiment run\n",
        "experiment.add_dataset_version(dataset=\"Dataset\", version_strategy=VersionStrategy.AUTOMATIC, artifact_type=JobArtifactType.INPUT)\n",
        "experiment.add_code_version_uri(git_uri=\"https://github.com/vectice/vectice-examples\",\n",
        "                                entrypoint=\"Quick_References/Experiment_Quick_Reference.ipynb\", artifact_type=JobArtifactType.INPUT)"
      ],
      "metadata": {
        "id": "MmDtZhEegrTh"
      },
      "execution_count": null,
      "outputs": []
    },
    {
      "cell_type": "code",
      "source": [
        "## We add a model version to the experiment and declare that we want to use it as output of our experiment run\n",
        "experiment.add_model_version(model=\"Model\", algorithm=\"algorithm\", status=ModelVersionStatus.STAGING,\n",
        "                          hyper_parameters=hyper_parameters, metrics=metrics, artifact_type=JobArtifactType.OUTPUT)"
      ],
      "metadata": {
        "id": "UZ7QgSnXktWg"
      },
      "execution_count": null,
      "outputs": []
    },
    {
      "cell_type": "code",
      "source": [
        "## We can start the experiment run\n",
        "experiment.start()\n",
        "## Do something...\n",
        "## Complete the experiment\n",
        "experiment.complete()"
      ],
      "metadata": {
        "id": "-maEJ2DPgUxf"
      },
      "execution_count": null,
      "outputs": []
    },
    {
      "cell_type": "markdown",
      "source": [
        "We can see in the Vectice app that a new run has been  created and it uses the specified inputs and outputs"
      ],
      "metadata": {
        "id": "0_PRE8gXlYLz"
      }
    }
  ]
}