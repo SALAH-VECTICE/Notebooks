{
  "cells": [
    {
      "cell_type": "markdown",
      "metadata": {},
      "source": [
        "<a href=\"https://colab.research.google.com/github/vectice/vectice-examples/blob/master/Quick_references/Experiment_Quick_Reference.ipynb\" target=\"_parent\"><img src=\"https://colab.research.google.com/assets/colab-badge.svg\" alt=\"Open In Colab\"/></a>"
      ]
    },
    {
      "cell_type": "markdown",
      "metadata": {
        "id": "iOEZCpBquZve"
      },
      "source": [
        "### Install Vectice"
      ]
    },
    {
      "cell_type": "code",
      "execution_count": null,
      "metadata": {
        "id": "JRxpaxwZGtB6"
      },
      "outputs": [],
      "source": [
        "!pip install --q \"vectice[github, gitlab, bitbucket]==2.2.3\""
      ]
    },
    {
      "cell_type": "code",
      "execution_count": null,
      "metadata": {
        "id": "_aal4jY1G2Yx"
      },
      "outputs": [],
      "source": [
        "!pip show vectice"
      ]
    },
    {
      "cell_type": "markdown",
      "metadata": {
        "id": "dJVH_Esgsnpt"
      },
      "source": [
        "### Vectice Configuration"
      ]
    },
    {
      "cell_type": "code",
      "execution_count": null,
      "metadata": {
        "id": "wr6dz5aGjpT0"
      },
      "outputs": [],
      "source": [
        "## Import the required packages\n",
        "from vectice import Vectice\n",
        "from vectice import Experiment\n",
        "from vectice.api.json import ModelType\n",
        "from vectice.api.json import JobType\n",
        "from vectice.api.json import JobArtifactType\n",
        "from vectice.api.json import ModelVersionStatus\n",
        "from vectice.api.json import VersionStrategy\n",
        "from vectice.api.json import FileMetadata\n",
        "import logging\n",
        "import os\n",
        "logging.basicConfig(level=logging.INFO)\n",
        "\n",
        "# Specify the API endpoint for Vectice.\n",
        "# You can specify your API endpoint here in the notebook, but we recommand you to add it to a .env file\n",
        "os.environ['VECTICE_API_ENDPOINT']= \"Your API Endpoint\"\n",
        "\n",
        "# To use the Vectice Python library, you first need to authenticate your account using an API token.\n",
        "# You can generate an API token from the Vectice UI, by going to the \"API Tokens\" section in the \"My Profile\" section\n",
        "# which is located under your profile picture.\n",
        "# You can specify your API Token here in the notebook, but we recommend you to add it to a .env file\n",
        "os.environ['VECTICE_API_TOKEN'] = \"Your API Token\"\n",
        "\n",
        "#Project id\n",
        "project_id= ID"
      ]
    },
    {
      "cell_type": "markdown",
      "metadata": {
        "id": "s6g2Cij3kP31"
      },
      "source": [
        "### Create your experiment"
      ]
    },
    {
      "cell_type": "markdown",
      "metadata": {
        "id": "yfW3Oou27Q1l"
      },
      "source": [
        "Experiment is a high level API dedicated to capture your Job and Runs. The Experiment class comes with some great features to make the use of Vectice easier when it comes to managing a unique Job and all its entities.\n",
        "\n",
        "The Experiment can also be used with the context manager syntax (python with keyword). In this case, the end of the run will be automatically managed.\n",
        "\n",
        "When initializing an Experiment, it :\n",
        "\n",
        "- Creates an instance of Vectice to create Artifacts and an instance of the Client to make API calls.\n",
        "\n",
        "- Gets or creates the job linked to the experiment.\n",
        "\n",
        "- Manages the creation of a Runs for this job.\n",
        "\n",
        "- Manages the input and output artifacts. By default, every artifact used before starting the experiment is considered as an _input_ of the job, and every artifact added after starting the experiment is considered as an _output_.\n",
        "\n",
        "- Beside the CRUD naming conventions, Experiment uses other specific naming convention to make its usage as simple as possible.\n",
        "\n",
        "     - add methods : add_dataset_version() will add the defined dataset version to the experiment\n",
        "\n",
        "    - add_model_version() will add the defined model version to the experiment\n",
        "\n",
        "    - log methods :\n",
        "        - log_hyper_parameters() add a set of hyper parameter to the specified model of the run\n",
        "\n",
        "        - log_metrics() add a set of metrics to the specified model of the run. the metrics are timestamped key/values pair"
      ]
    },
    {
      "cell_type": "markdown",
      "metadata": {
        "id": "T4cpdJvG80Sj"
      },
      "source": [
        "When creating an experiment, we need to specify:\n",
        "\n",
        "1) a job (mandatory): Job names are unique for each project\n",
        "\n",
        "2) A project id or name: Only the project id is needed, but if you want to use the project name, the wokspace name or id is required.\n",
        "\n",
        "3) a job type (optional)\n",
        "\n",
        "\n",
        "Job names and job types are useful to group and search runs in the Vectice UI."
      ]
    },
    {
      "cell_type": "code",
      "execution_count": null,
      "metadata": {
        "id": "vmnBQuXljDPF"
      },
      "outputs": [],
      "source": [
        "# autocode = True enables you to track your git changes for your code automatically every time you execute a run (see below).\n",
        "#Only the project id is needed, but if you want to use the project name, the wokspace name or id is required.\n",
        "experiment = Experiment(job=\"New Experiment\", project=project_id, job_type=JobType.PREPARATION, auto_code=True)"
      ]
    },
    {
      "cell_type": "markdown",
      "metadata": {
        "id": "YYHlARGv8X5N"
      },
      "source": [
        "**You can see in the app all the created assets and artifacts. You can easily find them in the \"My Recent Activity\" from the home page of the application or by typing their names in the global search, or by going to the specified section for the asset/artifact in your project in the Vectice application**"
      ]
    },
    {
      "cell_type": "markdown",
      "metadata": {
        "id": "ZSeEC4zuhzFH"
      },
      "source": [
        "### We create a dataset and a model to use "
      ]
    },
    {
      "cell_type": "code",
      "execution_count": null,
      "metadata": {
        "id": "Bfj60ZRmh5tO"
      },
      "outputs": [],
      "source": [
        "## Creating datasets and models to be used to test model and dataset versions\n",
        "dataset = experiment.vectice.create_dataset(name=\"Dataset\")\n",
        "model = experiment.vectice.create_model(name=\"Model\")"
      ]
    },
    {
      "cell_type": "markdown",
      "metadata": {
        "id": "aKqpKQIBm1Lr"
      },
      "source": [
        "You can see in the Vectice app that a new dataset called **Dataset** and a model called **Model** have been created in your project."
      ]
    },
    {
      "cell_type": "markdown",
      "metadata": {
        "id": "xkO5Y33zumd2"
      },
      "source": [
        "### Dataset versions"
      ]
    },
    {
      "cell_type": "markdown",
      "metadata": {
        "id": "WvF6Li3O_7Xa"
      },
      "source": [
        "Experiment enables you to add, get, list, update and delete dataset version"
      ]
    },
    {
      "cell_type": "markdown",
      "metadata": {
        "id": "M-AtxHg6uovO"
      },
      "source": [
        "#### Add_dataset_version"
      ]
    },
    {
      "cell_type": "markdown",
      "metadata": {
        "id": "cSecYvuRptCG"
      },
      "source": [
        "1- Using auto-versioning (By default): The Vectice library automatically detects if there have been changes to the dataset you are using. If it detects changes, it will generate a new version of your dataset automatically or use the last version if not.\n",
        "\n",
        "2- turning off auto-versioning (version_strategy=VersionStrategy.MANUAL): In this case you can add resources and declare your files metadata when adding a dataset version to a dataset.\n",
        "\n",
        "- If you specify a version name:\n",
        "    - If the version doesn't exist in the dataset: A new dataset version will be created with the given name and used in the experiment.\n",
        "    - If the version exists: The exisiting version will be used in the experiment\n",
        "\n",
        "- If you don't specify a version name: A new version will be created and used in the experiment."
      ]
    },
    {
      "cell_type": "markdown",
      "metadata": {
        "id": "WWoXYfJgri0k"
      },
      "source": [
        "##### Using auto-versioning"
      ]
    },
    {
      "cell_type": "code",
      "execution_count": null,
      "metadata": {
        "id": "AgFfB9mRsh95"
      },
      "outputs": [],
      "source": [
        "#The Vectice library automatically detects if there have been changes to the dataset you are using.\n",
        "#If it detects changes, it will generate a new version of your dataset automatically. \n",
        "\n",
        "experiment.add_dataset_version(dataset=\"Dataset\", version_strategy=VersionStrategy.AUTOMATIC)\n",
        "experiment.start()\n",
        "experiment.complete()"
      ]
    },
    {
      "cell_type": "markdown",
      "metadata": {
        "id": "DLvOcrewnHJ2"
      },
      "source": [
        "You can see in the Vectice app that a new run has been created and a dataset version of the dataset **Dataset** is attached to the run."
      ]
    },
    {
      "cell_type": "markdown",
      "metadata": {
        "id": "2s24ocXGrm3m"
      },
      "source": [
        "##### Turning off auto-versioning"
      ]
    },
    {
      "cell_type": "markdown",
      "metadata": {
        "id": "34TjIv9nr58d"
      },
      "source": [
        "###### Add a dataset version with resources"
      ]
    },
    {
      "cell_type": "markdown",
      "metadata": {
        "id": "P8T5TSjJAoX5"
      },
      "source": [
        "- You can turn off auto-versioning and do manuel versioning.\n",
        "- You can add resources in this case\n",
        "- To add resources to a dataset. This dataset should have a connection linked to it, to be able to add resources from the storage.\n",
        "- You can see how to create a connection in Vectice [here](https://doc.vectice.com/connections/index.html)."
      ]
    },
    {
      "cell_type": "code",
      "execution_count": null,
      "metadata": {
        "id": "IK05bE_AnltO"
      },
      "outputs": [],
      "source": [
        "## We create a dataset with a connection\n",
        "dataset_with_connection = experiment.vectice.create_dataset(name=\"dataset_with_connection\", connection=\"connection name\")"
      ]
    },
    {
      "cell_type": "markdown",
      "metadata": {
        "id": "tvoZWC3LnqpK"
      },
      "source": [
        "You can see in the Vectice app that a new dataset called **dataset_with_connection** has been created in your project."
      ]
    },
    {
      "cell_type": "code",
      "execution_count": null,
      "metadata": {
        "id": "cOLm2tSrA3L3"
      },
      "outputs": [],
      "source": [
        "## Adding a dataset version with resources\n",
        "## Resources. Here, we use a files stored in GCS\n",
        "## You can use your own files\n",
        "resources = [\"gs://vectice_tutorial/kc_house_data_cleaned.csv\"]\n",
        "experiment.add_dataset_version(dataset=\"dataset_with_connection\", version_name=\"My_version\", description=\"new desc\",version_strategy=VersionStrategy.MANUAL,\n",
        "                        is_starred=True, properties={\"key\":\"value\"}, resources=resources)\n",
        "experiment.start()\n",
        "experiment.complete()"
      ]
    },
    {
      "cell_type": "markdown",
      "metadata": {
        "id": "KEjxObUrozNl"
      },
      "source": [
        "You can see in the Vectice app that a new run has been created and a new dataset version called **My_version** of the dataset **dataset_with_connection** has been created and attached to the run."
      ]
    },
    {
      "cell_type": "markdown",
      "metadata": {
        "id": "sN3Dfyh8r-mF"
      },
      "source": [
        "###### Add a dataset version and declare files metadata"
      ]
    },
    {
      "cell_type": "markdown",
      "metadata": {
        "id": "GcYOCkdEgbDy"
      },
      "source": [
        "- You can turn off auto-versioning and do manuel versioning.\n",
        "- You can declare your files metadata manually in this case"
      ]
    },
    {
      "cell_type": "code",
      "execution_count": null,
      "metadata": {
        "id": "83ETpbE_gbPB"
      },
      "outputs": [],
      "source": [
        "experiment.add_dataset_version(dataset=\"Dataset\", version_name=\"new_version\", description=\"new desc\",version_strategy=VersionStrategy.MANUAL,\n",
        "                        is_starred=True, properties={\"key\":\"value\"}, metadata=[FileMetadata(name=\"File.txt\", size=100)])\n",
        "experiment.start()\n",
        "experiment.complete()"
      ]
    },
    {
      "cell_type": "markdown",
      "metadata": {
        "id": "lm7I073WsHE_"
      },
      "source": [
        "You can see in the Vectice app that a new run has been created and a new dataset version called **new_version** of the dataset dataset_with_connection has been created and attached to the run."
      ]
    },
    {
      "cell_type": "markdown",
      "metadata": {
        "id": "S1Z-bXHWuUpx"
      },
      "source": [
        "#### List dataset versions"
      ]
    },
    {
      "cell_type": "code",
      "execution_count": null,
      "metadata": {
        "id": "IzCITE3ovxHv"
      },
      "outputs": [],
      "source": [
        "## You can get the list of your dataset versions by providing the dataset name or id\n",
        "experiment.list_dataset_versions(dataset=\"Dataset\")"
      ]
    },
    {
      "cell_type": "markdown",
      "metadata": {
        "id": "VO6Dvf7OumT2"
      },
      "source": [
        "#### Get dataset versions"
      ]
    },
    {
      "cell_type": "code",
      "execution_count": null,
      "metadata": {
        "id": "YR0oOweAuogo"
      },
      "outputs": [],
      "source": [
        "## You can get a dataset version by providing only the version id\n",
        "## If you specify the version name, the dataset name or id is required also.\n",
        "version = experiment.get_dataset_version(version=\"new_version\", dataset=\"Dataset\")\n",
        "version"
      ]
    },
    {
      "cell_type": "markdown",
      "metadata": {
        "id": "DibtmZZHvI_-"
      },
      "source": [
        "##### Update dataset version"
      ]
    },
    {
      "cell_type": "code",
      "execution_count": null,
      "metadata": {
        "id": "DH8gGLXKwCho"
      },
      "outputs": [],
      "source": [
        "## You can update a dataset version's information by providing only the dataset version id\n",
        "## If you specify the version name, the dataset name or id is required also.\n",
        "experiment.update_dataset_version(version=\"new_version\", dataset=\"Dataset\", name=\"new_version2\", description=\"New_desc\", is_starred=True,\n",
        "                           properties={\"key\": \"new_value\"})"
      ]
    },
    {
      "cell_type": "markdown",
      "metadata": {
        "id": "73xmFfc5uOlx"
      },
      "source": [
        "You can see in the Vectice app that the dataset version has been updated."
      ]
    },
    {
      "cell_type": "markdown",
      "metadata": {
        "id": "JEJeVpBDz3Ev"
      },
      "source": [
        "#### Delete dataset_version"
      ]
    },
    {
      "cell_type": "code",
      "execution_count": null,
      "metadata": {
        "id": "kepSyDqWz2pA"
      },
      "outputs": [],
      "source": [
        "## You can delete a dataset version by providing only the version id\n",
        "## If you specify the version name, the dataset name or id is required also.\n",
        "experiment.delete_dataset_version(version=\"new_version2\", dataset=\"Dataset\")"
      ]
    },
    {
      "cell_type": "markdown",
      "metadata": {
        "id": "J3_-xagJuW15"
      },
      "source": [
        "You can see in the Vectice app that the dataset version has been deleted."
      ]
    },
    {
      "cell_type": "markdown",
      "metadata": {
        "id": "ko-As9rZvWl_"
      },
      "source": [
        "### Model versions"
      ]
    },
    {
      "cell_type": "markdown",
      "metadata": {
        "id": "vSfzai0W_Ab4"
      },
      "source": [
        "Experiment enables you to add, get, list, update and delete model version"
      ]
    },
    {
      "cell_type": "code",
      "execution_count": null,
      "metadata": {
        "id": "KVXd2ZBN6guD"
      },
      "outputs": [],
      "source": [
        "## We initialize our experiment\n",
        "#Only the project id is needed, but if you want to use the project name, the wokspace name or id are required.\n",
        "exp = Experiment(job=\"experiment 2\", project=project_id, job_type=JobType.TRAINING)"
      ]
    },
    {
      "cell_type": "markdown",
      "metadata": {
        "id": "UHFM4Ub76WSn"
      },
      "source": [
        "#### Add model version"
      ]
    },
    {
      "cell_type": "markdown",
      "metadata": {
        "id": "nUCwyGFBABc7"
      },
      "source": [
        "We can create a model version and declare the version name, description, metrics, hyperparameters, status, the used algorithm, if the version should be starred or not (not starred by default), and attachments."
      ]
    },
    {
      "cell_type": "markdown",
      "metadata": {
        "id": "Ui95QRyBAcJ2"
      },
      "source": [
        "1- You can use the model name or id.\n",
        "\n",
        "2- If you use the model name:\n",
        "\n",
        "- If the model already exists in the project: It will be used in the experiment.\n",
        "\n",
        "- If the model doesn't exist in the project: A new model will be created with the given name ane used in the experiment.\n",
        "\n",
        "3- If you specify a version name:\n",
        "  - If the version doesn't exist in the model: A new model version will be created with the given name and used in the experiment.\n",
        "  - If the version exists: The version will be used in the experiment\n",
        "\n",
        "4- If you don't specify a version name: A new version will be created and used in the experiment."
      ]
    },
    {
      "cell_type": "code",
      "execution_count": null,
      "metadata": {
        "id": "ioaOkcxQ6gHB"
      },
      "outputs": [],
      "source": [
        "## Hyperparameters\n",
        "hyper_parameters = {\"key\": 10, \"key2\": \"value\"}\n",
        "## Metrics\n",
        "metrics = {\"key\": 10, \"key2\": 100}\n",
        "experiment.start()\n",
        "\n",
        "experiment.add_model_version(model=\"Model\", algorithm=\"algo\", status=ModelVersionStatus.STAGING,\n",
        "                          hyper_parameters=hyper_parameters, metrics=metrics)\n",
        "## You can aslo add attachment if you want\n",
        "\n",
        "experiment.complete()"
      ]
    },
    {
      "cell_type": "markdown",
      "metadata": {
        "id": "m3kBR8yYug_T"
      },
      "source": [
        "You can see in the Vectice app that a new version of the model **Model** has been created and attached to the created run."
      ]
    },
    {
      "cell_type": "markdown",
      "metadata": {
        "id": "0IdgweojCx-R"
      },
      "source": [
        "##### Log metrics"
      ]
    },
    {
      "cell_type": "markdown",
      "metadata": {
        "id": "DySv3YcgFOsN"
      },
      "source": [
        "You can also log metrics to a new or existing model version"
      ]
    },
    {
      "cell_type": "code",
      "execution_count": null,
      "metadata": {
        "id": "JntuAfnFC1lH"
      },
      "outputs": [],
      "source": [
        "## You can log metrics to a model version by providing only the version id\n",
        "## If you specify the version name, the model name or id is required also.\n",
        "experiment.log_metrics(model_version=\"version 1\", metrics={\"key3\": 1, \"key4\":2}, model=\"Model\")"
      ]
    },
    {
      "cell_type": "markdown",
      "metadata": {
        "id": "HILZSAUUvGHj"
      },
      "source": [
        "You can see in the Vectice app that the metrics have been successfully added to the version \"version 1\" of the model **Model**"
      ]
    },
    {
      "cell_type": "markdown",
      "metadata": {
        "id": "tVRoDWJ8C52Z"
      },
      "source": [
        "##### Log hyperparameters"
      ]
    },
    {
      "cell_type": "markdown",
      "metadata": {
        "id": "Slv0_1vHG3u-"
      },
      "source": [
        "You can log hyper parameters to a new or existing model version"
      ]
    },
    {
      "cell_type": "code",
      "execution_count": null,
      "metadata": {
        "id": "OdfNdjImC8Iv"
      },
      "outputs": [],
      "source": [
        "## You can log hyper parameters to a model version by providing only the version id\n",
        "## If you specify the version name, the model name or id is required also.\n",
        "experiment.log_hyper_parameters(model_version=\"version 1\", hyper_parameters={\"key3\": \"1\", \"key4\":2}, model=\"Model\")"
      ]
    },
    {
      "cell_type": "markdown",
      "metadata": {
        "id": "a4w3Pe8WxD8n"
      },
      "source": [
        "You can see in the Vectice app that the hyper parameters have been successfully added to the version \"version 1\" of the model Model"
      ]
    },
    {
      "cell_type": "markdown",
      "metadata": {
        "id": "IYbG1gJH92Oq"
      },
      "source": [
        "#### Add model version attachments"
      ]
    },
    {
      "cell_type": "markdown",
      "metadata": {
        "id": "jjTr2yR6Gv93"
      },
      "source": [
        "You can also add attachments to a new or existing model version"
      ]
    },
    {
      "cell_type": "code",
      "execution_count": null,
      "metadata": {
        "id": "0Wphbj3794fL"
      },
      "outputs": [],
      "source": [
        "## You can add attachments to a model version by providing only the version id\n",
        "## If you specify the version name, the model name or id is required also.\n",
        "experiment.add_model_version_attachment(file=[attachment], model_version=\"version 1\", model=\"Model\")"
      ]
    },
    {
      "cell_type": "markdown",
      "metadata": {
        "id": "YI54XJNhyc1H"
      },
      "source": [
        "You can see in the Vectice app that the attachments have been successfully added to the version \"version 1\" of the model Model"
      ]
    },
    {
      "cell_type": "markdown",
      "metadata": {
        "id": "OpJJnU_v9N51"
      },
      "source": [
        "#### Get model version"
      ]
    },
    {
      "cell_type": "code",
      "execution_count": null,
      "metadata": {
        "id": "occaWkix9U8x"
      },
      "outputs": [],
      "source": [
        "## You can get a model version by providing only the version id\n",
        "## If you specify the version name, the model name or id is required also.\n",
        "experiment.get_model_version(version=\"version 1\", model=\"Model\")"
      ]
    },
    {
      "cell_type": "markdown",
      "metadata": {
        "id": "Zi5O2Zyz-mff"
      },
      "source": [
        "#### List model versions"
      ]
    },
    {
      "cell_type": "code",
      "execution_count": null,
      "metadata": {
        "id": "M-SI90CN-pNb"
      },
      "outputs": [],
      "source": [
        "## You can get a the list of model versions by providing the model name or id.\n",
        "experiment.list_model_versions(model=\"Model\")"
      ]
    },
    {
      "cell_type": "markdown",
      "metadata": {
        "id": "OOcSCWAY-2S_"
      },
      "source": [
        "#### List model version attachments, metrics and hyperparameters"
      ]
    },
    {
      "cell_type": "markdown",
      "metadata": {
        "id": "9O5iw1nYHuEX"
      },
      "source": [
        "- You can get the list of a model version attachments, metrics, and hyper patameters by providing only the version id\n",
        "\n",
        "- If you specify the version name, the dataset name or id is required also."
      ]
    },
    {
      "cell_type": "code",
      "execution_count": null,
      "metadata": {
        "id": "1fgmq5-m-9C1"
      },
      "outputs": [],
      "source": [
        "experiment.list_model_version_attachments(model_version=\"version 1\", model=\"Model\")"
      ]
    },
    {
      "cell_type": "code",
      "execution_count": null,
      "metadata": {
        "id": "ky4sdWftFgNH"
      },
      "outputs": [],
      "source": [
        "experiment.list_metrics(model_version=\"version 1\", model=\"Model\")"
      ]
    },
    {
      "cell_type": "code",
      "execution_count": null,
      "metadata": {
        "id": "ReIxh7nHFic1"
      },
      "outputs": [],
      "source": [
        "experiment.list_hyper_parameters(model_version=\"version 1\", model=\"Model\")"
      ]
    },
    {
      "cell_type": "markdown",
      "metadata": {
        "id": "t2Yn52wn_N7W"
      },
      "source": [
        "#### List model versions dataframe"
      ]
    },
    {
      "cell_type": "markdown",
      "metadata": {
        "id": "lTjG9PrwISCv"
      },
      "source": [
        "You can also get all the model versions you created in previous runs, for offline analysis and understanding in more details what's driving the models performance."
      ]
    },
    {
      "cell_type": "code",
      "execution_count": null,
      "metadata": {
        "id": "rpF0sD9E_QNp"
      },
      "outputs": [],
      "source": [
        "## You can get a dataframe of the a model by providing the model or id\n",
        "experiment.list_model_versions_dataframe(model=\"Model\")"
      ]
    },
    {
      "cell_type": "markdown",
      "metadata": {
        "id": "I0cvGg1F_pYm"
      },
      "source": [
        "#### Update model version"
      ]
    },
    {
      "cell_type": "markdown",
      "metadata": {
        "id": "b2j45tHmImyy"
      },
      "source": [
        "You can update your model version's name, description, metrics, hyperparameters, status, the used algorithm, if you want to star the version and attachments."
      ]
    },
    {
      "cell_type": "code",
      "execution_count": null,
      "metadata": {
        "id": "10kvsqo__t2I"
      },
      "outputs": [],
      "source": [
        "## You can update a model version's information by providing only the dataset version id\n",
        "## If you specify the version name, the model name or id is required also.\n",
        "\n",
        "## Updated Hyperparameters\n",
        "new_hyper_parameters = {\"key\": 100, \"key2\": \"value 2\"}\n",
        "## Updated metrics\n",
        "new_metrics = {\"key\": 100, \"key2\": 1000}\n",
        "\n",
        "experiment.update_model_version(version=\"version 1\", model=\"Model\", name=\"new version\", description=\"new desc\", status=ModelVersionStatus.PRODUCTION,\n",
        "                         algorithm=\"new algo\", is_starred=True, metrics=new_metrics, hyper_parameters=new_hyper_parameters)"
      ]
    },
    {
      "cell_type": "markdown",
      "metadata": {
        "id": "3byUYw4OA3KG"
      },
      "source": [
        "#### Delete model version attachments, metrics and hyper parameters"
      ]
    },
    {
      "cell_type": "markdown",
      "metadata": {
        "id": "lWN7l3LLJMrr"
      },
      "source": [
        "-  You can delete a mode version attachments, metrics, and hyper parameters by providing only the version id\n",
        "- If you specify the version name, the model name or id is required also."
      ]
    },
    {
      "cell_type": "code",
      "execution_count": null,
      "metadata": {
        "id": "ofZUCQrAA5gv"
      },
      "outputs": [],
      "source": [
        "experiment.delete_model_version_attachment(file=attachment, model_version=\"new version\", model=\"Model\")"
      ]
    },
    {
      "cell_type": "code",
      "execution_count": null,
      "metadata": {
        "id": "V2F1agCFGUe8"
      },
      "outputs": [],
      "source": [
        "experiment.delete_metrics(model_version=\"new version\", model=\"Model\", metrics=new_metrics)"
      ]
    },
    {
      "cell_type": "code",
      "execution_count": null,
      "metadata": {
        "id": "w8nzkxJfGgMX"
      },
      "outputs": [],
      "source": [
        "experiment.delete_hyper_parameters(model_version=\"new version\", model=\"Model\", keys=[\"key\"])"
      ]
    },
    {
      "cell_type": "markdown",
      "metadata": {
        "id": "4PJWYCvwAn74"
      },
      "source": [
        "#### Delete model version"
      ]
    },
    {
      "cell_type": "code",
      "execution_count": null,
      "metadata": {
        "id": "_xNWg9kuAp8w"
      },
      "outputs": [],
      "source": [
        "## You can delete a mode version by providing only the version id\n",
        "## If you specify the version name, the model name or id is required also.\n",
        "experiment.delete_model_version(version=\"new version\", model=\"Model\")"
      ]
    },
    {
      "cell_type": "markdown",
      "metadata": {
        "id": "d2xUrqaSBKEw"
      },
      "source": [
        "### Code versions"
      ]
    },
    {
      "cell_type": "markdown",
      "metadata": {
        "id": "HyRDa3Twf7FR"
      },
      "source": [
        "#### Create code version"
      ]
    },
    {
      "cell_type": "markdown",
      "metadata": {
        "id": "3-DaR6OHfw4p"
      },
      "source": [
        "Vectice enables you to track your source code by creating code versions. This can be done automatically and manually."
      ]
    },
    {
      "cell_type": "markdown",
      "metadata": {
        "id": "zSN8VnPvf05e"
      },
      "source": [
        "##### Creating a code version automatically\n"
      ]
    },
    {
      "cell_type": "markdown",
      "metadata": {
        "id": "LhbzoX6ugEns"
      },
      "source": [
        "If you are using your local environment with GIT installed or JupyterLab etc... the code tracking can be automated by setting autocode=True when creating the Vectice instance."
      ]
    },
    {
      "cell_type": "markdown",
      "metadata": {
        "id": "VkDJPnHrf_Iw"
      },
      "source": [
        "##### Creating a code version manually"
      ]
    },
    {
      "cell_type": "markdown",
      "metadata": {
        "id": "q951NK7rBgrW"
      },
      "source": [
        "You can create a code version for your code present in GitHub, GitLab, or Bitbucket manually by using:\n",
        "\n",
        "       **experiment.add_code_version_uri**\n",
        "\n",
        "- For this you need to specify a git_uri composed of the github(or gitlab or bitbucket)/project/repository and an entrypoint composed of folder/file in git."
      ]
    },
    {
      "cell_type": "code",
      "execution_count": null,
      "metadata": {
        "id": "7YZFpc41CCUy"
      },
      "outputs": [],
      "source": [
        "## Example with Github\n",
        "## You can do the same things for you files in Gitlab or Bitbucket\n",
        "experiment.add_code_version_uri(git_uri=\"https://github.com/vectice/vectice-examples\", entrypoint=\"Quick_References/Experiment_Quick_Reference.ipynb\")\n",
        "experiment.start()\n",
        "experiment.complete()"
      ]
    },
    {
      "cell_type": "markdown",
      "metadata": {
        "id": "2TBDWU2Uzp5U"
      },
      "source": [
        "You can see in the Vectice application that a new run has been created and the code version has been attached to this run."
      ]
    },
    {
      "cell_type": "markdown",
      "metadata": {
        "id": "DXJKcd9rBoj3"
      },
      "source": [
        "#### list_code_version"
      ]
    },
    {
      "cell_type": "markdown",
      "metadata": {
        "id": "zH-qqJBdeYAs"
      },
      "source": [
        "You can also get the list of the code versions created in you project by using **list_code_versions()**"
      ]
    },
    {
      "cell_type": "code",
      "execution_count": null,
      "metadata": {
        "id": "kd6qNzhqCELv"
      },
      "outputs": [],
      "source": [
        "experiment.vectice.list_code_versions()"
      ]
    },
    {
      "cell_type": "markdown",
      "metadata": {
        "id": "LlETuPvzfiC1"
      },
      "source": [
        "#### Get code version"
      ]
    },
    {
      "cell_type": "markdown",
      "metadata": {
        "id": "hXwEO1xjfkJu"
      },
      "source": [
        "You can get a code version by using **get_code_version()**"
      ]
    },
    {
      "cell_type": "code",
      "execution_count": null,
      "metadata": {
        "id": "ns4eo6njfrtp"
      },
      "outputs": [],
      "source": [
        "experiment.get_code_version(code_version=\"Version 1\")"
      ]
    },
    {
      "cell_type": "markdown",
      "metadata": {
        "id": "1xhyjU-fCJ_0"
      },
      "source": [
        "#### Delete code version"
      ]
    },
    {
      "cell_type": "markdown",
      "metadata": {
        "id": "wBOSfPS_fVyE"
      },
      "source": [
        "You can delete a code version by using **delete.code_version()**"
      ]
    },
    {
      "cell_type": "code",
      "execution_count": null,
      "metadata": {
        "id": "ZO3Zqg5qCR28"
      },
      "outputs": [],
      "source": [
        "experiment.delete_code_version(code_version=\"Version 1\")"
      ]
    },
    {
      "cell_type": "markdown",
      "metadata": {
        "id": "H-ohP59fkghf"
      },
      "source": [
        "### Run"
      ]
    },
    {
      "cell_type": "markdown",
      "metadata": {
        "id": "-ktiAWiZ-V_j"
      },
      "source": [
        "- By default, every artifact added to the experiment before start() is considered as an _input_ of the job, and every artifact added after the start is considered as an _output\n",
        "- You still can specify inputs, manually if you want, when you start your experiment and outputs when you complete it.\n",
        "- The inputs can be code, dataset and model versions and the outputs can be dataset and model versions.\n"
      ]
    },
    {
      "cell_type": "code",
      "execution_count": null,
      "metadata": {
        "id": "mP27wDCjhMC7"
      },
      "outputs": [],
      "source": [
        "## We create a new experiment\n",
        "experiment = Experiment(job=\"Experiment 3\", project=project_id, job_type=JobType.TRAINING, auto_code=True)"
      ]
    },
    {
      "cell_type": "markdown",
      "metadata": {
        "id": "B-7Ruwdtfm5u"
      },
      "source": [
        "#### Start() and complete()\n",
        "\n"
      ]
    },
    {
      "cell_type": "markdown",
      "metadata": {
        "id": "HaC-pmHJl7rj"
      },
      "source": [
        "By default, every artifact added to the experiment before start() is considered as an input of the job, and every artifact added after the start is considered as an _output"
      ]
    },
    {
      "cell_type": "code",
      "execution_count": null,
      "metadata": {
        "id": "oTD0IOWyhWT7"
      },
      "outputs": [],
      "source": [
        "## We add a dataset version and a model version to the experiment before starting it\n",
        "experiment.add_dataset_version(dataset=\"Dataset\", version_strategy=VersionStrategy.AUTOMATIC)\n",
        "experiment.add_code_version_uri(git_uri=\"https://github.com/vectice/vectice-examples\", entrypoint=\"Quick_References/Experiment_Quick_Reference.ipynb\")"
      ]
    },
    {
      "cell_type": "code",
      "execution_count": null,
      "metadata": {
        "id": "WunYn0tVVef9"
      },
      "outputs": [],
      "source": [
        "## We start the experiment\n",
        "experiment.start()"
      ]
    },
    {
      "cell_type": "markdown",
      "metadata": {
        "id": "CV-9dm49jcXe"
      },
      "source": [
        "You can see in the Vectice app that a new run has been created with \"Started\" status and it has the added dataset and code versions attached as inputs."
      ]
    },
    {
      "cell_type": "code",
      "execution_count": null,
      "metadata": {
        "id": "flPFGqCiiUwg"
      },
      "outputs": [],
      "source": [
        "## We add a model version to the experiment\n",
        "hyper_parameters = {\"key\": 10, \"key2\": \"value\"}\n",
        "## Metrics\n",
        "metrics = {\"key\": 10, \"key2\": 100}\n",
        "experiment.add_model_version(model=\"Model\", algorithm=\"algorithm\", status=ModelVersionStatus.STAGING,\n",
        "                          hyper_parameters=hyper_parameters, metrics=metrics)"
      ]
    },
    {
      "cell_type": "code",
      "execution_count": null,
      "metadata": {
        "id": "l3nZvxGGfogz"
      },
      "outputs": [],
      "source": [
        "## We complete the experiment\n",
        "experiment.complete()"
      ]
    },
    {
      "cell_type": "markdown",
      "metadata": {
        "id": "__yhQzK3juVV"
      },
      "source": [
        "You can see in the application that the run status has been updated to \"Completed\" and the added model version is attached as an output to the run."
      ]
    },
    {
      "cell_type": "markdown",
      "metadata": {
        "id": "qzQeVYUGkPfg"
      },
      "source": [
        "You can also create all your artifacts before starting the experiment and specify manually if you want to use them a sinputs or outputs"
      ]
    },
    {
      "cell_type": "code",
      "execution_count": null,
      "metadata": {
        "id": "MmDtZhEegrTh"
      },
      "outputs": [],
      "source": [
        "## We add a dataset and code versions to the experiment and declare that we want to attach them as inputs of our experiment run\n",
        "experiment.add_dataset_version(dataset=\"Dataset\", version_strategy=VersionStrategy.AUTOMATIC, artifact_type=JobArtifactType.INPUT)\n",
        "experiment.add_code_version_uri(git_uri=\"https://github.com/vectice/vectice-examples\",\n",
        "                                entrypoint=\"Quick_References/Experiment_Quick_Reference.ipynb\", artifact_type=JobArtifactType.INPUT)"
      ]
    },
    {
      "cell_type": "code",
      "execution_count": null,
      "metadata": {
        "id": "UZ7QgSnXktWg"
      },
      "outputs": [],
      "source": [
        "## We add a model version to the experiment and declare that we want to use it as output of our experiment run\n",
        "experiment.add_model_version(model=\"Model\", algorithm=\"algorithm\", status=ModelVersionStatus.STAGING,\n",
        "                          hyper_parameters=hyper_parameters, metrics=metrics, artifact_type=JobArtifactType.OUTPUT)"
      ]
    },
    {
      "cell_type": "code",
      "execution_count": null,
      "metadata": {
        "id": "-maEJ2DPgUxf"
      },
      "outputs": [],
      "source": [
        "## We can start the experiment run\n",
        "experiment.start()\n",
        "## Do something...\n",
        "## Complete the experiment\n",
        "experiment.complete()"
      ]
    },
    {
      "cell_type": "markdown",
      "metadata": {
        "id": "0_PRE8gXlYLz"
      },
      "source": [
        "We can see in the Vectice app that a new run has been  created and it uses the specified inputs and outputs"
      ]
    }
  ],
  "metadata": {
    "colab": {
      "collapsed_sections": [
        "iOEZCpBquZve",
        "dJVH_Esgsnpt",
        "s6g2Cij3kP31",
        "ZSeEC4zuhzFH",
        "xkO5Y33zumd2",
        "M-AtxHg6uovO",
        "WWoXYfJgri0k",
        "2s24ocXGrm3m",
        "34TjIv9nr58d",
        "sN3Dfyh8r-mF",
        "S1Z-bXHWuUpx",
        "VO6Dvf7OumT2",
        "ko-As9rZvWl_",
        "UHFM4Ub76WSn",
        "0IdgweojCx-R",
        "tVRoDWJ8C52Z",
        "IYbG1gJH92Oq",
        "OpJJnU_v9N51",
        "Zi5O2Zyz-mff",
        "OOcSCWAY-2S_",
        "t2Yn52wn_N7W",
        "I0cvGg1F_pYm",
        "3byUYw4OA3KG",
        "4PJWYCvwAn74",
        "d2xUrqaSBKEw",
        "HyRDa3Twf7FR",
        "zSN8VnPvf05e",
        "VkDJPnHrf_Iw",
        "DXJKcd9rBoj3",
        "LlETuPvzfiC1",
        "1xhyjU-fCJ_0",
        "H-ohP59fkghf",
        "B-7Ruwdtfm5u"
      ],
      "name": "Experiment_Quick_Reference.ipynb",
      "provenance": []
    },
    "kernelspec": {
      "display_name": "Python 3",
      "name": "python3"
    },
    "language_info": {
      "name": "python"
    }
  },
  "nbformat": 4,
  "nbformat_minor": 0
}
