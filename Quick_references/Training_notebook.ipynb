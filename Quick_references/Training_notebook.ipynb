{
  "cells": [
    {
      "cell_type": "markdown",
      "metadata": {
        "id": "3McxMcLPxkdJ"
      },
      "source": [
        "### Installing Vectice"
      ]
    },
    {
      "cell_type": "code",
      "execution_count": 92,
      "metadata": {
        "id": "aXrYRKNiIlOn"
      },
      "outputs": [],
      "source": [
        "#Install Vectice Python library \n",
        "# In this notebook we will do code versioning using github, we also support gitlab\n",
        "# and bitbucket: !pip install -q \"vectice[github, gitlab, bitbucket]\"\n",
        "!pip install --q vectice[github]==22.3.5.1"
      ]
    },
    {
      "cell_type": "code",
      "execution_count": 93,
      "metadata": {
        "colab": {
          "base_uri": "https://localhost:8080/"
        },
        "id": "hHkVwYekVYxU",
        "outputId": "c8d64b94-3beb-4812-fee3-6fda5c305ff9"
      },
      "outputs": [
        {
          "name": "stdout",
          "output_type": "stream",
          "text": [
            "Name: vectice\n",
            "Version: 22.3.5.1\n",
            "Summary: Vectice Python library\n",
            "Home-page: https://www.vectice.com\n",
            "Author: Vectice Inc.\n",
            "Author-email: sdk@vectice.com\n",
            "License: Apache License 2.0\n",
            "Location: /usr/local/lib/python3.7/dist-packages\n",
            "Requires: requests, urllib3, python-dotenv\n",
            "Required-by: \n"
          ]
        }
      ],
      "source": [
        "#Verify if Vectice python library was installed\n",
        "!pip show vectice"
      ]
    },
    {
      "cell_type": "markdown",
      "metadata": {
        "id": "KI3CF_FuxZ2e"
      },
      "source": [
        "## Reading the data"
      ]
    },
    {
      "cell_type": "code",
      "execution_count": 94,
      "metadata": {
        "colab": {
          "base_uri": "https://localhost:8080/",
          "height": 270
        },
        "id": "Cd_yOqUwxc1K",
        "outputId": "78259a78-9d77-49ef-ba78-4a18a5e1e168"
      },
      "outputs": [
        {
          "data": {
            "text/html": [
              "\n",
              "  <div id=\"df-95a0bdac-adfe-46ac-a5bf-6b405198c6eb\">\n",
              "    <div class=\"colab-df-container\">\n",
              "      <div>\n",
              "<style scoped>\n",
              "    .dataframe tbody tr th:only-of-type {\n",
              "        vertical-align: middle;\n",
              "    }\n",
              "\n",
              "    .dataframe tbody tr th {\n",
              "        vertical-align: top;\n",
              "    }\n",
              "\n",
              "    .dataframe thead th {\n",
              "        text-align: right;\n",
              "    }\n",
              "</style>\n",
              "<table border=\"1\" class=\"dataframe\">\n",
              "  <thead>\n",
              "    <tr style=\"text-align: right;\">\n",
              "      <th></th>\n",
              "      <th>price</th>\n",
              "      <th>bedrooms</th>\n",
              "      <th>bathrooms</th>\n",
              "      <th>sqft_living</th>\n",
              "      <th>sqft_lot</th>\n",
              "      <th>floors</th>\n",
              "      <th>waterfront</th>\n",
              "      <th>view</th>\n",
              "      <th>condition</th>\n",
              "      <th>grade</th>\n",
              "      <th>sqft_above</th>\n",
              "      <th>sqft_basement</th>\n",
              "      <th>yr_built</th>\n",
              "      <th>yr_renovated</th>\n",
              "      <th>zipcode</th>\n",
              "      <th>lat</th>\n",
              "      <th>long</th>\n",
              "      <th>sqft_living15</th>\n",
              "      <th>sqft_lot15</th>\n",
              "    </tr>\n",
              "  </thead>\n",
              "  <tbody>\n",
              "    <tr>\n",
              "      <th>0</th>\n",
              "      <td>221900.0</td>\n",
              "      <td>3</td>\n",
              "      <td>1.00</td>\n",
              "      <td>1180</td>\n",
              "      <td>5650</td>\n",
              "      <td>1.0</td>\n",
              "      <td>0</td>\n",
              "      <td>0</td>\n",
              "      <td>3</td>\n",
              "      <td>7</td>\n",
              "      <td>1180</td>\n",
              "      <td>0</td>\n",
              "      <td>1955</td>\n",
              "      <td>0</td>\n",
              "      <td>98178</td>\n",
              "      <td>47.5112</td>\n",
              "      <td>-122.257</td>\n",
              "      <td>1340</td>\n",
              "      <td>5650</td>\n",
              "    </tr>\n",
              "    <tr>\n",
              "      <th>1</th>\n",
              "      <td>538000.0</td>\n",
              "      <td>3</td>\n",
              "      <td>2.25</td>\n",
              "      <td>2570</td>\n",
              "      <td>7242</td>\n",
              "      <td>2.0</td>\n",
              "      <td>0</td>\n",
              "      <td>0</td>\n",
              "      <td>3</td>\n",
              "      <td>7</td>\n",
              "      <td>2170</td>\n",
              "      <td>400</td>\n",
              "      <td>1951</td>\n",
              "      <td>1991</td>\n",
              "      <td>98125</td>\n",
              "      <td>47.7210</td>\n",
              "      <td>-122.319</td>\n",
              "      <td>1690</td>\n",
              "      <td>7639</td>\n",
              "    </tr>\n",
              "    <tr>\n",
              "      <th>2</th>\n",
              "      <td>180000.0</td>\n",
              "      <td>2</td>\n",
              "      <td>1.00</td>\n",
              "      <td>770</td>\n",
              "      <td>10000</td>\n",
              "      <td>1.0</td>\n",
              "      <td>0</td>\n",
              "      <td>0</td>\n",
              "      <td>3</td>\n",
              "      <td>6</td>\n",
              "      <td>770</td>\n",
              "      <td>0</td>\n",
              "      <td>1933</td>\n",
              "      <td>0</td>\n",
              "      <td>98028</td>\n",
              "      <td>47.7379</td>\n",
              "      <td>-122.233</td>\n",
              "      <td>2720</td>\n",
              "      <td>8062</td>\n",
              "    </tr>\n",
              "    <tr>\n",
              "      <th>3</th>\n",
              "      <td>604000.0</td>\n",
              "      <td>4</td>\n",
              "      <td>3.00</td>\n",
              "      <td>1960</td>\n",
              "      <td>5000</td>\n",
              "      <td>1.0</td>\n",
              "      <td>0</td>\n",
              "      <td>0</td>\n",
              "      <td>5</td>\n",
              "      <td>7</td>\n",
              "      <td>1050</td>\n",
              "      <td>910</td>\n",
              "      <td>1965</td>\n",
              "      <td>0</td>\n",
              "      <td>98136</td>\n",
              "      <td>47.5208</td>\n",
              "      <td>-122.393</td>\n",
              "      <td>1360</td>\n",
              "      <td>5000</td>\n",
              "    </tr>\n",
              "    <tr>\n",
              "      <th>4</th>\n",
              "      <td>510000.0</td>\n",
              "      <td>3</td>\n",
              "      <td>2.00</td>\n",
              "      <td>1680</td>\n",
              "      <td>8080</td>\n",
              "      <td>1.0</td>\n",
              "      <td>0</td>\n",
              "      <td>0</td>\n",
              "      <td>3</td>\n",
              "      <td>8</td>\n",
              "      <td>1680</td>\n",
              "      <td>0</td>\n",
              "      <td>1987</td>\n",
              "      <td>0</td>\n",
              "      <td>98074</td>\n",
              "      <td>47.6168</td>\n",
              "      <td>-122.045</td>\n",
              "      <td>1800</td>\n",
              "      <td>7503</td>\n",
              "    </tr>\n",
              "  </tbody>\n",
              "</table>\n",
              "</div>\n",
              "      <button class=\"colab-df-convert\" onclick=\"convertToInteractive('df-95a0bdac-adfe-46ac-a5bf-6b405198c6eb')\"\n",
              "              title=\"Convert this dataframe to an interactive table.\"\n",
              "              style=\"display:none;\">\n",
              "        \n",
              "  <svg xmlns=\"http://www.w3.org/2000/svg\" height=\"24px\"viewBox=\"0 0 24 24\"\n",
              "       width=\"24px\">\n",
              "    <path d=\"M0 0h24v24H0V0z\" fill=\"none\"/>\n",
              "    <path d=\"M18.56 5.44l.94 2.06.94-2.06 2.06-.94-2.06-.94-.94-2.06-.94 2.06-2.06.94zm-11 1L8.5 8.5l.94-2.06 2.06-.94-2.06-.94L8.5 2.5l-.94 2.06-2.06.94zm10 10l.94 2.06.94-2.06 2.06-.94-2.06-.94-.94-2.06-.94 2.06-2.06.94z\"/><path d=\"M17.41 7.96l-1.37-1.37c-.4-.4-.92-.59-1.43-.59-.52 0-1.04.2-1.43.59L10.3 9.45l-7.72 7.72c-.78.78-.78 2.05 0 2.83L4 21.41c.39.39.9.59 1.41.59.51 0 1.02-.2 1.41-.59l7.78-7.78 2.81-2.81c.8-.78.8-2.07 0-2.86zM5.41 20L4 18.59l7.72-7.72 1.47 1.35L5.41 20z\"/>\n",
              "  </svg>\n",
              "      </button>\n",
              "      \n",
              "  <style>\n",
              "    .colab-df-container {\n",
              "      display:flex;\n",
              "      flex-wrap:wrap;\n",
              "      gap: 12px;\n",
              "    }\n",
              "\n",
              "    .colab-df-convert {\n",
              "      background-color: #E8F0FE;\n",
              "      border: none;\n",
              "      border-radius: 50%;\n",
              "      cursor: pointer;\n",
              "      display: none;\n",
              "      fill: #1967D2;\n",
              "      height: 32px;\n",
              "      padding: 0 0 0 0;\n",
              "      width: 32px;\n",
              "    }\n",
              "\n",
              "    .colab-df-convert:hover {\n",
              "      background-color: #E2EBFA;\n",
              "      box-shadow: 0px 1px 2px rgba(60, 64, 67, 0.3), 0px 1px 3px 1px rgba(60, 64, 67, 0.15);\n",
              "      fill: #174EA6;\n",
              "    }\n",
              "\n",
              "    [theme=dark] .colab-df-convert {\n",
              "      background-color: #3B4455;\n",
              "      fill: #D2E3FC;\n",
              "    }\n",
              "\n",
              "    [theme=dark] .colab-df-convert:hover {\n",
              "      background-color: #434B5C;\n",
              "      box-shadow: 0px 1px 3px 1px rgba(0, 0, 0, 0.15);\n",
              "      filter: drop-shadow(0px 1px 2px rgba(0, 0, 0, 0.3));\n",
              "      fill: #FFFFFF;\n",
              "    }\n",
              "  </style>\n",
              "\n",
              "      <script>\n",
              "        const buttonEl =\n",
              "          document.querySelector('#df-95a0bdac-adfe-46ac-a5bf-6b405198c6eb button.colab-df-convert');\n",
              "        buttonEl.style.display =\n",
              "          google.colab.kernel.accessAllowed ? 'block' : 'none';\n",
              "\n",
              "        async function convertToInteractive(key) {\n",
              "          const element = document.querySelector('#df-95a0bdac-adfe-46ac-a5bf-6b405198c6eb');\n",
              "          const dataTable =\n",
              "            await google.colab.kernel.invokeFunction('convertToInteractive',\n",
              "                                                     [key], {});\n",
              "          if (!dataTable) return;\n",
              "\n",
              "          const docLinkHtml = 'Like what you see? Visit the ' +\n",
              "            '<a target=\"_blank\" href=https://colab.research.google.com/notebooks/data_table.ipynb>data table notebook</a>'\n",
              "            + ' to learn more about interactive tables.';\n",
              "          element.innerHTML = '';\n",
              "          dataTable['output_type'] = 'display_data';\n",
              "          await google.colab.output.renderOutput(dataTable, element);\n",
              "          const docLink = document.createElement('div');\n",
              "          docLink.innerHTML = docLinkHtml;\n",
              "          element.appendChild(docLink);\n",
              "        }\n",
              "      </script>\n",
              "    </div>\n",
              "  </div>\n",
              "  "
            ],
            "text/plain": [
              "      price  bedrooms  bathrooms  sqft_living  sqft_lot  floors  waterfront  \\\n",
              "0  221900.0         3       1.00         1180      5650     1.0           0   \n",
              "1  538000.0         3       2.25         2570      7242     2.0           0   \n",
              "2  180000.0         2       1.00          770     10000     1.0           0   \n",
              "3  604000.0         4       3.00         1960      5000     1.0           0   \n",
              "4  510000.0         3       2.00         1680      8080     1.0           0   \n",
              "\n",
              "   view  condition  grade  sqft_above  sqft_basement  yr_built  yr_renovated  \\\n",
              "0     0          3      7        1180              0      1955             0   \n",
              "1     0          3      7        2170            400      1951          1991   \n",
              "2     0          3      6         770              0      1933             0   \n",
              "3     0          5      7        1050            910      1965             0   \n",
              "4     0          3      8        1680              0      1987             0   \n",
              "\n",
              "   zipcode      lat     long  sqft_living15  sqft_lot15  \n",
              "0    98178  47.5112 -122.257           1340        5650  \n",
              "1    98125  47.7210 -122.319           1690        7639  \n",
              "2    98028  47.7379 -122.233           2720        8062  \n",
              "3    98136  47.5208 -122.393           1360        5000  \n",
              "4    98074  47.6168 -122.045           1800        7503  "
            ]
          },
          "execution_count": 94,
          "metadata": {},
          "output_type": "execute_result"
        }
      ],
      "source": [
        "import pandas as pd\n",
        "import matplotlib.pyplot as plt\n",
        "df = pd.read_csv('kc_house_data_cleaned.csv')\n",
        "\n",
        "# Run head to make sure the data was loaded properly\n",
        "df.head()"
      ]
    },
    {
      "cell_type": "markdown",
      "metadata": {
        "id": "FWFBf5u_H5Xw"
      },
      "source": [
        "## Vectice configuration "
      ]
    },
    {
      "cell_type": "markdown",
      "metadata": {
        "id": "nAF0boBXRUkJ"
      },
      "source": [
        "To authenticate and start logging your work into Vectice, you need an API token and an API endpoint.\n",
        "\n",
        "- The API endpoint Is \"app.vectice.com\" for SAAS and the IP for private deployments.\n",
        "- The API Token to authenticate your requests from the API to the Vectice application can be created from the \"API Tokens\" section of the \"My Profile\" page at any time.\n",
        "\n",
        "Those Tokens can be set up as environmental variables, added to a .env file, or declared as parameters when you initialize Vectice."
      ]
    },
    {
      "cell_type": "code",
      "execution_count": 95,
      "metadata": {
        "id": "k5-_GuBHRtva"
      },
      "outputs": [],
      "source": [
        "import json\n",
        "f = open('EB_key.json',)\n",
        "EB_key = json.load(f)"
      ]
    },
    {
      "cell_type": "code",
      "execution_count": null,
      "metadata": {
        "id": "KsXBhrmeJ0sZ"
      },
      "outputs": [],
      "source": [
        "#Import the required packages\n",
        "from vectice import Vectice\n",
        "from vectice import Experiment\n",
        "from vectice.api.json import JobType\n",
        "from vectice.api.json import ModelType\n",
        "from vectice.api.json import FileMetadata\n",
        "from vectice.api.json import StageStatus\n",
        "from vectice.api.json import ModelVersionStatus\n",
        "\n",
        "import logging\n",
        "import os\n",
        "logging.basicConfig(level=logging.INFO)\n",
        "\n",
        "# Specify the API endpoint for Vectice.  It's \"app.vectice.com\" for SAAS and the IP for private deployments.\n",
        "# You can specify your API endpoint here in the notebook, but we recommand you to add it to a .env file\n",
        "os.environ['VECTICE_API_ENDPOINT']= \"app.vectice.com\"\n",
        "\n",
        "# To use the Vectice Python library, you first need to authenticate your account using an API token.\n",
        "# You can generate an API token from the Vectice UI, by going to the \"API Tokens\" section in the \"My Profile\" section\n",
        "# which is located under your profile picture.\n",
        "os.environ['VECTICE_API_TOKEN'] = EB_key['key']\n",
        "\n",
        "# Add you project id. The project id can be found in the project settings page in the Vectice UI\n",
        "Project_id = project_ID\n",
        "\n",
        "# Initialize Vectice\n",
        "vectice = Vectice(project=Project_id)"
      ]
    },
    {
      "cell_type": "markdown",
      "metadata": {
        "id": "sWjBXOFDDeB-"
      },
      "source": [
        "## Train/Test Split"
      ]
    },
    {
      "cell_type": "code",
      "execution_count": 99,
      "metadata": {
        "id": "W2i-HpRN6Tev"
      },
      "outputs": [],
      "source": [
        "import string\n",
        "from math import sqrt\n",
        "\n",
        "# Load scikit-learn packages\n",
        "from sklearn.model_selection import train_test_split  # Model Selection\n",
        "from sklearn.metrics import mean_absolute_error, mean_squared_error  # Model Evaluation\n",
        "from sklearn.linear_model import LinearRegression  # Linear Regression\n",
        "from sklearn.tree import DecisionTreeRegressor, plot_tree  # Decision Tree Regression"
      ]
    },
    {
      "cell_type": "markdown",
      "metadata": {
        "id": "c-pPLBZpYu03"
      },
      "source": [
        "Here, we'll initialize our data preparation experiment.\n",
        "\n",
        "- An experiment in Vectice groups different runs of any type (Extraction, PREPARATION, TRAINING, INFERENCE, DEPLOYMENT) which are a representation of all the metadata that you log to Vectice for a given job.\n",
        "\n",
        "- Each execution of an experiment is called a run beginning when you start a tracked experiment with experiment.start() and ending when stop the experiment with experiment.complete().\n",
        "\n",
        "- Each run has inputs and outputs. The inputs can be code, dataset and model versions and the outputs can be dataset and model versions.\n",
        "\n",
        "-  By default, every artifact used before experiment.start() is considered as an _input_ of the run, and every artifact added between experiment.start() and experiment.complete() is considered as an _output_. However, you still can declare your run's inputs when starting it.\n",
        "\n",
        "Please check the [documentation](https://doc.vectice.com/sdk/experiment.html) for more information\n"
      ]
    },
    {
      "cell_type": "code",
      "execution_count": null,
      "metadata": {
        "id": "VjvpeacJBF4C"
      },
      "outputs": [],
      "source": [
        "# Initialize your data preparation experiment\n",
        "# You can also declare your API endpoint and API token when initializing your experiment if you don't want to declare them as environmental variables\n",
        "# experiment = Experiment(job=\"Data Preparation\", user_token=\"API Token\", api_endpoint= \"API Endpoint\", project=Project_id, job_type=JobType.PREPARATION)\n",
        "experiment = Experiment(job=\"Data Preparation\", project=Project_id, job_type=JobType.PREPARATION)"
      ]
    },
    {
      "cell_type": "markdown",
      "metadata": {
        "id": "Xi974IpdxWT4"
      },
      "source": [
        "Let's suppose that the EDA part has been done before and we have the cleaned data in the output. Here, we create a dataset for our cleaned data and its first version"
      ]
    },
    {
      "cell_type": "code",
      "execution_count": null,
      "metadata": {
        "id": "pU5lcFqGiaLO"
      },
      "outputs": [],
      "source": [
        "# We create our cleaned data dataset as it doesn't exist yet.\n",
        "experiment.vectice.create_dataset(name = \"Cleaned data\",\n",
        "                                  description=\"cleaned data\"\n",
        "                                  )"
      ]
    },
    {
      "cell_type": "code",
      "execution_count": 103,
      "metadata": {
        "colab": {
          "base_uri": "https://localhost:8080/"
        },
        "id": "H-L_MZbRz62n",
        "outputId": "bbbdf364-5635-4024-bdf2-7008c2840c10"
      },
      "outputs": [
        {
          "data": {
            "text/plain": [
              "ArtifactReference(code=None, dataset=Cleaned data, model=None, version_number=None, version_id=13179, version_name=None, version_strategy=VersionStrategy.MANUAL, description=None, )"
            ]
          },
          "execution_count": 103,
          "metadata": {},
          "output_type": "execute_result"
        }
      ],
      "source": [
        "# We create our first version of the cleaned data dataset\n",
        "experiment.add_dataset_version(dataset=\"Cleaned data\",\n",
        "                               metadata=[FileMetadata(\n",
        "                              name=\"cleaned_data.csv\",\n",
        "                              uri=\"gs://vectice_tutorial/kc_house_data_cleaned.csv\",\n",
        "                              size = 1.8e+6,\n",
        "                              )])"
      ]
    },
    {
      "cell_type": "code",
      "execution_count": 104,
      "metadata": {
        "id": "F9t2QMnWHG1E"
      },
      "outputs": [],
      "source": [
        "# create a code checkpoint for this version of the notebook\n",
        "# Vectice automatically tracks your code and attaches a code version to your run if you're working in a git repo\n",
        "# however, you still can create code versions manually by using add_code_version()\n",
        "input_code = experiment.add_code_version_uri(git_uri=\"https://github.com/vectice/vectice-examples\",\n",
        "                                             entrypoint=\"Quick_references/Training_notebook.ipynb\")"
      ]
    },
    {
      "cell_type": "markdown",
      "metadata": {
        "id": "Mex3_nDwDywI"
      },
      "source": [
        "### Create a run for the data preparation job"
      ]
    },
    {
      "cell_type": "markdown",
      "metadata": {
        "id": "S2FaremlDvGX"
      },
      "source": [
        "Each execution of an experiment is called a run beginning when you start a tracked experiment with experiment.start() and ending when stop the experiment with experiment.complete()."
      ]
    },
    {
      "cell_type": "code",
      "execution_count": 105,
      "metadata": {
        "id": "gz_ks8ewalgK"
      },
      "outputs": [],
      "source": [
        "# All the dataset versions that have been created before starting the experiment will be automatically\n",
        "# attached as inputs of the run\n",
        "# Define some run properties\n",
        "technique = [\"Technique\", \"Train Test Split\"]\n",
        "\n",
        "experiment.start(run_properties={technique[0]: technique[1]},\n",
        "                run_notes=\"Data preparation run\")\n",
        "\n",
        "# Train/Test split\n",
        "\n",
        "# We will use an 80/20 split to prepare the data\n",
        "test_size = 0.2\n",
        "\n",
        "# We will set the random seed so we always generate the same split.\n",
        "random_state = 42\n",
        "\n",
        "train, test = train_test_split(df, test_size = test_size, random_state = random_state)\n",
        "\n",
        "# Push our training and testing data to the storage\n",
        "\n",
        "# Generate X_train, X_test, y_train, y_test, which we will need for modeling\n",
        "X = df.drop(\"price\", axis=1).values\n",
        "y = df[\"price\"].values\n",
        "X_train, X_test, y_train, y_test = train_test_split(X, y, test_size=test_size, random_state=random_state)"
      ]
    },
    {
      "cell_type": "markdown",
      "metadata": {
        "id": "S9273MN0bolO"
      },
      "source": [
        " Let's create our training and testing datasets as they don't exist yet"
      ]
    },
    {
      "cell_type": "code",
      "execution_count": 106,
      "metadata": {
        "colab": {
          "base_uri": "https://localhost:8080/"
        },
        "id": "m4SuVGnN05vP",
        "outputId": "d84270d5-02b7-4516-af1f-36734e3fcc47"
      },
      "outputs": [
        {
          "data": {
            "text/plain": [
              "Dataset(name=Testing data, id=10253, description=Testing data, connection=None, resources=[])"
            ]
          },
          "execution_count": 106,
          "metadata": {},
          "output_type": "execute_result"
        }
      ],
      "source": [
        "# We create our training dataset as it doesn't exist yet\n",
        "experiment.vectice.create_dataset(name = \"Training data\",\n",
        "                                  description=\"Training data\")\n",
        "\n",
        "# We create our testing dataset as it doesn't exist yet\n",
        "experiment.vectice.create_dataset(name = \"Testing data\",\n",
        "                                  description=\"Testing data\")"
      ]
    },
    {
      "cell_type": "markdown",
      "metadata": {
        "id": "g4e4t35ecB6I"
      },
      "source": [
        "Let's create our first versions of the training and testingdataset"
      ]
    },
    {
      "cell_type": "code",
      "execution_count": 107,
      "metadata": {
        "id": "mAd3lsh508PV"
      },
      "outputs": [],
      "source": [
        "# We create our first version of the training dataset\n",
        "experiment.add_dataset_version(dataset=\"Training data\",\n",
        "                               metadata=[FileMetadata(\n",
        "                              name=\"train.csv\",\n",
        "                              uri=\"gs://vectice_tutorial/train_cleaned_kc_house_data.csv\")])\n",
        "\n",
        "# We create our first version of the testing dataset\n",
        "experiment.add_dataset_version(dataset=\"Testing data\",\n",
        "                               metadata=[FileMetadata(\n",
        "                              name=\"test.csv\",\n",
        "                              uri=\"gs://vectice_tutorial/test_cleaned_kc_house_data.csv\")])\n",
        "\n",
        "\n",
        "# We complete the current experiment's run \n",
        "# All the dataset versions that have been created after starting the experiment will be automatically\n",
        "# attached as outputs of the run\n",
        "experiment.complete()"
      ]
    },
    {
      "cell_type": "markdown",
      "metadata": {
        "id": "xG2wqh2VDkcz"
      },
      "source": [
        "## Modeling"
      ]
    },
    {
      "cell_type": "code",
      "execution_count": 108,
      "metadata": {
        "colab": {
          "base_uri": "https://localhost:8080/"
        },
        "id": "gExroQIqWXjV",
        "outputId": "7846ea3d-8cc4-4a72-9cf4-fa1ff0cb288f"
      },
      "outputs": [
        {
          "data": {
            "text/plain": [
              "[Dataset(name=Testing data, id=10253, description=Testing data, connection=None, resources=None),\n",
              " Dataset(name=Training data, id=10252, description=Training data, connection=None, resources=None),\n",
              " Dataset(name=Cleaned data, id=10251, description=cleaned data, connection=None, resources=None)]"
            ]
          },
          "execution_count": 108,
          "metadata": {},
          "output_type": "execute_result"
        }
      ],
      "source": [
        "#first we need to find out what datasets are out there for us to use.  We need the train/test split data\n",
        "vectice.list_datasets()"
      ]
    },
    {
      "cell_type": "code",
      "execution_count": 109,
      "metadata": {
        "colab": {
          "base_uri": "https://localhost:8080/"
        },
        "id": "g2pD7jOiTlcA",
        "outputId": "63c106c9-b215-433b-af66-be6adc3a2542"
      },
      "outputs": [
        {
          "data": {
            "text/plain": [
              "[DatasetVersion(dataset=Dataset(name=Training data, id=10252, description=Training data, connection=None, resources=None), id=13180, description=None, is_starred=False, auto_version=True, name=Version 1, properties=None, version=None)]"
            ]
          },
          "execution_count": 109,
          "metadata": {},
          "output_type": "execute_result"
        }
      ],
      "source": [
        "#from there we need to extract the current versions\n",
        "vectice.list_dataset_versions(dataset = \"Training data\")"
      ]
    },
    {
      "cell_type": "code",
      "execution_count": 110,
      "metadata": {
        "colab": {
          "base_uri": "https://localhost:8080/"
        },
        "id": "N7MeaChtUJSA",
        "outputId": "6c62d716-2123-4205-8fdc-aacd266c3014"
      },
      "outputs": [
        {
          "data": {
            "text/plain": [
              "[DatasetVersion(dataset=Dataset(name=Testing data, id=10253, description=Testing data, connection=None, resources=None), id=13181, description=None, is_starred=False, auto_version=True, name=Version 1, properties=None, version=None)]"
            ]
          },
          "execution_count": 110,
          "metadata": {},
          "output_type": "execute_result"
        }
      ],
      "source": [
        "vectice.list_dataset_versions(dataset = \"Testing data\")"
      ]
    },
    {
      "cell_type": "code",
      "execution_count": 112,
      "metadata": {
        "id": "7TG1Um0bUHmb"
      },
      "outputs": [],
      "source": [
        "#load current dataset versions to be used in the modeling experiment\n",
        "train_ds_version = vectice.get_dataset_version(version=13180)\n",
        "test_ds_version =  vectice.get_dataset_version(version=13181)"
      ]
    },
    {
      "cell_type": "code",
      "execution_count": null,
      "metadata": {
        "id": "2O7clOzlDnnv"
      },
      "outputs": [],
      "source": [
        "# Initialize your Modeling experiment\n",
        "# You can also declare your API endpoint and API token when initializing your experiment if you don't want to declare them as environmental variables\n",
        "# experiment = Experiment(job=\"Modeling\", user_token=\"API Token\", api_endpoint= \"API Endpoint\", project=Project_id, job_type=JobType.TRAINING)\n",
        "experiment = Experiment(job=\"Modeling\", project=Project_id, job_type=JobType.TRAINING)"
      ]
    },
    {
      "cell_type": "markdown",
      "metadata": {
        "id": "4rnQh9oklzdT"
      },
      "source": [
        "### Baseline model"
      ]
    },
    {
      "cell_type": "markdown",
      "metadata": {
        "id": "c-VAJbpy13je"
      },
      "source": [
        "Let's create our baseline model and log the run and the model version along with its metrics to Vectice and automatically document all of this"
      ]
    },
    {
      "cell_type": "code",
      "execution_count": 114,
      "metadata": {
        "colab": {
          "base_uri": "https://localhost:8080/"
        },
        "id": "Vdu_Cc7UCv3y",
        "outputId": "be678d36-d638-40e4-c9c2-5041091d5a66"
      },
      "outputs": [
        {
          "name": "stdout",
          "output_type": "stream",
          "text": [
            "Root Mean Squared Error:  156149.062\n",
            "Mean Absolute Error:  109761.979\n"
          ]
        }
      ],
      "source": [
        "# Define some run properties\n",
        "technique = [\"Approach\", \"Linear Regression\"]\n",
        "\n",
        "# We start our run and declare its inputs, properties and notes\n",
        "experiment.start(inputs = [input_code, train_ds_version, test_ds_version],\n",
        "                 run_properties={technique[0]: technique[1]},\n",
        "                 run_notes=\"Linear regression training run\")\n",
        "\n",
        "# Linear regression model\n",
        "lr_rg = LinearRegression()\n",
        "lr_rg.fit(X_train, y_train)\n",
        "lr_pred = lr_rg.predict(X_test)\n",
        "\n",
        "# Evaluate Metrics\n",
        "MAE = round(mean_absolute_error(lr_pred, y_test),3)\n",
        "RMSE = round(sqrt(mean_squared_error(lr_pred, y_test)),3)\n",
        "\n",
        "print(\"Root Mean Squared Error: \", RMSE)\n",
        "print(\"Mean Absolute Error: \", MAE)\n",
        "\n",
        "# Let's log the model we trained along with its metrics, as a new version \n",
        "# of the \"Price Predictor\" model in Vectice.\n",
        "metrics = {\"RMSE\": RMSE,\n",
        "           \"MAE\": MAE}\n",
        "\n",
        "model = experiment.add_model_version(\n",
        "                                model=\"Price Predictor\",\n",
        "                                algorithm = technique[1],\n",
        "                                metrics = metrics)\n",
        "\n",
        "# You can automatically document the run using a default template\n",
        "# You can provide a stage nameThe run's documentation will be added to the specified stage\n",
        "# If the stage doesn't exists, a new stage will be created.\n",
        "experiment.document_run(name=\"Modeling stage\")\n",
        "\n",
        "# We complete the current experiment's run \n",
        "# All the model versions that have been created after starting the experiment will be automatically\n",
        "# attached as outputs of the run\n",
        "experiment.complete()"
      ]
    },
    {
      "cell_type": "markdown",
      "metadata": {
        "id": "yMCnkAw4l2Jg"
      },
      "source": [
        "### Advanced model"
      ]
    },
    {
      "cell_type": "markdown",
      "metadata": {
        "id": "n9PiytSt1-iz"
      },
      "source": [
        "Let's create an advanced model using the Decision tree algorithm and log the run and the model version along with its metrics and hyperparameters to Vectice and automatically document all of this.\n",
        "\n",
        "Here, we'll use different values for the tree depth paramter and create a new run with a new model version for each value of this parameter"
      ]
    },
    {
      "cell_type": "code",
      "execution_count": null,
      "metadata": {
        "id": "BUWJQ4-S2E8n"
      },
      "outputs": [],
      "source": [
        "## Define some run properties\n",
        "technique = [\"Approach\", \"Decision Tree\"]\n",
        "\n",
        "tree_depth = [2, 4, 6]\n",
        "# We create a new run with a new model version for each value of the tree depth parameter and declare its inputs\n",
        "for i in range(len(tree_depth)):\n",
        "  experiment.start(inputs = [input_code, train_ds_version, test_ds_version],\n",
        "                 run_properties={technique[0]: technique[1]},\n",
        "                 run_notes=\"Decision tree training run with tree_depth = \"+str(tree_depth[i]))\n",
        "\n",
        "\n",
        "  # Decision tree model\n",
        "  dtr = DecisionTreeRegressor(max_depth=tree_depth[i], min_samples_split=50)\n",
        "  dtr.fit(X_train,y_train)\n",
        "  dtr_pred = dtr.predict(X_test) \n",
        "\n",
        "  data_feature_names = ['bedrooms', 'bathrooms', 'sqft_living', 'sqft_lot', 'floors',\n",
        "                      'waterfront', 'view', 'condition', 'grade', 'sqft_above',\n",
        "                      'sqft_basement', 'yr_built', 'yr_renovated', 'zipcode', 'lat',\n",
        "                      'long', 'sqft_living15', 'sqft_lot15']\n",
        "\n",
        "  # Visualize the Decision Tree Model\n",
        "  plt.figure(figsize=(25, 10))\n",
        "  plot_tree(dtr, feature_names=data_feature_names, filled=True, fontsize=10)\n",
        "  attachment_name = \"DecisionTree_\"+str(tree_depth[i])+\".png\"\n",
        "  plt.savefig(attachment_name)\n",
        "\n",
        "  MAE = round(mean_absolute_error(dtr_pred, y_test),3)\n",
        "  RMSE = round(sqrt(mean_squared_error(dtr_pred, y_test)),3)\n",
        "\n",
        "\n",
        "  # Let's log the model we trained along with its metrics and hyperparameters, as a new version \n",
        "  # of the \"Price Predictor\" model in Vectice.\n",
        "  metrics = {\"RMSE\" : RMSE,\n",
        "             \"MAE\": MAE}\n",
        "  hyper_parameters = {\"Tree Depth\": tree_depth[i]}\n",
        "  model = experiment.add_model_version(\n",
        "                                model=\"Price Predictor\",\n",
        "                                algorithm = technique[1],\n",
        "                                metrics = metrics,\n",
        "                                hyper_parameters = hyper_parameters,\n",
        "                                attachment=[attachment_name])\n",
        "\n",
        "  # You can automatically document the run using a default template\n",
        "  # You can provide a stage name. The run's documentation will be added to the specified stage\n",
        "  # If the stage doesn't exists, a new stage will be created.\n",
        "  experiment.document_run(name=\"Modeling stage\")\n",
        "\n",
        "  # We complete the current experiment's run \n",
        "  # All the model versions that have been created after starting the experiment will be automatically\n",
        "  # attached as outputs of the run\n",
        "  experiment.complete()"
      ]
    },
    {
      "cell_type": "markdown",
      "metadata": {
        "id": "ZvtblxCAl8uo"
      },
      "source": [
        "### Update the model"
      ]
    },
    {
      "cell_type": "markdown",
      "metadata": {
        "id": "AGYClgPyk4xr"
      },
      "source": [
        "Let's update our model's description and type"
      ]
    },
    {
      "cell_type": "code",
      "execution_count": 123,
      "metadata": {
        "colab": {
          "base_uri": "https://localhost:8080/"
        },
        "id": "O-Te0a3ykcLv",
        "outputId": "fe409e4d-d64a-4579-f56b-ef315f3895d2"
      },
      "outputs": [
        {
          "data": {
            "text/plain": [
              "Model(name=Price Predictor, id=4794, description= House price prediction model, type=ModelType.REGRESSION)"
            ]
          },
          "execution_count": 123,
          "metadata": {},
          "output_type": "execute_result"
        }
      ],
      "source": [
        "experiment.update_model(model = \"Price Predictor\", description= \" House price prediction model\", type = ModelType.REGRESSION)"
      ]
    },
    {
      "cell_type": "markdown",
      "metadata": {
        "id": "SIT9MM0-xyU1"
      },
      "source": [
        "### Get a table of all the model versions"
      ]
    },
    {
      "cell_type": "markdown",
      "metadata": {
        "id": "csmFeaYPcP1x"
      },
      "source": [
        "You can also get all the model versions you created in previous runs, for offline analysis and understanding in more details what's driving the models performance."
      ]
    },
    {
      "cell_type": "code",
      "execution_count": 116,
      "metadata": {
        "colab": {
          "base_uri": "https://localhost:8080/",
          "height": 175
        },
        "id": "vLvDteG9cQ4Y",
        "outputId": "20cdf30a-636e-4eb9-a013-3c35a964351f"
      },
      "outputs": [
        {
          "data": {
            "text/html": [
              "\n",
              "  <div id=\"df-02de5d35-86eb-41e1-9a73-a93dd671e0f5\">\n",
              "    <div class=\"colab-df-container\">\n",
              "      <div>\n",
              "<style scoped>\n",
              "    .dataframe tbody tr th:only-of-type {\n",
              "        vertical-align: middle;\n",
              "    }\n",
              "\n",
              "    .dataframe tbody tr th {\n",
              "        vertical-align: top;\n",
              "    }\n",
              "\n",
              "    .dataframe thead th {\n",
              "        text-align: right;\n",
              "    }\n",
              "</style>\n",
              "<table border=\"1\" class=\"dataframe\">\n",
              "  <thead>\n",
              "    <tr style=\"text-align: right;\">\n",
              "      <th></th>\n",
              "      <th>createdDate</th>\n",
              "      <th>name</th>\n",
              "      <th>versionNumber</th>\n",
              "      <th>status</th>\n",
              "      <th>algorithmName</th>\n",
              "      <th>isStarred</th>\n",
              "      <th>MAE</th>\n",
              "      <th>RMSE</th>\n",
              "      <th>Tree Depth</th>\n",
              "    </tr>\n",
              "  </thead>\n",
              "  <tbody>\n",
              "    <tr>\n",
              "      <th>0</th>\n",
              "      <td>2022-08-25T15:09:15.131Z</td>\n",
              "      <td>Version 4</td>\n",
              "      <td>4</td>\n",
              "      <td>EXPERIMENTATION</td>\n",
              "      <td>Decision Tree</td>\n",
              "      <td>False</td>\n",
              "      <td>95872.64</td>\n",
              "      <td>144649.557</td>\n",
              "      <td>6</td>\n",
              "    </tr>\n",
              "    <tr>\n",
              "      <th>2</th>\n",
              "      <td>2022-08-25T15:08:51.707Z</td>\n",
              "      <td>Version 2</td>\n",
              "      <td>2</td>\n",
              "      <td>EXPERIMENTATION</td>\n",
              "      <td>Decision Tree</td>\n",
              "      <td>False</td>\n",
              "      <td>141604.093</td>\n",
              "      <td>203604.213</td>\n",
              "      <td>2</td>\n",
              "    </tr>\n",
              "    <tr>\n",
              "      <th>1</th>\n",
              "      <td>2022-08-25T15:09:03.145Z</td>\n",
              "      <td>Version 3</td>\n",
              "      <td>3</td>\n",
              "      <td>EXPERIMENTATION</td>\n",
              "      <td>Decision Tree</td>\n",
              "      <td>False</td>\n",
              "      <td>112088.196</td>\n",
              "      <td>165154.562</td>\n",
              "      <td>4</td>\n",
              "    </tr>\n",
              "    <tr>\n",
              "      <th>3</th>\n",
              "      <td>2022-08-25T15:07:56.602Z</td>\n",
              "      <td>Version 1</td>\n",
              "      <td>1</td>\n",
              "      <td>EXPERIMENTATION</td>\n",
              "      <td>Linear Regression</td>\n",
              "      <td>False</td>\n",
              "      <td>109761.979</td>\n",
              "      <td>156149.062</td>\n",
              "      <td>NaN</td>\n",
              "    </tr>\n",
              "  </tbody>\n",
              "</table>\n",
              "</div>\n",
              "      <button class=\"colab-df-convert\" onclick=\"convertToInteractive('df-02de5d35-86eb-41e1-9a73-a93dd671e0f5')\"\n",
              "              title=\"Convert this dataframe to an interactive table.\"\n",
              "              style=\"display:none;\">\n",
              "        \n",
              "  <svg xmlns=\"http://www.w3.org/2000/svg\" height=\"24px\"viewBox=\"0 0 24 24\"\n",
              "       width=\"24px\">\n",
              "    <path d=\"M0 0h24v24H0V0z\" fill=\"none\"/>\n",
              "    <path d=\"M18.56 5.44l.94 2.06.94-2.06 2.06-.94-2.06-.94-.94-2.06-.94 2.06-2.06.94zm-11 1L8.5 8.5l.94-2.06 2.06-.94-2.06-.94L8.5 2.5l-.94 2.06-2.06.94zm10 10l.94 2.06.94-2.06 2.06-.94-2.06-.94-.94-2.06-.94 2.06-2.06.94z\"/><path d=\"M17.41 7.96l-1.37-1.37c-.4-.4-.92-.59-1.43-.59-.52 0-1.04.2-1.43.59L10.3 9.45l-7.72 7.72c-.78.78-.78 2.05 0 2.83L4 21.41c.39.39.9.59 1.41.59.51 0 1.02-.2 1.41-.59l7.78-7.78 2.81-2.81c.8-.78.8-2.07 0-2.86zM5.41 20L4 18.59l7.72-7.72 1.47 1.35L5.41 20z\"/>\n",
              "  </svg>\n",
              "      </button>\n",
              "      \n",
              "  <style>\n",
              "    .colab-df-container {\n",
              "      display:flex;\n",
              "      flex-wrap:wrap;\n",
              "      gap: 12px;\n",
              "    }\n",
              "\n",
              "    .colab-df-convert {\n",
              "      background-color: #E8F0FE;\n",
              "      border: none;\n",
              "      border-radius: 50%;\n",
              "      cursor: pointer;\n",
              "      display: none;\n",
              "      fill: #1967D2;\n",
              "      height: 32px;\n",
              "      padding: 0 0 0 0;\n",
              "      width: 32px;\n",
              "    }\n",
              "\n",
              "    .colab-df-convert:hover {\n",
              "      background-color: #E2EBFA;\n",
              "      box-shadow: 0px 1px 2px rgba(60, 64, 67, 0.3), 0px 1px 3px 1px rgba(60, 64, 67, 0.15);\n",
              "      fill: #174EA6;\n",
              "    }\n",
              "\n",
              "    [theme=dark] .colab-df-convert {\n",
              "      background-color: #3B4455;\n",
              "      fill: #D2E3FC;\n",
              "    }\n",
              "\n",
              "    [theme=dark] .colab-df-convert:hover {\n",
              "      background-color: #434B5C;\n",
              "      box-shadow: 0px 1px 3px 1px rgba(0, 0, 0, 0.15);\n",
              "      filter: drop-shadow(0px 1px 2px rgba(0, 0, 0, 0.3));\n",
              "      fill: #FFFFFF;\n",
              "    }\n",
              "  </style>\n",
              "\n",
              "      <script>\n",
              "        const buttonEl =\n",
              "          document.querySelector('#df-02de5d35-86eb-41e1-9a73-a93dd671e0f5 button.colab-df-convert');\n",
              "        buttonEl.style.display =\n",
              "          google.colab.kernel.accessAllowed ? 'block' : 'none';\n",
              "\n",
              "        async function convertToInteractive(key) {\n",
              "          const element = document.querySelector('#df-02de5d35-86eb-41e1-9a73-a93dd671e0f5');\n",
              "          const dataTable =\n",
              "            await google.colab.kernel.invokeFunction('convertToInteractive',\n",
              "                                                     [key], {});\n",
              "          if (!dataTable) return;\n",
              "\n",
              "          const docLinkHtml = 'Like what you see? Visit the ' +\n",
              "            '<a target=\"_blank\" href=https://colab.research.google.com/notebooks/data_table.ipynb>data table notebook</a>'\n",
              "            + ' to learn more about interactive tables.';\n",
              "          element.innerHTML = '';\n",
              "          dataTable['output_type'] = 'display_data';\n",
              "          await google.colab.output.renderOutput(dataTable, element);\n",
              "          const docLink = document.createElement('div');\n",
              "          docLink.innerHTML = docLinkHtml;\n",
              "          element.appendChild(docLink);\n",
              "        }\n",
              "      </script>\n",
              "    </div>\n",
              "  </div>\n",
              "  "
            ],
            "text/plain": [
              "                createdDate       name  versionNumber           status  \\\n",
              "0  2022-08-25T15:09:15.131Z  Version 4              4  EXPERIMENTATION   \n",
              "2  2022-08-25T15:08:51.707Z  Version 2              2  EXPERIMENTATION   \n",
              "1  2022-08-25T15:09:03.145Z  Version 3              3  EXPERIMENTATION   \n",
              "3  2022-08-25T15:07:56.602Z  Version 1              1  EXPERIMENTATION   \n",
              "\n",
              "       algorithmName  isStarred         MAE        RMSE Tree Depth  \n",
              "0      Decision Tree      False    95872.64  144649.557          6  \n",
              "2      Decision Tree      False  141604.093  203604.213          2  \n",
              "1      Decision Tree      False  112088.196  165154.562          4  \n",
              "3  Linear Regression      False  109761.979  156149.062        NaN  "
            ]
          },
          "execution_count": 116,
          "metadata": {},
          "output_type": "execute_result"
        }
      ],
      "source": [
        "# We get a dataframe of all our model versions and sort it by MAE descending\n",
        "df = experiment.list_model_versions_dataframe(model=\"Price Predictor\").sort_values(by='MAE', ascending=False)\n",
        "df"
      ]
    },
    {
      "cell_type": "markdown",
      "metadata": {
        "id": "RHjGOJGOlMqW"
      },
      "source": [
        "### Update the status of the best model version and star it"
      ]
    },
    {
      "cell_type": "markdown",
      "metadata": {
        "id": "4u3TSTbAfCg3"
      },
      "source": [
        "The best model version is the version 4 of the decision tree algorithm with a tree depth of 6. Let's star it and update it's status to Production"
      ]
    },
    {
      "cell_type": "code",
      "execution_count": 117,
      "metadata": {
        "colab": {
          "base_uri": "https://localhost:8080/"
        },
        "id": "cc61pLdYffco",
        "outputId": "ae4fbc8f-beab-407b-abfe-cbd5f17c4938"
      },
      "outputs": [
        {
          "data": {
            "text/plain": [
              "[ModelVersion(model=Model(name=Price Predictor, id=4794, description=None, type=ModelType.OTHER), id=13110, description=None, metrics={}, hyper_parameters={'Tree Depth': '6'}, algorithm_name=Decision Tree, status=ModelVersionStatus.EXPERIMENTATION, is_starred=False, version={'versionNumber': 4, 'versionName': 'Version 4', 'id': 13110}, user_declared_version=None),\n",
              " ModelVersion(model=Model(name=Price Predictor, id=4794, description=None, type=ModelType.OTHER), id=13109, description=None, metrics={}, hyper_parameters={'Tree Depth': '4'}, algorithm_name=Decision Tree, status=ModelVersionStatus.EXPERIMENTATION, is_starred=False, version={'versionNumber': 3, 'versionName': 'Version 3', 'id': 13109}, user_declared_version=None),\n",
              " ModelVersion(model=Model(name=Price Predictor, id=4794, description=None, type=ModelType.OTHER), id=13108, description=None, metrics={}, hyper_parameters={'Tree Depth': '2'}, algorithm_name=Decision Tree, status=ModelVersionStatus.EXPERIMENTATION, is_starred=False, version={'versionNumber': 2, 'versionName': 'Version 2', 'id': 13108}, user_declared_version=None),\n",
              " ModelVersion(model=Model(name=Price Predictor, id=4794, description=None, type=ModelType.OTHER), id=13107, description=None, metrics={}, hyper_parameters={}, algorithm_name=Linear Regression, status=ModelVersionStatus.EXPERIMENTATION, is_starred=False, version={'versionNumber': 1, 'versionName': 'Version 1', 'id': 13107}, user_declared_version=None)]"
            ]
          },
          "execution_count": 117,
          "metadata": {},
          "output_type": "execute_result"
        }
      ],
      "source": [
        "experiment.list_model_versions(model = \"Price Predictor\")"
      ]
    },
    {
      "cell_type": "code",
      "execution_count": 118,
      "metadata": {
        "colab": {
          "base_uri": "https://localhost:8080/"
        },
        "id": "WqB3iwHleN0C",
        "outputId": "1121bdc4-b770-46b4-f804-1015a68036c5"
      },
      "outputs": [
        {
          "data": {
            "text/plain": [
              "ModelVersion(model=Model(name=Price Predictor, id=4794, description=None, type=ModelType.OTHER), id=13110, description=None, metrics=None, hyper_parameters=None, algorithm_name=Decision Tree, status=ModelVersionStatus.PRODUCTION, is_starred=True, version={'versionNumber': 4, 'versionName': 'Version 4', 'id': 13110}, user_declared_version=None)"
            ]
          },
          "execution_count": 118,
          "metadata": {},
          "output_type": "execute_result"
        }
      ],
      "source": [
        "experiment.update_model_version(version = 13110, status=ModelVersionStatus.PRODUCTION, is_starred=True)"
      ]
    },
    {
      "cell_type": "markdown",
      "metadata": {
        "id": "f-SzBPnSxvK9"
      },
      "source": [
        "### Add a conclusion and complete the stage"
      ]
    },
    {
      "cell_type": "markdown",
      "metadata": {
        "id": "hjfN82h-fpl1"
      },
      "source": [
        "Let's add a conclusion to our documentation:"
      ]
    },
    {
      "cell_type": "code",
      "execution_count": 119,
      "metadata": {
        "id": "qFzbgflLfvoh"
      },
      "outputs": [],
      "source": [
        "# We retrieve the stage\n",
        "stage = experiment.vectice.get_stage(stage = \"Modeling stage\")"
      ]
    },
    {
      "cell_type": "code",
      "execution_count": 120,
      "metadata": {
        "colab": {
          "base_uri": "https://localhost:8080/"
        },
        "id": "crCUPNZBgAXT",
        "outputId": "29dbdb5c-5a48-422f-8ee0-eb730964e17e"
      },
      "outputs": [
        {
          "data": {
            "text/plain": [
              "Stage(id=25007, name=Modeling stage, status=StageStatus.InProgress, origin=StageOrigin.VecticeFile)"
            ]
          },
          "execution_count": 120,
          "metadata": {},
          "output_type": "execute_result"
        }
      ],
      "source": [
        "# We add our conclusion to the stage. It's going to be added at the end of the stage by default\n",
        "stage.add_block(text = \"Conclusion\")\n",
        "stage.add_block(text = \"The decision tree algorithm has better performance than our baseline as expected. As the depth of the tree increases, the MAE and RMSE decrease as well. This however is more likely to overfit. One good compromise could be a depth of 6 with MAE 96K and RMSE of 146K.\")"
      ]
    },
    {
      "cell_type": "code",
      "execution_count": 121,
      "metadata": {
        "colab": {
          "base_uri": "https://localhost:8080/"
        },
        "id": "E_CBEBmMp3Ws",
        "outputId": "be763423-b197-49cf-d0e9-a74b88126b41"
      },
      "outputs": [
        {
          "data": {
            "text/plain": [
              "Stage(id=25007, name=Modeling stage, status=StageStatus.Completed, origin=StageOrigin.VecticeFile)"
            ]
          },
          "execution_count": 121,
          "metadata": {},
          "output_type": "execute_result"
        }
      ],
      "source": [
        "# We complete our stage\n",
        "experiment.vectice.update_stage(stage=\"Modeling stage\", status=StageStatus.Completed)"
      ]
    }
  ],
  "metadata": {
    "colab": {
      "collapsed_sections": [
        "3McxMcLPxkdJ",
        "KI3CF_FuxZ2e",
        "FWFBf5u_H5Xw",
        "sWjBXOFDDeB-",
        "Mex3_nDwDywI",
        "xG2wqh2VDkcz",
        "4rnQh9oklzdT",
        "yMCnkAw4l2Jg",
        "ZvtblxCAl8uo",
        "SIT9MM0-xyU1",
        "RHjGOJGOlMqW",
        "f-SzBPnSxvK9"
      ],
      "name": "Training_notebook",
      "provenance": []
    },
    "kernelspec": {
      "display_name": "Python 3",
      "language": "python",
      "name": "python3"
    },
    "language_info": {
      "codemirror_mode": {
        "name": "ipython",
        "version": 3
      },
      "file_extension": ".py",
      "mimetype": "text/x-python",
      "name": "python",
      "nbconvert_exporter": "python",
      "pygments_lexer": "ipython3",
      "version": "3.8.5"
    }
  },
  "nbformat": 4,
  "nbformat_minor": 0
}
