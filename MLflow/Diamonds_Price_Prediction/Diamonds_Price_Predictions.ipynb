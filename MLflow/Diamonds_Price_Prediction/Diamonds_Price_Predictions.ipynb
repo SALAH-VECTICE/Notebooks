{
 "cells": [
  {
   "cell_type": "markdown",
   "metadata": {
    "id": "view-in-github"
   },
   "source": [
    "<a href=\"https://colab.research.google.com/github/vectice/vectice-examples/blob/master/MLflow/Diamonds_Price_Prediction/Diamonds_Price_Predictions.ipynb\" target=\"_parent\"><img src=\"https://colab.research.google.com/assets/colab-badge.svg\" alt=\"Open In Colab\"/></a>"
   ]
  },
  {
   "cell_type": "markdown",
   "metadata": {
    "id": "jSn24d7vV0FM"
   },
   "source": [
    "This notebook walks you through the Vectice integration with MLflow"
   ]
  },
  {
   "cell_type": "markdown",
   "metadata": {
    "id": "FNp66UUsV0FM"
   },
   "source": [
    "## Install Vectice, MLflow and GCS packages"
   ]
  },
  {
   "cell_type": "markdown",
   "metadata": {
    "id": "bOADESO5V0FN"
   },
   "source": [
    "In order to keep the Vectice library lite, we install just the primary dependencies and let the user install the the other dependencies when needed. Here, we install github because our notebook is on Github and we are going to need the github package to be able to point to the notebook from the Vectice UI. You have to add the other dependencies (gitlab, bitbucket) if you're going to use them (!pip install -q \"vectice[github, gitlab, bitbucket]\")"
   ]
  },
  {
   "cell_type": "code",
   "execution_count": 1,
   "metadata": {
    "colab": {
     "base_uri": "https://localhost:8080/"
    },
    "id": "xxb_wbl9qsFC",
    "outputId": "1fd6c643-fc0f-4d37-88d9-ab1a2bd8a986"
   },
   "outputs": [
    {
     "name": "stdout",
     "output_type": "stream",
     "text": [
      "\u001b[K     |████████████████████████████████| 121 kB 5.1 MB/s \n",
      "\u001b[K     |████████████████████████████████| 291 kB 38.9 MB/s \n",
      "\u001b[K     |████████████████████████████████| 856 kB 61.8 MB/s \n",
      "\u001b[K     |████████████████████████████████| 136 kB 5.1 MB/s \n",
      "\u001b[K     |████████████████████████████████| 1.1 MB 7.4 MB/s \n",
      "\u001b[K     |████████████████████████████████| 94 kB 3.5 MB/s \n",
      "\u001b[K     |████████████████████████████████| 271 kB 49.8 MB/s \n",
      "\u001b[K     |████████████████████████████████| 144 kB 41.1 MB/s \n",
      "\u001b[K     |████████████████████████████████| 17.8 MB 370 kB/s \n",
      "\u001b[K     |████████████████████████████████| 146 kB 49.3 MB/s \n",
      "\u001b[K     |████████████████████████████████| 210 kB 52.6 MB/s \n",
      "\u001b[K     |████████████████████████████████| 181 kB 50.1 MB/s \n",
      "\u001b[K     |████████████████████████████████| 596 kB 45.0 MB/s \n",
      "\u001b[K     |████████████████████████████████| 79 kB 7.8 MB/s \n",
      "\u001b[K     |████████████████████████████████| 62 kB 781 kB/s \n",
      "\u001b[K     |████████████████████████████████| 54 kB 2.5 MB/s \n",
      "\u001b[K     |████████████████████████████████| 63 kB 1.7 MB/s \n",
      "\u001b[K     |████████████████████████████████| 78 kB 7.2 MB/s \n",
      "\u001b[?25h  Building wheel for databricks-cli (setup.py) ... \u001b[?25l\u001b[?25hdone\n"
     ]
    }
   ],
   "source": [
    "!pip3 install -q vectice[github]==22.3.5.1\n",
    "!pip3 install -q fsspec\n",
    "!pip3 install -q gcsfs\n",
    "!pip3 install -q google-cloud-storage\n",
    "!pip3 install -q mlflow\n",
    "!pip3 install -q xgboost"
   ]
  },
  {
   "cell_type": "code",
   "execution_count": 2,
   "metadata": {
    "colab": {
     "base_uri": "https://localhost:8080/"
    },
    "id": "6kYu_DFk5dMZ",
    "outputId": "443d668f-0754-4bfa-e116-162694116558",
    "pycharm": {
     "name": "#%%\n"
    }
   },
   "outputs": [
    {
     "name": "stdout",
     "output_type": "stream",
     "text": [
      "Name: vectice\n",
      "Version: 2.2.3\n",
      "Summary: Vectice Python library\n",
      "Home-page: https://github.com/vectice/vectice-python\n",
      "Author: Vectice Inc.\n",
      "Author-email: sdk@vectice.com\n",
      "License: Apache License 2.0\n",
      "Location: /usr/local/lib/python3.7/dist-packages\n",
      "Requires: requests, python-dotenv, urllib3\n",
      "Required-by: \n"
     ]
    }
   ],
   "source": [
    "!pip3 show vectice"
   ]
  },
  {
   "cell_type": "markdown",
   "metadata": {
    "id": "VztpAEtl5dMb",
    "pycharm": {
     "name": "#%% md\n"
    }
   },
   "source": [
    "The main entrypoint of the SDK is the high level API which provide several solutions to follow your runs.\n",
    "\n",
    "* a procedural solution with 2 methods to call vectice.create_run() and vectice.save_after_run()\n",
    "\n",
    "* a more powerful solution based on vectice.Vectice class that provides itself several possibilities:\n",
    "\n",
    "* use an instance of vectice.Vectice object to create_run(), start_run() and end_run() (fluent API)\n",
    "\n",
    "* You can also use the context manager syntax (python with keyword): In this case, the end of the run will be automatically managed."
   ]
  },
  {
   "cell_type": "code",
   "execution_count": 1,
   "metadata": {
    "id": "tuo0X3iPrEXn"
   },
   "outputs": [],
   "source": [
    "import logging\n",
    "from math import sqrt\n",
    "import os \n",
    "import numpy as np \n",
    "import pandas as pd \n",
    "import seaborn as sns\n",
    "import matplotlib.pyplot as plt\n",
    "import matplotlib.pylab as pylab\n",
    "from sklearn.preprocessing import OneHotEncoder, LabelEncoder\n",
    "from sklearn.model_selection import train_test_split\n",
    "from sklearn.preprocessing import StandardScaler, MinMaxScaler, QuantileTransformer\n",
    "from sklearn.decomposition import PCA\n",
    "from sklearn.pipeline import Pipeline\n",
    "from sklearn.tree import DecisionTreeRegressor, plot_tree\n",
    "from sklearn.ensemble import RandomForestRegressor\n",
    "from sklearn.linear_model import LinearRegression\n",
    "from xgboost import XGBRegressor\n",
    "from sklearn.neighbors import KNeighborsRegressor\n",
    "from sklearn.model_selection import cross_val_score, GridSearchCV\n",
    "from sklearn.metrics import mean_squared_error, mean_absolute_error, mean_squared_error\n",
    "from sklearn import metrics\n",
    "\n",
    "import mlflow\n",
    "from vectice import Experiment, Vectice\n",
    "from vectice.api.json.artifact_type import JobArtifactType\n",
    "from vectice.api.json.artifact_version import VersionStrategy\n",
    "from vectice.api.json.model import ModelType\n",
    "from vectice.api.json.job import JobType\n",
    "from vectice.api.json.run import RunStatus\n",
    "from vectice.models.dataset_metadata import DatasetMetadata"
   ]
  },
  {
   "cell_type": "markdown",
   "metadata": {
    "id": "cwCGj5K06PM7"
   },
   "source": [
    "### Data:\n",
    "This classic dataset contains the prices and other attributes of almost 54,000 diamonds. There are 10 attributes included in the dataset including the target ie. price.\n",
    "\n",
    "### Feature description:\n",
    "\n",
    "price price in US dollars ($326--$18,823)This is the target column containing tags for the features. \n",
    "\n",
    "### The 4 Cs of Diamonds:-\n",
    "\n",
    "- carat (0.2--5.01) The carat is the diamond’s physical weight measured in metric carats.  One carat equals 1/5 gram and is subdivided into 100 points. Carat weight is the most objective grade of the 4Cs. \n",
    "\n",
    "- cut (Fair, Good, Very Good, Premium, Ideal) In determining the quality of the cut, the diamond grader evaluates the cutter’s skill in the fashioning of the diamond. The more precise the diamond is cut, the more captivating the diamond is to the eye.  \n",
    "\n",
    "- color, from J (worst) to D (best) The colour of gem-quality diamonds occurs in many hues. In the range from colourless to light yellow or light brown. Colourless diamonds are the rarest. Other natural colours (blue, red, pink for example) are known as \"fancy,” and their colour grading is different than from white colorless diamonds.  \n",
    "\n",
    "- clarity (I1 (worst), SI2, SI1, VS2, VS1, VVS2, VVS1, IF (best)) Diamonds can have internal characteristics known as inclusions or external characteristics known as blemishes. Diamonds without inclusions or blemishes are rare; however, most characteristics can only be seen with magnification.  \n",
    "\n",
    "### Goal: \n",
    "\n",
    "The goal is to predict the prices of diamonds using the features in the given dataset. Thus it's a regression problem, you'll perform a bit of data cleaning and create a multiple models that are fed into MLflow. The code used to achieve this is hiddin but you can view it. However, it'll be more fun to give it a good old college try as a team and resort to the hidden code if all else fails."
   ]
  },
  {
   "cell_type": "markdown",
   "metadata": {
    "id": "RCo1DKnP5-Kh"
   },
   "source": [
    "Here is a link to the [Vectice Python library Documentation](https://doc.vectice.com/)"
   ]
  },
  {
   "cell_type": "markdown",
   "metadata": {
    "id": "t5fCsgSAAcfQ"
   },
   "source": [
    "We are going to load data stored in Google Cloud Storage, that is provided by Vectice in the tutorial page.\n",
    "```\n",
    "os.environ['GOOGLE_APPLICATION_CREDENTIALS'] = 'readerKey.json'\n",
    "```"
   ]
  },
  {
   "cell_type": "markdown",
   "metadata": {
    "id": "OzVSDgQftE1p"
   },
   "source": [
    "## Credentials Setup:\n",
    "##### The Vectice API Endpoint and Token are needed to connect to the Vectice UI. Furthermore, a Google Cloud Storage credential JSON is needed to connect to the Google Cloud Storage to retrieve and upload the datasets. A project token links the runs to the relevant project and it's needed to create runs."
   ]
  },
  {
   "cell_type": "code",
   "execution_count": 2,
   "metadata": {
    "id": "Bls21M22rXVQ"
   },
   "outputs": [],
   "source": [
    "# Vectice API Endpoint\n",
    "os.environ['VECTICE_API_ENDPOINT'] ='https://app.vectice.com'\n",
    "\n",
    "# To use the Vectice Python library, you first need to authenticate your account using an API token.\n",
    "# You can generate an API token from the Vectice UI, by going to the \"API Tokens\" section in the \"My Profile\" section\n",
    "# which is located under your profile picture.\n",
    "# You can specify your API Token here in the notebook, but we recommend you to add it to a .env file\n",
    "os.environ['VECTICE_API_TOKEN'] = \"Vectice API Token\"\n",
    "\n",
    "# Download the \"JSON file\" from the \"Vectice Tutorial Page\" in the application so that \n",
    "# you can access the GCS bucket. The name of the JSON file should be \"readerKey.json\"\n",
    "os.environ['GOOGLE_APPLICATION_CREDENTIALS'] = \"readerKey.json\"\n",
    "\n",
    "#The project ID\n",
    "project_id = ID"
   ]
  },
  {
   "cell_type": "markdown",
   "metadata": {
    "id": "jpyiHjbGPvQs"
   },
   "source": [
    "### Reading the data from GCS"
   ]
  },
  {
   "cell_type": "code",
   "execution_count": 4,
   "metadata": {
    "colab": {
     "base_uri": "https://localhost:8080/",
     "height": 206
    },
    "id": "xLUvD7qO5dMm",
    "outputId": "665877d8-f12a-41a9-aa72-b53fa949bbb3",
    "pycharm": {
     "name": "#%%\n"
    }
   },
   "outputs": [
    {
     "data": {
      "text/html": [
       "\n",
       "  <div id=\"df-085bd39a-f6aa-4fb5-8020-36cbb41d759e\">\n",
       "    <div class=\"colab-df-container\">\n",
       "      <div>\n",
       "<style scoped>\n",
       "    .dataframe tbody tr th:only-of-type {\n",
       "        vertical-align: middle;\n",
       "    }\n",
       "\n",
       "    .dataframe tbody tr th {\n",
       "        vertical-align: top;\n",
       "    }\n",
       "\n",
       "    .dataframe thead th {\n",
       "        text-align: right;\n",
       "    }\n",
       "</style>\n",
       "<table border=\"1\" class=\"dataframe\">\n",
       "  <thead>\n",
       "    <tr style=\"text-align: right;\">\n",
       "      <th></th>\n",
       "      <th>carat</th>\n",
       "      <th>cut</th>\n",
       "      <th>color</th>\n",
       "      <th>clarity</th>\n",
       "      <th>depth</th>\n",
       "      <th>table</th>\n",
       "      <th>price</th>\n",
       "      <th>x</th>\n",
       "      <th>y</th>\n",
       "      <th>z</th>\n",
       "    </tr>\n",
       "  </thead>\n",
       "  <tbody>\n",
       "    <tr>\n",
       "      <th>0</th>\n",
       "      <td>0.23</td>\n",
       "      <td>Ideal</td>\n",
       "      <td>E</td>\n",
       "      <td>SI2</td>\n",
       "      <td>61.5</td>\n",
       "      <td>55.0</td>\n",
       "      <td>326</td>\n",
       "      <td>3.95</td>\n",
       "      <td>3.98</td>\n",
       "      <td>2.43</td>\n",
       "    </tr>\n",
       "    <tr>\n",
       "      <th>1</th>\n",
       "      <td>0.21</td>\n",
       "      <td>Premium</td>\n",
       "      <td>E</td>\n",
       "      <td>SI1</td>\n",
       "      <td>59.8</td>\n",
       "      <td>61.0</td>\n",
       "      <td>326</td>\n",
       "      <td>3.89</td>\n",
       "      <td>3.84</td>\n",
       "      <td>2.31</td>\n",
       "    </tr>\n",
       "    <tr>\n",
       "      <th>2</th>\n",
       "      <td>0.23</td>\n",
       "      <td>Good</td>\n",
       "      <td>E</td>\n",
       "      <td>VS1</td>\n",
       "      <td>56.9</td>\n",
       "      <td>65.0</td>\n",
       "      <td>327</td>\n",
       "      <td>4.05</td>\n",
       "      <td>4.07</td>\n",
       "      <td>2.31</td>\n",
       "    </tr>\n",
       "    <tr>\n",
       "      <th>3</th>\n",
       "      <td>0.29</td>\n",
       "      <td>Premium</td>\n",
       "      <td>I</td>\n",
       "      <td>VS2</td>\n",
       "      <td>62.4</td>\n",
       "      <td>58.0</td>\n",
       "      <td>334</td>\n",
       "      <td>4.20</td>\n",
       "      <td>4.23</td>\n",
       "      <td>2.63</td>\n",
       "    </tr>\n",
       "    <tr>\n",
       "      <th>4</th>\n",
       "      <td>0.31</td>\n",
       "      <td>Good</td>\n",
       "      <td>J</td>\n",
       "      <td>SI2</td>\n",
       "      <td>63.3</td>\n",
       "      <td>58.0</td>\n",
       "      <td>335</td>\n",
       "      <td>4.34</td>\n",
       "      <td>4.35</td>\n",
       "      <td>2.75</td>\n",
       "    </tr>\n",
       "  </tbody>\n",
       "</table>\n",
       "</div>\n",
       "      <button class=\"colab-df-convert\" onclick=\"convertToInteractive('df-085bd39a-f6aa-4fb5-8020-36cbb41d759e')\"\n",
       "              title=\"Convert this dataframe to an interactive table.\"\n",
       "              style=\"display:none;\">\n",
       "        \n",
       "  <svg xmlns=\"http://www.w3.org/2000/svg\" height=\"24px\"viewBox=\"0 0 24 24\"\n",
       "       width=\"24px\">\n",
       "    <path d=\"M0 0h24v24H0V0z\" fill=\"none\"/>\n",
       "    <path d=\"M18.56 5.44l.94 2.06.94-2.06 2.06-.94-2.06-.94-.94-2.06-.94 2.06-2.06.94zm-11 1L8.5 8.5l.94-2.06 2.06-.94-2.06-.94L8.5 2.5l-.94 2.06-2.06.94zm10 10l.94 2.06.94-2.06 2.06-.94-2.06-.94-.94-2.06-.94 2.06-2.06.94z\"/><path d=\"M17.41 7.96l-1.37-1.37c-.4-.4-.92-.59-1.43-.59-.52 0-1.04.2-1.43.59L10.3 9.45l-7.72 7.72c-.78.78-.78 2.05 0 2.83L4 21.41c.39.39.9.59 1.41.59.51 0 1.02-.2 1.41-.59l7.78-7.78 2.81-2.81c.8-.78.8-2.07 0-2.86zM5.41 20L4 18.59l7.72-7.72 1.47 1.35L5.41 20z\"/>\n",
       "  </svg>\n",
       "      </button>\n",
       "      \n",
       "  <style>\n",
       "    .colab-df-container {\n",
       "      display:flex;\n",
       "      flex-wrap:wrap;\n",
       "      gap: 12px;\n",
       "    }\n",
       "\n",
       "    .colab-df-convert {\n",
       "      background-color: #E8F0FE;\n",
       "      border: none;\n",
       "      border-radius: 50%;\n",
       "      cursor: pointer;\n",
       "      display: none;\n",
       "      fill: #1967D2;\n",
       "      height: 32px;\n",
       "      padding: 0 0 0 0;\n",
       "      width: 32px;\n",
       "    }\n",
       "\n",
       "    .colab-df-convert:hover {\n",
       "      background-color: #E2EBFA;\n",
       "      box-shadow: 0px 1px 2px rgba(60, 64, 67, 0.3), 0px 1px 3px 1px rgba(60, 64, 67, 0.15);\n",
       "      fill: #174EA6;\n",
       "    }\n",
       "\n",
       "    [theme=dark] .colab-df-convert {\n",
       "      background-color: #3B4455;\n",
       "      fill: #D2E3FC;\n",
       "    }\n",
       "\n",
       "    [theme=dark] .colab-df-convert:hover {\n",
       "      background-color: #434B5C;\n",
       "      box-shadow: 0px 1px 3px 1px rgba(0, 0, 0, 0.15);\n",
       "      filter: drop-shadow(0px 1px 2px rgba(0, 0, 0, 0.3));\n",
       "      fill: #FFFFFF;\n",
       "    }\n",
       "  </style>\n",
       "\n",
       "      <script>\n",
       "        const buttonEl =\n",
       "          document.querySelector('#df-085bd39a-f6aa-4fb5-8020-36cbb41d759e button.colab-df-convert');\n",
       "        buttonEl.style.display =\n",
       "          google.colab.kernel.accessAllowed ? 'block' : 'none';\n",
       "\n",
       "        async function convertToInteractive(key) {\n",
       "          const element = document.querySelector('#df-085bd39a-f6aa-4fb5-8020-36cbb41d759e');\n",
       "          const dataTable =\n",
       "            await google.colab.kernel.invokeFunction('convertToInteractive',\n",
       "                                                     [key], {});\n",
       "          if (!dataTable) return;\n",
       "\n",
       "          const docLinkHtml = 'Like what you see? Visit the ' +\n",
       "            '<a target=\"_blank\" href=https://colab.research.google.com/notebooks/data_table.ipynb>data table notebook</a>'\n",
       "            + ' to learn more about interactive tables.';\n",
       "          element.innerHTML = '';\n",
       "          dataTable['output_type'] = 'display_data';\n",
       "          await google.colab.output.renderOutput(dataTable, element);\n",
       "          const docLink = document.createElement('div');\n",
       "          docLink.innerHTML = docLinkHtml;\n",
       "          element.appendChild(docLink);\n",
       "        }\n",
       "      </script>\n",
       "    </div>\n",
       "  </div>\n",
       "  "
      ],
      "text/plain": [
       "   carat      cut color clarity  depth  table  price     x     y     z\n",
       "0   0.23    Ideal     E     SI2   61.5   55.0    326  3.95  3.98  2.43\n",
       "1   0.21  Premium     E     SI1   59.8   61.0    326  3.89  3.84  2.31\n",
       "2   0.23     Good     E     VS1   56.9   65.0    327  4.05  4.07  2.31\n",
       "3   0.29  Premium     I     VS2   62.4   58.0    334  4.20  4.23  2.63\n",
       "4   0.31     Good     J     SI2   63.3   58.0    335  4.34  4.35  2.75"
      ]
     },
     "execution_count": 4,
     "metadata": {},
     "output_type": "execute_result"
    }
   ],
   "source": [
    "data = pd.read_csv(r\"gs://vectice-examples-samples/Diamonds/diamonds.csv\")\n",
    "data.head(5)"
   ]
  },
  {
   "cell_type": "code",
   "execution_count": 5,
   "metadata": {
    "colab": {
     "base_uri": "https://localhost:8080/"
    },
    "id": "8ddBRGmDrnt8",
    "outputId": "0f8023f3-2bb7-4316-f76d-1469f2f35129"
   },
   "outputs": [
    {
     "data": {
      "text/plain": [
       "(53940, 10)"
      ]
     },
     "execution_count": 5,
     "metadata": {},
     "output_type": "execute_result"
    }
   ],
   "source": [
    "# This shows you the number of rows and columns\n",
    "data.shape"
   ]
  },
  {
   "cell_type": "code",
   "execution_count": 6,
   "metadata": {
    "colab": {
     "base_uri": "https://localhost:8080/"
    },
    "id": "tQISB5kEsp9u",
    "outputId": "ba943ad4-6580-468e-a097-5ff6ddb8a039"
   },
   "outputs": [
    {
     "name": "stdout",
     "output_type": "stream",
     "text": [
      "<class 'pandas.core.frame.DataFrame'>\n",
      "RangeIndex: 53940 entries, 0 to 53939\n",
      "Data columns (total 10 columns):\n",
      " #   Column   Non-Null Count  Dtype  \n",
      "---  ------   --------------  -----  \n",
      " 0   carat    53940 non-null  float64\n",
      " 1   cut      53940 non-null  object \n",
      " 2   color    53940 non-null  object \n",
      " 3   clarity  53940 non-null  object \n",
      " 4   depth    53940 non-null  float64\n",
      " 5   table    53940 non-null  float64\n",
      " 6   price    53940 non-null  int64  \n",
      " 7   x        53940 non-null  float64\n",
      " 8   y        53940 non-null  float64\n",
      " 9   z        53940 non-null  float64\n",
      "dtypes: float64(6), int64(1), object(3)\n",
      "memory usage: 4.1+ MB\n"
     ]
    }
   ],
   "source": [
    "# The details of the data\n",
    "data.info()"
   ]
  },
  {
   "cell_type": "markdown",
   "metadata": {
    "id": "qV-C_cHYtzc7"
   },
   "source": [
    "### Data Cleaing \n",
    "In machine learning, if the data is irrelevant or error-prone then it leads to an incorrect model being built."
   ]
  },
  {
   "cell_type": "code",
   "execution_count": 7,
   "metadata": {
    "colab": {
     "base_uri": "https://localhost:8080/"
    },
    "id": "-crp58S1stMt",
    "outputId": "69f344f8-5210-43be-ec1d-e13a112aaabf"
   },
   "outputs": [
    {
     "data": {
      "text/plain": [
       "(53920, 10)"
      ]
     },
     "execution_count": 7,
     "metadata": {},
     "output_type": "execute_result"
    }
   ],
   "source": [
    "#Dropping dimentionless diamonds\n",
    "data = data.drop(data[data[\"x\"]==0].index)\n",
    "data = data.drop(data[data[\"y\"]==0].index)\n",
    "data = data.drop(data[data[\"z\"]==0].index)\n",
    "# We dropped 20 dimensionless entries\n",
    "data.shape"
   ]
  },
  {
   "cell_type": "code",
   "execution_count": null,
   "metadata": {
    "id": "hlubQwQ4t8vM"
   },
   "outputs": [],
   "source": [
    "#Dropping the outliers. \n",
    "data = data[(data[\"depth\"]<75)&(data[\"depth\"]>45)]\n",
    "data = data[(data[\"table\"]<80)&(data[\"table\"]>40)]\n",
    "data = data[(data[\"x\"]<30)]\n",
    "data = data[(data[\"y\"]<30)]\n",
    "data = data[(data[\"z\"]<30)&(data[\"z\"]>2)]\n",
    "# We dropped 13 outliers\n",
    "data.shape"
   ]
  },
  {
   "cell_type": "code",
   "execution_count": 8,
   "metadata": {
    "colab": {
     "base_uri": "https://localhost:8080/"
    },
    "id": "xTokW8h6uJGc",
    "outputId": "cb4769b4-27a3-4ba3-ee70-5f866226166a"
   },
   "outputs": [
    {
     "name": "stdout",
     "output_type": "stream",
     "text": [
      "Categorical variables: ['cut', 'color', 'clarity']\n"
     ]
    }
   ],
   "source": [
    "# Get list of categorical variables\n",
    "object_cols = [i for i in data.columns if data[i].dtype == 'object']\n",
    "print(f\"Categorical variables: {object_cols}\")"
   ]
  },
  {
   "cell_type": "markdown",
   "metadata": {
    "id": "cfrAL_VIGkzA"
   },
   "source": [
    "#### Why are Categorical Features important?\n",
    "Machine learning models require all input and output variables to be numeric.\n",
    "\n",
    "This means that if your data contains categorical data, you must encode it to numbers before you can fit and evaluate a model."
   ]
  },
  {
   "cell_type": "markdown",
   "metadata": {
    "id": "97vBqZYAuVxv"
   },
   "source": [
    "#### We have three categorical variables. Let us have a look at them with violin plots.\n",
    "##### Violin plots are a method of plotting numeric data and can be considered a combination of the box plot with a kernel density plot. In the violin plot, we can find the same information as in the box plots:\n",
    "* median (a white dot on the violin plot)\n",
    "* interquartile range (the black bar in the center of violin)\n",
    "* the lower/upper adjacent values (the black lines stretched from the bar) — defined as first quartile — 1.5 IQR and third quartile + 1.5 IQR respectively. These values can be used in a simple outlier detection technique (Tukey’s fences) — observations lying outside of these “fences” can be considered outliers."
   ]
  },
  {
   "cell_type": "markdown",
   "metadata": {
    "id": "Cen5AfrixmEz"
   },
   "source": [
    "![Image](https://miro.medium.com/max/520/1*TTMOaNG1o4PgQd-e8LurMg.png)\n",
    "\n",
    "Probability Density Function:\n",
    "\n",
    "![Image](https://upload.wikimedia.org/wikipedia/commons/thumb/1/1a/Boxplot_vs_PDF.svg/525px-Boxplot_vs_PDF.svg.png)"
   ]
  },
  {
   "cell_type": "markdown",
   "metadata": {
    "id": "wRjqypZfxx9Q"
   },
   "source": [
    "#### Lable encoding the data to get rid of object dtype.\n",
    "This approach is very simple and it involves converting each value in a column to a number. Consider a dataset of bridges having a column names bridge-types having below values. Though there will be many more columns in the dataset, to understand label-encoding, we will focus on one categorical column only.We choose to encode the text values by putting a running sequence for each text values like below:"
   ]
  },
  {
   "cell_type": "markdown",
   "metadata": {
    "id": "ugf2Npxpx0bO"
   },
   "source": [
    "![Markdown Logo is here.](https://miro.medium.com/max/289/1*VinegxkUYMzik9GpucWCFA.png)\n"
   ]
  },
  {
   "cell_type": "code",
   "execution_count": 9,
   "metadata": {
    "id": "_vwhlHUCxt02"
   },
   "outputs": [],
   "source": [
    "# Make copy to avoid changing original data \n",
    "label_data = data.copy()"
   ]
  },
  {
   "cell_type": "code",
   "execution_count": 10,
   "metadata": {
    "id": "phme_1ZKxxy2"
   },
   "outputs": [],
   "source": [
    "def encoder_labels(columns: list, dataframe: pd.DataFrame, encoder: LabelEncoder) -> pd.DataFrame:\n",
    "    for col in columns:\n",
    "        dataframe[col] = encoder.fit_transform(dataframe[col])\n",
    "    return dataframe"
   ]
  },
  {
   "cell_type": "code",
   "execution_count": 11,
   "metadata": {
    "id": "3Dm7fT6Nx413"
   },
   "outputs": [],
   "source": [
    "encoder = LabelEncoder()\n",
    "label_data = encoder_labels(object_cols, label_data, encoder)"
   ]
  },
  {
   "cell_type": "code",
   "execution_count": 13,
   "metadata": {
    "colab": {
     "base_uri": "https://localhost:8080/",
     "height": 215
    },
    "id": "WGBYeB0px6hu",
    "outputId": "f5297560-e6d5-4c77-ff46-04d215dfb226"
   },
   "outputs": [
    {
     "data": {
      "text/html": [
       "\n",
       "  <div id=\"df-bd7726a4-52fb-46bc-9cbd-a35fc6d1045c\">\n",
       "    <div class=\"colab-df-container\">\n",
       "      <div>\n",
       "<style scoped>\n",
       "    .dataframe tbody tr th:only-of-type {\n",
       "        vertical-align: middle;\n",
       "    }\n",
       "\n",
       "    .dataframe tbody tr th {\n",
       "        vertical-align: top;\n",
       "    }\n",
       "\n",
       "    .dataframe thead th {\n",
       "        text-align: right;\n",
       "    }\n",
       "</style>\n",
       "<table border=\"1\" class=\"dataframe\">\n",
       "  <thead>\n",
       "    <tr style=\"text-align: right;\">\n",
       "      <th></th>\n",
       "      <th>0.00632  18.00   2.310  0  0.5380  6.5750  65.20  4.0900   1  296.0  15.30 396.90   4.98  24.00</th>\n",
       "    </tr>\n",
       "  </thead>\n",
       "  <tbody>\n",
       "    <tr>\n",
       "      <th>0</th>\n",
       "      <td>23</td>\n",
       "    </tr>\n",
       "    <tr>\n",
       "      <th>1</th>\n",
       "      <td>22</td>\n",
       "    </tr>\n",
       "    <tr>\n",
       "      <th>2</th>\n",
       "      <td>32</td>\n",
       "    </tr>\n",
       "    <tr>\n",
       "      <th>3</th>\n",
       "      <td>110</td>\n",
       "    </tr>\n",
       "    <tr>\n",
       "      <th>4</th>\n",
       "      <td>27</td>\n",
       "    </tr>\n",
       "  </tbody>\n",
       "</table>\n",
       "</div>\n",
       "      <button class=\"colab-df-convert\" onclick=\"convertToInteractive('df-bd7726a4-52fb-46bc-9cbd-a35fc6d1045c')\"\n",
       "              title=\"Convert this dataframe to an interactive table.\"\n",
       "              style=\"display:none;\">\n",
       "        \n",
       "  <svg xmlns=\"http://www.w3.org/2000/svg\" height=\"24px\"viewBox=\"0 0 24 24\"\n",
       "       width=\"24px\">\n",
       "    <path d=\"M0 0h24v24H0V0z\" fill=\"none\"/>\n",
       "    <path d=\"M18.56 5.44l.94 2.06.94-2.06 2.06-.94-2.06-.94-.94-2.06-.94 2.06-2.06.94zm-11 1L8.5 8.5l.94-2.06 2.06-.94-2.06-.94L8.5 2.5l-.94 2.06-2.06.94zm10 10l.94 2.06.94-2.06 2.06-.94-2.06-.94-.94-2.06-.94 2.06-2.06.94z\"/><path d=\"M17.41 7.96l-1.37-1.37c-.4-.4-.92-.59-1.43-.59-.52 0-1.04.2-1.43.59L10.3 9.45l-7.72 7.72c-.78.78-.78 2.05 0 2.83L4 21.41c.39.39.9.59 1.41.59.51 0 1.02-.2 1.41-.59l7.78-7.78 2.81-2.81c.8-.78.8-2.07 0-2.86zM5.41 20L4 18.59l7.72-7.72 1.47 1.35L5.41 20z\"/>\n",
       "  </svg>\n",
       "      </button>\n",
       "      \n",
       "  <style>\n",
       "    .colab-df-container {\n",
       "      display:flex;\n",
       "      flex-wrap:wrap;\n",
       "      gap: 12px;\n",
       "    }\n",
       "\n",
       "    .colab-df-convert {\n",
       "      background-color: #E8F0FE;\n",
       "      border: none;\n",
       "      border-radius: 50%;\n",
       "      cursor: pointer;\n",
       "      display: none;\n",
       "      fill: #1967D2;\n",
       "      height: 32px;\n",
       "      padding: 0 0 0 0;\n",
       "      width: 32px;\n",
       "    }\n",
       "\n",
       "    .colab-df-convert:hover {\n",
       "      background-color: #E2EBFA;\n",
       "      box-shadow: 0px 1px 2px rgba(60, 64, 67, 0.3), 0px 1px 3px 1px rgba(60, 64, 67, 0.15);\n",
       "      fill: #174EA6;\n",
       "    }\n",
       "\n",
       "    [theme=dark] .colab-df-convert {\n",
       "      background-color: #3B4455;\n",
       "      fill: #D2E3FC;\n",
       "    }\n",
       "\n",
       "    [theme=dark] .colab-df-convert:hover {\n",
       "      background-color: #434B5C;\n",
       "      box-shadow: 0px 1px 3px 1px rgba(0, 0, 0, 0.15);\n",
       "      filter: drop-shadow(0px 1px 2px rgba(0, 0, 0, 0.3));\n",
       "      fill: #FFFFFF;\n",
       "    }\n",
       "  </style>\n",
       "\n",
       "      <script>\n",
       "        const buttonEl =\n",
       "          document.querySelector('#df-bd7726a4-52fb-46bc-9cbd-a35fc6d1045c button.colab-df-convert');\n",
       "        buttonEl.style.display =\n",
       "          google.colab.kernel.accessAllowed ? 'block' : 'none';\n",
       "\n",
       "        async function convertToInteractive(key) {\n",
       "          const element = document.querySelector('#df-bd7726a4-52fb-46bc-9cbd-a35fc6d1045c');\n",
       "          const dataTable =\n",
       "            await google.colab.kernel.invokeFunction('convertToInteractive',\n",
       "                                                     [key], {});\n",
       "          if (!dataTable) return;\n",
       "\n",
       "          const docLinkHtml = 'Like what you see? Visit the ' +\n",
       "            '<a target=\"_blank\" href=https://colab.research.google.com/notebooks/data_table.ipynb>data table notebook</a>'\n",
       "            + ' to learn more about interactive tables.';\n",
       "          element.innerHTML = '';\n",
       "          dataTable['output_type'] = 'display_data';\n",
       "          await google.colab.output.renderOutput(dataTable, element);\n",
       "          const docLink = document.createElement('div');\n",
       "          docLink.innerHTML = docLinkHtml;\n",
       "          element.appendChild(docLink);\n",
       "        }\n",
       "      </script>\n",
       "    </div>\n",
       "  </div>\n",
       "  "
      ],
      "text/plain": [
       "    0.00632  18.00   2.310  0  0.5380  6.5750  65.20  4.0900   1  296.0  15.30 396.90   4.98  24.00\n",
       "0                                                 23                                               \n",
       "1                                                 22                                               \n",
       "2                                                 32                                               \n",
       "3                                                110                                               \n",
       "4                                                 27                                               "
      ]
     },
     "execution_count": 13,
     "metadata": {},
     "output_type": "execute_result"
    }
   ],
   "source": [
    "label_data.head(5)"
   ]
  },
  {
   "cell_type": "code",
   "execution_count": null,
   "metadata": {
    "colab": {
     "base_uri": "https://localhost:8080/",
     "height": 300
    },
    "id": "kF0j123FyCKe",
    "outputId": "aeb10068-0629-4fb7-fa3d-a52ce4a892d2"
   },
   "outputs": [
    {
     "data": {
      "text/html": [
       "\n",
       "  <div id=\"df-1911b5fb-912b-41f4-a910-3849a9303614\">\n",
       "    <div class=\"colab-df-container\">\n",
       "      <div>\n",
       "<style scoped>\n",
       "    .dataframe tbody tr th:only-of-type {\n",
       "        vertical-align: middle;\n",
       "    }\n",
       "\n",
       "    .dataframe tbody tr th {\n",
       "        vertical-align: top;\n",
       "    }\n",
       "\n",
       "    .dataframe thead th {\n",
       "        text-align: right;\n",
       "    }\n",
       "</style>\n",
       "<table border=\"1\" class=\"dataframe\">\n",
       "  <thead>\n",
       "    <tr style=\"text-align: right;\">\n",
       "      <th></th>\n",
       "      <th>carat</th>\n",
       "      <th>depth</th>\n",
       "      <th>table</th>\n",
       "      <th>price</th>\n",
       "      <th>x</th>\n",
       "      <th>y</th>\n",
       "      <th>z</th>\n",
       "    </tr>\n",
       "  </thead>\n",
       "  <tbody>\n",
       "    <tr>\n",
       "      <th>count</th>\n",
       "      <td>53940.000000</td>\n",
       "      <td>53940.000000</td>\n",
       "      <td>53940.000000</td>\n",
       "      <td>53940.000000</td>\n",
       "      <td>53940.000000</td>\n",
       "      <td>53940.000000</td>\n",
       "      <td>53940.000000</td>\n",
       "    </tr>\n",
       "    <tr>\n",
       "      <th>mean</th>\n",
       "      <td>0.797940</td>\n",
       "      <td>61.749405</td>\n",
       "      <td>57.457184</td>\n",
       "      <td>3932.799722</td>\n",
       "      <td>5.731157</td>\n",
       "      <td>5.734526</td>\n",
       "      <td>3.538734</td>\n",
       "    </tr>\n",
       "    <tr>\n",
       "      <th>std</th>\n",
       "      <td>0.474011</td>\n",
       "      <td>1.432621</td>\n",
       "      <td>2.234491</td>\n",
       "      <td>3989.439738</td>\n",
       "      <td>1.121761</td>\n",
       "      <td>1.142135</td>\n",
       "      <td>0.705699</td>\n",
       "    </tr>\n",
       "    <tr>\n",
       "      <th>min</th>\n",
       "      <td>0.200000</td>\n",
       "      <td>43.000000</td>\n",
       "      <td>43.000000</td>\n",
       "      <td>326.000000</td>\n",
       "      <td>0.000000</td>\n",
       "      <td>0.000000</td>\n",
       "      <td>0.000000</td>\n",
       "    </tr>\n",
       "    <tr>\n",
       "      <th>25%</th>\n",
       "      <td>0.400000</td>\n",
       "      <td>61.000000</td>\n",
       "      <td>56.000000</td>\n",
       "      <td>950.000000</td>\n",
       "      <td>4.710000</td>\n",
       "      <td>4.720000</td>\n",
       "      <td>2.910000</td>\n",
       "    </tr>\n",
       "    <tr>\n",
       "      <th>50%</th>\n",
       "      <td>0.700000</td>\n",
       "      <td>61.800000</td>\n",
       "      <td>57.000000</td>\n",
       "      <td>2401.000000</td>\n",
       "      <td>5.700000</td>\n",
       "      <td>5.710000</td>\n",
       "      <td>3.530000</td>\n",
       "    </tr>\n",
       "    <tr>\n",
       "      <th>75%</th>\n",
       "      <td>1.040000</td>\n",
       "      <td>62.500000</td>\n",
       "      <td>59.000000</td>\n",
       "      <td>5324.250000</td>\n",
       "      <td>6.540000</td>\n",
       "      <td>6.540000</td>\n",
       "      <td>4.040000</td>\n",
       "    </tr>\n",
       "    <tr>\n",
       "      <th>max</th>\n",
       "      <td>5.010000</td>\n",
       "      <td>79.000000</td>\n",
       "      <td>95.000000</td>\n",
       "      <td>18823.000000</td>\n",
       "      <td>10.740000</td>\n",
       "      <td>58.900000</td>\n",
       "      <td>31.800000</td>\n",
       "    </tr>\n",
       "  </tbody>\n",
       "</table>\n",
       "</div>\n",
       "      <button class=\"colab-df-convert\" onclick=\"convertToInteractive('df-1911b5fb-912b-41f4-a910-3849a9303614')\"\n",
       "              title=\"Convert this dataframe to an interactive table.\"\n",
       "              style=\"display:none;\">\n",
       "        \n",
       "  <svg xmlns=\"http://www.w3.org/2000/svg\" height=\"24px\"viewBox=\"0 0 24 24\"\n",
       "       width=\"24px\">\n",
       "    <path d=\"M0 0h24v24H0V0z\" fill=\"none\"/>\n",
       "    <path d=\"M18.56 5.44l.94 2.06.94-2.06 2.06-.94-2.06-.94-.94-2.06-.94 2.06-2.06.94zm-11 1L8.5 8.5l.94-2.06 2.06-.94-2.06-.94L8.5 2.5l-.94 2.06-2.06.94zm10 10l.94 2.06.94-2.06 2.06-.94-2.06-.94-.94-2.06-.94 2.06-2.06.94z\"/><path d=\"M17.41 7.96l-1.37-1.37c-.4-.4-.92-.59-1.43-.59-.52 0-1.04.2-1.43.59L10.3 9.45l-7.72 7.72c-.78.78-.78 2.05 0 2.83L4 21.41c.39.39.9.59 1.41.59.51 0 1.02-.2 1.41-.59l7.78-7.78 2.81-2.81c.8-.78.8-2.07 0-2.86zM5.41 20L4 18.59l7.72-7.72 1.47 1.35L5.41 20z\"/>\n",
       "  </svg>\n",
       "      </button>\n",
       "      \n",
       "  <style>\n",
       "    .colab-df-container {\n",
       "      display:flex;\n",
       "      flex-wrap:wrap;\n",
       "      gap: 12px;\n",
       "    }\n",
       "\n",
       "    .colab-df-convert {\n",
       "      background-color: #E8F0FE;\n",
       "      border: none;\n",
       "      border-radius: 50%;\n",
       "      cursor: pointer;\n",
       "      display: none;\n",
       "      fill: #1967D2;\n",
       "      height: 32px;\n",
       "      padding: 0 0 0 0;\n",
       "      width: 32px;\n",
       "    }\n",
       "\n",
       "    .colab-df-convert:hover {\n",
       "      background-color: #E2EBFA;\n",
       "      box-shadow: 0px 1px 2px rgba(60, 64, 67, 0.3), 0px 1px 3px 1px rgba(60, 64, 67, 0.15);\n",
       "      fill: #174EA6;\n",
       "    }\n",
       "\n",
       "    [theme=dark] .colab-df-convert {\n",
       "      background-color: #3B4455;\n",
       "      fill: #D2E3FC;\n",
       "    }\n",
       "\n",
       "    [theme=dark] .colab-df-convert:hover {\n",
       "      background-color: #434B5C;\n",
       "      box-shadow: 0px 1px 3px 1px rgba(0, 0, 0, 0.15);\n",
       "      filter: drop-shadow(0px 1px 2px rgba(0, 0, 0, 0.3));\n",
       "      fill: #FFFFFF;\n",
       "    }\n",
       "  </style>\n",
       "\n",
       "      <script>\n",
       "        const buttonEl =\n",
       "          document.querySelector('#df-1911b5fb-912b-41f4-a910-3849a9303614 button.colab-df-convert');\n",
       "        buttonEl.style.display =\n",
       "          google.colab.kernel.accessAllowed ? 'block' : 'none';\n",
       "\n",
       "        async function convertToInteractive(key) {\n",
       "          const element = document.querySelector('#df-1911b5fb-912b-41f4-a910-3849a9303614');\n",
       "          const dataTable =\n",
       "            await google.colab.kernel.invokeFunction('convertToInteractive',\n",
       "                                                     [key], {});\n",
       "          if (!dataTable) return;\n",
       "\n",
       "          const docLinkHtml = 'Like what you see? Visit the ' +\n",
       "            '<a target=\"_blank\" href=https://colab.research.google.com/notebooks/data_table.ipynb>data table notebook</a>'\n",
       "            + ' to learn more about interactive tables.';\n",
       "          element.innerHTML = '';\n",
       "          dataTable['output_type'] = 'display_data';\n",
       "          await google.colab.output.renderOutput(dataTable, element);\n",
       "          const docLink = document.createElement('div');\n",
       "          docLink.innerHTML = docLinkHtml;\n",
       "          element.appendChild(docLink);\n",
       "        }\n",
       "      </script>\n",
       "    </div>\n",
       "  </div>\n",
       "  "
      ],
      "text/plain": [
       "              carat         depth         table         price             x  \\\n",
       "count  53940.000000  53940.000000  53940.000000  53940.000000  53940.000000   \n",
       "mean       0.797940     61.749405     57.457184   3932.799722      5.731157   \n",
       "std        0.474011      1.432621      2.234491   3989.439738      1.121761   \n",
       "min        0.200000     43.000000     43.000000    326.000000      0.000000   \n",
       "25%        0.400000     61.000000     56.000000    950.000000      4.710000   \n",
       "50%        0.700000     61.800000     57.000000   2401.000000      5.700000   \n",
       "75%        1.040000     62.500000     59.000000   5324.250000      6.540000   \n",
       "max        5.010000     79.000000     95.000000  18823.000000     10.740000   \n",
       "\n",
       "                  y             z  \n",
       "count  53940.000000  53940.000000  \n",
       "mean       5.734526      3.538734  \n",
       "std        1.142135      0.705699  \n",
       "min        0.000000      0.000000  \n",
       "25%        4.720000      2.910000  \n",
       "50%        5.710000      3.530000  \n",
       "75%        6.540000      4.040000  \n",
       "max       58.900000     31.800000  "
      ]
     },
     "execution_count": 14,
     "metadata": {},
     "output_type": "execute_result"
    }
   ],
   "source": [
    "data.describe()"
   ]
  },
  {
   "cell_type": "markdown",
   "metadata": {
    "id": "Zk2dAM5PyFrn"
   },
   "source": [
    "#### Correlation Matrix:\n",
    "A correlation matrix is useful for showing the correlation coefficients (or degree of relationship) between variables. The correlation matrix is symmetric, as the correlation between a variable V1 and variable V2 is the same as the correlation between V2 and variable V1. Also, the values on the diagonal are always equal to one, because a variable is always perfectly correlated with itself."
   ]
  },
  {
   "cell_type": "code",
   "execution_count": null,
   "metadata": {
    "id": "3wR1WONgyDu_"
   },
   "outputs": [],
   "source": [
    "#correlation matrix\n",
    "corrmat= label_data.corr()\n",
    "f, ax = plt.subplots(figsize=(12,12))\n",
    "sns.heatmap(corrmat,annot=True);"
   ]
  },
  {
   "cell_type": "markdown",
   "metadata": {
    "id": "JcAVhcvxyKN1"
   },
   "source": [
    "#### Points to notice:\n",
    "* \"x\", \"y\" and \"z\" show a high correlation to the target column.\n",
    "* \"depth\", \"cut\" and \"table\" show low correlation. We could consider dropping them but let's rather keep them."
   ]
  },
  {
   "cell_type": "markdown",
   "metadata": {
    "id": "jO3M1I0zykfH"
   },
   "source": [
    "### Model Building\n",
    "#### Steps involved in Model Building\n",
    "\n",
    "* Setting up features and target\n",
    "* Build a pipeline of standard scalar and model for five different regressors.\n",
    "* Fit all the models on training data\n",
    "* Get mean of cross-validation on the training set for all the models for negative root mean square error\n",
    "* Pick the model with the best cross-validation score\n",
    "* Fit the best model on the training set and predict on the test set"
   ]
  },
  {
   "cell_type": "markdown",
   "metadata": {
    "id": "KzGujRX6ynMB"
   },
   "source": [
    "### Train-Test Split Evaluation \n",
    "The procedure involves taking a dataset and dividing it into two subsets. The first subset is used to fit the model and is referred to as the training dataset. The second subset is not used to train the model; instead, the input element of the dataset is provided to the model, then predictions are made and compared to the expected values. This second dataset is referred to as the test dataset.\n",
    "\n",
    "For this section, we will re-use some datasets that have been already created to illustrate dataset versioning. You can create new datasets with ot without a connection by using **vectice.add_dataset()** or **experiment.vectice.add_dataset()** "
   ]
  },
  {
   "cell_type": "code",
   "execution_count": null,
   "metadata": {},
   "outputs": [],
   "source": [
    "# We create our first experiment for splitting the data and specify the workspace and the project we will be working on\n",
    "# Each experiment only contains one job. Each invokation of the job is called a run.\n",
    "# autocode = True enables you to track your git changes for your code automatically every time you execute a run (see below).\n",
    "experiment = Experiment(job=\"Split Diamonds Data\", project=project_id, job_type=JobType.PREPARATION, auto_code=True)"
   ]
  },
  {
   "cell_type": "code",
   "execution_count": 12,
   "metadata": {
    "id": "BDDmkPYWylKy"
   },
   "outputs": [],
   "source": [
    "# The Vectice library automatically detects if there have been changes to the dataset you are using.\n",
    "# If it detects changes, it will generate a new version of your dataset automatically. \n",
    "experiment.add_dataset_version(dataset=\"Diamonds Cleaned\", version_strategy=VersionStrategy.AUTOMATIC)\n",
    "\n",
    "\n",
    "# If you are using your local environment with GIT installed or JupyterLab etc... the code\n",
    "# tracking is automated.\n",
    "## You can also add code versions manually by using: experiment.add_code_version_uri(git_uri) \n",
    "\n",
    "# All the artifacts created before starting the experiment run will be attached as inputs of the run\n",
    "# The created dataset version and code version will be automatically attached as inputs of the run\n",
    "experiment.start(auto_code=True, check_remote_repository=False)\n",
    "\n",
    "train, test = train_test_split(label_data, test_size=0.2, random_state = 42)\n",
    "\n",
    "# Assigning the featurs as X and trarget as y\n",
    "X = label_data.drop([\"price\"], axis =1)\n",
    "y = label_data[\"price\"]\n",
    "X_train, X_test, y_train, y_test = train_test_split(X, y,test_size=0.25, random_state=42)\n",
    "\n",
    "# Data preparation\n",
    "def prepare_data():\n",
    "    \"\"\"Read and prepare data.\"\"\"\n",
    "    df = pd.read_csv(r\"gs://vectice-examples-samples/Diamonds/diamonds_cleaned.csv\")\n",
    "\n",
    "    X = df.drop([\"price\"], axis =1)\n",
    "    y = df[\"price\"]\n",
    "    X_train, X_test, y_train, y_test = train_test_split(X, y,test_size=0.25, random_state=42)\n",
    "\n",
    "    return X_train, X_test, y_train, y_test\n",
    "\n",
    "experiment.add_dataset_version(dataset=\"Diamonds Train Test Split\", version_strategy=VersionStrategy.AUTOMATIC)\n",
    "\n",
    "# When completing an experiment all the artifact that have been added after the `experiment.start()` will be considered as outputs by default.\n",
    "experiment.complete()"
   ]
  },
  {
   "cell_type": "markdown",
   "metadata": {
    "id": "0NqzDN41y0Ff"
   },
   "source": [
    "### Pipelines\n",
    "In most machine learning projects the data that you have to work with is unlikely to be in the ideal format for producing the best performing model. There are quite often a number of transformational steps such as encoding categorical variables, feature scaling and normalisation that need to be performed. Scikit-learn has built in functions for most of these commonly used transformations in it’s preprocessing package.\n",
    "However, in a typical machine learning workflow you will need to apply all these transformations at least twice. Once when training the model and again on any new data you want to predict on. Of course you could write a function to apply them and reuse that but you would still need to run this first and then call the model separately. Scikit-learn pipelines are a tool to simplify this process. They have several key benefits:\n",
    "* They make your workflow much easier to read and understand.\n",
    "* They enforce the implementation and order of steps in your project.\n",
    "* These in turn make your work much more reproducible."
   ]
  },
  {
   "cell_type": "markdown",
   "metadata": {
    "id": "me1SdV6My47Y"
   },
   "source": [
    "### StandardScaler Example:\n",
    "A StandardScaler substarcts the mean and then divides by the standard deviation, this shifts the distribution to have a mean of 0 and a standard deviation of one."
   ]
  },
  {
   "cell_type": "code",
   "execution_count": null,
   "metadata": {
    "colab": {
     "base_uri": "https://localhost:8080/"
    },
    "id": "hlKQwjaMy4On",
    "outputId": "27665303-420f-42c5-fbd3-b8309c981973"
   },
   "outputs": [
    {
     "name": "stdout",
     "output_type": "stream",
     "text": [
      "Before: [ 1. -1.  2.] \n",
      "After: [ 0.         -1.22474487  1.33630621]\n"
     ]
    }
   ],
   "source": [
    "example = np.array([[ 1., -1.,  2.],\n",
    "                    [ 2.,  0.,  0.],\n",
    "                    [ 0.,  1., -1.]])\n",
    "scaler = StandardScaler().fit(example)\n",
    "X_scaled = scaler.transform(example)\n",
    "print(f\"Before: {example[0]} \\nAfter: {X_scaled[0]}\")"
   ]
  },
  {
   "cell_type": "markdown",
   "metadata": {
    "id": "Xr2c54gvy-4k"
   },
   "source": [
    "### Cross Validation:\n",
    "\n",
    "Cross validation follows the following logic. A test set should still be held out for final evaluation, but the validation set is no longer needed when doing CV. In the basic approach, called k-fold CV, the training set is split into k smaller sets (other approaches are described below, but generally follow the same principles). The following procedure is followed for each of the k “folds”:\n",
    "\n",
    "- A model is trained using of the folds as training data;\n",
    "\n",
    "- the resulting model is validated on the remaining part of the data (i.e., it is used as a test set to compute a performance measure such as accuracy).\n",
    "\n",
    "The performance measure reported by k-fold cross-validation is then the average of the values computed in the loop. This approach can be computationally expensive, but does not waste too much data (as is the case when fixing an arbitrary validation set), which is a major advantage in problems such as inverse inference where the number of samples is very small.\n",
    "\n",
    "![Image](https://scikit-learn.org/stable/_images/grid_search_cross_validation.png)"
   ]
  },
  {
   "cell_type": "markdown",
   "metadata": {
    "id": "Hxu31e5MzB3p"
   },
   "source": [
    "### Models:\n",
    "\n",
    "1. LinearRegression <a href=\"https://ml-cheatsheet.readthedocs.io/en/latest/linear_regression.html\" target=\"_blank\">more info</a>.\n",
    "2. DecisionTreeRegressor <a href=\"https://ml-cheatsheet.readthedocs.io/en/latest/classification_algos.html#decision-trees\" target=\"_blank\">more info</a>.\n",
    "3. RandomForestRegressor <a href=\"https://www.geeksforgeeks.org/random-forest-regression-in-python/\" target=\"_blank\">more info</a>.\n",
    "4. KNeighborsRegressor <a href=\"https://ml-cheatsheet.readthedocs.io/en/latest/classification_algos.html#k-nearest-neighbor\" target=\"_blank\">more info</a>.\n",
    "5. XGBRegressor <a href=\"https://machinelearningmastery.com/xgboost-for-regression/\" target=\"_blank\">more info</a>."
   ]
  },
  {
   "cell_type": "code",
   "execution_count": null,
   "metadata": {},
   "outputs": [],
   "source": [
    "from mlflow.tracking import MlflowClient\n",
    "tracking_uri = \"Enter your MLflow tracking URI\"\n",
    "mlflow.set_tracking_uri(tracking_uri)\n",
    "# Initialise Experiment with MLflow \n",
    "experiment = Experiment(job=\"MLflow-Diamond-Models\", project=project_id, lib=MlflowClient(), job_type=JobType.TRAINING, auto_code=True)"
   ]
  },
  {
   "cell_type": "code",
   "execution_count": null,
   "metadata": {
    "colab": {
     "base_uri": "https://localhost:8080/"
    },
    "id": "FkQ2WUpZy7z3",
    "outputId": "e3946286-8ec9-4e4b-ecae-0c91a5d5170b"
   },
   "outputs": [],
   "source": [
    "import warnings\n",
    "warnings.filterwarnings(\"ignore\")\n",
    "logging.basicConfig(level=logging.INFO)\n",
    "\"\"\"Vectice MLflow adapter fluent usage in Python ``with`` syntax.\"\"\"\n",
    "X_train, X_test, y_train, y_test = prepare_data()\n",
    "\n",
    "mlflow.autolog(silent=True)\n",
    "\n",
    "# Building pipelins of standard scaler and model for regressors.\n",
    "pipeline_lr=Pipeline([(\"scalar1\",StandardScaler()),\n",
    "                 (\"Diamonds_Regressor\",LinearRegression())])\n",
    "\n",
    "pipeline_dt=Pipeline([(\"scalar2\",StandardScaler()),\n",
    "                    (\"Diamonds_Regressor\",DecisionTreeRegressor())])\n",
    "\n",
    "pipeline_rf=Pipeline([(\"scalar3\",StandardScaler()),\n",
    "                    (\"Diamonds_Regressor\",RandomForestRegressor())])\n",
    "\n",
    "\n",
    "pipeline_kn=Pipeline([(\"scalar4\",StandardScaler()),\n",
    "                    (\"Diamonds_Regressor\",KNeighborsRegressor())])\n",
    "\n",
    "\n",
    "pipeline_xgb=Pipeline([(\"scalar5\",StandardScaler()),\n",
    "                    (\"Diamonds_Regressor\",XGBRegressor())])\n",
    "\n",
    "# Pipelines list to iterate over\n",
    "pipelines = [pipeline_lr, pipeline_dt, pipeline_rf, pipeline_kn, pipeline_xgb]\n",
    "\n",
    "for pipe in pipelines:\n",
    "    # Expermient name for each pipeline \n",
    "    MLFLOW_EXPERIMENT_NAME = \"MLflow-Diamond-Models\"\n",
    "    mlflow.set_experiment(MLFLOW_EXPERIMENT_NAME)\n",
    "    algorithm = pipe.steps[1][1]\n",
    "    \n",
    "    # Fit each model \n",
    "    pipe.fit(X_train, y_train)\n",
    "    ## The \"with\" completes the experiment run automatically\n",
    "    with experiment.start():\n",
    "        # Add Dataset Version as an Input for each run.\n",
    "        experiment.add_dataset_version(dataset=\"Diamonds Train Test Split\", artifact_type=JobArtifactType.INPUT)\n",
    "        cv_score = cross_val_score(pipe, X_train, y_train,scoring=\"neg_root_mean_squared_error\", cv=10, n_jobs=-1)\n",
    "        mlflow.log_param('AlgorithmName', algorithm.__class__.__name__)\n",
    "        mlflow.log_params(algorithm.get_params())\n",
    "        mlflow.log_param('Scaler', 'StandardScaler')\n",
    "        mlflow.log_metric(\"Cross Validation\", float(cv_score.mean()))\n",
    "        print(f\"{MLFLOW_EXPERIMENT_NAME}: {cv_score.mean()}\")\n",
    "\n",
    "mlflow.end_run()"
   ]
  },
  {
   "cell_type": "markdown",
   "metadata": {
    "id": "ITpRIKZnV0Fb"
   },
   "source": [
    "we can have the list of models in the project by using **experiment.list_models()**"
   ]
  },
  {
   "cell_type": "code",
   "execution_count": null,
   "metadata": {
    "colab": {
     "base_uri": "https://localhost:8080/"
    },
    "id": "qQOXvmwjV0Fb",
    "outputId": "252145da-3b9d-44d7-ec52-cbf4ad927160"
   },
   "outputs": [],
   "source": [
    "experiment.list_models()"
   ]
  },
  {
   "cell_type": "markdown",
   "metadata": {
    "id": "CDnQ3_dKV0Fb"
   },
   "source": [
    "We can update an existing model by using **experiment.update_model()**"
   ]
  },
  {
   "cell_type": "code",
   "execution_count": null,
   "metadata": {
    "colab": {
     "base_uri": "https://localhost:8080/"
    },
    "id": "UkA_EtK-V0Fc",
    "outputId": "0b4a577a-0f5c-41f0-f1a6-e0ef39dfb765"
   },
   "outputs": [],
   "source": [
    "experiment.update_model(\"MLflow-Diamond-Models\", type=ModelType.REGRESSION)"
   ]
  },
  {
   "cell_type": "markdown",
   "metadata": {
    "id": "7HMKpZxAzNhl"
   },
   "source": [
    "#### Testing the Model with the best score on the test set\n",
    "In the above scores, Random Forest appears to be the model with the best scoring on negative root mean square error. Let's test this model on a test set and evaluate it with different parameters. But you might get different results."
   ]
  },
  {
   "cell_type": "code",
   "execution_count": 21,
   "metadata": {
    "id": "ZcwMnsWhzE2J"
   },
   "outputs": [],
   "source": [
    "# Model prediction on test data\n",
    "pred = pipeline_rf.predict(X_test)"
   ]
  },
  {
   "cell_type": "code",
   "execution_count": 22,
   "metadata": {
    "colab": {
     "base_uri": "https://localhost:8080/"
    },
    "id": "Xjzp8oIAz666",
    "outputId": "b83b9786-141a-4a45-bcbb-9eff03de844d"
   },
   "outputs": [
    {
     "name": "stdout",
     "output_type": "stream",
     "text": [
      "R^2: 0.9801545400964425\n",
      "Adjusted R^2: 0.9801412773698418\n",
      "MAE: 264.81263809241136\n",
      "MSE: 301048.2996842575\n",
      "RMSE: 548.6786852833427\n"
     ]
    }
   ],
   "source": [
    "# Model Evaluation\n",
    "print(\"R^2:\",metrics.r2_score(y_test, pred))\n",
    "print(\"Adjusted R^2:\",1 - (1-metrics.r2_score(y_test, pred))*(len(y_test)-1)/(len(y_test)-X_test.shape[1]-1))\n",
    "print(\"MAE:\",metrics.mean_absolute_error(y_test, pred))\n",
    "print(\"MSE:\",metrics.mean_squared_error(y_test, pred))\n",
    "print(\"RMSE:\",np.sqrt(metrics.mean_squared_error(y_test, pred)))"
   ]
  },
  {
   "cell_type": "markdown",
   "metadata": {
    "id": "Md9YwqEGz_SZ"
   },
   "source": [
    "#### End\n",
    "\n",
    "Congratulations and as Jake Peralta would say:\n",
    "\n",
    "![Image](https://i.imgur.com/I1wR7mE.gif?noredirect)"
   ]
  }
 ],
 "metadata": {
  "colab": {
   "collapsed_sections": [],
   "name": "Diamonds-Price-Predictions.ipynb",
   "provenance": []
  },
  "interpreter": {
   "hash": "5970002f2814f9b5c80d9d4fc10f2bf2fda215a6ce99a901ef026501edeb9abe"
  },
  "kernelspec": {
   "display_name": "Python 3",
   "language": "python",
   "name": "python3"
  },
  "language_info": {
   "codemirror_mode": {
    "name": "ipython",
    "version": 3
   },
   "file_extension": ".py",
   "mimetype": "text/x-python",
   "name": "python",
   "nbconvert_exporter": "python",
   "pygments_lexer": "ipython3",
   "version": "3.8.5"
  }
 },
 "nbformat": 4,
 "nbformat_minor": 0
}
