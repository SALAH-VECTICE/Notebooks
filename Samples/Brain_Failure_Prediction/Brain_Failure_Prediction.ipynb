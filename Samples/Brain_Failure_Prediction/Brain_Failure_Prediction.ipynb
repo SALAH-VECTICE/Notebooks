{
  "cells": [
    {
      "cell_type": "markdown",
      "metadata": {
        "id": "view-in-github"
      },
      "source": [
        "<a href=\"https://colab.research.google.com/github/vectice/vectice-examples/blob/master/Samples/Brain_Failure_Prediction/Brain_Failure_Prediction.ipynb\" target=\"_parent\"><img src=\"https://colab.research.google.com/assets/colab-badge.svg\" alt=\"Open In Colab\"/></a>"
      ]
    },
    {
      "cell_type": "markdown",
      "metadata": {
        "id": "v2PpMSP4k4fi"
      },
      "source": [
        "The objective of this notebook is to explore the Vectice integration to BigQuery  and build models to better estimate the probability of suffering a stroke based on many variables related to various Healthy and Unhealthy habits."
      ]
    },
    {
      "cell_type": "markdown",
      "metadata": {
        "id": "p7mpyQgXk4fi"
      },
      "source": [
        "## Installing vectice and the other required packages"
      ]
    },
    {
      "cell_type": "markdown",
      "metadata": {
        "id": "XU0jDGJek4fi"
      },
      "source": [
        "In order to keep the Vectice library lite, we install just the primary dependencies and let the user install the the other dependencies when needed. Here, we install github because our notebook is on Github and we are going to need the github package to be able to point to the notebook from the Vectice UI. You have to add the other dependencies (gitlab, bitbucket) if you're going to use them (!pip install -q \"vectice[github, gitlab, bitbucket]\")\n"
      ]
    },
    {
      "cell_type": "code",
      "execution_count": null,
      "metadata": {
        "colab": {
          "base_uri": "https://localhost:8080/"
        },
        "id": "DHzKxsy5k4fj",
        "outputId": "026a985f-da07-48ad-819b-d15d1e8e8745"
      },
      "outputs": [],
      "source": [
        "!pip install --q numpy pandas sklearn xgboost  imblearn\n",
        "!pip install --q vectice[github]\n",
        "!pip install --q fsspec\n",
        "!pip install --q gcsfs "
      ]
    },
    {
      "cell_type": "code",
      "execution_count": null,
      "metadata": {
        "id": "Sjb3a0FDk4fk"
      },
      "outputs": [],
      "source": [
        "!pip show vectice"
      ]
    },
    {
      "cell_type": "code",
      "execution_count": null,
      "metadata": {
        "id": "n6uE_61fnbwu"
      },
      "outputs": [],
      "source": [
        "import numpy as np # linear algebra\n",
        "import pandas as pd # data processing, CSV file I/O (e.g. pd.read_csv)\n",
        "import matplotlib.pyplot as plt\n",
        "%matplotlib inline\n",
        "import seaborn as sns #visualization of the variables\n",
        "import os\n",
        "import imblearn\n",
        "from scipy.stats import chi2_contingency, ttest_ind\n",
        "\n",
        "from xgboost import XGBClassifier\n",
        "from sklearn import preprocessing\n",
        "from sklearn.metrics import confusion_matrix\n",
        "from sklearn.metrics import accuracy_score\n",
        "from sklearn.metrics import f1_score\n",
        "import warnings\n",
        "warnings.filterwarnings('ignore')\n",
        "\n",
        "from sklearn.metrics import confusion_matrix, classification_report, accuracy_score, f1_score\n",
        "import logging\n",
        "from vectice import Experiment\n",
        "from vectice.api.json import JobType\n",
        "from vectice.api.json import ModelType\n",
        "from vectice.api.json import ModelVersionStatus"
      ]
    },
    {
      "cell_type": "markdown",
      "metadata": {
        "id": "PowVm8KJBO4a"
      },
      "source": [
        "# Stroke Prediction Research:\n",
        "The main question is that we want to understand how the predictor variables can help estimate the probability of suffering a stroke.\n",
        "\n",
        "## Is there other than age relationship?\n",
        "Does having a heart disease or high BMI and glucose level related to have a higher change of suffering a stroke?\n",
        "Plans:\n",
        "We should visualize a distribution of the target variable, which is the stroke, then a distribution of variables in respect to the target variable.\n",
        "\n",
        "Split the model into categorial features and objects. - Done. Do Hot encoding?\n",
        "Call the distributions on an object based way e.g. fig, ax.\n",
        "Continue building on the models. Next XGBoost.\n",
        "Predict, predict, predict.\n",
        "Draw final conclusions.\n",
        "Add an index to notebook.\n",
        "Add more distribution visualizations.\n",
        "Models:\n",
        "Logistic regression, random forest and xgboost.\n",
        "\n",
        "## Exploratory Data Analysis (EDA)\n",
        "It's nothing but a data exploration technique to understand the various aspects of the data. The idea is to check for relationship between variables and to check their distributions.\n",
        "\n",
        "It follows a systematic set of steps to explore the data in the most efficient way possible\n",
        "\n",
        "## Steps:\n",
        "\n",
        "- Understand the Data\n",
        "\n",
        "- Clean up the Data\n",
        "\n",
        "- Analysis of relationships between variables"
      ]
    },
    {
      "cell_type": "markdown",
      "metadata": {
        "id": "MEuZWcFYw1U-"
      },
      "source": [
        "## Credentials Setup:\n",
        "The Vectice API Endpoint and Token are needed to connect to the Vectice UI. Furthermore, a Google Cloud Storage credential JSON is needed to connect to the Google Cloud Storage to retrieve and upload the datasets. A project id links the runs to the relevant project and it's needed to create runs."
      ]
    },
    {
      "cell_type": "code",
      "execution_count": null,
      "metadata": {
        "colab": {
          "base_uri": "https://localhost:8080/",
          "height": 73,
          "resources": {
            "http://localhost:8080/nbextensions/google.colab/files.js": {
              "data": "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",
              "headers": [
                [
                  "content-type",
                  "application/javascript"
                ]
              ],
              "ok": true,
              "status": 200,
              "status_text": ""
            }
          }
        },
        "id": "W6G26snYk4fn",
        "outputId": "59260716-6c82-495e-9747-21c945d35d53"
      },
      "outputs": [
        {
          "data": {
            "text/html": [
              "\n",
              "     <input type=\"file\" id=\"files-1959e645-277f-46e3-9032-a355db2adfd5\" name=\"files[]\" multiple disabled\n",
              "        style=\"border:none\" />\n",
              "     <output id=\"result-1959e645-277f-46e3-9032-a355db2adfd5\">\n",
              "      Upload widget is only available when the cell has been executed in the\n",
              "      current browser session. Please rerun this cell to enable.\n",
              "      </output>\n",
              "      <script src=\"/nbextensions/google.colab/files.js\"></script> "
            ],
            "text/plain": [
              "<IPython.core.display.HTML object>"
            ]
          },
          "metadata": {},
          "output_type": "display_data"
        },
        {
          "name": "stdout",
          "output_type": "stream",
          "text": [
            "Saving readerKey.json to readerKey.json\n"
          ]
        }
      ],
      "source": [
        "# Upload your GCS Storage json for access to GCS\n",
        "from google.colab import files\n",
        "uploaded = files.upload()"
      ]
    },
    {
      "cell_type": "code",
      "execution_count": null,
      "metadata": {
        "id": "tCTeHTUXCZA_"
      },
      "outputs": [],
      "source": [
        "# The GCS permissions scope\n",
        "SCOPES = ['https://www.googleapis.com/auth/bigquery.readonly']\n",
        "os.environ['GOOGLE_APPLICATION_CREDENTIALS'] = \"readerKey.json\"  \n",
        "\n",
        "# Specify the API endpoint for Vectice.\n",
        "# You can specify your API endpoint here in the notebook, but we recommand you to add it to a .env file\n",
        "os.environ['VECTICE_API_ENDPOINT']= \"app.vectice.com\"\n",
        "\n",
        "# To use the Vectice Python library, you first need to authenticate your account using an API key.\n",
        "# You can generate an API key from the Vectice UI, by going to the \"My API Keys\" section under your profile's picture\n",
        "# You can specify your API Token here in the notebook, but we recommand you to add it to a .env file\n",
        "os.environ['VECTICE_API_TOKEN'] = \"Your API Token\"\n",
        "\n",
        "# Add you project id. The project id can be found in the project settings page in the Vectice UI\n",
        "PROJECT_ID = ID"
      ]
    },
    {
      "cell_type": "code",
      "execution_count": null,
      "metadata": {
        "id": "AYPFPs4YuNsd"
      },
      "outputs": [],
      "source": [
        "from google.cloud import bigquery\n",
        "\n",
        "# Big Query Project ID\n",
        "bq_project_id = \"nodal-unity-277700\""
      ]
    },
    {
      "cell_type": "markdown",
      "metadata": {
        "id": "UhIW0qGMk4fo"
      },
      "source": [
        "## Getting the data from BigQuery"
      ]
    },
    {
      "cell_type": "code",
      "execution_count": null,
      "metadata": {
        "id": "zn11yUa7uoYI"
      },
      "outputs": [],
      "source": [
        "# Client connection to Big Query\n",
        "client = bigquery.Client(project=bq_project_id)\n",
        "\n",
        "df = client.query('''SELECT * FROM `nodal-unity-277700.healthcareData.StrokeData`''')\n",
        "\n",
        "data = df.to_dataframe()\n",
        "data.head(5)"
      ]
    },
    {
      "cell_type": "code",
      "execution_count": null,
      "metadata": {
        "colab": {
          "base_uri": "https://localhost:8080/",
          "height": 206
        },
        "id": "0RW2bhejoLtN",
        "outputId": "6a7f6d68-003d-45fb-ef2f-106a495ea6d6"
      },
      "outputs": [
        {
          "data": {
            "text/html": [
              "<div>\n",
              "<style scoped>\n",
              "    .dataframe tbody tr th:only-of-type {\n",
              "        vertical-align: middle;\n",
              "    }\n",
              "\n",
              "    .dataframe tbody tr th {\n",
              "        vertical-align: top;\n",
              "    }\n",
              "\n",
              "    .dataframe thead th {\n",
              "        text-align: right;\n",
              "    }\n",
              "</style>\n",
              "<table border=\"1\" class=\"dataframe\">\n",
              "  <thead>\n",
              "    <tr style=\"text-align: right;\">\n",
              "      <th></th>\n",
              "      <th>id</th>\n",
              "      <th>gender</th>\n",
              "      <th>age</th>\n",
              "      <th>hypertension</th>\n",
              "      <th>heart_disease</th>\n",
              "      <th>ever_married</th>\n",
              "      <th>work_type</th>\n",
              "      <th>Residence_type</th>\n",
              "      <th>avg_glucose_level</th>\n",
              "      <th>bmi</th>\n",
              "      <th>smoking_status</th>\n",
              "      <th>stroke</th>\n",
              "    </tr>\n",
              "  </thead>\n",
              "  <tbody>\n",
              "    <tr>\n",
              "      <th>0</th>\n",
              "      <td>64128</td>\n",
              "      <td>Male</td>\n",
              "      <td>10.0</td>\n",
              "      <td>0</td>\n",
              "      <td>0</td>\n",
              "      <td>False</td>\n",
              "      <td>children</td>\n",
              "      <td>Urban</td>\n",
              "      <td>63.08</td>\n",
              "      <td>20.5</td>\n",
              "      <td>smokes</td>\n",
              "      <td>0</td>\n",
              "    </tr>\n",
              "    <tr>\n",
              "      <th>1</th>\n",
              "      <td>4833</td>\n",
              "      <td>Female</td>\n",
              "      <td>12.0</td>\n",
              "      <td>0</td>\n",
              "      <td>0</td>\n",
              "      <td>False</td>\n",
              "      <td>children</td>\n",
              "      <td>Rural</td>\n",
              "      <td>207.45</td>\n",
              "      <td>25.4</td>\n",
              "      <td>smokes</td>\n",
              "      <td>0</td>\n",
              "    </tr>\n",
              "    <tr>\n",
              "      <th>2</th>\n",
              "      <td>42821</td>\n",
              "      <td>Female</td>\n",
              "      <td>13.0</td>\n",
              "      <td>0</td>\n",
              "      <td>0</td>\n",
              "      <td>False</td>\n",
              "      <td>Private</td>\n",
              "      <td>Rural</td>\n",
              "      <td>60.69</td>\n",
              "      <td>24</td>\n",
              "      <td>smokes</td>\n",
              "      <td>0</td>\n",
              "    </tr>\n",
              "    <tr>\n",
              "      <th>3</th>\n",
              "      <td>37395</td>\n",
              "      <td>Female</td>\n",
              "      <td>16.0</td>\n",
              "      <td>0</td>\n",
              "      <td>0</td>\n",
              "      <td>False</td>\n",
              "      <td>Private</td>\n",
              "      <td>Urban</td>\n",
              "      <td>63.63</td>\n",
              "      <td>20</td>\n",
              "      <td>smokes</td>\n",
              "      <td>0</td>\n",
              "    </tr>\n",
              "    <tr>\n",
              "      <th>4</th>\n",
              "      <td>63312</td>\n",
              "      <td>Male</td>\n",
              "      <td>16.0</td>\n",
              "      <td>0</td>\n",
              "      <td>0</td>\n",
              "      <td>False</td>\n",
              "      <td>Private</td>\n",
              "      <td>Urban</td>\n",
              "      <td>80.55</td>\n",
              "      <td>23.5</td>\n",
              "      <td>smokes</td>\n",
              "      <td>0</td>\n",
              "    </tr>\n",
              "  </tbody>\n",
              "</table>\n",
              "</div>"
            ],
            "text/plain": [
              "      id  gender   age  hypertension  heart_disease  ever_married work_type  \\\n",
              "0  64128    Male  10.0             0              0         False  children   \n",
              "1   4833  Female  12.0             0              0         False  children   \n",
              "2  42821  Female  13.0             0              0         False   Private   \n",
              "3  37395  Female  16.0             0              0         False   Private   \n",
              "4  63312    Male  16.0             0              0         False   Private   \n",
              "\n",
              "  Residence_type  avg_glucose_level   bmi smoking_status  stroke  \n",
              "0          Urban              63.08  20.5         smokes       0  \n",
              "1          Rural             207.45  25.4         smokes       0  \n",
              "2          Rural              60.69    24         smokes       0  \n",
              "3          Urban              63.63    20         smokes       0  \n",
              "4          Urban              80.55  23.5         smokes       0  "
            ]
          },
          "execution_count": 15,
          "metadata": {},
          "output_type": "execute_result"
        }
      ],
      "source": [
        "data.head()"
      ]
    },
    {
      "cell_type": "code",
      "execution_count": null,
      "metadata": {
        "id": "5qaqajvOGuJx"
      },
      "outputs": [],
      "source": [
        "data['bmi'] = pd.to_numeric(data['bmi'], errors='coerce')"
      ]
    },
    {
      "cell_type": "code",
      "execution_count": null,
      "metadata": {
        "colab": {
          "base_uri": "https://localhost:8080/"
        },
        "id": "vfc3vepnoVhU",
        "outputId": "a1b73d4b-6962-468b-b2eb-b9b5906a1622"
      },
      "outputs": [
        {
          "data": {
            "text/plain": [
              "['gender', 'ever_married', 'work_type', 'Residence_type', 'smoking_status']"
            ]
          },
          "execution_count": 17,
          "metadata": {},
          "output_type": "execute_result"
        }
      ],
      "source": [
        "#Categorical info\n",
        "cat_feat = [i for i in data.columns if data[i].dtype == 'object' or data[i].dtype == 'bool']\n",
        "cat_feat"
      ]
    },
    {
      "cell_type": "code",
      "execution_count": null,
      "metadata": {
        "id": "VElY3eqZqkAL"
      },
      "outputs": [],
      "source": [
        "#remove categorial data from our set to create the model. Can be added encoded later in the process.\n",
        "num_feat = data.drop(cat_feat, axis = 1)"
      ]
    },
    {
      "cell_type": "code",
      "execution_count": null,
      "metadata": {
        "colab": {
          "base_uri": "https://localhost:8080/"
        },
        "id": "iCPWq4Y9qrXb",
        "outputId": "65e2f28c-e607-4474-d599-9881c289c1c6"
      },
      "outputs": [
        {
          "data": {
            "text/plain": [
              "(5110, 12)"
            ]
          },
          "execution_count": 19,
          "metadata": {},
          "output_type": "execute_result"
        }
      ],
      "source": [
        "data.shape"
      ]
    },
    {
      "cell_type": "code",
      "execution_count": null,
      "metadata": {
        "colab": {
          "base_uri": "https://localhost:8080/",
          "height": 300
        },
        "id": "4b6bijnQquGC",
        "outputId": "f60c7844-2dff-4235-8177-b0cd48fe8a1e"
      },
      "outputs": [
        {
          "data": {
            "text/html": [
              "<div>\n",
              "<style scoped>\n",
              "    .dataframe tbody tr th:only-of-type {\n",
              "        vertical-align: middle;\n",
              "    }\n",
              "\n",
              "    .dataframe tbody tr th {\n",
              "        vertical-align: top;\n",
              "    }\n",
              "\n",
              "    .dataframe thead th {\n",
              "        text-align: right;\n",
              "    }\n",
              "</style>\n",
              "<table border=\"1\" class=\"dataframe\">\n",
              "  <thead>\n",
              "    <tr style=\"text-align: right;\">\n",
              "      <th></th>\n",
              "      <th>id</th>\n",
              "      <th>age</th>\n",
              "      <th>hypertension</th>\n",
              "      <th>heart_disease</th>\n",
              "      <th>avg_glucose_level</th>\n",
              "      <th>bmi</th>\n",
              "      <th>stroke</th>\n",
              "    </tr>\n",
              "  </thead>\n",
              "  <tbody>\n",
              "    <tr>\n",
              "      <th>count</th>\n",
              "      <td>5110.000000</td>\n",
              "      <td>5110.000000</td>\n",
              "      <td>5110.000000</td>\n",
              "      <td>5110.000000</td>\n",
              "      <td>5110.000000</td>\n",
              "      <td>4909.000000</td>\n",
              "      <td>5110.000000</td>\n",
              "    </tr>\n",
              "    <tr>\n",
              "      <th>mean</th>\n",
              "      <td>36517.829354</td>\n",
              "      <td>43.226614</td>\n",
              "      <td>0.097456</td>\n",
              "      <td>0.054012</td>\n",
              "      <td>106.147677</td>\n",
              "      <td>28.893237</td>\n",
              "      <td>0.048728</td>\n",
              "    </tr>\n",
              "    <tr>\n",
              "      <th>std</th>\n",
              "      <td>21161.721625</td>\n",
              "      <td>22.612647</td>\n",
              "      <td>0.296607</td>\n",
              "      <td>0.226063</td>\n",
              "      <td>45.283560</td>\n",
              "      <td>7.854067</td>\n",
              "      <td>0.215320</td>\n",
              "    </tr>\n",
              "    <tr>\n",
              "      <th>min</th>\n",
              "      <td>67.000000</td>\n",
              "      <td>0.080000</td>\n",
              "      <td>0.000000</td>\n",
              "      <td>0.000000</td>\n",
              "      <td>55.120000</td>\n",
              "      <td>10.300000</td>\n",
              "      <td>0.000000</td>\n",
              "    </tr>\n",
              "    <tr>\n",
              "      <th>25%</th>\n",
              "      <td>17741.250000</td>\n",
              "      <td>25.000000</td>\n",
              "      <td>0.000000</td>\n",
              "      <td>0.000000</td>\n",
              "      <td>77.245000</td>\n",
              "      <td>23.500000</td>\n",
              "      <td>0.000000</td>\n",
              "    </tr>\n",
              "    <tr>\n",
              "      <th>50%</th>\n",
              "      <td>36932.000000</td>\n",
              "      <td>45.000000</td>\n",
              "      <td>0.000000</td>\n",
              "      <td>0.000000</td>\n",
              "      <td>91.885000</td>\n",
              "      <td>28.100000</td>\n",
              "      <td>0.000000</td>\n",
              "    </tr>\n",
              "    <tr>\n",
              "      <th>75%</th>\n",
              "      <td>54682.000000</td>\n",
              "      <td>61.000000</td>\n",
              "      <td>0.000000</td>\n",
              "      <td>0.000000</td>\n",
              "      <td>114.090000</td>\n",
              "      <td>33.100000</td>\n",
              "      <td>0.000000</td>\n",
              "    </tr>\n",
              "    <tr>\n",
              "      <th>max</th>\n",
              "      <td>72940.000000</td>\n",
              "      <td>82.000000</td>\n",
              "      <td>1.000000</td>\n",
              "      <td>1.000000</td>\n",
              "      <td>271.740000</td>\n",
              "      <td>97.600000</td>\n",
              "      <td>1.000000</td>\n",
              "    </tr>\n",
              "  </tbody>\n",
              "</table>\n",
              "</div>"
            ],
            "text/plain": [
              "                 id          age  hypertension  heart_disease  \\\n",
              "count   5110.000000  5110.000000   5110.000000    5110.000000   \n",
              "mean   36517.829354    43.226614      0.097456       0.054012   \n",
              "std    21161.721625    22.612647      0.296607       0.226063   \n",
              "min       67.000000     0.080000      0.000000       0.000000   \n",
              "25%    17741.250000    25.000000      0.000000       0.000000   \n",
              "50%    36932.000000    45.000000      0.000000       0.000000   \n",
              "75%    54682.000000    61.000000      0.000000       0.000000   \n",
              "max    72940.000000    82.000000      1.000000       1.000000   \n",
              "\n",
              "       avg_glucose_level          bmi       stroke  \n",
              "count        5110.000000  4909.000000  5110.000000  \n",
              "mean          106.147677    28.893237     0.048728  \n",
              "std            45.283560     7.854067     0.215320  \n",
              "min            55.120000    10.300000     0.000000  \n",
              "25%            77.245000    23.500000     0.000000  \n",
              "50%            91.885000    28.100000     0.000000  \n",
              "75%           114.090000    33.100000     0.000000  \n",
              "max           271.740000    97.600000     1.000000  "
            ]
          },
          "execution_count": 20,
          "metadata": {},
          "output_type": "execute_result"
        }
      ],
      "source": [
        "data.describe()"
      ]
    },
    {
      "cell_type": "code",
      "execution_count": null,
      "metadata": {
        "id": "mOIL2kgUqxSq"
      },
      "outputs": [],
      "source": [
        "# The ID column is useless for the analysis, so we drop it\n",
        "num_feat = num_feat.drop('id', axis = 1)"
      ]
    },
    {
      "cell_type": "code",
      "execution_count": null,
      "metadata": {
        "colab": {
          "base_uri": "https://localhost:8080/"
        },
        "id": "gOnn33nDq2g7",
        "outputId": "831af724-fb5d-4cb1-e763-f0c11490942b"
      },
      "outputs": [
        {
          "data": {
            "text/plain": [
              "age                    0\n",
              "hypertension           0\n",
              "heart_disease          0\n",
              "avg_glucose_level      0\n",
              "bmi                  201\n",
              "stroke                 0\n",
              "dtype: int64"
            ]
          },
          "execution_count": 22,
          "metadata": {},
          "output_type": "execute_result"
        }
      ],
      "source": [
        "# num_feat.groupby(num_feat['bmi'].isnull()).mean()\n",
        "num_feat.isna().sum()"
      ]
    },
    {
      "cell_type": "code",
      "execution_count": null,
      "metadata": {
        "colab": {
          "base_uri": "https://localhost:8080/",
          "height": 81
        },
        "id": "OBddL8dZq5tL",
        "outputId": "913ff2bf-596b-4d0f-e537-e1ffdd54fd6e"
      },
      "outputs": [
        {
          "data": {
            "text/html": [
              "<div>\n",
              "<style scoped>\n",
              "    .dataframe tbody tr th:only-of-type {\n",
              "        vertical-align: middle;\n",
              "    }\n",
              "\n",
              "    .dataframe tbody tr th {\n",
              "        vertical-align: top;\n",
              "    }\n",
              "\n",
              "    .dataframe thead th {\n",
              "        text-align: right;\n",
              "    }\n",
              "</style>\n",
              "<table border=\"1\" class=\"dataframe\">\n",
              "  <thead>\n",
              "    <tr style=\"text-align: right;\">\n",
              "      <th></th>\n",
              "      <th>age</th>\n",
              "      <th>hypertension</th>\n",
              "      <th>heart_disease</th>\n",
              "      <th>avg_glucose_level</th>\n",
              "      <th>bmi</th>\n",
              "      <th>stroke</th>\n",
              "    </tr>\n",
              "  </thead>\n",
              "  <tbody>\n",
              "    <tr>\n",
              "      <th>1331</th>\n",
              "      <td>17.0</td>\n",
              "      <td>1</td>\n",
              "      <td>0</td>\n",
              "      <td>61.67</td>\n",
              "      <td>97.6</td>\n",
              "      <td>0</td>\n",
              "    </tr>\n",
              "  </tbody>\n",
              "</table>\n",
              "</div>"
            ],
            "text/plain": [
              "       age  hypertension  heart_disease  avg_glucose_level   bmi  stroke\n",
              "1331  17.0             1              0              61.67  97.6       0"
            ]
          },
          "execution_count": 23,
          "metadata": {},
          "output_type": "execute_result"
        }
      ],
      "source": [
        "# 97.6 BMI? That is odd, but it is what the \"max\" value shows us. Let's find out how many occurrences there are\n",
        "num_feat[num_feat['bmi']==97.6]"
      ]
    },
    {
      "cell_type": "code",
      "execution_count": null,
      "metadata": {
        "colab": {
          "base_uri": "https://localhost:8080/",
          "height": 81
        },
        "id": "wk1EIBYmq80a",
        "outputId": "fb012e0f-d1a2-4bb5-b884-405507da2bfc"
      },
      "outputs": [
        {
          "data": {
            "text/html": [
              "<div>\n",
              "<style scoped>\n",
              "    .dataframe tbody tr th:only-of-type {\n",
              "        vertical-align: middle;\n",
              "    }\n",
              "\n",
              "    .dataframe tbody tr th {\n",
              "        vertical-align: top;\n",
              "    }\n",
              "\n",
              "    .dataframe thead th {\n",
              "        text-align: right;\n",
              "    }\n",
              "</style>\n",
              "<table border=\"1\" class=\"dataframe\">\n",
              "  <thead>\n",
              "    <tr style=\"text-align: right;\">\n",
              "      <th></th>\n",
              "      <th>id</th>\n",
              "      <th>gender</th>\n",
              "      <th>age</th>\n",
              "      <th>hypertension</th>\n",
              "      <th>heart_disease</th>\n",
              "      <th>ever_married</th>\n",
              "      <th>work_type</th>\n",
              "      <th>Residence_type</th>\n",
              "      <th>avg_glucose_level</th>\n",
              "      <th>bmi</th>\n",
              "      <th>smoking_status</th>\n",
              "      <th>stroke</th>\n",
              "    </tr>\n",
              "  </thead>\n",
              "  <tbody>\n",
              "    <tr>\n",
              "      <th>1331</th>\n",
              "      <td>56420</td>\n",
              "      <td>Male</td>\n",
              "      <td>17.0</td>\n",
              "      <td>1</td>\n",
              "      <td>0</td>\n",
              "      <td>False</td>\n",
              "      <td>Private</td>\n",
              "      <td>Rural</td>\n",
              "      <td>61.67</td>\n",
              "      <td>97.6</td>\n",
              "      <td>Unknown</td>\n",
              "      <td>0</td>\n",
              "    </tr>\n",
              "  </tbody>\n",
              "</table>\n",
              "</div>"
            ],
            "text/plain": [
              "         id gender   age  hypertension  heart_disease  ever_married work_type  \\\n",
              "1331  56420   Male  17.0             1              0         False   Private   \n",
              "\n",
              "     Residence_type  avg_glucose_level   bmi smoking_status  stroke  \n",
              "1331          Rural              61.67  97.6        Unknown       0  "
            ]
          },
          "execution_count": 24,
          "metadata": {},
          "output_type": "execute_result"
        }
      ],
      "source": [
        "data[data['bmi']==97.6]"
      ]
    },
    {
      "cell_type": "code",
      "execution_count": null,
      "metadata": {
        "id": "B2ly3RTXq_iJ"
      },
      "outputs": [],
      "source": [
        "num_feat = num_feat[num_feat['bmi']!=97.6]"
      ]
    },
    {
      "cell_type": "code",
      "execution_count": null,
      "metadata": {
        "colab": {
          "base_uri": "https://localhost:8080/",
          "height": 423
        },
        "id": "t7rLa6A2rECi",
        "outputId": "8d617f81-b2b8-4b7a-d4ec-ad3caa813a33"
      },
      "outputs": [
        {
          "data": {
            "text/html": [
              "<div>\n",
              "<style scoped>\n",
              "    .dataframe tbody tr th:only-of-type {\n",
              "        vertical-align: middle;\n",
              "    }\n",
              "\n",
              "    .dataframe tbody tr th {\n",
              "        vertical-align: top;\n",
              "    }\n",
              "\n",
              "    .dataframe thead th {\n",
              "        text-align: right;\n",
              "    }\n",
              "</style>\n",
              "<table border=\"1\" class=\"dataframe\">\n",
              "  <thead>\n",
              "    <tr style=\"text-align: right;\">\n",
              "      <th></th>\n",
              "      <th>age</th>\n",
              "      <th>hypertension</th>\n",
              "      <th>heart_disease</th>\n",
              "      <th>avg_glucose_level</th>\n",
              "      <th>bmi</th>\n",
              "      <th>stroke</th>\n",
              "    </tr>\n",
              "  </thead>\n",
              "  <tbody>\n",
              "    <tr>\n",
              "      <th>39</th>\n",
              "      <td>22.0</td>\n",
              "      <td>0</td>\n",
              "      <td>0</td>\n",
              "      <td>73.50</td>\n",
              "      <td>41.3</td>\n",
              "      <td>0</td>\n",
              "    </tr>\n",
              "    <tr>\n",
              "      <th>41</th>\n",
              "      <td>22.0</td>\n",
              "      <td>0</td>\n",
              "      <td>0</td>\n",
              "      <td>102.00</td>\n",
              "      <td>40.4</td>\n",
              "      <td>0</td>\n",
              "    </tr>\n",
              "    <tr>\n",
              "      <th>44</th>\n",
              "      <td>23.0</td>\n",
              "      <td>1</td>\n",
              "      <td>0</td>\n",
              "      <td>70.03</td>\n",
              "      <td>78.0</td>\n",
              "      <td>0</td>\n",
              "    </tr>\n",
              "    <tr>\n",
              "      <th>67</th>\n",
              "      <td>24.0</td>\n",
              "      <td>0</td>\n",
              "      <td>0</td>\n",
              "      <td>83.10</td>\n",
              "      <td>42.5</td>\n",
              "      <td>0</td>\n",
              "    </tr>\n",
              "    <tr>\n",
              "      <th>79</th>\n",
              "      <td>25.0</td>\n",
              "      <td>0</td>\n",
              "      <td>0</td>\n",
              "      <td>108.82</td>\n",
              "      <td>41.3</td>\n",
              "      <td>0</td>\n",
              "    </tr>\n",
              "    <tr>\n",
              "      <th>...</th>\n",
              "      <td>...</td>\n",
              "      <td>...</td>\n",
              "      <td>...</td>\n",
              "      <td>...</td>\n",
              "      <td>...</td>\n",
              "      <td>...</td>\n",
              "    </tr>\n",
              "    <tr>\n",
              "      <th>4950</th>\n",
              "      <td>66.0</td>\n",
              "      <td>1</td>\n",
              "      <td>0</td>\n",
              "      <td>205.01</td>\n",
              "      <td>52.7</td>\n",
              "      <td>0</td>\n",
              "    </tr>\n",
              "    <tr>\n",
              "      <th>4954</th>\n",
              "      <td>66.0</td>\n",
              "      <td>0</td>\n",
              "      <td>1</td>\n",
              "      <td>196.58</td>\n",
              "      <td>41.9</td>\n",
              "      <td>0</td>\n",
              "    </tr>\n",
              "    <tr>\n",
              "      <th>4961</th>\n",
              "      <td>70.0</td>\n",
              "      <td>1</td>\n",
              "      <td>0</td>\n",
              "      <td>242.52</td>\n",
              "      <td>45.5</td>\n",
              "      <td>1</td>\n",
              "    </tr>\n",
              "    <tr>\n",
              "      <th>4971</th>\n",
              "      <td>70.0</td>\n",
              "      <td>0</td>\n",
              "      <td>1</td>\n",
              "      <td>93.02</td>\n",
              "      <td>40.2</td>\n",
              "      <td>0</td>\n",
              "    </tr>\n",
              "    <tr>\n",
              "      <th>5067</th>\n",
              "      <td>71.0</td>\n",
              "      <td>0</td>\n",
              "      <td>0</td>\n",
              "      <td>96.04</td>\n",
              "      <td>45.1</td>\n",
              "      <td>0</td>\n",
              "    </tr>\n",
              "  </tbody>\n",
              "</table>\n",
              "<p>407 rows × 6 columns</p>\n",
              "</div>"
            ],
            "text/plain": [
              "       age  hypertension  heart_disease  avg_glucose_level   bmi  stroke\n",
              "39    22.0             0              0              73.50  41.3       0\n",
              "41    22.0             0              0             102.00  40.4       0\n",
              "44    23.0             1              0              70.03  78.0       0\n",
              "67    24.0             0              0              83.10  42.5       0\n",
              "79    25.0             0              0             108.82  41.3       0\n",
              "...    ...           ...            ...                ...   ...     ...\n",
              "4950  66.0             1              0             205.01  52.7       0\n",
              "4954  66.0             0              1             196.58  41.9       0\n",
              "4961  70.0             1              0             242.52  45.5       1\n",
              "4971  70.0             0              1              93.02  40.2       0\n",
              "5067  71.0             0              0              96.04  45.1       0\n",
              "\n",
              "[407 rows x 6 columns]"
            ]
          },
          "execution_count": 26,
          "metadata": {},
          "output_type": "execute_result"
        }
      ],
      "source": [
        "#Checking again\n",
        "num_feat[num_feat['bmi']>40] #sort_values('bmi')"
      ]
    },
    {
      "cell_type": "code",
      "execution_count": null,
      "metadata": {
        "colab": {
          "base_uri": "https://localhost:8080/",
          "height": 300
        },
        "id": "tTODsms0rGCr",
        "outputId": "26b0300d-39a3-4326-a76e-f5d621a494c9"
      },
      "outputs": [
        {
          "data": {
            "text/html": [
              "<div>\n",
              "<style scoped>\n",
              "    .dataframe tbody tr th:only-of-type {\n",
              "        vertical-align: middle;\n",
              "    }\n",
              "\n",
              "    .dataframe tbody tr th {\n",
              "        vertical-align: top;\n",
              "    }\n",
              "\n",
              "    .dataframe thead th {\n",
              "        text-align: right;\n",
              "    }\n",
              "</style>\n",
              "<table border=\"1\" class=\"dataframe\">\n",
              "  <thead>\n",
              "    <tr style=\"text-align: right;\">\n",
              "      <th></th>\n",
              "      <th>age</th>\n",
              "      <th>hypertension</th>\n",
              "      <th>heart_disease</th>\n",
              "      <th>avg_glucose_level</th>\n",
              "      <th>bmi</th>\n",
              "      <th>stroke</th>\n",
              "    </tr>\n",
              "  </thead>\n",
              "  <tbody>\n",
              "    <tr>\n",
              "      <th>count</th>\n",
              "      <td>5109.000000</td>\n",
              "      <td>5109.000000</td>\n",
              "      <td>5109.000000</td>\n",
              "      <td>5109.000000</td>\n",
              "      <td>4908.000000</td>\n",
              "      <td>5109.000000</td>\n",
              "    </tr>\n",
              "    <tr>\n",
              "      <th>mean</th>\n",
              "      <td>43.231748</td>\n",
              "      <td>0.097279</td>\n",
              "      <td>0.054022</td>\n",
              "      <td>106.156383</td>\n",
              "      <td>28.879238</td>\n",
              "      <td>0.048738</td>\n",
              "    </tr>\n",
              "    <tr>\n",
              "      <th>std</th>\n",
              "      <td>22.611882</td>\n",
              "      <td>0.296367</td>\n",
              "      <td>0.226084</td>\n",
              "      <td>45.283716</td>\n",
              "      <td>7.793377</td>\n",
              "      <td>0.215340</td>\n",
              "    </tr>\n",
              "    <tr>\n",
              "      <th>min</th>\n",
              "      <td>0.080000</td>\n",
              "      <td>0.000000</td>\n",
              "      <td>0.000000</td>\n",
              "      <td>55.120000</td>\n",
              "      <td>10.300000</td>\n",
              "      <td>0.000000</td>\n",
              "    </tr>\n",
              "    <tr>\n",
              "      <th>25%</th>\n",
              "      <td>25.000000</td>\n",
              "      <td>0.000000</td>\n",
              "      <td>0.000000</td>\n",
              "      <td>77.260000</td>\n",
              "      <td>23.500000</td>\n",
              "      <td>0.000000</td>\n",
              "    </tr>\n",
              "    <tr>\n",
              "      <th>50%</th>\n",
              "      <td>45.000000</td>\n",
              "      <td>0.000000</td>\n",
              "      <td>0.000000</td>\n",
              "      <td>91.890000</td>\n",
              "      <td>28.050000</td>\n",
              "      <td>0.000000</td>\n",
              "    </tr>\n",
              "    <tr>\n",
              "      <th>75%</th>\n",
              "      <td>61.000000</td>\n",
              "      <td>0.000000</td>\n",
              "      <td>0.000000</td>\n",
              "      <td>114.090000</td>\n",
              "      <td>33.100000</td>\n",
              "      <td>0.000000</td>\n",
              "    </tr>\n",
              "    <tr>\n",
              "      <th>max</th>\n",
              "      <td>82.000000</td>\n",
              "      <td>1.000000</td>\n",
              "      <td>1.000000</td>\n",
              "      <td>271.740000</td>\n",
              "      <td>92.000000</td>\n",
              "      <td>1.000000</td>\n",
              "    </tr>\n",
              "  </tbody>\n",
              "</table>\n",
              "</div>"
            ],
            "text/plain": [
              "               age  hypertension  heart_disease  avg_glucose_level  \\\n",
              "count  5109.000000   5109.000000    5109.000000        5109.000000   \n",
              "mean     43.231748      0.097279       0.054022         106.156383   \n",
              "std      22.611882      0.296367       0.226084          45.283716   \n",
              "min       0.080000      0.000000       0.000000          55.120000   \n",
              "25%      25.000000      0.000000       0.000000          77.260000   \n",
              "50%      45.000000      0.000000       0.000000          91.890000   \n",
              "75%      61.000000      0.000000       0.000000         114.090000   \n",
              "max      82.000000      1.000000       1.000000         271.740000   \n",
              "\n",
              "               bmi       stroke  \n",
              "count  4908.000000  5109.000000  \n",
              "mean     28.879238     0.048738  \n",
              "std       7.793377     0.215340  \n",
              "min      10.300000     0.000000  \n",
              "25%      23.500000     0.000000  \n",
              "50%      28.050000     0.000000  \n",
              "75%      33.100000     0.000000  \n",
              "max      92.000000     1.000000  "
            ]
          },
          "execution_count": 27,
          "metadata": {},
          "output_type": "execute_result"
        }
      ],
      "source": [
        "num_feat.describe()"
      ]
    },
    {
      "cell_type": "code",
      "execution_count": null,
      "metadata": {
        "colab": {
          "base_uri": "https://localhost:8080/",
          "height": 143
        },
        "id": "4DBb6IRTrILz",
        "outputId": "69adfccd-fcbe-422f-f56f-0ffe167f4e05"
      },
      "outputs": [
        {
          "data": {
            "text/html": [
              "<div>\n",
              "<style scoped>\n",
              "    .dataframe tbody tr th:only-of-type {\n",
              "        vertical-align: middle;\n",
              "    }\n",
              "\n",
              "    .dataframe tbody tr th {\n",
              "        vertical-align: top;\n",
              "    }\n",
              "\n",
              "    .dataframe thead th {\n",
              "        text-align: right;\n",
              "    }\n",
              "</style>\n",
              "<table border=\"1\" class=\"dataframe\">\n",
              "  <thead>\n",
              "    <tr style=\"text-align: right;\">\n",
              "      <th></th>\n",
              "      <th>age</th>\n",
              "      <th>hypertension</th>\n",
              "      <th>heart_disease</th>\n",
              "      <th>avg_glucose_level</th>\n",
              "      <th>bmi</th>\n",
              "    </tr>\n",
              "    <tr>\n",
              "      <th>stroke</th>\n",
              "      <th></th>\n",
              "      <th></th>\n",
              "      <th></th>\n",
              "      <th></th>\n",
              "      <th></th>\n",
              "    </tr>\n",
              "  </thead>\n",
              "  <tbody>\n",
              "    <tr>\n",
              "      <th>0</th>\n",
              "      <td>41.976683</td>\n",
              "      <td>0.088683</td>\n",
              "      <td>0.047119</td>\n",
              "      <td>104.804387</td>\n",
              "      <td>28.808427</td>\n",
              "    </tr>\n",
              "    <tr>\n",
              "      <th>1</th>\n",
              "      <td>67.728193</td>\n",
              "      <td>0.265060</td>\n",
              "      <td>0.188755</td>\n",
              "      <td>132.544739</td>\n",
              "      <td>30.471292</td>\n",
              "    </tr>\n",
              "  </tbody>\n",
              "</table>\n",
              "</div>"
            ],
            "text/plain": [
              "              age  hypertension  heart_disease  avg_glucose_level        bmi\n",
              "stroke                                                                      \n",
              "0       41.976683      0.088683       0.047119         104.804387  28.808427\n",
              "1       67.728193      0.265060       0.188755         132.544739  30.471292"
            ]
          },
          "execution_count": 28,
          "metadata": {},
          "output_type": "execute_result"
        }
      ],
      "source": [
        "num_feat.groupby('stroke').mean()"
      ]
    },
    {
      "cell_type": "code",
      "execution_count": null,
      "metadata": {
        "colab": {
          "base_uri": "https://localhost:8080/",
          "height": 143
        },
        "id": "04mZOR5xrK6y",
        "outputId": "38c07083-881d-4576-b2cf-b63f5953715c"
      },
      "outputs": [
        {
          "data": {
            "text/html": [
              "<div>\n",
              "<style scoped>\n",
              "    .dataframe tbody tr th:only-of-type {\n",
              "        vertical-align: middle;\n",
              "    }\n",
              "\n",
              "    .dataframe tbody tr th {\n",
              "        vertical-align: top;\n",
              "    }\n",
              "\n",
              "    .dataframe thead th {\n",
              "        text-align: right;\n",
              "    }\n",
              "</style>\n",
              "<table border=\"1\" class=\"dataframe\">\n",
              "  <thead>\n",
              "    <tr style=\"text-align: right;\">\n",
              "      <th></th>\n",
              "      <th>stroke</th>\n",
              "      <th>hypertension</th>\n",
              "      <th>heart_disease</th>\n",
              "    </tr>\n",
              "    <tr>\n",
              "      <th>bmi</th>\n",
              "      <th></th>\n",
              "      <th></th>\n",
              "      <th></th>\n",
              "    </tr>\n",
              "  </thead>\n",
              "  <tbody>\n",
              "    <tr>\n",
              "      <th>False</th>\n",
              "      <td>231</td>\n",
              "      <td>429</td>\n",
              "      <td>264</td>\n",
              "    </tr>\n",
              "    <tr>\n",
              "      <th>True</th>\n",
              "      <td>18</td>\n",
              "      <td>68</td>\n",
              "      <td>12</td>\n",
              "    </tr>\n",
              "  </tbody>\n",
              "</table>\n",
              "</div>"
            ],
            "text/plain": [
              "       stroke  hypertension  heart_disease\n",
              "bmi                                       \n",
              "False     231           429            264\n",
              "True       18            68             12"
            ]
          },
          "execution_count": 29,
          "metadata": {},
          "output_type": "execute_result"
        }
      ],
      "source": [
        "num_feat.groupby(num_feat.bmi > 40)[['stroke', 'hypertension', 'heart_disease']].sum()"
      ]
    },
    {
      "cell_type": "code",
      "execution_count": null,
      "metadata": {
        "id": "gUmFgYIOrRhi"
      },
      "outputs": [],
      "source": [
        "bmi_over_40 = num_feat[num_feat['bmi'] > 40 ]"
      ]
    },
    {
      "cell_type": "code",
      "execution_count": null,
      "metadata": {
        "colab": {
          "base_uri": "https://localhost:8080/",
          "height": 613
        },
        "id": "C-afYtxDrTqN",
        "outputId": "20d710ad-7687-4d95-848c-867b23bf6c96"
      },
      "outputs": [
        {
          "data": {
            "text/html": [
              "<div>\n",
              "<style scoped>\n",
              "    .dataframe tbody tr th:only-of-type {\n",
              "        vertical-align: middle;\n",
              "    }\n",
              "\n",
              "    .dataframe tbody tr th {\n",
              "        vertical-align: top;\n",
              "    }\n",
              "\n",
              "    .dataframe thead th {\n",
              "        text-align: right;\n",
              "    }\n",
              "</style>\n",
              "<table border=\"1\" class=\"dataframe\">\n",
              "  <thead>\n",
              "    <tr style=\"text-align: right;\">\n",
              "      <th></th>\n",
              "      <th>age</th>\n",
              "      <th>hypertension</th>\n",
              "      <th>heart_disease</th>\n",
              "      <th>avg_glucose_level</th>\n",
              "      <th>bmi</th>\n",
              "      <th>stroke</th>\n",
              "    </tr>\n",
              "  </thead>\n",
              "  <tbody>\n",
              "    <tr>\n",
              "      <th>1939</th>\n",
              "      <td>43.0</td>\n",
              "      <td>0</td>\n",
              "      <td>0</td>\n",
              "      <td>143.43</td>\n",
              "      <td>45.9</td>\n",
              "      <td>1</td>\n",
              "    </tr>\n",
              "    <tr>\n",
              "      <th>3697</th>\n",
              "      <td>45.0</td>\n",
              "      <td>0</td>\n",
              "      <td>0</td>\n",
              "      <td>224.10</td>\n",
              "      <td>56.6</td>\n",
              "      <td>1</td>\n",
              "    </tr>\n",
              "    <tr>\n",
              "      <th>4769</th>\n",
              "      <td>47.0</td>\n",
              "      <td>0</td>\n",
              "      <td>0</td>\n",
              "      <td>86.94</td>\n",
              "      <td>41.1</td>\n",
              "      <td>1</td>\n",
              "    </tr>\n",
              "    <tr>\n",
              "      <th>4796</th>\n",
              "      <td>51.0</td>\n",
              "      <td>1</td>\n",
              "      <td>0</td>\n",
              "      <td>112.16</td>\n",
              "      <td>42.5</td>\n",
              "      <td>1</td>\n",
              "    </tr>\n",
              "    <tr>\n",
              "      <th>3131</th>\n",
              "      <td>52.0</td>\n",
              "      <td>1</td>\n",
              "      <td>0</td>\n",
              "      <td>233.29</td>\n",
              "      <td>48.9</td>\n",
              "      <td>1</td>\n",
              "    </tr>\n",
              "    <tr>\n",
              "      <th>3825</th>\n",
              "      <td>53.0</td>\n",
              "      <td>0</td>\n",
              "      <td>0</td>\n",
              "      <td>64.17</td>\n",
              "      <td>41.5</td>\n",
              "      <td>1</td>\n",
              "    </tr>\n",
              "    <tr>\n",
              "      <th>347</th>\n",
              "      <td>54.0</td>\n",
              "      <td>0</td>\n",
              "      <td>0</td>\n",
              "      <td>191.82</td>\n",
              "      <td>40.4</td>\n",
              "      <td>1</td>\n",
              "    </tr>\n",
              "    <tr>\n",
              "      <th>4492</th>\n",
              "      <td>56.0</td>\n",
              "      <td>0</td>\n",
              "      <td>0</td>\n",
              "      <td>185.17</td>\n",
              "      <td>40.4</td>\n",
              "      <td>1</td>\n",
              "    </tr>\n",
              "    <tr>\n",
              "      <th>672</th>\n",
              "      <td>57.0</td>\n",
              "      <td>1</td>\n",
              "      <td>0</td>\n",
              "      <td>212.08</td>\n",
              "      <td>44.2</td>\n",
              "      <td>1</td>\n",
              "    </tr>\n",
              "    <tr>\n",
              "      <th>2072</th>\n",
              "      <td>59.0</td>\n",
              "      <td>0</td>\n",
              "      <td>0</td>\n",
              "      <td>96.16</td>\n",
              "      <td>44.1</td>\n",
              "      <td>1</td>\n",
              "    </tr>\n",
              "    <tr>\n",
              "      <th>4920</th>\n",
              "      <td>63.0</td>\n",
              "      <td>0</td>\n",
              "      <td>0</td>\n",
              "      <td>205.35</td>\n",
              "      <td>42.2</td>\n",
              "      <td>1</td>\n",
              "    </tr>\n",
              "    <tr>\n",
              "      <th>4629</th>\n",
              "      <td>65.0</td>\n",
              "      <td>0</td>\n",
              "      <td>0</td>\n",
              "      <td>205.77</td>\n",
              "      <td>46.0</td>\n",
              "      <td>1</td>\n",
              "    </tr>\n",
              "    <tr>\n",
              "      <th>3328</th>\n",
              "      <td>68.0</td>\n",
              "      <td>0</td>\n",
              "      <td>0</td>\n",
              "      <td>233.94</td>\n",
              "      <td>42.4</td>\n",
              "      <td>1</td>\n",
              "    </tr>\n",
              "    <tr>\n",
              "      <th>4565</th>\n",
              "      <td>68.0</td>\n",
              "      <td>1</td>\n",
              "      <td>1</td>\n",
              "      <td>247.51</td>\n",
              "      <td>40.5</td>\n",
              "      <td>1</td>\n",
              "    </tr>\n",
              "    <tr>\n",
              "      <th>4036</th>\n",
              "      <td>70.0</td>\n",
              "      <td>0</td>\n",
              "      <td>0</td>\n",
              "      <td>221.58</td>\n",
              "      <td>47.5</td>\n",
              "      <td>1</td>\n",
              "    </tr>\n",
              "    <tr>\n",
              "      <th>4961</th>\n",
              "      <td>70.0</td>\n",
              "      <td>1</td>\n",
              "      <td>0</td>\n",
              "      <td>242.52</td>\n",
              "      <td>45.5</td>\n",
              "      <td>1</td>\n",
              "    </tr>\n",
              "    <tr>\n",
              "      <th>4072</th>\n",
              "      <td>78.0</td>\n",
              "      <td>1</td>\n",
              "      <td>0</td>\n",
              "      <td>203.87</td>\n",
              "      <td>45.7</td>\n",
              "      <td>1</td>\n",
              "    </tr>\n",
              "    <tr>\n",
              "      <th>3386</th>\n",
              "      <td>80.0</td>\n",
              "      <td>0</td>\n",
              "      <td>0</td>\n",
              "      <td>64.44</td>\n",
              "      <td>45.0</td>\n",
              "      <td>1</td>\n",
              "    </tr>\n",
              "  </tbody>\n",
              "</table>\n",
              "</div>"
            ],
            "text/plain": [
              "       age  hypertension  heart_disease  avg_glucose_level   bmi  stroke\n",
              "1939  43.0             0              0             143.43  45.9       1\n",
              "3697  45.0             0              0             224.10  56.6       1\n",
              "4769  47.0             0              0              86.94  41.1       1\n",
              "4796  51.0             1              0             112.16  42.5       1\n",
              "3131  52.0             1              0             233.29  48.9       1\n",
              "3825  53.0             0              0              64.17  41.5       1\n",
              "347   54.0             0              0             191.82  40.4       1\n",
              "4492  56.0             0              0             185.17  40.4       1\n",
              "672   57.0             1              0             212.08  44.2       1\n",
              "2072  59.0             0              0              96.16  44.1       1\n",
              "4920  63.0             0              0             205.35  42.2       1\n",
              "4629  65.0             0              0             205.77  46.0       1\n",
              "3328  68.0             0              0             233.94  42.4       1\n",
              "4565  68.0             1              1             247.51  40.5       1\n",
              "4036  70.0             0              0             221.58  47.5       1\n",
              "4961  70.0             1              0             242.52  45.5       1\n",
              "4072  78.0             1              0             203.87  45.7       1\n",
              "3386  80.0             0              0              64.44  45.0       1"
            ]
          },
          "execution_count": 31,
          "metadata": {},
          "output_type": "execute_result"
        }
      ],
      "source": [
        "bmi_over_40[num_feat['stroke'] == 1 ].sort_values(by='age')"
      ]
    },
    {
      "cell_type": "code",
      "execution_count": null,
      "metadata": {
        "colab": {
          "base_uri": "https://localhost:8080/",
          "height": 442
        },
        "id": "MboQOo4GrV4Y",
        "outputId": "89164417-1d7a-42b1-cee0-d26e3ed820f4"
      },
      "outputs": [
        {
          "data": {
            "image/png": "[encoded data removed]",
            "text/plain": [
              "<Figure size 648x504 with 1 Axes>"
            ]
          },
          "metadata": {
            "needs_background": "light"
          },
          "output_type": "display_data"
        }
      ],
      "source": [
        "plt.figure(figsize = (9,7))\n",
        "sns.scatterplot(x = 'bmi', y = 'avg_glucose_level', hue = 'stroke', data =bmi_over_40)\n",
        "plt.show()"
      ]
    },
    {
      "cell_type": "markdown",
      "metadata": {
        "id": "wDNOOiCUIny8"
      },
      "source": [
        "Adult Body Mass Index (BMI)¶\n",
        "BMI does not measure body fat directly, but research has shown that BMI is moderately correlated with more direct measures of body fat obtained from skinfold thickness measurements, bioelectrical impedance, underwater weighing, dual energy x-ray absorptiometry (DXA) and other methods 1,2,3. Furthermore, BMI appears to be strongly correlated with various adverse health outcomes consistent with these more direct measures of body fatness"
      ]
    },
    {
      "cell_type": "code",
      "execution_count": null,
      "metadata": {
        "colab": {
          "base_uri": "https://localhost:8080/"
        },
        "id": "QUk1ldYYrYgK",
        "outputId": "af9ddbb1-ed3e-4523-941f-3b72398bbe0a"
      },
      "outputs": [
        {
          "data": {
            "text/plain": [
              "id                   5110\n",
              "gender                  3\n",
              "age                   104\n",
              "hypertension            2\n",
              "heart_disease           2\n",
              "ever_married            2\n",
              "work_type               5\n",
              "Residence_type          2\n",
              "avg_glucose_level    3979\n",
              "bmi                   418\n",
              "smoking_status          4\n",
              "stroke                  2\n",
              "dtype: int64"
            ]
          },
          "execution_count": 33,
          "metadata": {},
          "output_type": "execute_result"
        }
      ],
      "source": [
        "#check for unique values\n",
        "data.nunique()"
      ]
    },
    {
      "cell_type": "markdown",
      "metadata": {
        "id": "lQMaLzFVIsg2"
      },
      "source": [
        "It seems the majorities of values are binaries, which mean that they are categorical values e.g. \"yes\" or \"no\" except for gender which is says it has 3 types. We need to check if that is not because a typo or blank entries.\n",
        "\n",
        "The categorial variables with more different values are the following in ascending order:\n",
        "\n",
        "smoking_status 4\n",
        "work_type 5"
      ]
    },
    {
      "cell_type": "code",
      "execution_count": null,
      "metadata": {
        "colab": {
          "base_uri": "https://localhost:8080/"
        },
        "id": "TnvpOzugra2J",
        "outputId": "9cdbbaaa-ce6d-4e76-a3e9-d33ee8f4360e"
      },
      "outputs": [
        {
          "data": {
            "text/plain": [
              "Female    2994\n",
              "Male      2115\n",
              "Other        1\n",
              "Name: gender, dtype: int64"
            ]
          },
          "execution_count": 34,
          "metadata": {},
          "output_type": "execute_result"
        }
      ],
      "source": [
        "data.gender.value_counts()"
      ]
    },
    {
      "cell_type": "code",
      "execution_count": null,
      "metadata": {
        "id": "WVV3xGhrre7J"
      },
      "outputs": [],
      "source": [
        "data = data[data['gender']!='Other']"
      ]
    },
    {
      "cell_type": "code",
      "execution_count": null,
      "metadata": {
        "colab": {
          "base_uri": "https://localhost:8080/"
        },
        "id": "rp0WA-Wsrhky",
        "outputId": "1f88a477-2e58-4749-bf32-e7d544ed2c25"
      },
      "outputs": [
        {
          "data": {
            "text/plain": [
              "never smoked       1892\n",
              "Unknown            1544\n",
              "formerly smoked     884\n",
              "smokes              789\n",
              "Name: smoking_status, dtype: int64"
            ]
          },
          "execution_count": 36,
          "metadata": {},
          "output_type": "execute_result"
        }
      ],
      "source": [
        "data.smoking_status.value_counts()"
      ]
    },
    {
      "cell_type": "code",
      "execution_count": null,
      "metadata": {
        "colab": {
          "base_uri": "https://localhost:8080/",
          "height": 423
        },
        "id": "56xog-vmrkch",
        "outputId": "ff6aa669-f3c0-43f0-e10e-1fdbc832e0aa"
      },
      "outputs": [
        {
          "data": {
            "text/html": [
              "<div>\n",
              "<style scoped>\n",
              "    .dataframe tbody tr th:only-of-type {\n",
              "        vertical-align: middle;\n",
              "    }\n",
              "\n",
              "    .dataframe tbody tr th {\n",
              "        vertical-align: top;\n",
              "    }\n",
              "\n",
              "    .dataframe thead th {\n",
              "        text-align: right;\n",
              "    }\n",
              "</style>\n",
              "<table border=\"1\" class=\"dataframe\">\n",
              "  <thead>\n",
              "    <tr style=\"text-align: right;\">\n",
              "      <th></th>\n",
              "      <th>id</th>\n",
              "      <th>gender</th>\n",
              "      <th>age</th>\n",
              "      <th>hypertension</th>\n",
              "      <th>heart_disease</th>\n",
              "      <th>ever_married</th>\n",
              "      <th>work_type</th>\n",
              "      <th>Residence_type</th>\n",
              "      <th>avg_glucose_level</th>\n",
              "      <th>bmi</th>\n",
              "      <th>smoking_status</th>\n",
              "      <th>stroke</th>\n",
              "    </tr>\n",
              "  </thead>\n",
              "  <tbody>\n",
              "    <tr>\n",
              "      <th>789</th>\n",
              "      <td>5010</td>\n",
              "      <td>Female</td>\n",
              "      <td>2.00</td>\n",
              "      <td>0</td>\n",
              "      <td>0</td>\n",
              "      <td>False</td>\n",
              "      <td>children</td>\n",
              "      <td>Rural</td>\n",
              "      <td>92.48</td>\n",
              "      <td>18.0</td>\n",
              "      <td>Unknown</td>\n",
              "      <td>0</td>\n",
              "    </tr>\n",
              "    <tr>\n",
              "      <th>790</th>\n",
              "      <td>15274</td>\n",
              "      <td>Female</td>\n",
              "      <td>2.00</td>\n",
              "      <td>0</td>\n",
              "      <td>0</td>\n",
              "      <td>False</td>\n",
              "      <td>children</td>\n",
              "      <td>Rural</td>\n",
              "      <td>79.89</td>\n",
              "      <td>31.6</td>\n",
              "      <td>Unknown</td>\n",
              "      <td>0</td>\n",
              "    </tr>\n",
              "    <tr>\n",
              "      <th>791</th>\n",
              "      <td>8320</td>\n",
              "      <td>Male</td>\n",
              "      <td>2.00</td>\n",
              "      <td>0</td>\n",
              "      <td>0</td>\n",
              "      <td>False</td>\n",
              "      <td>children</td>\n",
              "      <td>Rural</td>\n",
              "      <td>73.62</td>\n",
              "      <td>20.8</td>\n",
              "      <td>Unknown</td>\n",
              "      <td>0</td>\n",
              "    </tr>\n",
              "    <tr>\n",
              "      <th>792</th>\n",
              "      <td>14387</td>\n",
              "      <td>Male</td>\n",
              "      <td>2.00</td>\n",
              "      <td>0</td>\n",
              "      <td>0</td>\n",
              "      <td>False</td>\n",
              "      <td>children</td>\n",
              "      <td>Urban</td>\n",
              "      <td>93.88</td>\n",
              "      <td>17.4</td>\n",
              "      <td>Unknown</td>\n",
              "      <td>0</td>\n",
              "    </tr>\n",
              "    <tr>\n",
              "      <th>793</th>\n",
              "      <td>65218</td>\n",
              "      <td>Male</td>\n",
              "      <td>2.00</td>\n",
              "      <td>0</td>\n",
              "      <td>0</td>\n",
              "      <td>False</td>\n",
              "      <td>children</td>\n",
              "      <td>Rural</td>\n",
              "      <td>109.10</td>\n",
              "      <td>20.0</td>\n",
              "      <td>Unknown</td>\n",
              "      <td>0</td>\n",
              "    </tr>\n",
              "    <tr>\n",
              "      <th>...</th>\n",
              "      <td>...</td>\n",
              "      <td>...</td>\n",
              "      <td>...</td>\n",
              "      <td>...</td>\n",
              "      <td>...</td>\n",
              "      <td>...</td>\n",
              "      <td>...</td>\n",
              "      <td>...</td>\n",
              "      <td>...</td>\n",
              "      <td>...</td>\n",
              "      <td>...</td>\n",
              "      <td>...</td>\n",
              "    </tr>\n",
              "    <tr>\n",
              "      <th>2328</th>\n",
              "      <td>69435</td>\n",
              "      <td>Female</td>\n",
              "      <td>0.56</td>\n",
              "      <td>0</td>\n",
              "      <td>0</td>\n",
              "      <td>False</td>\n",
              "      <td>children</td>\n",
              "      <td>Urban</td>\n",
              "      <td>80.92</td>\n",
              "      <td>18.3</td>\n",
              "      <td>Unknown</td>\n",
              "      <td>0</td>\n",
              "    </tr>\n",
              "    <tr>\n",
              "      <th>2329</th>\n",
              "      <td>47848</td>\n",
              "      <td>Male</td>\n",
              "      <td>1.56</td>\n",
              "      <td>0</td>\n",
              "      <td>0</td>\n",
              "      <td>False</td>\n",
              "      <td>children</td>\n",
              "      <td>Rural</td>\n",
              "      <td>93.74</td>\n",
              "      <td>20.1</td>\n",
              "      <td>Unknown</td>\n",
              "      <td>0</td>\n",
              "    </tr>\n",
              "    <tr>\n",
              "      <th>2330</th>\n",
              "      <td>16061</td>\n",
              "      <td>Female</td>\n",
              "      <td>1.56</td>\n",
              "      <td>0</td>\n",
              "      <td>0</td>\n",
              "      <td>False</td>\n",
              "      <td>children</td>\n",
              "      <td>Urban</td>\n",
              "      <td>113.40</td>\n",
              "      <td>19.5</td>\n",
              "      <td>Unknown</td>\n",
              "      <td>0</td>\n",
              "    </tr>\n",
              "    <tr>\n",
              "      <th>2331</th>\n",
              "      <td>41042</td>\n",
              "      <td>Female</td>\n",
              "      <td>1.56</td>\n",
              "      <td>0</td>\n",
              "      <td>0</td>\n",
              "      <td>False</td>\n",
              "      <td>children</td>\n",
              "      <td>Urban</td>\n",
              "      <td>71.81</td>\n",
              "      <td>22.6</td>\n",
              "      <td>Unknown</td>\n",
              "      <td>0</td>\n",
              "    </tr>\n",
              "    <tr>\n",
              "      <th>2332</th>\n",
              "      <td>29201</td>\n",
              "      <td>Male</td>\n",
              "      <td>1.56</td>\n",
              "      <td>0</td>\n",
              "      <td>0</td>\n",
              "      <td>False</td>\n",
              "      <td>children</td>\n",
              "      <td>Rural</td>\n",
              "      <td>109.12</td>\n",
              "      <td>18.9</td>\n",
              "      <td>Unknown</td>\n",
              "      <td>0</td>\n",
              "    </tr>\n",
              "  </tbody>\n",
              "</table>\n",
              "<p>1544 rows × 12 columns</p>\n",
              "</div>"
            ],
            "text/plain": [
              "         id  gender   age  hypertension  heart_disease  ever_married  \\\n",
              "789    5010  Female  2.00             0              0         False   \n",
              "790   15274  Female  2.00             0              0         False   \n",
              "791    8320    Male  2.00             0              0         False   \n",
              "792   14387    Male  2.00             0              0         False   \n",
              "793   65218    Male  2.00             0              0         False   \n",
              "...     ...     ...   ...           ...            ...           ...   \n",
              "2328  69435  Female  0.56             0              0         False   \n",
              "2329  47848    Male  1.56             0              0         False   \n",
              "2330  16061  Female  1.56             0              0         False   \n",
              "2331  41042  Female  1.56             0              0         False   \n",
              "2332  29201    Male  1.56             0              0         False   \n",
              "\n",
              "     work_type Residence_type  avg_glucose_level   bmi smoking_status  stroke  \n",
              "789   children          Rural              92.48  18.0        Unknown       0  \n",
              "790   children          Rural              79.89  31.6        Unknown       0  \n",
              "791   children          Rural              73.62  20.8        Unknown       0  \n",
              "792   children          Urban              93.88  17.4        Unknown       0  \n",
              "793   children          Rural             109.10  20.0        Unknown       0  \n",
              "...        ...            ...                ...   ...            ...     ...  \n",
              "2328  children          Urban              80.92  18.3        Unknown       0  \n",
              "2329  children          Rural              93.74  20.1        Unknown       0  \n",
              "2330  children          Urban             113.40  19.5        Unknown       0  \n",
              "2331  children          Urban              71.81  22.6        Unknown       0  \n",
              "2332  children          Rural             109.12  18.9        Unknown       0  \n",
              "\n",
              "[1544 rows x 12 columns]"
            ]
          },
          "execution_count": 37,
          "metadata": {},
          "output_type": "execute_result"
        }
      ],
      "source": [
        "data[data['smoking_status'] == 'Unknown']"
      ]
    },
    {
      "cell_type": "code",
      "execution_count": null,
      "metadata": {
        "colab": {
          "base_uri": "https://localhost:8080/"
        },
        "id": "jEryLqSGrmca",
        "outputId": "71950d4e-3246-4e2c-8f5e-aaacb0436ddd"
      },
      "outputs": [
        {
          "data": {
            "text/plain": [
              "Private          0.688213\n",
              "Self-employed    0.157161\n",
              "Govt_job         0.152091\n",
              "children         0.002535\n",
              "Name: work_type, dtype: float64"
            ]
          },
          "execution_count": 38,
          "metadata": {},
          "output_type": "execute_result"
        }
      ],
      "source": [
        "#smokers and goverment jobs\n",
        "smokers = data[data['smoking_status']=='smokes']\n",
        "\n",
        "smokers.work_type.value_counts(normalize=True)"
      ]
    },
    {
      "cell_type": "code",
      "execution_count": null,
      "metadata": {
        "colab": {
          "base_uri": "https://localhost:8080/"
        },
        "id": "zW1_bzXrrodq",
        "outputId": "95a9eec9-576f-457f-c2b6-400c1dc0d469"
      },
      "outputs": [
        {
          "data": {
            "text/plain": [
              "age\n",
              "10.0    1\n",
              "12.0    1\n",
              "13.0    1\n",
              "16.0    2\n",
              "17.0    4\n",
              "       ..\n",
              "78.0    7\n",
              "79.0    9\n",
              "80.0    7\n",
              "81.0    5\n",
              "82.0    6\n",
              "Name: age, Length: 70, dtype: int64"
            ]
          },
          "execution_count": 39,
          "metadata": {},
          "output_type": "execute_result"
        }
      ],
      "source": [
        "smokers['age'].groupby(smokers['age']).count()"
      ]
    },
    {
      "cell_type": "markdown",
      "metadata": {
        "id": "cmVRlwWFXrx6"
      },
      "source": [
        "### Creating an Experiment"
      ]
    },
    {
      "cell_type": "code",
      "execution_count": null,
      "metadata": {
        "id": "vx4hFrUuk4fw",
        "outputId": "1791a76b-5841-4e01-b73f-8d69d54c478b"
      },
      "outputs": [
        {
          "name": "stderr",
          "output_type": "stream",
          "text": [
            "INFO:vectice.auth:Vectice: Refreshing token... \n",
            "INFO:vectice.auth:Success!\n",
            "INFO:vectice.auth:Vectice: Validating project token... \n",
            "INFO:vectice.auth:The entered token is OK, and allows you to work on the 'Brain Failure Prediction' Project, part of the 'Sample - Everyone' Workspace\n"
          ]
        }
      ],
      "source": [
        "## Create an Experiment instance to start creating runs in Vectice\n",
        "## We create our experiment for data preparation and specify the project we will be working on\n",
        "# Each experiment only contains one job. Each invokation of the job is called a run.\n",
        "# autocode = True enables you to track your git changes for your code automatically every time you execute a run (see below).\n",
        "from vectice import Experiment\n",
        "logging.basicConfig(level=logging.INFO)\n",
        "experiment = Experiment(job='Brain Imaging Data Cleaning',job_type=JobType.PREPARATION,project_token=PROJECT_ID, auto_code=True)"
      ]
    },
    {
      "cell_type": "markdown",
      "metadata": {
        "id": "DaMFmABSXThh"
      },
      "source": [
        "### Creating the experiment run inputs"
      ]
    },
    {
      "cell_type": "code",
      "execution_count": null,
      "metadata": {
        "id": "8A_Rjq84LIWT"
      },
      "outputs": [],
      "source": [
        "# Because we are using Colab in this tutorial example we are going to declare a reference to the code\n",
        "## manually. This will be added as a reference to the run we are going to create next.\n",
        "# If you are using your local environment with GIT installed or JupyterLab etc... the code\n",
        "# tracking is automated.\n",
        "uri = \"https://github.com/vectice/vectice-examples\"\n",
        "entrypoint = \"Samples/Brain_Failure_Prediction/Brain_Failure_Prediction.ipynb\"\n",
        "input_code = experiment.add_code_version_uri(uri=uri, entrypoint=entrypoint)"
      ]
    },
    {
      "cell_type": "code",
      "execution_count": null,
      "metadata": {
        "id": "jHJV0hseXDCv"
      },
      "outputs": [],
      "source": [
        "# The Vectice library automatically detects if there have been changes to the dataset you are using.\n",
        "# If it detects changes, it will generate a new version of your dataset automatically.\n",
        "input_ds = experiment.add_dataset_version(\"Brain Imaging Data\")"
      ]
    },
    {
      "cell_type": "markdown",
      "metadata": {
        "id": "lpxm0do5XZLo"
      },
      "source": [
        "### Starting the Experiment run"
      ]
    },
    {
      "cell_type": "code",
      "execution_count": null,
      "metadata": {
        "id": "1zx839fVXRAb"
      },
      "outputs": [],
      "source": [
        "inputs = [input_ds, input_code]\n",
        "# All the artifacts created before starting the run experiment, will be attached as inputs of the run\n",
        "# The created dataset version and code version will be automatically attached as inputs of the run\n",
        "experiment.start()\n",
        "# All the artifacts created after starting the run experiment, will be attached as outputs of the run"
      ]
    },
    {
      "cell_type": "code",
      "execution_count": null,
      "metadata": {
        "colab": {
          "base_uri": "https://localhost:8080/"
        },
        "id": "l61laWMerqgq",
        "outputId": "8660cdef-c5f7-4ae9-ffbd-a128097afd1a"
      },
      "outputs": [
        {
          "data": {
            "text/plain": [
              "id                   0\n",
              "gender               0\n",
              "age                  0\n",
              "hypertension         0\n",
              "heart_disease        0\n",
              "ever_married         0\n",
              "work_type            0\n",
              "Residence_type       0\n",
              "avg_glucose_level    0\n",
              "bmi                  0\n",
              "smoking_status       0\n",
              "stroke               0\n",
              "dtype: int64"
            ]
          },
          "execution_count": 45,
          "metadata": {},
          "output_type": "execute_result"
        }
      ],
      "source": [
        "#handling missing values\n",
        "data['bmi'] = data['bmi'].fillna(round (data['bmi'].median(), 2))\n",
        "data.isnull().sum()"
      ]
    },
    {
      "cell_type": "markdown",
      "metadata": {
        "id": "5qzRyUguk4fx"
      },
      "source": [
        "## Uploading the cleaned data into BigQuery"
      ]
    },
    {
      "cell_type": "markdown",
      "metadata": {
        "id": "N2cjZdUnk4fx"
      },
      "source": [
        "Upload the cleaned data to BigQuery requires having writing rights in the service accounts. As the provided service account has only reading rights, we already uploaded the cleaned data for you.\n",
        "If you have a service account with reading rights, you uncomment the following cell and rn it."
      ]
    },
    {
      "cell_type": "code",
      "execution_count": null,
      "metadata": {
        "id": "6WvUIL98Mzyy"
      },
      "outputs": [],
      "source": [
        "# Uploading the cleaned data into BigQuery\n",
        "# TODO(developer): Set table_id to the ID of the table to create.\n",
        "\n",
        "#table_id = \"nodal-unity-277700.healthcareData.StrokeDataClean\"\n",
        "\n",
        "# The job_config holds schema information. Column names, data types etc. \n",
        "\n",
        "#job_config = bigquery.LoadJobConfig(\n",
        "#    schema=[bigquery.SchemaField(col, str(data[col].dtype if data[col].dtype != 'object' else \"STRING\")) for col in data.columns],)\n",
        "\n",
        "#load_job = client.load_table_from_dataframe(data, table_id, job_config=job_config)  # Make an API request.\n",
        "\n",
        "#load_job.result()  # Waits for the job to complete.\n",
        "\n",
        "#destination_table = client.get_table(table_id)  # Make an API request.\n",
        "#print(\"Loaded {} rows.\".format(destination_table.num_rows))"
      ]
    },
    {
      "cell_type": "code",
      "execution_count": null,
      "metadata": {
        "colab": {
          "base_uri": "https://localhost:8080/"
        },
        "id": "7lOtSlVOLgz4",
        "outputId": "3dcda976-e5b9-4535-a219-81ff19083ed7"
      },
      "outputs": [
        {
          "data": {
            "text/plain": [
              "7519"
            ]
          },
          "execution_count": 46,
          "metadata": {},
          "output_type": "execute_result"
        }
      ],
      "source": [
        "# Creating the new dataset as an output for the run , everything that comes after experiment.start() and before experiment.complete()\n",
        "# is by default an output artifact  \n",
        "experiment.add_dataset_version(dataset=\"Cleaned Brain Imaging Data\",properties={\"Fillna\": \"Median\"})\n",
        "\n",
        "experiment.complete()"
      ]
    },
    {
      "cell_type": "code",
      "execution_count": null,
      "metadata": {
        "id": "WmHPrEAisUnh"
      },
      "outputs": [],
      "source": [
        "correlation = data.drop('id', axis = 1).corr()"
      ]
    },
    {
      "cell_type": "code",
      "execution_count": null,
      "metadata": {
        "colab": {
          "base_uri": "https://localhost:8080/",
          "height": 513
        },
        "id": "jwBEGu23sXcJ",
        "outputId": "f5b839ee-e3dd-4675-b753-f09b0e194236"
      },
      "outputs": [
        {
          "data": {
            "image/png": "[encoded data removed]",
            "text/plain": [
              "<Figure size 504x504 with 2 Axes>"
            ]
          },
          "metadata": {
            "needs_background": "light"
          },
          "output_type": "display_data"
        }
      ],
      "source": [
        "plt.figure(figsize=(7,7))\n",
        "sns.heatmap(correlation, xticklabels =correlation.columns, yticklabels = correlation.columns, annot=True)\n",
        "plt.show()"
      ]
    },
    {
      "cell_type": "markdown",
      "metadata": {
        "id": "_Rh60GEuI1hX"
      },
      "source": [
        "As we can see it looks that the more related variable to stroke is the age feature. We may consider to use a model to only use the wanted variables to remove id for example."
      ]
    },
    {
      "cell_type": "code",
      "execution_count": null,
      "metadata": {
        "colab": {
          "base_uri": "https://localhost:8080/",
          "height": 296
        },
        "id": "UcTk4cAVsY3x",
        "outputId": "336547c6-af26-4e98-9b96-9fc4c4c23677"
      },
      "outputs": [
        {
          "data": {
            "image/png": "[encoded data removed]",
            "text/plain": [
              "<Figure size 432x288 with 1 Axes>"
            ]
          },
          "metadata": {
            "needs_background": "light"
          },
          "output_type": "display_data"
        }
      ],
      "source": [
        "sns.countplot(x = 'smoking_status', data = data)\n",
        "plt.title(\"Count Plot for smoking status\")\n",
        "plt.show()"
      ]
    },
    {
      "cell_type": "code",
      "execution_count": null,
      "metadata": {
        "colab": {
          "base_uri": "https://localhost:8080/",
          "height": 297
        },
        "id": "ie0ibeC5snmI",
        "outputId": "46f263b1-6834-48c4-ff88-28c46e6a523d"
      },
      "outputs": [
        {
          "data": {
            "image/png": "[encoded data removed]",
            "text/plain": [
              "<Figure size 432x288 with 1 Axes>"
            ]
          },
          "metadata": {
            "needs_background": "light"
          },
          "output_type": "display_data"
        }
      ],
      "source": [
        "sns.countplot(x = 'work_type', data = data)\n",
        "plt.title('Count Plot for Work Type')\n",
        "plt.show()"
      ]
    },
    {
      "cell_type": "code",
      "execution_count": null,
      "metadata": {
        "colab": {
          "base_uri": "https://localhost:8080/",
          "height": 279
        },
        "id": "U_XNZiruspNa",
        "outputId": "0320aafa-3a8a-4ae6-cc89-dc9fcfa94959"
      },
      "outputs": [
        {
          "data": {
            "image/png": "[encoded data removed]",
            "text/plain": [
              "<Figure size 432x288 with 1 Axes>"
            ]
          },
          "metadata": {
            "needs_background": "light"
          },
          "output_type": "display_data"
        }
      ],
      "source": [
        "#Ploting the distribution of Stroke\n",
        "num_data = num_feat\n",
        "sns.countplot(x='stroke', data=num_data)\n",
        "plt.show()"
      ]
    },
    {
      "cell_type": "code",
      "execution_count": null,
      "metadata": {
        "colab": {
          "base_uri": "https://localhost:8080/",
          "height": 423
        },
        "id": "zMIarkd_ssdx",
        "outputId": "c232a6f3-b977-47df-9a02-0b363e3fe114"
      },
      "outputs": [
        {
          "data": {
            "image/png": "[encoded data removed]",
            "text/plain": [
              "<Figure size 420x420 with 1 Axes>"
            ]
          },
          "metadata": {},
          "output_type": "display_data"
        }
      ],
      "source": [
        "x = pd.DataFrame(num_data.groupby(['stroke'])['stroke'].count())\n",
        "\n",
        "# plot\n",
        "fig, ax = plt.subplots(figsize = (6,6), dpi = 70)\n",
        "ax.barh([1], x.stroke[1], height = 0.7, color = 'red')\n",
        "plt.text(-1150,-0.08, 'Healthy',{'fontfamily': 'Serif','weight':'bold','Size': '16','style':'normal', 'color':'green'})\n",
        "#plt.text(5000,-0.08, '95%',{'font':'Serif','weight':'bold' ,'size':'16','color':'green'})\n",
        "plt.text(5000,-0.08, f\"{(num_data.shape[0]/num_data.shape[0]*100) - (x.shape[0]/(num_data.shape[0])*100)*100:.0f}%\" ,{'fontfamily':'Serif','weight':'bold' ,'size':'16','color':'green'})\n",
        "ax.barh([0], x.stroke[0], height = 0.7, color = 'green')\n",
        "plt.text(-1000,1, 'Stroke', {'fontfamily': 'Serif','weight':'bold','Size': '16','style':'normal', 'color':'red'})\n",
        "plt.text(300,1, f\"{((x.shape[0]/data.shape[0])*100)*100:.0f}%\",{'fontfamily':'Serif', 'weight':'bold','size':'16','color':'red'})\n",
        "\n",
        "fig.patch.set_facecolor('#f6f5f5')\n",
        "ax.set_facecolor('#f6f5f5')\n",
        "\n",
        "plt.text(-1150,1.77, 'Percentage of People Having Strokes' ,{'fontfamily': 'Serif', 'Size': '25','weight':'bold', 'color':'black'})\n",
        "plt.text(4650,1.65, 'Stroke ', {'fontfamily': 'Serif','weight':'bold','Size': '16','weight':'bold','style':'normal', 'color':'red'})\n",
        "plt.text(5650,1.65, '|', {'color':'black' , 'size':'16', 'weight': 'bold'})\n",
        "plt.text(5750,1.65, 'Healthy', {'fontfamily': 'Serif','weight':'bold', 'Size': '16','style':'normal', 'weight':'bold','color':'green'})\n",
        "plt.text(-1150,1.5, 'It is a highly unbalanced distribution,\\nand clearly seen that 4 in 100 people are susceptible \\nto strokes.', \n",
        "        {'fontfamily':'Serif', 'size':'12.5','color': 'black'})\n",
        "\n",
        "ax.axes.get_xaxis().set_visible(False)\n",
        "ax.axes.get_yaxis().set_visible(False)\n",
        "ax.spines['bottom'].set_visible(False)\n",
        "ax.spines['left'].set_visible(True)\n",
        "ax.spines['right'].set_visible(False)\n",
        "ax.spines['top'].set_visible(False)"
      ]
    },
    {
      "cell_type": "code",
      "execution_count": null,
      "metadata": {
        "colab": {
          "base_uri": "https://localhost:8080/",
          "height": 677
        },
        "id": "lTQ3dZ_hsynw",
        "outputId": "28b36755-c00e-41b0-c0c1-bad21b1dedb9"
      },
      "outputs": [
        {
          "data": {
            "image/png": "[encoded data removed]",
            "text/plain": [
              "<Figure size 1152x792 with 6 Axes>"
            ]
          },
          "metadata": {
            "needs_background": "light"
          },
          "output_type": "display_data"
        }
      ],
      "source": [
        "plt.figure(figsize = (16,11))\n",
        "plt.subplot(2,3,1)\n",
        "sns.countplot(x = 'gender', data = data)\n",
        "plt.title('Countplot of Gender distribution')\n",
        "\n",
        "plt.subplot(2,3,2)\n",
        "sns.countplot(x = 'ever_married', data = data)\n",
        "plt.title('Countplot of Married status distribution')\n",
        "\n",
        "plt.subplot(2,3,3)\n",
        "sns.countplot(x='work_type', data = data)\n",
        "plt.title('Countplot of Work Type distribution')\n",
        "\n",
        "plt.subplot(2,3,4)\n",
        "sns.countplot(x = 'Residence_type', data = data)\n",
        "plt.title('Countplot of Residence type distribution')\n",
        "\n",
        "plt.subplot(2,3,5)\n",
        "sns.countplot(x = 'smoking_status',data = data)\n",
        "plt.title('Countplot of Smoking status distribution')\n",
        "\n",
        "plt.subplot(2,3,6)\n",
        "sns.countplot(x = 'heart_disease',data = data)\n",
        "plt.title('Countplot of Heart Disease distribution')\n",
        "plt.show()"
      ]
    },
    {
      "cell_type": "code",
      "execution_count": null,
      "metadata": {
        "id": "9P3nNIXEtViv"
      },
      "outputs": [],
      "source": [
        "num_data = num_feat\n",
        "#handling missing values\n",
        "num_data['bmi'] = num_data['bmi'].fillna(round (num_data['bmi'].median(), 2))"
      ]
    },
    {
      "cell_type": "code",
      "execution_count": null,
      "metadata": {
        "colab": {
          "base_uri": "https://localhost:8080/",
          "height": 334
        },
        "id": "os5c_EZRtalB",
        "outputId": "436b3c18-206c-48f8-e6fe-5437d28b20e6"
      },
      "outputs": [
        {
          "data": {
            "image/png": "[encoded data removed]",
            "text/plain": [
              "<Figure size 1152x360 with 2 Axes>"
            ]
          },
          "metadata": {
            "needs_background": "light"
          },
          "output_type": "display_data"
        }
      ],
      "source": [
        "# Checking the distribution of the predictor variables. \n",
        "# Here, we will use both distplot and boxplot as shown below. \n",
        "# Let us plot each variable to show its distribution in the dataset.\n",
        "#fig, ax = plt.subplots(figsize = (6,6), dpi = 70)\n",
        "plt.figure(1)\n",
        "plt.title('BMI Distribution before droping the abnormal entry')\n",
        "plt.subplot(121), sns.distplot(num_data['bmi'])\n",
        "plt.subplot(122), num_data['bmi'].plot.box(figsize=(16,5))\n",
        "plt.show()"
      ]
    },
    {
      "cell_type": "code",
      "execution_count": null,
      "metadata": {
        "colab": {
          "base_uri": "https://localhost:8080/",
          "height": 334
        },
        "id": "4iw_eG-KtcEw",
        "outputId": "82933a2a-766a-4531-84e7-0f066acc5cd6"
      },
      "outputs": [
        {
          "data": {
            "image/png": "[encoded data removed]",
            "text/plain": [
              "<Figure size 1152x360 with 2 Axes>"
            ]
          },
          "metadata": {
            "needs_background": "light"
          },
          "output_type": "display_data"
        }
      ],
      "source": [
        "plt.figure(1)\n",
        "plt.title('Stroke Distribution with BMI over 40')\n",
        "plt.subplot(121), sns.distplot(bmi_over_40['bmi'])\n",
        "plt.subplot(122), bmi_over_40['bmi'].plot.box(figsize=(16,5))\n",
        "plt.show()"
      ]
    },
    {
      "cell_type": "code",
      "execution_count": null,
      "metadata": {
        "colab": {
          "base_uri": "https://localhost:8080/",
          "height": 334
        },
        "id": "B7g-Ge7YteDR",
        "outputId": "c1b7e8c4-469b-4923-e23c-686d37fd5fcd"
      },
      "outputs": [
        {
          "data": {
            "image/png": "[encoded data removed]",
            "text/plain": [
              "<Figure size 1152x360 with 2 Axes>"
            ]
          },
          "metadata": {
            "needs_background": "light"
          },
          "output_type": "display_data"
        }
      ],
      "source": [
        "plt.figure(1)\n",
        "plt.subplot(121), sns.distplot(data['age'])\n",
        "plt.subplot(122), data['age'].plot.box(figsize=(16,5))\n",
        "plt.show()"
      ]
    },
    {
      "cell_type": "code",
      "execution_count": null,
      "metadata": {
        "colab": {
          "base_uri": "https://localhost:8080/",
          "height": 335
        },
        "id": "jANn4ec0tf7g",
        "outputId": "01f31e3a-b0e3-4df4-ce25-b516c1151226"
      },
      "outputs": [
        {
          "data": {
            "image/png": "[encoded data removed]",
            "text/plain": [
              "<Figure size 1152x360 with 2 Axes>"
            ]
          },
          "metadata": {
            "needs_background": "light"
          },
          "output_type": "display_data"
        }
      ],
      "source": [
        "plt.figure(1)\n",
        "plt.subplot(121), sns.countplot(data['heart_disease'])\n",
        "plt.subplot(122), data['heart_disease'].plot.box(figsize=(16,5))\n",
        "plt.show()"
      ]
    },
    {
      "cell_type": "code",
      "execution_count": null,
      "metadata": {
        "colab": {
          "base_uri": "https://localhost:8080/",
          "height": 335
        },
        "id": "0OJHxT4GthyI",
        "outputId": "dd53c53b-445f-46f7-9b69-ecd7f66cfb88"
      },
      "outputs": [
        {
          "data": {
            "image/png": "[encoded data removed]",
            "text/plain": [
              "<Figure size 1152x360 with 2 Axes>"
            ]
          },
          "metadata": {
            "needs_background": "light"
          },
          "output_type": "display_data"
        }
      ],
      "source": [
        "plt.figure(1)\n",
        "plt.subplot(121), sns.distplot(data['avg_glucose_level'])\n",
        "plt.subplot(122), data['avg_glucose_level'].plot.box(figsize=(16,5))\n",
        "plt.show()"
      ]
    },
    {
      "cell_type": "code",
      "execution_count": null,
      "metadata": {
        "colab": {
          "base_uri": "https://localhost:8080/",
          "height": 383
        },
        "id": "QuvySNlMt1NJ",
        "outputId": "c6d2599e-01c7-49f5-e444-42601574d0f3"
      },
      "outputs": [
        {
          "data": {
            "image/png": "[encoded data removed]",
            "text/plain": [
              "<Figure size 432.125x360 with 1 Axes>"
            ]
          },
          "metadata": {
            "needs_background": "light"
          },
          "output_type": "display_data"
        }
      ],
      "source": [
        "sns.relplot(x='stroke', y='age', hue='gender', data=data ) \n",
        "plt.show()"
      ]
    },
    {
      "cell_type": "markdown",
      "metadata": {
        "id": "o_nQDA0LI9T9"
      },
      "source": [
        "With this it seems that a confusion matrix and a logistic regression may have a better relationship because this is showing that there is not a linear relationship.\n",
        "\n",
        "From this bar chart we can clearly see that for people over 40 years old the majority suffered a stroke. We have an uptick at age 40 then it drops until about age 55 through 65 and drops again and goes all the way up at age 80."
      ]
    },
    {
      "cell_type": "code",
      "execution_count": null,
      "metadata": {
        "colab": {
          "base_uri": "https://localhost:8080/",
          "height": 477
        },
        "id": "XFpvo7BguBiZ",
        "outputId": "3601ca53-5b9a-4700-f478-9bebb11fb679"
      },
      "outputs": [
        {
          "data": {
            "image/png": "[encoded data removed]",
            "text/plain": [
              "<Figure size 648x504 with 1 Axes>"
            ]
          },
          "metadata": {
            "needs_background": "light"
          },
          "output_type": "display_data"
        }
      ],
      "source": [
        "# Scatter Plot\n",
        "plt.figure(figsize = (9,7))\n",
        "sns.scatterplot(x = 'bmi', y = 'avg_glucose_level', hue = 'stroke', data =bmi_over_40)\n",
        "plt.title('Stroke cases - For those with a BMI over 40 ',y=1.05)\n",
        "\n",
        "plt.xlabel('BMI Level')\n",
        "plt.ylabel('Avg Glucose Level')\n",
        "plt.show()"
      ]
    },
    {
      "cell_type": "markdown",
      "metadata": {
        "id": "bsuKkpUuhk1b"
      },
      "source": [
        "# Hypothesis Testing"
      ]
    },
    {
      "cell_type": "code",
      "execution_count": null,
      "metadata": {
        "id": "EGZ0IBVruDSX"
      },
      "outputs": [],
      "source": [
        "def chi2_dependency(data_df, x,y):\n",
        "    ctab = pd.crosstab(data_df[x], data_df[y])\n",
        "    stat, p, dof, expected = chi2_contingency(ctab)\n",
        "    alpha1 = 0.05\n",
        "    alpha2 = 0.01\n",
        "    print('--------------Chi Squared Hypothesis Test Results-------------------')\n",
        "    print('Variable X: ',x)\n",
        "    print('Variable Y: ',y)\n",
        "    if p<alpha1 and p > alpha2:\n",
        "        print('P-value: ',p)\n",
        "        print('We reject the NUll Hypothesis H0')\n",
        "        print('There is some evidence to suggest that {} and {} are dependent'.format(x,y))\n",
        "    if p < alpha1 and p < alpha2:\n",
        "        print('P-value: ',p)\n",
        "        print('We reject the NUll Hypothesis H0')\n",
        "        print('There is substantial evidence to suggest that {} and {} are dependent'.format(x,y))\n",
        "    else:\n",
        "        print('P-value: ',p)\n",
        "        print('We fail to reject the NUll Hypothesis H0')\n",
        "        print('There is no evidence to suggest that {} and {} are independent'.format(x,y))\n",
        "        \n",
        "    print()"
      ]
    },
    {
      "cell_type": "code",
      "execution_count": null,
      "metadata": {
        "colab": {
          "base_uri": "https://localhost:8080/"
        },
        "id": "kg5Sx5yBuGzu",
        "outputId": "0f895ad5-07db-4f9a-fec7-a4604a7d8637"
      },
      "outputs": [
        {
          "name": "stdout",
          "output_type": "stream",
          "text": [
            "--------------Chi Squared Hypothesis Test Results-------------------\n",
            "Variable X:  gender\n",
            "Variable Y:  stroke\n",
            "P-value:  0.5598277580669416\n",
            "We fail to reject the NUll Hypothesis H0\n",
            "There is no evidence to suggest that gender and stroke are independent\n",
            "\n",
            "--------------Chi Squared Hypothesis Test Results-------------------\n",
            "Variable X:  ever_married\n",
            "Variable Y:  stroke\n",
            "P-value:  1.6862856191673454e-14\n",
            "We reject the NUll Hypothesis H0\n",
            "There is substantial evidence to suggest that ever_married and stroke are dependent\n",
            "\n",
            "--------------Chi Squared Hypothesis Test Results-------------------\n",
            "Variable X:  hypertension\n",
            "Variable Y:  stroke\n",
            "P-value:  1.688936253410575e-19\n",
            "We reject the NUll Hypothesis H0\n",
            "There is substantial evidence to suggest that hypertension and stroke are dependent\n",
            "\n",
            "--------------Chi Squared Hypothesis Test Results-------------------\n",
            "Variable X:  heart_disease\n",
            "Variable Y:  stroke\n",
            "P-value:  2.120831133146208e-21\n",
            "We reject the NUll Hypothesis H0\n",
            "There is substantial evidence to suggest that heart_disease and stroke are dependent\n",
            "\n",
            "--------------Chi Squared Hypothesis Test Results-------------------\n",
            "Variable X:  work_type\n",
            "Variable Y:  stroke\n",
            "P-value:  5.40903546949726e-10\n",
            "We reject the NUll Hypothesis H0\n",
            "There is substantial evidence to suggest that work_type and stroke are dependent\n",
            "\n",
            "--------------Chi Squared Hypothesis Test Results-------------------\n",
            "Variable X:  Residence_type\n",
            "Variable Y:  stroke\n",
            "P-value:  0.29982523877153633\n",
            "We fail to reject the NUll Hypothesis H0\n",
            "There is no evidence to suggest that Residence_type and stroke are independent\n",
            "\n",
            "--------------Chi Squared Hypothesis Test Results-------------------\n",
            "Variable X:  smoking_status\n",
            "Variable Y:  stroke\n",
            "P-value:  2.0077041756108317e-06\n",
            "We reject the NUll Hypothesis H0\n",
            "There is substantial evidence to suggest that smoking_status and stroke are dependent\n",
            "\n"
          ]
        }
      ],
      "source": [
        "chi2_dependency(data,'gender','stroke')\n",
        "chi2_dependency(data,'ever_married','stroke')\n",
        "chi2_dependency(data,'hypertension','stroke')\n",
        "chi2_dependency(data,'heart_disease','stroke')\n",
        "chi2_dependency(data,'work_type','stroke')\n",
        "chi2_dependency(data,'Residence_type','stroke')\n",
        "chi2_dependency(data,'smoking_status','stroke')"
      ]
    },
    {
      "cell_type": "markdown",
      "metadata": {
        "id": "SsnQXIedJCG5"
      },
      "source": [
        "Gender and Residential Type do not seem to have an impact on stroke\n",
        "Smoking Status, Work Type, Heart Disease, Hypertension and Married status have an impact on stroke"
      ]
    },
    {
      "cell_type": "code",
      "execution_count": null,
      "metadata": {
        "colab": {
          "base_uri": "https://localhost:8080/",
          "height": 424
        },
        "id": "ZKk2SwQ4uIxX",
        "outputId": "7e7ce2c9-2815-4c58-f403-f7789dcd406c"
      },
      "outputs": [
        {
          "data": {
            "image/png": "[encoded data removed]",
            "text/plain": [
              "<Figure size 576x360 with 1 Axes>"
            ]
          },
          "metadata": {
            "needs_background": "light"
          },
          "output_type": "display_data"
        }
      ],
      "source": [
        "ctab = pd.crosstab(data['smoking_status'], data['stroke'])\n",
        "\n",
        "\n",
        "ctab.plot.bar(stacked = True, figsize = (8,5))\n",
        "plt.xlabel('Smoking Status')\n",
        "plt.ylabel('Stroke')\n",
        "plt.title('Smoking Status and Stroke')\n",
        "plt.show()"
      ]
    },
    {
      "cell_type": "code",
      "execution_count": null,
      "metadata": {
        "colab": {
          "base_uri": "https://localhost:8080/",
          "height": 400
        },
        "id": "z5VbXmz6uLTX",
        "outputId": "3eb0f329-498e-4efd-ed48-0b31bfeed1ae"
      },
      "outputs": [
        {
          "data": {
            "image/png": "[encoded data removed]",
            "text/plain": [
              "<Figure size 576x360 with 1 Axes>"
            ]
          },
          "metadata": {
            "needs_background": "light"
          },
          "output_type": "display_data"
        },
        {
          "name": "stdout",
          "output_type": "stream",
          "text": [
            "Ratio of stroke affected from ever_married class 0.07426185505517446\n",
            "Ratio of stroke affected from never married class 0.1417995444191344\n"
          ]
        }
      ],
      "source": [
        "ctab = pd.crosstab(data['ever_married'], data['stroke'])\n",
        "\n",
        "ctab.plot.bar(stacked = True, figsize = (8,5))\n",
        "plt.xlabel('Ever Married')\n",
        "plt.ylabel('Stroke')\n",
        "plt.title('Married Status and Stroke')\n",
        "plt.show()\n",
        "\n",
        "print('Ratio of stroke affected from ever_married class',\n",
        "      len(data[data['stroke']==1])/len(data[data['ever_married']==True]))\n",
        "      \n",
        "print('Ratio of stroke affected from never married class',\n",
        "      len(data[data['stroke']==1])/len(data[data['ever_married']==False]))"
      ]
    },
    {
      "cell_type": "code",
      "execution_count": null,
      "metadata": {
        "id": "6htmSktouNYt"
      },
      "outputs": [],
      "source": [
        "target_col = ['stroke']\n",
        "num_cols = ['id', 'age', 'avg_glucose_level', 'bmi']\n",
        "cat_cols = [col for col in data.columns if col not in num_cols+target_col]"
      ]
    },
    {
      "cell_type": "code",
      "execution_count": null,
      "metadata": {
        "id": "nyRgRq-NuVT_"
      },
      "outputs": [],
      "source": [
        "from sklearn import preprocessing\n",
        "\n",
        "label_encoder = preprocessing.LabelEncoder()\n",
        "data['gender'] = label_encoder.fit_transform(data['gender'])\n",
        "data['ever_married'] = label_encoder.fit_transform(data['ever_married'])\n",
        "data['Residence_type'] = label_encoder.fit_transform(data['Residence_type'])"
      ]
    },
    {
      "cell_type": "code",
      "execution_count": null,
      "metadata": {
        "id": "Eue_Ql1UuXqg"
      },
      "outputs": [],
      "source": [
        "data = pd.get_dummies(data, prefix = ['work_type'], columns = ['work_type'])\n",
        "data = pd.get_dummies(data, prefix = ['smoking_status'], columns = ['smoking_status'])"
      ]
    },
    {
      "cell_type": "code",
      "execution_count": null,
      "metadata": {
        "colab": {
          "base_uri": "https://localhost:8080/",
          "height": 223
        },
        "id": "L8xN4yHLUW_G",
        "outputId": "ec27c740-ee30-4303-beb5-3e312cd35f10"
      },
      "outputs": [
        {
          "data": {
            "text/html": [
              "<div>\n",
              "<style scoped>\n",
              "    .dataframe tbody tr th:only-of-type {\n",
              "        vertical-align: middle;\n",
              "    }\n",
              "\n",
              "    .dataframe tbody tr th {\n",
              "        vertical-align: top;\n",
              "    }\n",
              "\n",
              "    .dataframe thead th {\n",
              "        text-align: right;\n",
              "    }\n",
              "</style>\n",
              "<table border=\"1\" class=\"dataframe\">\n",
              "  <thead>\n",
              "    <tr style=\"text-align: right;\">\n",
              "      <th></th>\n",
              "      <th>id</th>\n",
              "      <th>gender</th>\n",
              "      <th>age</th>\n",
              "      <th>hypertension</th>\n",
              "      <th>heart_disease</th>\n",
              "      <th>ever_married</th>\n",
              "      <th>Residence_type</th>\n",
              "      <th>avg_glucose_level</th>\n",
              "      <th>bmi</th>\n",
              "      <th>stroke</th>\n",
              "      <th>work_type_Govt_job</th>\n",
              "      <th>work_type_Never_worked</th>\n",
              "      <th>work_type_Private</th>\n",
              "      <th>work_type_Self-employed</th>\n",
              "      <th>work_type_children</th>\n",
              "      <th>smoking_status_Unknown</th>\n",
              "      <th>smoking_status_formerly smoked</th>\n",
              "      <th>smoking_status_never smoked</th>\n",
              "      <th>smoking_status_smokes</th>\n",
              "    </tr>\n",
              "  </thead>\n",
              "  <tbody>\n",
              "    <tr>\n",
              "      <th>0</th>\n",
              "      <td>64128</td>\n",
              "      <td>1</td>\n",
              "      <td>10.0</td>\n",
              "      <td>0</td>\n",
              "      <td>0</td>\n",
              "      <td>0</td>\n",
              "      <td>1</td>\n",
              "      <td>63.08</td>\n",
              "      <td>20.5</td>\n",
              "      <td>0</td>\n",
              "      <td>0</td>\n",
              "      <td>0</td>\n",
              "      <td>0</td>\n",
              "      <td>0</td>\n",
              "      <td>1</td>\n",
              "      <td>0</td>\n",
              "      <td>0</td>\n",
              "      <td>0</td>\n",
              "      <td>1</td>\n",
              "    </tr>\n",
              "    <tr>\n",
              "      <th>1</th>\n",
              "      <td>4833</td>\n",
              "      <td>0</td>\n",
              "      <td>12.0</td>\n",
              "      <td>0</td>\n",
              "      <td>0</td>\n",
              "      <td>0</td>\n",
              "      <td>0</td>\n",
              "      <td>207.45</td>\n",
              "      <td>25.4</td>\n",
              "      <td>0</td>\n",
              "      <td>0</td>\n",
              "      <td>0</td>\n",
              "      <td>0</td>\n",
              "      <td>0</td>\n",
              "      <td>1</td>\n",
              "      <td>0</td>\n",
              "      <td>0</td>\n",
              "      <td>0</td>\n",
              "      <td>1</td>\n",
              "    </tr>\n",
              "    <tr>\n",
              "      <th>2</th>\n",
              "      <td>42821</td>\n",
              "      <td>0</td>\n",
              "      <td>13.0</td>\n",
              "      <td>0</td>\n",
              "      <td>0</td>\n",
              "      <td>0</td>\n",
              "      <td>0</td>\n",
              "      <td>60.69</td>\n",
              "      <td>24.0</td>\n",
              "      <td>0</td>\n",
              "      <td>0</td>\n",
              "      <td>0</td>\n",
              "      <td>1</td>\n",
              "      <td>0</td>\n",
              "      <td>0</td>\n",
              "      <td>0</td>\n",
              "      <td>0</td>\n",
              "      <td>0</td>\n",
              "      <td>1</td>\n",
              "    </tr>\n",
              "    <tr>\n",
              "      <th>3</th>\n",
              "      <td>37395</td>\n",
              "      <td>0</td>\n",
              "      <td>16.0</td>\n",
              "      <td>0</td>\n",
              "      <td>0</td>\n",
              "      <td>0</td>\n",
              "      <td>1</td>\n",
              "      <td>63.63</td>\n",
              "      <td>20.0</td>\n",
              "      <td>0</td>\n",
              "      <td>0</td>\n",
              "      <td>0</td>\n",
              "      <td>1</td>\n",
              "      <td>0</td>\n",
              "      <td>0</td>\n",
              "      <td>0</td>\n",
              "      <td>0</td>\n",
              "      <td>0</td>\n",
              "      <td>1</td>\n",
              "    </tr>\n",
              "    <tr>\n",
              "      <th>4</th>\n",
              "      <td>63312</td>\n",
              "      <td>1</td>\n",
              "      <td>16.0</td>\n",
              "      <td>0</td>\n",
              "      <td>0</td>\n",
              "      <td>0</td>\n",
              "      <td>1</td>\n",
              "      <td>80.55</td>\n",
              "      <td>23.5</td>\n",
              "      <td>0</td>\n",
              "      <td>0</td>\n",
              "      <td>0</td>\n",
              "      <td>1</td>\n",
              "      <td>0</td>\n",
              "      <td>0</td>\n",
              "      <td>0</td>\n",
              "      <td>0</td>\n",
              "      <td>0</td>\n",
              "      <td>1</td>\n",
              "    </tr>\n",
              "  </tbody>\n",
              "</table>\n",
              "</div>"
            ],
            "text/plain": [
              "      id  gender   age  hypertension  heart_disease  ever_married  \\\n",
              "0  64128       1  10.0             0              0             0   \n",
              "1   4833       0  12.0             0              0             0   \n",
              "2  42821       0  13.0             0              0             0   \n",
              "3  37395       0  16.0             0              0             0   \n",
              "4  63312       1  16.0             0              0             0   \n",
              "\n",
              "   Residence_type  avg_glucose_level   bmi  stroke  work_type_Govt_job  \\\n",
              "0               1              63.08  20.5       0                   0   \n",
              "1               0             207.45  25.4       0                   0   \n",
              "2               0              60.69  24.0       0                   0   \n",
              "3               1              63.63  20.0       0                   0   \n",
              "4               1              80.55  23.5       0                   0   \n",
              "\n",
              "   work_type_Never_worked  work_type_Private  work_type_Self-employed  \\\n",
              "0                       0                  0                        0   \n",
              "1                       0                  0                        0   \n",
              "2                       0                  1                        0   \n",
              "3                       0                  1                        0   \n",
              "4                       0                  1                        0   \n",
              "\n",
              "   work_type_children  smoking_status_Unknown  smoking_status_formerly smoked  \\\n",
              "0                   1                       0                               0   \n",
              "1                   1                       0                               0   \n",
              "2                   0                       0                               0   \n",
              "3                   0                       0                               0   \n",
              "4                   0                       0                               0   \n",
              "\n",
              "   smoking_status_never smoked  smoking_status_smokes  \n",
              "0                            0                      1  \n",
              "1                            0                      1  \n",
              "2                            0                      1  \n",
              "3                            0                      1  \n",
              "4                            0                      1  "
            ]
          },
          "execution_count": 70,
          "metadata": {},
          "output_type": "execute_result"
        }
      ],
      "source": [
        "data.head()"
      ]
    },
    {
      "cell_type": "markdown",
      "metadata": {
        "id": "d1FZAZGgk4f4"
      },
      "source": [
        "## Alter data to be conducive for a BigQuery ingest job"
      ]
    },
    {
      "cell_type": "markdown",
      "metadata": {
        "id": "v54XnI7zk4f5"
      },
      "source": [
        "This requires having writing rights in the service accounts. As the provided service account has only reading rights, we already did the job for you.\n",
        "If you have a service account with reading rights, you uncomment the following cell and rn it."
      ]
    },
    {
      "cell_type": "code",
      "execution_count": null,
      "metadata": {
        "colab": {
          "base_uri": "https://localhost:8080/"
        },
        "id": "Xd7wfIhsS8qb",
        "outputId": "a7092130-08ab-4873-e654-87492c37994e"
      },
      "outputs": [
        {
          "name": "stdout",
          "output_type": "stream",
          "text": [
            "Loaded 35764 rows.\n"
          ]
        }
      ],
      "source": [
        "# Alter data to be conducive for a BigQuery ingest job. \n",
        "names_types = [(\"_\".join(col.split(\"-\")) if \"-\" in col else \"_\".join(col.split(\" \")), data[col].dtype if data[col].dtype != 'uint8' else \"INT\") for col in data.columns]\n",
        "# The column names must match in the DataFrame and BigQuery ingestion. For example Big Query doesn't accept \"-\" in column names.\n",
        "data = data.rename(columns={x:y[0] for x,y in zip(data.columns, names_types)})\n",
        "\n",
        "# TODO(developer): Set table_id to the ID of the table to create.\n",
        "table_id = \"nodal-unity-277700.healthcareData.StrokeDataTraining\"\n",
        "\n",
        "job_config = bigquery.LoadJobConfig(\n",
        "   schema=[bigquery.SchemaField(col, str(data[col].dtype if data[col].dtype != 'uint8' else \"INT64\")) for col in data.columns],)\n",
        "\n",
        "load_job = client.load_table_from_dataframe(data, table_id, job_config=job_config)  # Make an API request.\n",
        "\n",
        "load_job.result()  # Waits for the job to complete.\n",
        "\n",
        "destination_table = client.get_table(table_id)  # Make an API request.\n",
        "print(\"Loaded {} rows.\".format(destination_table.num_rows))\n"
      ]
    },
    {
      "cell_type": "markdown",
      "metadata": {
        "id": "qkVGZcWDk4f5"
      },
      "source": [
        "## Splitting the dataset"
      ]
    },
    {
      "cell_type": "code",
      "execution_count": null,
      "metadata": {
        "id": "WayIzUVsud0f"
      },
      "outputs": [],
      "source": [
        "#include categorical values in the dataset\n",
        "#Since we are using a Tree based model, One-Hot encoding is not an absolute necessity\n",
        "#However, this dataset, train and test sets will be updated whenever one-hot encoding will be used\n",
        "from sklearn.model_selection import train_test_split\n",
        "\n",
        "#Splitting the dataset\n",
        "x = data.drop('stroke', axis=1)\n",
        "y = data.stroke\n",
        "\n",
        "xtrain, xtest, ytrain, ytest = train_test_split(x, y, train_size = 0.3, random_state=1)"
      ]
    },
    {
      "cell_type": "markdown",
      "metadata": {
        "id": "TcbHq0ghk4f5"
      },
      "source": [
        "**Before proceeding for tree based models, lets check rank of feature importance on a decision tree**"
      ]
    },
    {
      "cell_type": "code",
      "execution_count": null,
      "metadata": {
        "colab": {
          "base_uri": "https://localhost:8080/"
        },
        "id": "_BmtRH6KuhAf",
        "outputId": "770a0cd4-5c26-4cff-8e97-f297c215617e"
      },
      "outputs": [
        {
          "data": {
            "text/plain": [
              "DecisionTreeClassifier()"
            ]
          },
          "execution_count": 73,
          "metadata": {},
          "output_type": "execute_result"
        }
      ],
      "source": [
        "from sklearn.tree import DecisionTreeClassifier\n",
        "dt = DecisionTreeClassifier()\n",
        "dt.fit(xtrain,ytrain)"
      ]
    },
    {
      "cell_type": "code",
      "execution_count": null,
      "metadata": {
        "colab": {
          "base_uri": "https://localhost:8080/"
        },
        "id": "GyYCa3mgukwk",
        "outputId": "bf1c9af9-6bfe-40e0-d6b3-fdd504d4c1a5"
      },
      "outputs": [
        {
          "name": "stdout",
          "output_type": "stream",
          "text": [
            "18\n"
          ]
        },
        {
          "data": {
            "text/plain": [
              "18"
            ]
          },
          "execution_count": 74,
          "metadata": {},
          "output_type": "execute_result"
        }
      ],
      "source": [
        "print(len(xtrain.columns.tolist()))\n",
        "len(dt.feature_importances_)"
      ]
    },
    {
      "cell_type": "code",
      "execution_count": null,
      "metadata": {
        "colab": {
          "base_uri": "https://localhost:8080/",
          "height": 501
        },
        "id": "YGyuXa2yum3U",
        "outputId": "5f542e19-f0b9-48cf-febe-e58fd937af47"
      },
      "outputs": [
        {
          "data": {
            "text/plain": [
              "<AxesSubplot:>"
            ]
          },
          "execution_count": 75,
          "metadata": {},
          "output_type": "execute_result"
        },
        {
          "data": {
            "image/png": "[encoded data removed]",
            "text/plain": [
              "<Figure size 576x576 with 1 Axes>"
            ]
          },
          "metadata": {
            "needs_background": "light"
          },
          "output_type": "display_data"
        }
      ],
      "source": [
        "plt.figure(figsize = (8,8))\n",
        "sns.barplot(x = dt.feature_importances_, y = xtrain.columns.tolist())"
      ]
    },
    {
      "cell_type": "markdown",
      "metadata": {
        "id": "QMXlnZh6k4f6"
      },
      "source": [
        "## Modeling"
      ]
    },
    {
      "cell_type": "markdown",
      "metadata": {
        "id": "YUYJQ6Oik4f6"
      },
      "source": [
        "ML algorithms can have a poor performance when dealing with datasets in which one or more classes represent only a small proportion of the overall dataset compared with a dominant class. This problem can be solved by balancing the number of examples between different classes. Here we suggest to use SMOTE (Synthetic Minority Over-sampling Technique) that creates synthetic data based on creating new data points that are mid-way between two near neighbours in any particular class.SMOTE is applied ONLY on the training set and not on the test set to avoid biased results."
      ]
    },
    {
      "cell_type": "markdown",
      "metadata": {
        "id": "Z0hphX19k4f6"
      },
      "source": [
        "Here we are going to models, one using the SMOTE method to balance the dataset and another one with our original data in order to compare them"
      ]
    },
    {
      "cell_type": "code",
      "execution_count": null,
      "metadata": {
        "id": "SOEwknUik4f6"
      },
      "outputs": [],
      "source": [
        "##SMOTE data\n",
        "from imblearn.over_sampling import SMOTE\n",
        "sm = SMOTE(random_state = 2)\n",
        "xtrain_mod, ytrain_mod = sm.fit_resample(xtrain, ytrain)"
      ]
    },
    {
      "cell_type": "markdown",
      "metadata": {
        "id": "-nKn17OzyjuI"
      },
      "source": [
        "Let's instanciate a new Experiment for this modeling job. "
      ]
    },
    {
      "cell_type": "code",
      "execution_count": null,
      "metadata": {
        "id": "KpPqGzjQyi7K"
      },
      "outputs": [],
      "source": [
        "# We create our experiment for modeling and specify the project we will be working on\n",
        "# Each experiment only contains one job. Each invokation of the job is called a run.\n",
        "# autocode = True enables you to track your git changes for your code automatically every time you execute a run (see below).\n",
        "experiment = Experiment(job=\"Modeling\", job_type = JobType.TRAINING, project=PROJECT_ID, auto_code = True)"
      ]
    },
    {
      "cell_type": "markdown",
      "metadata": {
        "id": "qVLCNmgMk4f6"
      },
      "source": [
        "In the cell below, we create dataset versions that will be used as inputs for our modeling runs"
      ]
    },
    {
      "cell_type": "code",
      "execution_count": null,
      "metadata": {
        "id": "0MFi9gLKk4f6"
      },
      "outputs": [],
      "source": [
        "input_non_smote_ds = experiment.add_dataset_version(\"Brain Imaging Training Data\")\n",
        "input_smote_ds = experiment.add_dataset_version(\"Brain Imaging SMOTE Data\")"
      ]
    },
    {
      "cell_type": "markdown",
      "metadata": {
        "id": "KIbfGTOZk4f7",
        "tags": []
      },
      "source": [
        "### RandomForest"
      ]
    },
    {
      "cell_type": "code",
      "execution_count": null,
      "metadata": {
        "id": "hC5PQFnpk4f7"
      },
      "outputs": [],
      "source": [
        "#Building the model using RandomForest\n",
        "from sklearn.ensemble import RandomForestClassifier\n",
        "n_estimators=500\n",
        "rfc = RandomForestClassifier(n_estimators)\n",
        "rfc.fit(xtrain, ytrain)\n",
        "preds = rfc.predict(xtest)"
      ]
    },
    {
      "cell_type": "code",
      "execution_count": null,
      "metadata": {
        "colab": {
          "base_uri": "https://localhost:8080/"
        },
        "id": "mKNXlsoRusqc",
        "outputId": "0cff11ad-6a99-479d-da35-39abb23ccf13"
      },
      "outputs": [
        {
          "data": {
            "text/plain": [
              "array([[3396,    0],\n",
              "       [ 181,    0]])"
            ]
          },
          "execution_count": 149,
          "metadata": {},
          "output_type": "execute_result"
        }
      ],
      "source": [
        "from sklearn.metrics import confusion_matrix\n",
        "confusion_matrix(ytest, preds)"
      ]
    },
    {
      "cell_type": "markdown",
      "metadata": {
        "id": "EAzEO5AkJWuW"
      },
      "source": [
        "True positives are on the upper left. Then the botton right is the true negative. Which means, that I was supposed a negative and the model got a negative.\n",
        "\n",
        "The false positive is the number on the upper right. False negative are the numbers on the bottom left.\n",
        "\n",
        "Here we have the True negatives or 0s because we don't have many cases of strokes. Meaning that 3,388 people did not have a stroke.\n",
        "\n",
        "On the inverse we have the True positive or 1s for those who suffered a stroke.\n",
        "\n",
        "is the False negative, those who were predicted as 1 but they were 0s. Number 13"
      ]
    },
    {
      "cell_type": "code",
      "execution_count": null,
      "metadata": {
        "id": "vpyzbBeYk4f7",
        "outputId": "dab57d26-264e-467e-b962-c205c33d17c8"
      },
      "outputs": [
        {
          "data": {
            "text/plain": [
              "0.9493989376572547"
            ]
          },
          "execution_count": 150,
          "metadata": {},
          "output_type": "execute_result"
        }
      ],
      "source": [
        "from sklearn.metrics import accuracy_score\n",
        "accuracy_score_dt = accuracy_score(ytest,preds)\n",
        "accuracy_score_dt"
      ]
    },
    {
      "cell_type": "code",
      "execution_count": null,
      "metadata": {
        "id": "gLt-NcT3k4f7",
        "outputId": "a02df326-8356-4180-da3b-fc627dbb1533"
      },
      "outputs": [
        {
          "data": {
            "text/plain": [
              "0.9493989376572547"
            ]
          },
          "execution_count": 151,
          "metadata": {},
          "output_type": "execute_result"
        }
      ],
      "source": [
        "from sklearn.metrics import f1_score\n",
        "f1_score_dt = f1_score(ytest, preds, average='micro')\n",
        "f1_score_dt"
      ]
    },
    {
      "cell_type": "code",
      "execution_count": null,
      "metadata": {
        "id": "xBqsYB6Nk4f7",
        "outputId": "8ae71154-ab0c-41a6-e13b-882ad507082f"
      },
      "outputs": [
        {
          "data": {
            "text/plain": [
              "7563"
            ]
          },
          "execution_count": 152,
          "metadata": {},
          "output_type": "execute_result"
        }
      ],
      "source": [
        "# Adding a version of the Random Forest Classifier to the list of Non_smote_models\n",
        "experiment.start(inputs=[input_non_smote_ds, input_code], run_notes=\"Non-SMOTE_RandomForest\", run_properties={\"A run property\": \"A value\"})\n",
        "# Let's log the model we trained along with its metrics, as a new version \n",
        "# of the \"Non_smote_models\" model in Vectice.\n",
        "metrics = {\"Accuracy Score\": accuracy_score_dt, \"F1 Score\": f1_score_dt}\n",
        "model_version =  experiment.add_model_version(model=\"Non_smote_models\", algorithm=\"Random Forest Classifier\", metrics=metrics, hyper_parameters={\"n_estimators\", str(n_estimators)})\n",
        "# We complete the current experiment's run \n",
        "## The created model versions will be automatically attached as an output of the run\n",
        "experiment.complete()"
      ]
    },
    {
      "cell_type": "markdown",
      "metadata": {
        "id": "wHc8u2QdJeJk"
      },
      "source": [
        "True positives are on the upper left. The botton right is for true negatives. Which means, that I was supposed a negative and the model got a negative.\n",
        "\n",
        "The false positive is the number on the upper right. False negative are the numbers on the bottom left.\n",
        "\n",
        "Gradient Boost Classifier\n",
        "Include categorical values in the dataset. Since we are using a Tree based model, One-Hot encoding is not an absolute necessity\n",
        "\n",
        "However, this dataset, train and test sets will be updated whenever one-hot enconding will be used"
      ]
    },
    {
      "cell_type": "markdown",
      "metadata": {
        "id": "cspkDCqQk4f8"
      },
      "source": [
        "### Using GradientBoost Classifier"
      ]
    },
    {
      "cell_type": "markdown",
      "metadata": {
        "id": "J_rpcCb6k4f8"
      },
      "source": [
        "**Non Smote Dataset**"
      ]
    },
    {
      "cell_type": "code",
      "execution_count": null,
      "metadata": {
        "colab": {
          "base_uri": "https://localhost:8080/"
        },
        "id": "UXoSXwkivJl_",
        "outputId": "59471a4c-ff48-4c62-bd4a-43ef69766344"
      },
      "outputs": [
        {
          "name": "stdout",
          "output_type": "stream",
          "text": [
            "[[3356   40]\n",
            " [ 172    9]]\n",
            "{'0': {'precision': 0.9512471655328798, 'recall': 0.9882214369846879, 'f1-score': 0.9693818601964183, 'support': 3396}, '1': {'precision': 0.1836734693877551, 'recall': 0.049723756906077346, 'f1-score': 0.07826086956521738, 'support': 181}, 'accuracy': 0.9407324573665082, 'macro avg': {'precision': 0.5674603174603174, 'recall': 0.5189725969453827, 'f1-score': 0.5238213648808179, 'support': 3577}, 'weighted avg': {'precision': 0.9124071210815888, 'recall': 0.9407324573665082, 'f1-score': 0.9242901913945599, 'support': 3577}}\n",
            "Accuracy Score:  0.9407324573665082\n",
            "F1 Score:  0.07826086956521738\n"
          ]
        },
        {
          "data": {
            "text/plain": [
              "7564"
            ]
          },
          "execution_count": 153,
          "metadata": {},
          "output_type": "execute_result"
        }
      ],
      "source": [
        "from sklearn.ensemble import GradientBoostingClassifier\n",
        "\n",
        "# Adding a version of the GradientBoost Classifier to the list of Non_smote_models\n",
        "\n",
        "experiment.start(inputs=[input_non_smote_ds, input_code], run_notes=\"Non-SMOTE_GradientBoost\", run_properties={\"A run property\": \"A value\"})\n",
        "\n",
        "random_state = 123\n",
        "n_estimators = 500\n",
        "gbc = GradientBoostingClassifier(random_state=random_state, n_estimators=n_estimators)\n",
        "gbc.fit(xtrain,ytrain)\n",
        "\n",
        "preds = gbc.predict(xtest)\n",
        "print(confusion_matrix(ytest, preds))\n",
        "print(classification_report(ytest, preds, output_dict = True))\n",
        "accuracy_score_gbc = accuracy_score(ytest, preds)\n",
        "f1_score_gbc = f1_score(ytest,preds)\n",
        "print('Accuracy Score: ',accuracy_score(ytest, preds))\n",
        "print('F1 Score: ',f1_score(ytest,preds))\n",
        "\n",
        "# Let's log the model we trained along with its metrics, as a new version \n",
        "# of the \"Non_smote_models\" model in Vectice.\n",
        "\n",
        "hyper_parameters = {\"random_state\": str(random_state), \"n_estimators\": str(n_estimators)}\n",
        "metrics = {\"Accuracy Score\": accuracy_score_gbc, \"F1 Score\": f1_score_gbc}\n",
        "\n",
        "model_version =  experiment.add_model_version(model=\"Non_smote_models\", algorithm=\"Gradient Boosting Classifier\", metrics=metrics, hyper_parameters=hyper_parameters)\n",
        "# We complete the current experiment's run \n",
        "## The created model versions will be automatically attached as outputs of the run\n",
        "experiment.complete()"
      ]
    },
    {
      "cell_type": "markdown",
      "metadata": {
        "id": "4d2zpVALk4f8"
      },
      "source": [
        "**Smote Dataset**"
      ]
    },
    {
      "cell_type": "code",
      "execution_count": null,
      "metadata": {
        "colab": {
          "base_uri": "https://localhost:8080/"
        },
        "id": "GM6mY_g8vQ5F",
        "outputId": "ea3347f3-390d-4f14-e4c9-4c6675c7f886"
      },
      "outputs": [
        {
          "name": "stdout",
          "output_type": "stream",
          "text": [
            "[[2873  523]\n",
            " [ 101   80]]\n",
            "Accuracy Score:  0.8255521386636846\n",
            "F1 Score:  0.2040816326530612\n"
          ]
        },
        {
          "data": {
            "text/plain": [
              "7565"
            ]
          },
          "execution_count": 154,
          "metadata": {},
          "output_type": "execute_result"
        }
      ],
      "source": [
        "## Applying on Smote Dataset\n",
        "\n",
        "# Adding a version of the GradientBoost Classifier to the list of smote_models\n",
        "\n",
        "experiment.start(inputs=[input_smote_ds, input_code], run_notes=\"SMOTE_GradientBoost\", run_properties={\"A run property\": \"A value\"})\n",
        "\n",
        "\n",
        "random_state = 123\n",
        "n_estimators = 30\n",
        "max_depth = 2\n",
        "gbc2 = GradientBoostingClassifier(random_state= random_state, n_estimators=n_estimators, max_depth=max_depth)\n",
        "gbc2.fit(xtrain_mod,ytrain_mod)\n",
        "preds = gbc2.predict(xtest)\n",
        "print(confusion_matrix(ytest, preds))\n",
        "\n",
        "accuracy_score_gbc_smote = accuracy_score(ytest, preds)\n",
        "f1_score_gbc_smote = f1_score(ytest,preds)\n",
        "print('Accuracy Score: ',accuracy_score(ytest, preds))\n",
        "print('F1 Score: ',f1_score(ytest,preds))\n",
        "\n",
        "# Let's log the model we trained along with its metrics, as a new version \n",
        "# of the \"smote_models\" model in Vectice.\n",
        "\n",
        "metrics = {\"Accuracy Score\": accuracy_score_gbc_smote, \"F1 Score\": f1_score_gbc_smote}\n",
        "hyper_parameters = {\"random_state\": str(random_state), \"n_estimators\": str(n_estimators), \"max_depth\": str(max_depth)}\n",
        "model_version =  experiment.add_model_version(model=\"smote_models\", algorithm=\"Gradient Boosting Classifier SMOTE\", metrics=metrics, hyper_parameters=hyper_parameters)\n",
        "\n",
        "# We complete the current experiment's run \n",
        "## The created model versions will be automatically attached as outputs of the run\n",
        "experiment.complete()"
      ]
    },
    {
      "cell_type": "markdown",
      "metadata": {
        "id": "cSwk8ob4k4f8"
      },
      "source": [
        "### XGBoost"
      ]
    },
    {
      "cell_type": "markdown",
      "metadata": {
        "id": "YOa-eloEk4f9"
      },
      "source": [
        "**Non Smote Dataset**"
      ]
    },
    {
      "cell_type": "code",
      "execution_count": null,
      "metadata": {
        "colab": {
          "base_uri": "https://localhost:8080/"
        },
        "id": "Tt38QTDSvShl",
        "outputId": "c8b2ddde-bf14-4288-dda1-cf18542910ca"
      },
      "outputs": [
        {
          "name": "stdout",
          "output_type": "stream",
          "text": [
            "[15:27:11] WARNING: ../src/learner.cc:1115: Starting in XGBoost 1.3.0, the default evaluation metric used with the objective 'binary:logistic' was changed from 'error' to 'logloss'. Explicitly set eval_metric if you'd like to restore the old behavior.\n",
            "[[3353   43]\n",
            " [ 173    8]]\n",
            "Train Accuracy Score:  1.0\n",
            "Train F1 Score:  1.0\n",
            "Test Accuracy Score:  0.9396142018451216\n",
            "F1 Score:  0.06896551724137931\n"
          ]
        },
        {
          "data": {
            "text/plain": [
              "7566"
            ]
          },
          "execution_count": 155,
          "metadata": {},
          "output_type": "execute_result"
        }
      ],
      "source": [
        "#Fitting model on non-SMOTE dataset\n",
        "\n",
        "# Adding a version of the XGBoost Classifier to the list of Non_smote_models\n",
        "experiment.start(inputs=[input_non_smote_ds, input_code], run_notes=\"Non-SMOTE_XGBoost\", run_properties={\"A run property\": \"A value\"})\n",
        "\n",
        "n_estimators = 250\n",
        "xgb1 = XGBClassifier(n_estimators=n_estimators)\n",
        "xgb1.fit(xtrain, ytrain)\n",
        "preds = xgb1.predict(xtest)\n",
        "print(confusion_matrix(ytest, preds))\n",
        "\n",
        "train_preds = xgb1.predict(xtrain)\n",
        "print('Train Accuracy Score: ',accuracy_score(ytrain, train_preds))\n",
        "print('Train F1 Score: ',f1_score(ytrain, train_preds))\n",
        "\n",
        "xgb_accuracy_score = accuracy_score(ytest, preds)\n",
        "xgb_f1_score = f1_score(ytest,preds)\n",
        "print('Test Accuracy Score: ', xgb_accuracy_score)\n",
        "print('F1 Score: ', xgb_f1_score)\n",
        "\n",
        "# Let's log the model we trained along with its metrics, as a new version \n",
        "# of the \"Non_smote_models\" model in Vectice.\n",
        "hyper_parameters = {\"n_estimators\": str(n_estimators)}\n",
        "metrics = {\"Accuracy Score\": xgb_accuracy_score, \"F1 Score\": xgb_f1_score}\n",
        "model_version =  experiment.add_model_version(model=\"Non_smote_models\", algorithm=\"XGBoost\", metrics=metrics,hyper_parameters=hyper_parameters)\n",
        "\n",
        "# We complete the current experiment's run \n",
        "## The created model versions will be automatically attached as outputs of the run\n",
        "experiment.complete()"
      ]
    },
    {
      "cell_type": "markdown",
      "metadata": {
        "id": "y0LCKqL7k4f9"
      },
      "source": [
        "**Smote Dataset**"
      ]
    },
    {
      "cell_type": "code",
      "execution_count": null,
      "metadata": {
        "id": "RQGPMO9sk4f9",
        "outputId": "604bb4bd-946a-4511-95d9-98470f72eba3"
      },
      "outputs": [
        {
          "name": "stdout",
          "output_type": "stream",
          "text": [
            "[15:27:12] WARNING: ../src/learner.cc:1115: Starting in XGBoost 1.3.0, the default evaluation metric used with the objective 'binary:logistic' was changed from 'error' to 'logloss'. Explicitly set eval_metric if you'd like to restore the old behavior.\n",
            "[[3248  148]\n",
            " [ 156   25]]\n",
            "Train Accuracy Score:  0.9491120218579235\n",
            "Train F1 Score:  0.9484963705496025\n",
            "Accuracy Score:  0.9150125803746156\n",
            "F1 Score:  0.14124293785310735\n"
          ]
        },
        {
          "data": {
            "text/plain": [
              "7567"
            ]
          },
          "execution_count": 156,
          "metadata": {},
          "output_type": "execute_result"
        }
      ],
      "source": [
        "#Fitting model on SMOTE dataset\n",
        "\n",
        "# Adding a version of the XGBoost Classifier to the list of smote_models\n",
        "experiment.start(inputs=[input_smote_ds, input_code], run_notes=\"SMOTE_XGBoost\", run_properties={\"A run property\": \"A value\"})\n",
        "\n",
        "n_estimators = 255\n",
        "reg_alpha=0.5\n",
        "reg_lambda = 0.4 \n",
        "max_depth= 1\n",
        "xgb = XGBClassifier(n_estimators=n_estimators, reg_alpha=reg_alpha, reg_lambda=reg_lambda, max_depth=max_depth)\n",
        "xgb.fit(xtrain_mod, ytrain_mod)\n",
        "preds = xgb.predict(xtest)\n",
        "print(confusion_matrix(ytest, preds))\n",
        "#print(classification_report(ytest, preds, output_dict = True))\n",
        "\n",
        "train_preds = xgb.predict(xtrain_mod)\n",
        "print('Train Accuracy Score: ',accuracy_score(ytrain_mod, train_preds))\n",
        "print('Train F1 Score: ',f1_score(ytrain_mod, train_preds))\n",
        "\n",
        "accuracy_score_xgb_smote = accuracy_score(ytest, preds)\n",
        "f1_score_xgb_smote = f1_score(ytest,preds)\n",
        "print('Accuracy Score: ', accuracy_score_xgb_smote)\n",
        "print('F1 Score: ',f1_score_xgb_smote)\n",
        "\n",
        "# Let's log the model we trained along with its metrics, as a new version \n",
        "# of the \"smote_models\" model in Vectice.\n",
        "hyper_parameters = {\"n_estimators\": str(n_estimators), \"reg_alpha\": str(reg_alpha), \"reg_lambda\": str(reg_lambda), \"max_depth\": str(max_depth)}\n",
        "metrics = {\"Accuracy Score\": accuracy_score_xgb_smote, \"F1 Score\": f1_score_xgb_smote}\n",
        "model_version =  experiment.add_model_version(model=\"smote_models\", algorithm=\"XGBoost\", metrics=metrics, hyper_parameters=hyper_parameters)\n",
        "\n",
        "# We complete the current experiment's run \n",
        "## The created model versions will be automatically attached as outputs of the run\n",
        "experiment.complete()"
      ]
    },
    {
      "cell_type": "markdown",
      "metadata": {
        "id": "XWg8plGRk4f9"
      },
      "source": [
        "### Gaussian Naive Bayes"
      ]
    },
    {
      "cell_type": "markdown",
      "metadata": {
        "id": "mojpKQU-k4f9"
      },
      "source": [
        "**Non Smote Dataset**"
      ]
    },
    {
      "cell_type": "code",
      "execution_count": null,
      "metadata": {
        "colab": {
          "base_uri": "https://localhost:8080/"
        },
        "id": "U1xH3D-KJtvS",
        "outputId": "e03135ec-2a45-4379-d207-d48555b6474f"
      },
      "outputs": [
        {
          "name": "stdout",
          "output_type": "stream",
          "text": [
            "[[3237  159]\n",
            " [ 143   38]]\n",
            "Train Accuracy Score:  0.9223237597911227\n",
            "Train F1 Score:  0.22222222222222224\n",
            "Accuracy Score:  0.915571708135309\n",
            "F1 Score:  0.20105820105820105\n"
          ]
        },
        {
          "data": {
            "text/plain": [
              "7568"
            ]
          },
          "execution_count": 157,
          "metadata": {},
          "output_type": "execute_result"
        }
      ],
      "source": [
        "#Applying on non-SMOTE dataset\n",
        "\n",
        "# Adding a version of the Naive Bayes Classifier to the list of Non_smote_models\n",
        "from sklearn.naive_bayes import GaussianNB\n",
        "\n",
        "experiment.start(inputs=[input_non_smote_ds, input_code], run_notes=\"Non_SMOTE_NaiveBayes\", run_properties={\"A run property\": \"A value\"})\n",
        "\n",
        "gnb = GaussianNB()\n",
        "gnb.fit(xtrain, ytrain)\n",
        "\n",
        "preds = gnb.predict(xtest)\n",
        "print(confusion_matrix(ytest, preds))\n",
        "\n",
        "train_preds = gnb.predict(xtrain)\n",
        "print('Train Accuracy Score: ',accuracy_score(ytrain, train_preds))\n",
        "print('Train F1 Score: ',f1_score(ytrain, train_preds))\n",
        "accuracy_score_gnb = accuracy_score(ytest, preds)\n",
        "f1_score_gnb = f1_score(ytest,preds)\n",
        "print('Accuracy Score: ',accuracy_score(ytest, preds))\n",
        "print('F1 Score: ',f1_score(ytest,preds))\n",
        "\n",
        "# Let's log the model we trained along with its metrics, as a new version \n",
        "# of the \"Non_smote_models\" model in Vectice.\n",
        "metrics = {\"Accuracy Score\": accuracy_score_gnb, \"F1 Score\": f1_score_gnb}\n",
        "model_version =  experiment.add_model_version(model=\"Non_smote_models\", algorithm=\"Gaussian NB\", metrics=metrics)\n",
        "\n",
        "# We complete the current experiment's run \n",
        "## The created model versions will be automatically attached as outputs of the run\n",
        "experiment.complete()"
      ]
    },
    {
      "cell_type": "markdown",
      "metadata": {
        "id": "RMXQmW5Mk4f-"
      },
      "source": [
        "**Smote Dataset**"
      ]
    },
    {
      "cell_type": "code",
      "execution_count": null,
      "metadata": {
        "colab": {
          "base_uri": "https://localhost:8080/"
        },
        "id": "PSyiHe82JvTJ",
        "outputId": "aa228e73-04c6-45d7-cfd9-ac8fe7936eb7"
      },
      "outputs": [
        {
          "name": "stdout",
          "output_type": "stream",
          "text": [
            "[[2291 1105]\n",
            " [  31  150]]\n",
            "Train Accuracy Score:  0.8145491803278688\n",
            "Train F1 Score:  0.8375710439724797\n",
            "Accuracy Score:  0.6824154319261951\n",
            "F1 Score:  0.20891364902506962\n"
          ]
        },
        {
          "data": {
            "text/plain": [
              "7569"
            ]
          },
          "execution_count": 158,
          "metadata": {},
          "output_type": "execute_result"
        }
      ],
      "source": [
        "#Applying on SMOTE dataset\n",
        "\n",
        "# Adding a version of the Naive Bayes Classifier to the list of smote_models\n",
        "from sklearn.naive_bayes import GaussianNB\n",
        "\n",
        "experiment.start(inputs=[input_smote_ds, input_code], run_notes=\"SMOTE_NaiveBayes\", run_properties={\"A run property\": \"A value\"})\n",
        "\n",
        "gnb = GaussianNB()\n",
        "gnb.fit(xtrain_mod, ytrain_mod)\n",
        "\n",
        "preds = gnb.predict(xtest)\n",
        "print(confusion_matrix(ytest, preds))\n",
        "\n",
        "train_preds = gnb.predict(xtrain_mod)\n",
        "print('Train Accuracy Score: ',accuracy_score(ytrain_mod, train_preds))\n",
        "print('Train F1 Score: ',f1_score(ytrain_mod, train_preds))\n",
        "accuracy_score_gnb_smote = accuracy_score(ytest, preds)\n",
        "f1_score_gnb_smote = f1_score(ytest,preds)\n",
        "print('Accuracy Score: ',accuracy_score(ytest, preds))\n",
        "print('F1 Score: ',f1_score(ytest,preds))\n",
        "\n",
        "# Let's log the model we trained along with its metrics, as a new version \n",
        "# of the \"smote_models\" model in Vectice.\n",
        "metrics = {\"Accuracy Score\": accuracy_score_gnb_smote, \"F1 Score\": f1_score_gnb_smote}\n",
        "model_version =  experiment.add_model_version(model=\"smote_models\", algorithm=\"Gaussian NB SMOTE\", metrics=metrics)\n",
        "\n",
        "# We complete the current experiment's run \n",
        "## The created model versions will be automatically attached as outputs of the run\n",
        "experiment.complete()"
      ]
    },
    {
      "cell_type": "markdown",
      "metadata": {
        "id": "83jIZU0GJy9a"
      },
      "source": [
        "We observe that there is a significant increase in True negatives, but there are also a significant increase in false negatives\n",
        "\n",
        "Earlier, we had noticed that Gender and Residence_type do not have an impact on stroke.\n",
        "\n",
        "To strengthen our classifier, they can be dropped from train and test X dataset"
      ]
    },
    {
      "cell_type": "code",
      "execution_count": null,
      "metadata": {
        "id": "5ZRJk9XPk4f-"
      },
      "outputs": [],
      "source": [
        "#Removing non-impactful features from smote_dataset\n",
        "\n",
        "xtrain_mod_dropped = xtrain_mod.drop(['gender', 'Residence_type'], axis = 1)\n",
        "xtest_dropped = xtest.drop(['gender', 'Residence_type'], axis = 1)"
      ]
    },
    {
      "cell_type": "code",
      "execution_count": null,
      "metadata": {
        "id": "QrYT1Elck4f-",
        "outputId": "640b30b3-0237-4cb6-83ea-025683996dd7"
      },
      "outputs": [
        {
          "name": "stdout",
          "output_type": "stream",
          "text": [
            "[[2263 1133]\n",
            " [  31  150]]\n",
            "Train Accuracy Score:  0.8084016393442623\n",
            "Train F1 Score:  0.8325872873769025\n",
            "Accuracy Score:  0.6745876432764887\n",
            "F1 Score:  0.20491803278688522\n"
          ]
        },
        {
          "data": {
            "text/plain": [
              "7570"
            ]
          },
          "execution_count": 160,
          "metadata": {},
          "output_type": "execute_result"
        }
      ],
      "source": [
        "# Adding a version of the Naive Bayes Classifier after dropping the non impactful features to the list of smote_models\n",
        "\n",
        "experiment.start(inputs=[input_smote_ds, input_code], run_notes=\"SMOTE_NaiveBayes_feature_selection\", run_properties={\"A run property\": \"A value\"})\n",
        "\n",
        "gnb = GaussianNB()\n",
        "gnb.fit(xtrain_mod_dropped, ytrain_mod)\n",
        "\n",
        "preds = gnb.predict(xtest_dropped)\n",
        "print(confusion_matrix(ytest, preds))\n",
        "\n",
        "train_preds = gnb.predict(xtrain_mod_dropped)\n",
        "print('Train Accuracy Score: ',accuracy_score(ytrain_mod, train_preds))\n",
        "print('Train F1 Score: ',f1_score(ytrain_mod, train_preds))\n",
        "\n",
        "accuracy_score_gnb_fs = accuracy_score(ytest, preds)\n",
        "f1_score_gnb_fs = f1_score(ytest,preds)\n",
        "print('Accuracy Score: ',accuracy_score_gnb_fs)\n",
        "print('F1 Score: ',f1_score_gnb_fs)\n",
        "\n",
        "# Let's log the model we trained along with its metrics, as a new version \n",
        "# of the \"smote_models\" model in Vectice.\n",
        "metrics = {\"Accuracy Score\": accuracy_score_gnb_fs, \"F1 Score\": f1_score_gnb_fs}\n",
        "model_version = experiment.add_model_version(model=\"smote_models\", algorithm=\"GNB_features_selection\", metrics=metrics)\n",
        "\n",
        "# We complete the current experiment's run \n",
        "## The created model versions will be automatically attached as outputs of the run\n",
        "experiment.complete()"
      ]
    },
    {
      "cell_type": "markdown",
      "metadata": {
        "id": "aap4yh2Uk4f-"
      },
      "source": [
        "### KNN"
      ]
    },
    {
      "cell_type": "markdown",
      "metadata": {
        "id": "fUDkS_6Mk4f_"
      },
      "source": [
        "**Non Smote Dataset**"
      ]
    },
    {
      "cell_type": "code",
      "execution_count": null,
      "metadata": {
        "colab": {
          "base_uri": "https://localhost:8080/"
        },
        "id": "tig1ASprvWce",
        "outputId": "62ee76b8-b14d-4b83-af2b-1d09a82342e0"
      },
      "outputs": [
        {
          "name": "stdout",
          "output_type": "stream",
          "text": [
            "[[3387    9]\n",
            " [ 181    0]]\n",
            "Train Accuracy Score:  0.9575718015665796\n",
            "Train F1 Score:  0.1095890410958904\n",
            "Accuracy Score:  0.9468828627341348\n",
            "F1 Score:  0.0\n"
          ]
        },
        {
          "data": {
            "text/plain": [
              "7571"
            ]
          },
          "execution_count": 161,
          "metadata": {},
          "output_type": "execute_result"
        }
      ],
      "source": [
        "#Applying on non-SMOTE dataset\n",
        "\n",
        "# Adding a version of the KNN Classifier to the list of Non_smote_models\n",
        "\n",
        "from sklearn.neighbors import KNeighborsClassifier\n",
        "\n",
        "experiment.start(inputs=[input_non_smote_ds, input_code], run_notes=\"Non_SMOTE_KNN\", run_properties={\"A run property\": \"A value\"})\n",
        "\n",
        "\n",
        "n_neighbors=3\n",
        "knn = KNeighborsClassifier(n_neighbors=n_neighbors)\n",
        "knn.fit(xtrain, ytrain)\n",
        "\n",
        "preds = knn.predict(xtest)\n",
        "print(confusion_matrix(ytest, preds))\n",
        "\n",
        "train_preds = knn.predict(xtrain)\n",
        "print('Train Accuracy Score: ',accuracy_score(ytrain, train_preds))\n",
        "print('Train F1 Score: ',f1_score(ytrain, train_preds))\n",
        "accuracy_score_knn = accuracy_score(ytest, preds)\n",
        "f1_score_knn = f1_score(ytest,preds)\n",
        "print('Accuracy Score: ',accuracy_score(ytest, preds))\n",
        "print('F1 Score: ',f1_score(ytest,preds))\n",
        "\n",
        "# Let's log the model we trained along with its metrics, as a new version \n",
        "# of the \"Non_smote_models\" model in Vectice.\n",
        "metrics = {\"Accuracy Score\": accuracy_score_knn, \"F1 Score\": f1_score_knn}\n",
        "hyper_parameters = {\"n_neighbors\": str(n_neighbors)}\n",
        "model_version =  experiment.add_model_version(model=\"Non_smote_models\", algorithm=\"KNeighbors Classifier\", metrics=metrics, hyper_parameters=hyper_parameters)\n",
        "\n",
        "# We complete the current experiment's run \n",
        "## The created model versions will be automatically attached as outputs of the run\n",
        "experiment.complete()"
      ]
    },
    {
      "cell_type": "markdown",
      "metadata": {
        "id": "JHPi-AQDk4f_"
      },
      "source": [
        "**Smote Dataset**"
      ]
    },
    {
      "cell_type": "code",
      "execution_count": null,
      "metadata": {
        "colab": {
          "base_uri": "https://localhost:8080/"
        },
        "id": "M645rsoLxRo9",
        "outputId": "e79b7d0d-ba00-43e2-e0b8-eb06f98a90e2"
      },
      "outputs": [
        {
          "name": "stdout",
          "output_type": "stream",
          "text": [
            "[[2872  524]\n",
            " [ 131   50]]\n",
            "Train Accuracy Score:  0.9316939890710383\n",
            "Train F1 Score:  0.9266862170087976\n",
            "Accuracy Score:  0.8168856583729383\n",
            "F1 Score:  0.13245033112582782\n"
          ]
        },
        {
          "data": {
            "text/plain": [
              "7572"
            ]
          },
          "execution_count": 162,
          "metadata": {},
          "output_type": "execute_result"
        }
      ],
      "source": [
        "#Applying on SMOTE dataset\n",
        "\n",
        "# Adding a version of the KNN Classifier to the list of smote_models\n",
        "\n",
        "experiment.start(inputs=[input_smote_ds, input_code], run_notes=\"SMOTE_KNN\", run_properties={\"A run property\": \"A value\"})\n",
        "\n",
        "n_neighbors=2\n",
        "p=1\n",
        "knn = KNeighborsClassifier(n_neighbors=n_neighbors, p=p)\n",
        "\n",
        "knn.fit(xtrain_mod, ytrain_mod)\n",
        "\n",
        "preds = knn.predict(xtest)\n",
        "print(confusion_matrix(ytest, preds))\n",
        "\n",
        "train_preds = knn.predict(xtrain_mod)\n",
        "print('Train Accuracy Score: ',accuracy_score(ytrain_mod, train_preds))\n",
        "print('Train F1 Score: ',f1_score(ytrain_mod, train_preds))\n",
        "accuracy_score_knn_smote = accuracy_score(ytest, preds)\n",
        "f1_score_knn_smote = f1_score(ytest,preds)\n",
        "print('Accuracy Score: ',accuracy_score(ytest, preds))\n",
        "print('F1 Score: ',f1_score(ytest,preds))\n",
        "\n",
        "# Let's log the model we trained along with its metrics, as a new version \n",
        "# of the \"smote_models\" model in Vectice.\n",
        "\n",
        "metrics = {\"Accuracy Score\": accuracy_score_knn_smote, \"F1 Score\": f1_score_knn_smote}\n",
        "hyper_parameters = {\"n_neighbors\": str(n_neighbors), \"p\": str(p)}\n",
        "model_version =  experiment.add_model_version(model=\"smote_models\", algorithm=\"KNeighbors Classifier\", metrics=metrics, hyper_parameters=hyper_parameters)\n",
        "\n",
        "# We complete the current experiment's run \n",
        "## The created model versions will be automatically attached as outputs of the run\n",
        "experiment.complete()"
      ]
    },
    {
      "cell_type": "markdown",
      "metadata": {
        "id": "BPy4BFgbk4gA"
      },
      "source": [
        "We can get the models list by using **vectice.list_models()**"
      ]
    },
    {
      "cell_type": "code",
      "execution_count": null,
      "metadata": {
        "id": "XMqiVHHCk4gA"
      },
      "outputs": [],
      "source": [
        "experiment.vectice.list_models()"
      ]
    },
    {
      "cell_type": "markdown",
      "metadata": {
        "id": "DfzQvgiTk4gA"
      },
      "source": [
        "We can update a model's type or description by using **vectice.update_model()**"
      ]
    },
    {
      "cell_type": "code",
      "execution_count": null,
      "metadata": {
        "id": "YdK6inUnk4gA",
        "outputId": "c0f8474f-5cbb-4541-b986-48c04c70e61e"
      },
      "outputs": [
        {
          "name": "stderr",
          "output_type": "stream",
          "text": [
            "INFO:Vectice:Model: 'smote_models' has been updated\n"
          ]
        }
      ],
      "source": [
        "experiment.update_model(model=\"smote_models\", type=ModelType.CLASSIFICATION, description=\"A description\")"
      ]
    }
  ],
  "metadata": {
    "colab": {
      "collapsed_sections": [],
      "name": "Brain Failure Prediction.ipynb",
      "provenance": []
    },
    "environment": {
      "kernel": "python3",
      "name": "common-cpu.m86",
      "type": "gcloud",
      "uri": "gcr.io/deeplearning-platform-release/base-cpu:m86"
    },
    "kernelspec": {
      "display_name": "Python 3",
      "language": "python",
      "name": "python3"
    },
    "language_info": {
      "codemirror_mode": {
        "name": "ipython",
        "version": 3
      },
      "file_extension": ".py",
      "mimetype": "text/x-python",
      "name": "python",
      "nbconvert_exporter": "python",
      "pygments_lexer": "ipython3",
      "version": "3.8.5"
    }
  },
  "nbformat": 4,
  "nbformat_minor": 0
}
