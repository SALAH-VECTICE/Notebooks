{
 "cells": [
  {
   "cell_type": "markdown",
   "metadata": {},
   "source": [
    "<a href=\"https://colab.research.google.com/github/vectice/vectice-examples/blob/master/Tutorial/Tutorial_Modelling_All.ipynb\" target=\"_parent\"><img src=\"https://colab.research.google.com/assets/colab-badge.svg\" alt=\"Open In Colab\"/></a>"
   ]
  },
  {
   "cell_type": "markdown",
   "metadata": {
    "id": "B9PKJggkxfMo"
   },
   "source": [
    "## Preparation"
   ]
  },
  {
   "cell_type": "markdown",
   "metadata": {
    "id": "EBGxhcG7xZzr"
   },
   "source": [
    "Welcome to the Vectice tutorial notebook!\n",
    "\n",
    "\n",
    "Through this notebook, we will be illustrating how to log the following information into Vectice using the Vectice Python library:\n",
    "- Dataset versions\n",
    "- Model versions\n",
    "- Runs and lineage\n",
    "\n",
    "For more information on the tutorial, please refer to the \"Vectice Tutorial Page\" inside the app.\n",
    "\n"
   ]
  },
  {
   "cell_type": "markdown",
   "metadata": {
    "id": "3McxMcLPxkdJ"
   },
   "source": [
    "### Install Vectice and GCS packages"
   ]
  },
  {
   "cell_type": "code",
   "execution_count": null,
   "metadata": {
    "id": "aXrYRKNiIlOn"
   },
   "outputs": [],
   "source": [
    "## Install GCS packages\n",
    "!pip install --q fsspec\n",
    "!pip install --q gcsfs\n",
    "\n",
    "#Install Vectice Python library \n",
    "# In this tutorial we will do code versioning using github, we also support gitlab\n",
    "# and bitbucket: !pip install -q \"vectice[github, gitlab, bitbucket]\"\n",
    "!pip install --q vectice[github]==2.2.3\n"
   ]
  },
  {
   "cell_type": "code",
   "execution_count": null,
   "metadata": {
    "id": "hHkVwYekVYxU"
   },
   "outputs": [],
   "source": [
    "#Verify if Vectice python library was installed\n",
    "!pip3 show vectice"
   ]
  },
  {
   "cell_type": "markdown",
   "metadata": {
    "id": "QTj-0Rt5H5Xv"
   },
   "source": [
    "## Getting the data from GCS"
   ]
  },
  {
   "cell_type": "markdown",
   "metadata": {
    "id": "JQgL5KTSDNKX"
   },
   "source": [
    "We are going to load data stored in Google Cloud Storage, that is provided by Vectice for this tutorial."
   ]
  },
  {
   "cell_type": "code",
   "execution_count": null,
   "metadata": {
    "id": "D4SQHmADDTFB"
   },
   "outputs": [],
   "source": [
    "# Download the \"JSON file\" from the \"Vectice Tutorial Page\" in the application so that \n",
    "# you can access the GCS bucket. The name of the JSON file should be \"readerKey.json\"\n",
    "\n",
    "from google.colab import files\n",
    "uploaded = files.upload()"
   ]
  },
  {
   "cell_type": "code",
   "execution_count": 13,
   "metadata": {
    "colab": {
     "base_uri": "https://localhost:8080/",
     "height": 270
    },
    "id": "X44K8EaHJBAu",
    "outputId": "3adfdf8e-457c-4cbe-a690-38f190b04528"
   },
   "outputs": [
    {
     "data": {
      "text/html": [
       "\n",
       "  <div id=\"df-b0857f05-10cf-4b43-884b-fdb31eaf8c46\">\n",
       "    <div class=\"colab-df-container\">\n",
       "      <div>\n",
       "<style scoped>\n",
       "    .dataframe tbody tr th:only-of-type {\n",
       "        vertical-align: middle;\n",
       "    }\n",
       "\n",
       "    .dataframe tbody tr th {\n",
       "        vertical-align: top;\n",
       "    }\n",
       "\n",
       "    .dataframe thead th {\n",
       "        text-align: right;\n",
       "    }\n",
       "</style>\n",
       "<table border=\"1\" class=\"dataframe\">\n",
       "  <thead>\n",
       "    <tr style=\"text-align: right;\">\n",
       "      <th></th>\n",
       "      <th>price</th>\n",
       "      <th>bedrooms</th>\n",
       "      <th>bathrooms</th>\n",
       "      <th>sqft_living</th>\n",
       "      <th>sqft_lot</th>\n",
       "      <th>floors</th>\n",
       "      <th>waterfront</th>\n",
       "      <th>view</th>\n",
       "      <th>condition</th>\n",
       "      <th>grade</th>\n",
       "      <th>sqft_above</th>\n",
       "      <th>sqft_basement</th>\n",
       "      <th>yr_built</th>\n",
       "      <th>yr_renovated</th>\n",
       "      <th>zipcode</th>\n",
       "      <th>lat</th>\n",
       "      <th>long</th>\n",
       "      <th>sqft_living15</th>\n",
       "      <th>sqft_lot15</th>\n",
       "    </tr>\n",
       "  </thead>\n",
       "  <tbody>\n",
       "    <tr>\n",
       "      <th>0</th>\n",
       "      <td>221900.0</td>\n",
       "      <td>3</td>\n",
       "      <td>1.00</td>\n",
       "      <td>1180</td>\n",
       "      <td>5650</td>\n",
       "      <td>1.0</td>\n",
       "      <td>0</td>\n",
       "      <td>0</td>\n",
       "      <td>3</td>\n",
       "      <td>7</td>\n",
       "      <td>1180</td>\n",
       "      <td>0</td>\n",
       "      <td>1955</td>\n",
       "      <td>0</td>\n",
       "      <td>98178</td>\n",
       "      <td>47.5112</td>\n",
       "      <td>-122.257</td>\n",
       "      <td>1340</td>\n",
       "      <td>5650</td>\n",
       "    </tr>\n",
       "    <tr>\n",
       "      <th>1</th>\n",
       "      <td>538000.0</td>\n",
       "      <td>3</td>\n",
       "      <td>2.25</td>\n",
       "      <td>2570</td>\n",
       "      <td>7242</td>\n",
       "      <td>2.0</td>\n",
       "      <td>0</td>\n",
       "      <td>0</td>\n",
       "      <td>3</td>\n",
       "      <td>7</td>\n",
       "      <td>2170</td>\n",
       "      <td>400</td>\n",
       "      <td>1951</td>\n",
       "      <td>1991</td>\n",
       "      <td>98125</td>\n",
       "      <td>47.7210</td>\n",
       "      <td>-122.319</td>\n",
       "      <td>1690</td>\n",
       "      <td>7639</td>\n",
       "    </tr>\n",
       "    <tr>\n",
       "      <th>2</th>\n",
       "      <td>180000.0</td>\n",
       "      <td>2</td>\n",
       "      <td>1.00</td>\n",
       "      <td>770</td>\n",
       "      <td>10000</td>\n",
       "      <td>1.0</td>\n",
       "      <td>0</td>\n",
       "      <td>0</td>\n",
       "      <td>3</td>\n",
       "      <td>6</td>\n",
       "      <td>770</td>\n",
       "      <td>0</td>\n",
       "      <td>1933</td>\n",
       "      <td>0</td>\n",
       "      <td>98028</td>\n",
       "      <td>47.7379</td>\n",
       "      <td>-122.233</td>\n",
       "      <td>2720</td>\n",
       "      <td>8062</td>\n",
       "    </tr>\n",
       "    <tr>\n",
       "      <th>3</th>\n",
       "      <td>604000.0</td>\n",
       "      <td>4</td>\n",
       "      <td>3.00</td>\n",
       "      <td>1960</td>\n",
       "      <td>5000</td>\n",
       "      <td>1.0</td>\n",
       "      <td>0</td>\n",
       "      <td>0</td>\n",
       "      <td>5</td>\n",
       "      <td>7</td>\n",
       "      <td>1050</td>\n",
       "      <td>910</td>\n",
       "      <td>1965</td>\n",
       "      <td>0</td>\n",
       "      <td>98136</td>\n",
       "      <td>47.5208</td>\n",
       "      <td>-122.393</td>\n",
       "      <td>1360</td>\n",
       "      <td>5000</td>\n",
       "    </tr>\n",
       "    <tr>\n",
       "      <th>4</th>\n",
       "      <td>510000.0</td>\n",
       "      <td>3</td>\n",
       "      <td>2.00</td>\n",
       "      <td>1680</td>\n",
       "      <td>8080</td>\n",
       "      <td>1.0</td>\n",
       "      <td>0</td>\n",
       "      <td>0</td>\n",
       "      <td>3</td>\n",
       "      <td>8</td>\n",
       "      <td>1680</td>\n",
       "      <td>0</td>\n",
       "      <td>1987</td>\n",
       "      <td>0</td>\n",
       "      <td>98074</td>\n",
       "      <td>47.6168</td>\n",
       "      <td>-122.045</td>\n",
       "      <td>1800</td>\n",
       "      <td>7503</td>\n",
       "    </tr>\n",
       "  </tbody>\n",
       "</table>\n",
       "</div>\n",
       "      <button class=\"colab-df-convert\" onclick=\"convertToInteractive('df-b0857f05-10cf-4b43-884b-fdb31eaf8c46')\"\n",
       "              title=\"Convert this dataframe to an interactive table.\"\n",
       "              style=\"display:none;\">\n",
       "        \n",
       "  <svg xmlns=\"http://www.w3.org/2000/svg\" height=\"24px\"viewBox=\"0 0 24 24\"\n",
       "       width=\"24px\">\n",
       "    <path d=\"M0 0h24v24H0V0z\" fill=\"none\"/>\n",
       "    <path d=\"M18.56 5.44l.94 2.06.94-2.06 2.06-.94-2.06-.94-.94-2.06-.94 2.06-2.06.94zm-11 1L8.5 8.5l.94-2.06 2.06-.94-2.06-.94L8.5 2.5l-.94 2.06-2.06.94zm10 10l.94 2.06.94-2.06 2.06-.94-2.06-.94-.94-2.06-.94 2.06-2.06.94z\"/><path d=\"M17.41 7.96l-1.37-1.37c-.4-.4-.92-.59-1.43-.59-.52 0-1.04.2-1.43.59L10.3 9.45l-7.72 7.72c-.78.78-.78 2.05 0 2.83L4 21.41c.39.39.9.59 1.41.59.51 0 1.02-.2 1.41-.59l7.78-7.78 2.81-2.81c.8-.78.8-2.07 0-2.86zM5.41 20L4 18.59l7.72-7.72 1.47 1.35L5.41 20z\"/>\n",
       "  </svg>\n",
       "      </button>\n",
       "      \n",
       "  <style>\n",
       "    .colab-df-container {\n",
       "      display:flex;\n",
       "      flex-wrap:wrap;\n",
       "      gap: 12px;\n",
       "    }\n",
       "\n",
       "    .colab-df-convert {\n",
       "      background-color: #E8F0FE;\n",
       "      border: none;\n",
       "      border-radius: 50%;\n",
       "      cursor: pointer;\n",
       "      display: none;\n",
       "      fill: #1967D2;\n",
       "      height: 32px;\n",
       "      padding: 0 0 0 0;\n",
       "      width: 32px;\n",
       "    }\n",
       "\n",
       "    .colab-df-convert:hover {\n",
       "      background-color: #E2EBFA;\n",
       "      box-shadow: 0px 1px 2px rgba(60, 64, 67, 0.3), 0px 1px 3px 1px rgba(60, 64, 67, 0.15);\n",
       "      fill: #174EA6;\n",
       "    }\n",
       "\n",
       "    [theme=dark] .colab-df-convert {\n",
       "      background-color: #3B4455;\n",
       "      fill: #D2E3FC;\n",
       "    }\n",
       "\n",
       "    [theme=dark] .colab-df-convert:hover {\n",
       "      background-color: #434B5C;\n",
       "      box-shadow: 0px 1px 3px 1px rgba(0, 0, 0, 0.15);\n",
       "      filter: drop-shadow(0px 1px 2px rgba(0, 0, 0, 0.3));\n",
       "      fill: #FFFFFF;\n",
       "    }\n",
       "  </style>\n",
       "\n",
       "      <script>\n",
       "        const buttonEl =\n",
       "          document.querySelector('#df-b0857f05-10cf-4b43-884b-fdb31eaf8c46 button.colab-df-convert');\n",
       "        buttonEl.style.display =\n",
       "          google.colab.kernel.accessAllowed ? 'block' : 'none';\n",
       "\n",
       "        async function convertToInteractive(key) {\n",
       "          const element = document.querySelector('#df-b0857f05-10cf-4b43-884b-fdb31eaf8c46');\n",
       "          const dataTable =\n",
       "            await google.colab.kernel.invokeFunction('convertToInteractive',\n",
       "                                                     [key], {});\n",
       "          if (!dataTable) return;\n",
       "\n",
       "          const docLinkHtml = 'Like what you see? Visit the ' +\n",
       "            '<a target=\"_blank\" href=https://colab.research.google.com/notebooks/data_table.ipynb>data table notebook</a>'\n",
       "            + ' to learn more about interactive tables.';\n",
       "          element.innerHTML = '';\n",
       "          dataTable['output_type'] = 'display_data';\n",
       "          await google.colab.output.renderOutput(dataTable, element);\n",
       "          const docLink = document.createElement('div');\n",
       "          docLink.innerHTML = docLinkHtml;\n",
       "          element.appendChild(docLink);\n",
       "        }\n",
       "      </script>\n",
       "    </div>\n",
       "  </div>\n",
       "  "
      ],
      "text/plain": [
       "      price  bedrooms  bathrooms  sqft_living  sqft_lot  floors  waterfront  \\\n",
       "0  221900.0         3       1.00         1180      5650     1.0           0   \n",
       "1  538000.0         3       2.25         2570      7242     2.0           0   \n",
       "2  180000.0         2       1.00          770     10000     1.0           0   \n",
       "3  604000.0         4       3.00         1960      5000     1.0           0   \n",
       "4  510000.0         3       2.00         1680      8080     1.0           0   \n",
       "\n",
       "   view  condition  grade  sqft_above  sqft_basement  yr_built  yr_renovated  \\\n",
       "0     0          3      7        1180              0      1955             0   \n",
       "1     0          3      7        2170            400      1951          1991   \n",
       "2     0          3      6         770              0      1933             0   \n",
       "3     0          5      7        1050            910      1965             0   \n",
       "4     0          3      8        1680              0      1987             0   \n",
       "\n",
       "   zipcode      lat     long  sqft_living15  sqft_lot15  \n",
       "0    98178  47.5112 -122.257           1340        5650  \n",
       "1    98125  47.7210 -122.319           1690        7639  \n",
       "2    98028  47.7379 -122.233           2720        8062  \n",
       "3    98136  47.5208 -122.393           1360        5000  \n",
       "4    98074  47.6168 -122.045           1800        7503  "
      ]
     },
     "execution_count": 13,
     "metadata": {},
     "output_type": "execute_result"
    }
   ],
   "source": [
    "import os\n",
    "import pandas as pd\n",
    "from matplotlib import pyplot as plt\n",
    "%matplotlib inline\n",
    "\n",
    "# Double check the json file name below so that it matches the name of the file that you uploaded.\n",
    "# Note that the key provided for this tutorial does not have permissions for you to write to GCS. \n",
    "# You can only use it to read the data.\n",
    "os.environ['GOOGLE_APPLICATION_CREDENTIALS'] = 'readerKey.json'\n",
    "\n",
    "# Once your file is loaded you can view your dataset in a Pandas dataframe.\n",
    "df = pd.read_csv('gs://vectice_tutorial/kc_house_data_cleaned.csv')\n",
    "\n",
    "# Run head to make sure the data was loaded properly\n",
    "df.head()\n"
   ]
  },
  {
   "cell_type": "markdown",
   "metadata": {
    "id": "FWFBf5u_H5Xw"
   },
   "source": [
    "## Vectice  configuration"
   ]
  },
  {
   "cell_type": "code",
   "execution_count": 14,
   "metadata": {
    "id": "KsXBhrmeJ0sZ"
   },
   "outputs": [],
   "source": [
    "#Import the required packages\n",
    "from vectice import Experiment\n",
    "from vectice.api.json import ModelType\n",
    "from vectice.api.json import JobType\n",
    "from vectice.api.json import JobArtifactType\n",
    "from vectice.api.json import ModelVersionStatus\n",
    "from vectice.api.json import VersionStrategy\n",
    "import logging\n",
    "import os\n",
    "logging.basicConfig(level=logging.INFO)\n",
    "\n",
    "# Specify the API endpoint for Vectice.\n",
    "# You can specify your API endpoint here in the notebook, but we recommand you to add it to a .env file\n",
    "os.environ['VECTICE_API_ENDPOINT']= \"app.vectice.com\"\n",
    "\n",
    "# To use the Vectice Python library, you first need to authenticate your account using an API token.\n",
    "# You can generate an API token from the Vectice UI, by going to the \"API Tokens\" section in the \"My Profile\" section\n",
    "# which is located under your profile picture.\n",
    "# You can specify your API Token here in the notebook, but we recommend you to add it to a .env file\n",
    "os.environ['VECTICE_API_TOKEN'] = \"Your API Token\"\n",
    "\n",
    "# Add you project id. The project id can be found in the project settings page in the Vectice UI\n",
    "project_id = ID"
   ]
  },
  {
   "cell_type": "markdown",
   "metadata": {
    "id": "c0k4Xz-sxtgZ"
   },
   "source": [
    "\n",
    "We will use the scikit-learn library for modeling and tracking experiments directly through the Vectice Python library."
   ]
  },
  {
   "cell_type": "code",
   "execution_count": 15,
   "metadata": {
    "id": "-1Ethq0evsRf"
   },
   "outputs": [],
   "source": [
    "import string\n",
    "from math import sqrt\n",
    "\n",
    "# Load scikit-learn packages\n",
    "from sklearn.model_selection import train_test_split  # Model Selection\n",
    "from sklearn.metrics import mean_absolute_error, mean_squared_error  # Model Evaluation\n",
    "from sklearn.linear_model import LinearRegression  # Linear Regression\n",
    "from sklearn.tree import DecisionTreeRegressor, plot_tree  # Decision Tree Regression\n",
    "from sklearn.ensemble import RandomForestRegressor  # Random Forest Regression"
   ]
  },
  {
   "cell_type": "markdown",
   "metadata": {
    "id": "26ChSoJtxyiu"
   },
   "source": [
    "### Split dataset into training and testing\n",
    "\n",
    "Let's split the dataset into train and test sets and save them in GCS. (The GCS code has been commented out as the data has already been generated). For this section, we will re-use some datasets that have been already created to illustrate dataset versioning."
   ]
  },
  {
   "cell_type": "code",
   "execution_count": 18,
   "metadata": {
    "id": "fn0wov11vvtc"
   },
   "outputs": [],
   "source": [
    "# We create our first experiment for data preparation and specify the workspace and the project we will be working on\n",
    "# Each experiment only contains one job. Each invokation of the job is called a run.\n",
    "# autocode = True enables you to track your git changes for your code automatically every time you execute a run (see below).\n",
    "experiment = Experiment(job=\"Data Preparation\", project=project_id, job_type=JobType.PREPARATION, auto_code=True)"
   ]
  },
  {
   "cell_type": "code",
   "execution_count": 19,
   "metadata": {
    "colab": {
     "base_uri": "https://localhost:8080/"
    },
    "id": "Vdu_Cc7UCv3y",
    "outputId": "bd816763-fe96-493f-c8a9-758be2b29508"
   },
   "outputs": [
    {
     "data": {
      "text/plain": [
       "array([[ 4.00000e+00,  3.00000e+00,  3.61000e+03, ..., -1.22342e+02,\n",
       "         3.56800e+03,  1.89480e+04],\n",
       "       [ 3.00000e+00,  2.00000e+00,  2.08000e+03, ..., -1.22285e+02,\n",
       "         1.92000e+03,  7.00000e+03],\n",
       "       [ 4.00000e+00,  2.50000e+00,  2.09000e+03, ..., -1.22221e+02,\n",
       "         1.51000e+03,  7.40200e+03],\n",
       "       ...,\n",
       "       [ 3.00000e+00,  1.00000e+00,  1.46000e+03, ..., -1.22191e+02,\n",
       "         1.15000e+03,  5.92600e+03],\n",
       "       [ 3.00000e+00,  2.25000e+00,  1.62000e+03, ..., -1.22137e+02,\n",
       "         1.60000e+03,  7.91000e+03],\n",
       "       [ 4.00000e+00,  3.50000e+00,  3.38000e+03, ..., -1.22379e+02,\n",
       "         2.22000e+03,  8.33000e+03]])"
      ]
     },
     "execution_count": 19,
     "metadata": {},
     "output_type": "execute_result"
    }
   ],
   "source": [
    "# The Vectice library automatically detects if there have been changes to the dataset you are using.\n",
    "# If it detects changes, it will generate a new version of your dataset automatically. \n",
    "# For this tutorial, we changed the data since Albert left the company.\n",
    "# So, the Vectice Python library will create a new dataset version when this code is executed for the first time.\n",
    "experiment.add_dataset_version(dataset=\"cleaned_kc_house_data\", version_strategy=VersionStrategy.AUTOMATIC)\n",
    "# Because we are using Colab in this tutorial example we are going to declare a reference to the code\n",
    "## manually. This will be added as a reference to the run we are going to create next.\n",
    "# If you are using your local environment with GIT installed or JupyterLab etc... the code\n",
    "# tracking is automated.\n",
    "input_code = experiment.add_code_version_uri(git_uri=\"https://github.com/vectice/vectice-examples\",\n",
    "                                             entrypoint=\"Tutorial/Tutorial_Modelling_All.ipynb\") \n",
    "\n",
    "# The created dataset version and code version will be automatically attached as inputs of the run\n",
    "experiment.start(run_properties={\"Property1\": \"Value 1\", \"property2\": \"Value 2\"})\n",
    "\n",
    "# We will use an 80/20 split to prepare the data\n",
    "test_size = 0.2\n",
    "\n",
    "# We will set the random seed so we always generate the same split.\n",
    "random_state = 42\n",
    "\n",
    "train, test = train_test_split(df, test_size = test_size, random_state = random_state)\n",
    "\n",
    "# We commented out the code to persist the training and testing test in GCS, \n",
    "# because we already generated the data for you.\n",
    "# The key provided for this tutorial give you read access only to GCS.\n",
    "# We left the code below for convenience, in case you want to use your own credentials and GCS bucket.\n",
    "# train.to_csv (r'gs://vectice_tutorial/training_data.csv', index = False, header = True)\n",
    "# test.to_csv (r'gs://vectice_tutorial/testing_data.csv', index = False, header = True)\n",
    "\n",
    "# Generate X_train, X_test, y_train, y_test, which we will need for modeling\n",
    "X = df.drop(\"price\", axis=1).values\n",
    "y = df[\"price\"].values\n",
    "X_train, X_test, y_train, y_test = train_test_split(X, y, test_size=test_size, random_state=random_state)\n",
    "\n",
    "\n",
    "# We create new dataset versions \n",
    "train_ds_version = experiment.add_dataset_version(dataset=\"train_cleaned_kc_house_data\", version_strategy=VersionStrategy.AUTOMATIC)\n",
    "test_ds_version = experiment.add_dataset_version(dataset=\"test_cleaned_kc_house_data\", version_strategy=VersionStrategy.AUTOMATIC)\n",
    "\n",
    "# We complete the current experiment's run \n",
    "## The created dataset versions will be automatically attached as outputs of the run\n",
    "experiment.complete()\n",
    "# We can preview one of our generated outputs to make sure that everything was executed properly.\n",
    "X_train\n"
   ]
  },
  {
   "cell_type": "markdown",
   "metadata": {
    "id": "tNlnYdQ_x8AZ"
   },
   "source": [
    "## Modeling"
   ]
  },
  {
   "cell_type": "code",
   "execution_count": 20,
   "metadata": {
    "id": "hLnWXsgfOXDz"
   },
   "outputs": [],
   "source": [
    "# We create our second experiment for modeling and specify the workspace and the project we will be working on\n",
    "# Each experiment only contains one job. Each invokation of the job is called a run.\n",
    "# autocode = True enables you to track your git changes for your code automatically every time you execute a run (see below).\n",
    "experiment = Experiment(job=\"Modeling\", project=project_id, job_type=JobType.TRAINING, auto_code=True)"
   ]
  },
  {
   "cell_type": "markdown",
   "metadata": {
    "id": "14f1pDCdx82I"
   },
   "source": [
    "### Linear regression model"
   ]
  },
  {
   "cell_type": "markdown",
   "metadata": {
    "id": "jQU-NU7Mx_Mn"
   },
   "source": [
    "First, we will do a basic Linear Regression and observe the baseline accuracy metrics."
   ]
  },
  {
   "cell_type": "code",
   "execution_count": 21,
   "metadata": {
    "colab": {
     "base_uri": "https://localhost:8080/"
    },
    "id": "eu5z76qtMvW6",
    "outputId": "2578c318-cb28-45a2-cfe9-0c68cc7e3283"
   },
   "outputs": [
    {
     "name": "stdout",
     "output_type": "stream",
     "text": [
      "Root Mean Squared Error:  156149.06199382097\n",
      "Mean Absolute Error:  109761.97924259912\n"
     ]
    }
   ],
   "source": [
    "# we declare the dataset versions and code to use as inputs of our run\n",
    "experiment.start(inputs=[input_code, train_ds_version, test_ds_version],\n",
    "                run_properties={\"Property1\": \"Value 1\", \"property2\": \"Value 2\"})\n",
    "\n",
    "# Linear regression model\n",
    "lr_rg = LinearRegression()\n",
    "lr_rg.fit(X_train, y_train)\n",
    "lr_pred = lr_rg.predict(X_test)\n",
    "\n",
    "# Evaluate Metrics\n",
    "MAE = round(mean_absolute_error(lr_pred, y_test),3)\n",
    "RMSE = round(sqrt(mean_squared_error(lr_pred, y_test)),3)\n",
    "\n",
    "print(\"Root Mean Squared Error: \", RMSE)\n",
    "print(\"Mean Absolute Error: \", MAE)\n",
    "\n",
    "# Let's log the model we trained along with its metrics, as a new version \n",
    "# of the \"Regressor\" model in Vectice.\n",
    "metrics = {\"RMSE\": RMSE, \"MAE\": MAE}\n",
    "model_version = experiment.add_model_version(model=\"Regressor\", algorithm=\"Linear Regression\", metrics=metrics)\n",
    "\n",
    "# We complete the current experiment's run \n",
    "## The created model version will be automatically attached as output of the run\n",
    "experiment.complete()"
   ]
  },
  {
   "cell_type": "markdown",
   "metadata": {
    "id": "kHfTyn5ByD0M"
   },
   "source": [
    "### Decision tree model"
   ]
  },
  {
   "cell_type": "markdown",
   "metadata": {
    "id": "-FIP53giyFc_"
   },
   "source": [
    "In this section let's use the decision tree algorithm and compare the accuracy to the logistic regression algorithm. We will try different values for the tree_depth. We will log the model parameters and metrics in Vectice."
   ]
  },
  {
   "cell_type": "code",
   "execution_count": null,
   "metadata": {
    "id": "k-iP1UhKuLeN"
   },
   "outputs": [],
   "source": [
    "# We can do a few runs with different max depth for the tree.\n",
    "# Just change the value below and re-run this cell.\n",
    "tree_depth = 6\n",
    "\n",
    "# we declare the code and dataset versions to use as inputs of our run\n",
    "experiment.start(inputs=[input_code, train_ds_version, test_ds_version],\n",
    "                run_properties={\"Property1\": \"Value 1\", \"property2\": \"Value 2\"})\n",
    "\n",
    "# Decision tree model\n",
    "dtr = DecisionTreeRegressor(max_depth=tree_depth, min_samples_split=50)\n",
    "dtr.fit(X_train,y_train)\n",
    "dtr_pred = dtr.predict(X_test) \n",
    "\n",
    "data_feature_names = ['bedrooms', 'bathrooms', 'sqft_living', 'sqft_lot', 'floors',\n",
    "                      'waterfront', 'view', 'condition', 'grade', 'sqft_above',\n",
    "                      'sqft_basement', 'yr_built', 'yr_renovated', 'zipcode', 'lat',\n",
    "                      'long', 'sqft_living15', 'sqft_lot15']\n",
    "\n",
    "# Visualize the Decision Tree Model\n",
    "plt.figure(figsize=(25, 10))\n",
    "plot_tree(dtr, feature_names=data_feature_names, filled=True, fontsize=10)\n",
    "attachment_name = \"DecisionTree_\"+str(tree_depth)+\".png\"\n",
    "plt.savefig(attachment_name)\n",
    "\n",
    "## We can attach the decision tree plot to the model version by using .with_attachments([Attachments])\n",
    "MAE = round(mean_absolute_error(dtr_pred, y_test),3)\n",
    "RMSE = round(sqrt(mean_squared_error(dtr_pred, y_test)),3)\n",
    "\n",
    "print(\"Root Mean Squared Error:\", RMSE)\n",
    "print(\"Mean Absolute Error:\", MAE)\n",
    "\n",
    "# Let's log the model we trained along with its metrics, as a new version \n",
    "# of the \"Regressor\" model in Vectice.\n",
    "metrics = {\"RMSE\": RMSE, \"MAE\": MAE}\n",
    "model_version = experiment.add_model_version(model=\"Regressor\", algorithm=\"Decision Tree\", hyper_parameters={\n",
    "                            \"Tree Depth\":tree_depth}, metrics=metrics, attachment=attachment_name)\n",
    "\n",
    "# We complete the current experiment's run \n",
    "## The created model version will be automatically attached as output of the run\n",
    "experiment.complete()"
   ]
  },
  {
   "cell_type": "markdown",
   "metadata": {
    "id": "eSA7zAZGyQmu"
   },
   "source": [
    "### Random forest model\n",
    "\n",
    "Let's use the Random Forest Regression and do some hyper-parameter tuning on it."
   ]
  },
  {
   "cell_type": "code",
   "execution_count": null,
   "metadata": {
    "id": "B3I4rcTVu5PF"
   },
   "outputs": [],
   "source": [
    "# You can modify the parameters below and execute multiple runs to train \n",
    "## different versions of RF model.\n",
    "nb_trees = 60\n",
    "min_samples = 30\n",
    "\n",
    "# we declare the dataset versions and code to use as inputs of our run\n",
    "experiment.start(inputs=[input_code, train_ds_version, test_ds_version],\n",
    "                run_properties={\"Property1\": \"Value 1\", \"property2\": \"Value 2\"})\n",
    "\n",
    "rf_regressor = RandomForestRegressor(n_estimators=nb_trees, min_samples_leaf=min_samples)\n",
    "rf_regressor.fit(X_train, y_train)\n",
    "rf_regressor.score(X_test, y_test)\n",
    "rf_regressor_pred = rf_regressor.predict(X_test)\n",
    "\n",
    "MAE = round(mean_absolute_error(rf_regressor_pred, y_test),3)\n",
    "RMSE = round(sqrt(mean_squared_error(rf_regressor_pred, y_test)),3)\n",
    "\n",
    "print(\"Root Mean Squared Error:\", RMSE)\n",
    "print(\"Mean Absolute Error:\", MAE)\n",
    "\n",
    "# Let's log the model we trained along with its metrics, as a new version \n",
    "# of the \"Regressor\" model in Vectice.\n",
    "hyper_parameters = {\"nb_trees\": nb_trees, \"min_samples\": min_samples}\n",
    "metrics = {\"RMSE\": RMSE, \"MAE\": MAE}\n",
    "\n",
    "model_version = experiment.add_model_version(model=\"Regressor\", algorithm=\"Random Forest\", hyper_parameters=hyper_parameters, metrics=metrics)\n",
    "\n",
    "# We complete the current experiment's run \n",
    "## The created model version will be automatically attached as output of the run\n",
    "experiment.complete()  "
   ]
  },
  {
   "cell_type": "markdown",
   "metadata": {
    "id": "lj99dGnQh1E5"
   },
   "source": [
    "You can also get all the model versions you created in previous runs, for offline analysis and understanding in more details what's driving the models performance."
   ]
  },
  {
   "cell_type": "code",
   "execution_count": null,
   "metadata": {
    "colab": {
     "base_uri": "https://localhost:8080/",
     "height": 287
    },
    "id": "3eCZtK0qYqCR",
    "outputId": "dbfda5b3-ba3f-45f3-83fd-d7d5d6208d68"
   },
   "outputs": [
    {
     "name": "stderr",
     "output_type": "stream",
     "text": [
      "INFO:numexpr.utils:NumExpr defaulting to 2 threads.\n"
     ]
    },
    {
     "data": {
      "text/html": [
       "\n",
       "  <div id=\"df-d40b5f6c-7387-4daa-9157-25ec300872c6\">\n",
       "    <div class=\"colab-df-container\">\n",
       "      <div>\n",
       "<style scoped>\n",
       "    .dataframe tbody tr th:only-of-type {\n",
       "        vertical-align: middle;\n",
       "    }\n",
       "\n",
       "    .dataframe tbody tr th {\n",
       "        vertical-align: top;\n",
       "    }\n",
       "\n",
       "    .dataframe thead th {\n",
       "        text-align: right;\n",
       "    }\n",
       "</style>\n",
       "<table border=\"1\" class=\"dataframe\">\n",
       "  <thead>\n",
       "    <tr style=\"text-align: right;\">\n",
       "      <th></th>\n",
       "      <th>createdDate</th>\n",
       "      <th>name</th>\n",
       "      <th>versionNumber</th>\n",
       "      <th>status</th>\n",
       "      <th>algorithmName</th>\n",
       "      <th>isStarred</th>\n",
       "      <th>RMSE</th>\n",
       "      <th>MAE</th>\n",
       "      <th>nb_trees</th>\n",
       "      <th>min_samples</th>\n",
       "      <th>Tree Depth</th>\n",
       "    </tr>\n",
       "  </thead>\n",
       "  <tbody>\n",
       "    <tr>\n",
       "      <th>0</th>\n",
       "      <td>2022-04-28T08:52:49.234Z</td>\n",
       "      <td>Version 7</td>\n",
       "      <td>7</td>\n",
       "      <td>EXPERIMENTATION</td>\n",
       "      <td>Random Forest</td>\n",
       "      <td>False</td>\n",
       "      <td>124373.49361664786</td>\n",
       "      <td>79187.50617505661</td>\n",
       "      <td>60</td>\n",
       "      <td>60</td>\n",
       "      <td>NaN</td>\n",
       "    </tr>\n",
       "    <tr>\n",
       "      <th>1</th>\n",
       "      <td>2022-04-28T08:52:41.638Z</td>\n",
       "      <td>Version 6</td>\n",
       "      <td>6</td>\n",
       "      <td>EXPERIMENTATION</td>\n",
       "      <td>Random Forest</td>\n",
       "      <td>False</td>\n",
       "      <td>115722.88950588116</td>\n",
       "      <td>73254.57657347745</td>\n",
       "      <td>60</td>\n",
       "      <td>30</td>\n",
       "      <td>NaN</td>\n",
       "    </tr>\n",
       "    <tr>\n",
       "      <th>2</th>\n",
       "      <td>2022-04-28T08:51:10.534Z</td>\n",
       "      <td>Version 5</td>\n",
       "      <td>5</td>\n",
       "      <td>EXPERIMENTATION</td>\n",
       "      <td>Random Forest</td>\n",
       "      <td>False</td>\n",
       "      <td>115506.33013647195</td>\n",
       "      <td>73068.59985223778</td>\n",
       "      <td>30</td>\n",
       "      <td>30</td>\n",
       "      <td>NaN</td>\n",
       "    </tr>\n",
       "    <tr>\n",
       "      <th>3</th>\n",
       "      <td>2022-04-27T07:49:05.155Z</td>\n",
       "      <td>Version 4</td>\n",
       "      <td>4</td>\n",
       "      <td>PRODUCTION</td>\n",
       "      <td>Decision Tree</td>\n",
       "      <td>True</td>\n",
       "      <td>144649.5566489278</td>\n",
       "      <td>95872.63972094451</td>\n",
       "      <td>NaN</td>\n",
       "      <td>NaN</td>\n",
       "      <td>6</td>\n",
       "    </tr>\n",
       "    <tr>\n",
       "      <th>4</th>\n",
       "      <td>2022-04-27T07:49:04.155Z</td>\n",
       "      <td>Version 3</td>\n",
       "      <td>3</td>\n",
       "      <td>EXPERIMENTATION</td>\n",
       "      <td>Decision Tree</td>\n",
       "      <td>False</td>\n",
       "      <td>165154.56185163363</td>\n",
       "      <td>112088.19615621041</td>\n",
       "      <td>NaN</td>\n",
       "      <td>NaN</td>\n",
       "      <td>4</td>\n",
       "    </tr>\n",
       "    <tr>\n",
       "      <th>5</th>\n",
       "      <td>2022-04-27T07:49:03.155Z</td>\n",
       "      <td>Version 2</td>\n",
       "      <td>2</td>\n",
       "      <td>EXPERIMENTATION</td>\n",
       "      <td>Decision Tree</td>\n",
       "      <td>False</td>\n",
       "      <td>203604.21325245287</td>\n",
       "      <td>141604.0933708193</td>\n",
       "      <td>NaN</td>\n",
       "      <td>NaN</td>\n",
       "      <td>2</td>\n",
       "    </tr>\n",
       "    <tr>\n",
       "      <th>6</th>\n",
       "      <td>2022-04-27T07:49:02.155Z</td>\n",
       "      <td>Version 1</td>\n",
       "      <td>1</td>\n",
       "      <td>EXPERIMENTATION</td>\n",
       "      <td>Linear Regression</td>\n",
       "      <td>False</td>\n",
       "      <td>156149.06199382097</td>\n",
       "      <td>109761.97924259912</td>\n",
       "      <td>NaN</td>\n",
       "      <td>NaN</td>\n",
       "      <td>NaN</td>\n",
       "    </tr>\n",
       "  </tbody>\n",
       "</table>\n",
       "</div>\n",
       "      <button class=\"colab-df-convert\" onclick=\"convertToInteractive('df-d40b5f6c-7387-4daa-9157-25ec300872c6')\"\n",
       "              title=\"Convert this dataframe to an interactive table.\"\n",
       "              style=\"display:none;\">\n",
       "        \n",
       "  <svg xmlns=\"http://www.w3.org/2000/svg\" height=\"24px\"viewBox=\"0 0 24 24\"\n",
       "       width=\"24px\">\n",
       "    <path d=\"M0 0h24v24H0V0z\" fill=\"none\"/>\n",
       "    <path d=\"M18.56 5.44l.94 2.06.94-2.06 2.06-.94-2.06-.94-.94-2.06-.94 2.06-2.06.94zm-11 1L8.5 8.5l.94-2.06 2.06-.94-2.06-.94L8.5 2.5l-.94 2.06-2.06.94zm10 10l.94 2.06.94-2.06 2.06-.94-2.06-.94-.94-2.06-.94 2.06-2.06.94z\"/><path d=\"M17.41 7.96l-1.37-1.37c-.4-.4-.92-.59-1.43-.59-.52 0-1.04.2-1.43.59L10.3 9.45l-7.72 7.72c-.78.78-.78 2.05 0 2.83L4 21.41c.39.39.9.59 1.41.59.51 0 1.02-.2 1.41-.59l7.78-7.78 2.81-2.81c.8-.78.8-2.07 0-2.86zM5.41 20L4 18.59l7.72-7.72 1.47 1.35L5.41 20z\"/>\n",
       "  </svg>\n",
       "      </button>\n",
       "      \n",
       "  <style>\n",
       "    .colab-df-container {\n",
       "      display:flex;\n",
       "      flex-wrap:wrap;\n",
       "      gap: 12px;\n",
       "    }\n",
       "\n",
       "    .colab-df-convert {\n",
       "      background-color: #E8F0FE;\n",
       "      border: none;\n",
       "      border-radius: 50%;\n",
       "      cursor: pointer;\n",
       "      display: none;\n",
       "      fill: #1967D2;\n",
       "      height: 32px;\n",
       "      padding: 0 0 0 0;\n",
       "      width: 32px;\n",
       "    }\n",
       "\n",
       "    .colab-df-convert:hover {\n",
       "      background-color: #E2EBFA;\n",
       "      box-shadow: 0px 1px 2px rgba(60, 64, 67, 0.3), 0px 1px 3px 1px rgba(60, 64, 67, 0.15);\n",
       "      fill: #174EA6;\n",
       "    }\n",
       "\n",
       "    [theme=dark] .colab-df-convert {\n",
       "      background-color: #3B4455;\n",
       "      fill: #D2E3FC;\n",
       "    }\n",
       "\n",
       "    [theme=dark] .colab-df-convert:hover {\n",
       "      background-color: #434B5C;\n",
       "      box-shadow: 0px 1px 3px 1px rgba(0, 0, 0, 0.15);\n",
       "      filter: drop-shadow(0px 1px 2px rgba(0, 0, 0, 0.3));\n",
       "      fill: #FFFFFF;\n",
       "    }\n",
       "  </style>\n",
       "\n",
       "      <script>\n",
       "        const buttonEl =\n",
       "          document.querySelector('#df-d40b5f6c-7387-4daa-9157-25ec300872c6 button.colab-df-convert');\n",
       "        buttonEl.style.display =\n",
       "          google.colab.kernel.accessAllowed ? 'block' : 'none';\n",
       "\n",
       "        async function convertToInteractive(key) {\n",
       "          const element = document.querySelector('#df-d40b5f6c-7387-4daa-9157-25ec300872c6');\n",
       "          const dataTable =\n",
       "            await google.colab.kernel.invokeFunction('convertToInteractive',\n",
       "                                                     [key], {});\n",
       "          if (!dataTable) return;\n",
       "\n",
       "          const docLinkHtml = 'Like what you see? Visit the ' +\n",
       "            '<a target=\"_blank\" href=https://colab.research.google.com/notebooks/data_table.ipynb>data table notebook</a>'\n",
       "            + ' to learn more about interactive tables.';\n",
       "          element.innerHTML = '';\n",
       "          dataTable['output_type'] = 'display_data';\n",
       "          await google.colab.output.renderOutput(dataTable, element);\n",
       "          const docLink = document.createElement('div');\n",
       "          docLink.innerHTML = docLinkHtml;\n",
       "          element.appendChild(docLink);\n",
       "        }\n",
       "      </script>\n",
       "    </div>\n",
       "  </div>\n",
       "  "
      ],
      "text/plain": [
       "                createdDate       name  versionNumber           status  \\\n",
       "0  2022-04-28T08:52:49.234Z  Version 7              7  EXPERIMENTATION   \n",
       "1  2022-04-28T08:52:41.638Z  Version 6              6  EXPERIMENTATION   \n",
       "2  2022-04-28T08:51:10.534Z  Version 5              5  EXPERIMENTATION   \n",
       "3  2022-04-27T07:49:05.155Z  Version 4              4       PRODUCTION   \n",
       "4  2022-04-27T07:49:04.155Z  Version 3              3  EXPERIMENTATION   \n",
       "5  2022-04-27T07:49:03.155Z  Version 2              2  EXPERIMENTATION   \n",
       "6  2022-04-27T07:49:02.155Z  Version 1              1  EXPERIMENTATION   \n",
       "\n",
       "       algorithmName  isStarred                RMSE                 MAE  \\\n",
       "0      Random Forest      False  124373.49361664786   79187.50617505661   \n",
       "1      Random Forest      False  115722.88950588116   73254.57657347745   \n",
       "2      Random Forest      False  115506.33013647195   73068.59985223778   \n",
       "3      Decision Tree       True   144649.5566489278   95872.63972094451   \n",
       "4      Decision Tree      False  165154.56185163363  112088.19615621041   \n",
       "5      Decision Tree      False  203604.21325245287   141604.0933708193   \n",
       "6  Linear Regression      False  156149.06199382097  109761.97924259912   \n",
       "\n",
       "  nb_trees min_samples Tree Depth  \n",
       "0       60          60        NaN  \n",
       "1       60          30        NaN  \n",
       "2       30          30        NaN  \n",
       "3      NaN         NaN          6  \n",
       "4      NaN         NaN          4  \n",
       "5      NaN         NaN          2  \n",
       "6      NaN         NaN        NaN  "
      ]
     },
     "execution_count": 7,
     "metadata": {},
     "output_type": "execute_result"
    }
   ],
   "source": [
    "experiment.list_model_versions_dataframe(model=\"Regressor\")"
   ]
  },
  {
   "cell_type": "markdown",
   "metadata": {
    "id": "QhotjOQUyTcH"
   },
   "source": [
    "We can see that the Random Forest Regressor model gives the lowest error and should be the preferred approach despite the complexity of the algorithm. Let's get the list of features' importance to discuss which variables are influencing the model the most."
   ]
  },
  {
   "cell_type": "code",
   "execution_count": null,
   "metadata": {
    "colab": {
     "base_uri": "https://localhost:8080/",
     "height": 279
    },
    "id": "CHcKAqzDyUQZ",
    "outputId": "1c7741af-769b-4406-a612-142369c4b966"
   },
   "outputs": [
    {
     "data": {
      "image/png": "[encoded data removed]",
      "text/plain": [
       "<Figure size 432x288 with 1 Axes>"
      ]
     },
     "metadata": {
      "needs_background": "light"
     },
     "output_type": "display_data"
    }
   ],
   "source": [
    "columns = ['bedrooms', 'bathrooms', 'sqft_living', 'sqft_lot', 'floors',\n",
    "           'waterfront', 'view', 'condition', 'grade', 'sqft_above',\n",
    "           'sqft_basement', 'yr_built', 'yr_renovated', 'zipcode', 'lat',\n",
    "           'long', 'sqft_living15', 'sqft_lot15']\n",
    "\n",
    "importance = pd.DataFrame({'Importance': rf_regressor.feature_importances_ * 100}, index=columns)\n",
    "importance.sort_values(by=\"Importance\", axis=0, ascending=True).plot(kind=\"barh\", color=\"b\")\n",
    "plt.xlabel(\"Variable Importance\")\n",
    "plt.savefig(\"Variable_Importance.png\")\n",
    "\n",
    "plt.gca().legend_ = None\n",
    "\n",
    "\n",
    "#Attach the feature_importance to the model\n",
    "experiment.add_model_version_attachment(file=\"Variable_Importance.png\", model_version=\"Version 7\", model=\"Regressor\")"
   ]
  },
  {
   "cell_type": "markdown",
   "metadata": {
    "id": "z_BYeT1hyZwj"
   },
   "source": [
    "Thank you and congratulations! You have succesfully completed the notebook part of the tutorial.\n",
    "\n",
    "In this notebooks we have illustrated how you can capture your experiments, hyper-parameters, dataset versions and metrics using Vectice Python library. \n",
    "You can now leverage Vectice UI for analysis, documentation and to engage a business conversation around the findings.\n",
    "\n",
    "Vectice enables you to:\n",
    "1. Make your experiments more reproducible.\n",
    "2. Track the data and code that is used for each experiment and model versions.\n",
    "3. Document your projects' progress and collaborate with your team in Vectice's UI.\n",
    "4. Discover previous work and reuse your team knowledge for new projects.\n",
    "\n",
    "We are constantly improving the Vectice Python library and the Vectice application. Let us know what improvements you would like to see in the solution and what your favorite features are after completing this tutorial. \n",
    "\n",
    "Feel free to explore more and come up with your own ideas on how to best start leveraging Vectice!\n"
   ]
  }
 ],
 "metadata": {
  "colab": {
   "collapsed_sections": [],
   "name": "Tutorial_Modelling_All.ipynb",
   "provenance": []
  },
  "kernelspec": {
   "display_name": "Python 3",
   "language": "python",
   "name": "python3"
  },
  "language_info": {
   "codemirror_mode": {
    "name": "ipython",
    "version": 3
   },
   "file_extension": ".py",
   "mimetype": "text/x-python",
   "name": "python",
   "nbconvert_exporter": "python",
   "pygments_lexer": "ipython3",
   "version": "3.8.5"
  }
 },
 "nbformat": 4,
 "nbformat_minor": 1
}
