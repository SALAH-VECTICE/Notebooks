{
  "nbformat": 4,
  "nbformat_minor": 5,
  "metadata": {
    "colab": {
      "name": "customer_satisfaction_challenge-users.ipynb",
      "provenance": [],
      "collapsed_sections": [
        "eb29db7c",
        "26a9a7e8",
        "4fc51dd4",
        "e786cc41"
      ]
    },
    "interpreter": {
      "hash": "7eb6f6862a6947ac5369bdb367f27d42e7da01a01c09c3d67648c4373e3c8da1"
    },
    "kernelspec": {
      "display_name": "Python 3",
      "language": "python",
      "name": "python3"
    },
    "language_info": {
      "codemirror_mode": {
        "name": "ipython",
        "version": 3
      },
      "file_extension": ".py",
      "mimetype": "text/x-python",
      "name": "python",
      "nbconvert_exporter": "python",
      "pygments_lexer": "ipython3",
      "version": "3.9.5"
    },
    "papermill": {
      "default_parameters": {},
      "duration": 162.044116,
      "end_time": "2021-04-10T09:32:31.418407",
      "environment_variables": {},
      "exception": null,
      "input_path": "__notebook__.ipynb",
      "output_path": "__notebook__.ipynb",
      "parameters": {},
      "start_time": "2021-04-10T09:29:49.374291",
      "version": "2.3.2"
    }
  },
  "cells": [
    {
      "cell_type": "markdown",
      "metadata": {
        "id": "c65d22b9"
      },
      "source": [
        "# Santander customer satisfaction challenge"
      ],
      "id": "c65d22b9"
    },
    {
      "cell_type": "markdown",
      "metadata": {
        "id": "cd618113"
      },
      "source": [
        "## Problem"
      ],
      "id": "cd618113"
    },
    {
      "cell_type": "markdown",
      "metadata": {
        "id": "13c53800"
      },
      "source": [
        "Customer satisfaction is a key measure of success for all businesses. Unhappy customers don't stay with the same provider and they rarely voice their dissatisfaction before leaving. In this context, Santander bank launched a challenge in Kaggle in order to build models that predict potential unhappy customers\n",
        "\n",
        "---\n",
        "\n"
      ],
      "id": "13c53800"
    },
    {
      "cell_type": "markdown",
      "metadata": {
        "id": "eb29db7c"
      },
      "source": [
        "## Objective"
      ],
      "id": "eb29db7c"
    },
    {
      "cell_type": "markdown",
      "metadata": {
        "id": "ba76d94d"
      },
      "source": [
        "The objective of this competition is to be able to identify unhappy customers early and anticipate their leaving which would allow the company to take proactive steps to improve a customer's happiness before it's too late. In this competition, you'll work with hundreds of anonymized features to predict if a customer is satisfied or dissatisfied with their banking experience."
      ],
      "id": "ba76d94d"
    },
    {
      "cell_type": "markdown",
      "metadata": {
        "id": "26a9a7e8"
      },
      "source": [
        "## Data"
      ],
      "id": "26a9a7e8"
    },
    {
      "cell_type": "markdown",
      "metadata": {
        "id": "6a0c7084"
      },
      "source": [
        "The data is an anonymized dataset containing a large number of numeric variables. The \"TARGET\" column is the variable to predict. It equals 1 for unsatisfied customers and 0 for satisfied customers. The task is to predict the probability that each customer in the test set is an unsatisfied customer.\n",
        "- train.csv: (371 columns): The training set including the target\n",
        "- test.csv: (370 columns): The test set without the target"
      ],
      "id": "6a0c7084"
    },
    {
      "cell_type": "markdown",
      "metadata": {
        "id": "4fc51dd4"
      },
      "source": [
        "##Install Vectice and GCS packages\n"
      ],
      "id": "4fc51dd4"
    },
    {
      "cell_type": "markdown",
      "metadata": {
        "id": "4c3ccd71"
      },
      "source": [
        "Vectice provides a generic metadata layer that is potentially suitable for most data science workflows. For this tutorial we will use the sickit-learn library for modeling and track experiments directly through our Python SDK to illustrate how to fine-tune exactly what you would like to track: metrics, etc. The same mechanisms would apply to R, Java or even more generic REST APIs to track metadata from any programming language and library."
      ],
      "id": "4c3ccd71"
    },
    {
      "cell_type": "code",
      "metadata": {
        "id": "a02e4135"
      },
      "source": [
        "!pip3 install fsspec\n",
        "!pip3 install gcsfs\n",
        "!pip3 install vectice"
      ],
      "id": "a02e4135",
      "execution_count": null,
      "outputs": []
    },
    {
      "cell_type": "code",
      "metadata": {
        "id": "7d9d12a9"
      },
      "source": [
        "!pip3 show vectice"
      ],
      "id": "7d9d12a9",
      "execution_count": null,
      "outputs": []
    },
    {
      "cell_type": "markdown",
      "metadata": {
        "id": "21d4a5d8"
      },
      "source": [
        "## Install the required packages"
      ],
      "id": "21d4a5d8"
    },
    {
      "cell_type": "markdown",
      "metadata": {
        "id": "FvmOFTScUPNV"
      },
      "source": [
        "**Especially if you're working locally and you didn't already installed them**"
      ],
      "id": "FvmOFTScUPNV"
    },
    {
      "cell_type": "code",
      "metadata": {
        "id": "cf34495c"
      },
      "source": [
        "!pip install numpy\n",
        "!pip install pandas\n",
        "!pip install matplotlib\n",
        "!pip install seaborn\n",
        "!pip install sklearn\n",
        "!pip install lightgbm\n",
        "!pip install imblearn"
      ],
      "id": "cf34495c",
      "execution_count": null,
      "outputs": []
    },
    {
      "cell_type": "markdown",
      "metadata": {
        "id": "d9b465b6"
      },
      "source": [
        "## Import the required packages\n"
      ],
      "id": "d9b465b6"
    },
    {
      "cell_type": "code",
      "metadata": {
        "id": "0e2bc921"
      },
      "source": [
        "import os\n",
        "import numpy as np # linear algebra\n",
        "import pandas as pd  # data processing, CSV file I/O (e.g. pd.read_csv)\n",
        "import matplotlib.pyplot as plt\n",
        "import seaborn as sns\n",
        "from vectice.models import JobType\n",
        "from sklearn.model_selection import train_test_split\n",
        "from sklearn.model_selection import GridSearchCV, cross_val_score\n",
        "from sklearn.linear_model import LogisticRegression\n",
        "from sklearn.ensemble import RandomForestClassifier\n",
        "from sklearn.decomposition import PCA\n",
        "from sklearn.preprocessing import StandardScaler\n",
        "from sklearn.metrics import accuracy_score, precision_score, recall_score, roc_auc_score, auc\n",
        "from sklearn.metrics import f1_score, confusion_matrix, precision_recall_curve, roc_curve\n",
        "import lightgbm as lgb\n",
        "from lightgbm import plot_importance\n",
        "from imblearn.over_sampling import SMOTE\n",
        "\n",
        "plt.style.use('seaborn')\n",
        "import warnings\n",
        "warnings.filterwarnings('ignore')\n",
        "\n",
        "%matplotlib inline"
      ],
      "id": "0e2bc921",
      "execution_count": null,
      "outputs": []
    },
    {
      "cell_type": "markdown",
      "metadata": {
        "id": "7e63a557"
      },
      "source": [
        "## Retreive the data from GS"
      ],
      "id": "7e63a557"
    },
    {
      "cell_type": "code",
      "metadata": {
        "id": "9v2HQ-oI9BWu"
      },
      "source": [
        "# Load your json key file to access GCS that was provided with your tutorial account \n",
        "# The name should be something like test.json\n",
        "from google.colab import files\n",
        "uploaded = files.upload()"
      ],
      "id": "9v2HQ-oI9BWu",
      "execution_count": null,
      "outputs": []
    },
    {
      "cell_type": "code",
      "metadata": {
        "id": "1b53c2b1"
      },
      "source": [
        "# Once your file is loaded set the credentials for GCS and load the file\n",
        "# in a pandas frame, double check the json file name you uploaded below.\n",
        "\n",
        "## Complete with the name of your json key file access to GCS that was provided with your tutorial account\n",
        "\n",
        "os.environ['GOOGLE_APPLICATION_CREDENTIALS'] = ''\n",
        "\n",
        "# The original source dataset is already declared in the Vectice UI as \"customer_satisfaction_train\"\n",
        "# and its connection to \"gs://vectice-examples-samples/Customer_satisfaction_challenge/\" has been established\n",
        "train_df = pd.read_csv(\"gs://vectice-examples-samples/Customer_satisfaction_challenge/dataset.csv\")\n",
        "# Run head to make sure the data was loaded properly\n",
        "print(train_df.head())"
      ],
      "id": "1b53c2b1",
      "execution_count": null,
      "outputs": []
    },
    {
      "cell_type": "code",
      "metadata": {
        "id": "FexYnRHd-Tas",
        "cellView": "form"
      },
      "source": [
        "#@title Double click to show the answer\n",
        "#The right syntax is\n",
        "\n",
        "#os.environ['GOOGLE_APPLICATION_CREDENTIALS'] = 'name of the json key file access you uploaded'"
      ],
      "id": "FexYnRHd-Tas",
      "execution_count": null,
      "outputs": []
    },
    {
      "cell_type": "markdown",
      "metadata": {
        "id": "e786cc41"
      },
      "source": [
        "## Data exploration\n",
        "\n",
        "Data exploration enables us to take a first look on the data, can enhance the overall understanding of the characteristics of the data domain and helps to detect correlation between the features, thereby allowing for the creation of more accurate models"
      ],
      "id": "e786cc41"
    },
    {
      "cell_type": "code",
      "metadata": {
        "execution": {
          "iopub.execute_input": "2021-04-10T09:30:08.505604Z",
          "iopub.status.busy": "2021-04-10T09:30:08.504426Z",
          "iopub.status.idle": "2021-04-10T09:30:08.507867Z",
          "shell.execute_reply": "2021-04-10T09:30:08.506112Z"
        },
        "id": "92aff10e",
        "papermill": {
          "duration": 0.04008,
          "end_time": "2021-04-10T09:30:08.507985",
          "exception": false,
          "start_time": "2021-04-10T09:30:08.467905",
          "status": "completed"
        },
        "tags": [],
        "colab": {
          "base_uri": "https://localhost:8080/"
        },
        "outputId": "294f1f5c-a9e8-493a-df49-9f2543067b1f"
      },
      "source": [
        "print(\"Train Data Shape : \",train_df.shape)"
      ],
      "id": "92aff10e",
      "execution_count": null,
      "outputs": [
        {
          "output_type": "stream",
          "text": [
            "Train Data Shape :  (76020, 371)\n"
          ],
          "name": "stdout"
        }
      ]
    },
    {
      "cell_type": "code",
      "metadata": {
        "id": "b5bebe78",
        "colab": {
          "base_uri": "https://localhost:8080/"
        },
        "outputId": "38346784-aa65-41dc-8a0a-e96c72f741bb"
      },
      "source": [
        "train_df['TARGET'].value_counts()\n"
      ],
      "id": "b5bebe78",
      "execution_count": null,
      "outputs": [
        {
          "output_type": "execute_result",
          "data": {
            "text/plain": [
              "0    73012\n",
              "1     3008\n",
              "Name: TARGET, dtype: int64"
            ]
          },
          "metadata": {
            "tags": []
          },
          "execution_count": 15
        }
      ]
    },
    {
      "cell_type": "code",
      "metadata": {
        "execution": {
          "iopub.execute_input": "2021-04-10T09:30:08.595439Z",
          "iopub.status.busy": "2021-04-10T09:30:08.594699Z",
          "iopub.status.idle": "2021-04-10T09:30:08.599672Z",
          "shell.execute_reply": "2021-04-10T09:30:08.599131Z"
        },
        "id": "f82dd09e",
        "papermill": {
          "duration": 0.061924,
          "end_time": "2021-04-10T09:30:08.599807",
          "exception": false,
          "start_time": "2021-04-10T09:30:08.537883",
          "status": "completed"
        },
        "tags": [],
        "colab": {
          "base_uri": "https://localhost:8080/"
        },
        "outputId": "91205e6c-cb1d-4173-b1db-d9b3c8c77fb6"
      },
      "source": [
        "train_df.info()"
      ],
      "id": "f82dd09e",
      "execution_count": null,
      "outputs": [
        {
          "output_type": "stream",
          "text": [
            "<class 'pandas.core.frame.DataFrame'>\n",
            "RangeIndex: 76020 entries, 0 to 76019\n",
            "Columns: 371 entries, ID to TARGET\n",
            "dtypes: float64(111), int64(260)\n",
            "memory usage: 215.2 MB\n"
          ],
          "name": "stdout"
        }
      ]
    },
    {
      "cell_type": "code",
      "metadata": {
        "execution": {
          "iopub.execute_input": "2021-04-10T09:30:08.740556Z",
          "iopub.status.busy": "2021-04-10T09:30:08.739623Z",
          "iopub.status.idle": "2021-04-10T09:30:10.278376Z",
          "shell.execute_reply": "2021-04-10T09:30:10.278859Z"
        },
        "id": "913fa320",
        "papermill": {
          "duration": 1.646631,
          "end_time": "2021-04-10T09:30:10.279041",
          "exception": false,
          "start_time": "2021-04-10T09:30:08.632410",
          "status": "completed"
        },
        "tags": [],
        "colab": {
          "base_uri": "https://localhost:8080/"
        },
        "outputId": "92853377-10c0-4be8-a465-fcc985cab2b4"
      },
      "source": [
        "train_df.describe()"
      ],
      "id": "913fa320",
      "execution_count": null,
      "outputs": [
        {
          "output_type": "execute_result",
          "data": {
            "text/html": [
              "<div>\n",
              "<style scoped>\n",
              "    .dataframe tbody tr th:only-of-type {\n",
              "        vertical-align: middle;\n",
              "    }\n",
              "\n",
              "    .dataframe tbody tr th {\n",
              "        vertical-align: top;\n",
              "    }\n",
              "\n",
              "    .dataframe thead th {\n",
              "        text-align: right;\n",
              "    }\n",
              "</style>\n",
              "<table border=\"1\" class=\"dataframe\">\n",
              "  <thead>\n",
              "    <tr style=\"text-align: right;\">\n",
              "      <th></th>\n",
              "      <th>ID</th>\n",
              "      <th>var3</th>\n",
              "      <th>var15</th>\n",
              "      <th>imp_ent_var16_ult1</th>\n",
              "      <th>imp_op_var39_comer_ult1</th>\n",
              "      <th>imp_op_var39_comer_ult3</th>\n",
              "      <th>imp_op_var40_comer_ult1</th>\n",
              "      <th>imp_op_var40_comer_ult3</th>\n",
              "      <th>imp_op_var40_efect_ult1</th>\n",
              "      <th>imp_op_var40_efect_ult3</th>\n",
              "      <th>imp_op_var40_ult1</th>\n",
              "      <th>imp_op_var41_comer_ult1</th>\n",
              "      <th>imp_op_var41_comer_ult3</th>\n",
              "      <th>imp_op_var41_efect_ult1</th>\n",
              "      <th>imp_op_var41_efect_ult3</th>\n",
              "      <th>imp_op_var41_ult1</th>\n",
              "      <th>imp_op_var39_efect_ult1</th>\n",
              "      <th>imp_op_var39_efect_ult3</th>\n",
              "      <th>imp_op_var39_ult1</th>\n",
              "      <th>imp_sal_var16_ult1</th>\n",
              "      <th>ind_var1_0</th>\n",
              "      <th>ind_var1</th>\n",
              "      <th>ind_var2_0</th>\n",
              "      <th>ind_var2</th>\n",
              "      <th>ind_var5_0</th>\n",
              "      <th>ind_var5</th>\n",
              "      <th>ind_var6_0</th>\n",
              "      <th>ind_var6</th>\n",
              "      <th>ind_var8_0</th>\n",
              "      <th>ind_var8</th>\n",
              "      <th>ind_var12_0</th>\n",
              "      <th>ind_var12</th>\n",
              "      <th>ind_var13_0</th>\n",
              "      <th>ind_var13_corto_0</th>\n",
              "      <th>ind_var13_corto</th>\n",
              "      <th>ind_var13_largo_0</th>\n",
              "      <th>ind_var13_largo</th>\n",
              "      <th>ind_var13_medio_0</th>\n",
              "      <th>ind_var13_medio</th>\n",
              "      <th>ind_var13</th>\n",
              "      <th>...</th>\n",
              "      <th>saldo_medio_var5_ult1</th>\n",
              "      <th>saldo_medio_var5_ult3</th>\n",
              "      <th>saldo_medio_var8_hace2</th>\n",
              "      <th>saldo_medio_var8_hace3</th>\n",
              "      <th>saldo_medio_var8_ult1</th>\n",
              "      <th>saldo_medio_var8_ult3</th>\n",
              "      <th>saldo_medio_var12_hace2</th>\n",
              "      <th>saldo_medio_var12_hace3</th>\n",
              "      <th>saldo_medio_var12_ult1</th>\n",
              "      <th>saldo_medio_var12_ult3</th>\n",
              "      <th>saldo_medio_var13_corto_hace2</th>\n",
              "      <th>saldo_medio_var13_corto_hace3</th>\n",
              "      <th>saldo_medio_var13_corto_ult1</th>\n",
              "      <th>saldo_medio_var13_corto_ult3</th>\n",
              "      <th>saldo_medio_var13_largo_hace2</th>\n",
              "      <th>saldo_medio_var13_largo_hace3</th>\n",
              "      <th>saldo_medio_var13_largo_ult1</th>\n",
              "      <th>saldo_medio_var13_largo_ult3</th>\n",
              "      <th>saldo_medio_var13_medio_hace2</th>\n",
              "      <th>saldo_medio_var13_medio_hace3</th>\n",
              "      <th>saldo_medio_var13_medio_ult1</th>\n",
              "      <th>saldo_medio_var13_medio_ult3</th>\n",
              "      <th>saldo_medio_var17_hace2</th>\n",
              "      <th>saldo_medio_var17_hace3</th>\n",
              "      <th>saldo_medio_var17_ult1</th>\n",
              "      <th>saldo_medio_var17_ult3</th>\n",
              "      <th>saldo_medio_var29_hace2</th>\n",
              "      <th>saldo_medio_var29_hace3</th>\n",
              "      <th>saldo_medio_var29_ult1</th>\n",
              "      <th>saldo_medio_var29_ult3</th>\n",
              "      <th>saldo_medio_var33_hace2</th>\n",
              "      <th>saldo_medio_var33_hace3</th>\n",
              "      <th>saldo_medio_var33_ult1</th>\n",
              "      <th>saldo_medio_var33_ult3</th>\n",
              "      <th>saldo_medio_var44_hace2</th>\n",
              "      <th>saldo_medio_var44_hace3</th>\n",
              "      <th>saldo_medio_var44_ult1</th>\n",
              "      <th>saldo_medio_var44_ult3</th>\n",
              "      <th>var38</th>\n",
              "      <th>TARGET</th>\n",
              "    </tr>\n",
              "  </thead>\n",
              "  <tbody>\n",
              "    <tr>\n",
              "      <th>count</th>\n",
              "      <td>76020.000000</td>\n",
              "      <td>76020.000000</td>\n",
              "      <td>76020.000000</td>\n",
              "      <td>76020.000000</td>\n",
              "      <td>76020.000000</td>\n",
              "      <td>76020.000000</td>\n",
              "      <td>76020.000000</td>\n",
              "      <td>76020.000000</td>\n",
              "      <td>76020.000000</td>\n",
              "      <td>76020.000000</td>\n",
              "      <td>76020.000000</td>\n",
              "      <td>76020.000000</td>\n",
              "      <td>76020.000000</td>\n",
              "      <td>76020.000000</td>\n",
              "      <td>76020.000000</td>\n",
              "      <td>76020.000000</td>\n",
              "      <td>76020.000000</td>\n",
              "      <td>76020.000000</td>\n",
              "      <td>76020.000000</td>\n",
              "      <td>76020.000000</td>\n",
              "      <td>76020.000000</td>\n",
              "      <td>76020.000000</td>\n",
              "      <td>76020.0</td>\n",
              "      <td>76020.0</td>\n",
              "      <td>76020.000000</td>\n",
              "      <td>76020.000000</td>\n",
              "      <td>76020.000000</td>\n",
              "      <td>76020.000000</td>\n",
              "      <td>76020.000000</td>\n",
              "      <td>76020.000000</td>\n",
              "      <td>76020.000000</td>\n",
              "      <td>76020.000000</td>\n",
              "      <td>76020.000000</td>\n",
              "      <td>76020.000000</td>\n",
              "      <td>76020.000000</td>\n",
              "      <td>76020.000000</td>\n",
              "      <td>76020.000000</td>\n",
              "      <td>76020.000000</td>\n",
              "      <td>76020.000000</td>\n",
              "      <td>76020.000000</td>\n",
              "      <td>...</td>\n",
              "      <td>76020.000000</td>\n",
              "      <td>76020.000000</td>\n",
              "      <td>76020.000000</td>\n",
              "      <td>76020.000000</td>\n",
              "      <td>76020.000000</td>\n",
              "      <td>76020.000000</td>\n",
              "      <td>7.602000e+04</td>\n",
              "      <td>76020.000000</td>\n",
              "      <td>7.602000e+04</td>\n",
              "      <td>7.602000e+04</td>\n",
              "      <td>76020.000000</td>\n",
              "      <td>76020.000000</td>\n",
              "      <td>76020.000000</td>\n",
              "      <td>76020.000000</td>\n",
              "      <td>76020.000000</td>\n",
              "      <td>76020.000000</td>\n",
              "      <td>7.602000e+04</td>\n",
              "      <td>7.602000e+04</td>\n",
              "      <td>76020.000000</td>\n",
              "      <td>76020.0</td>\n",
              "      <td>76020.000000</td>\n",
              "      <td>76020.000000</td>\n",
              "      <td>7.602000e+04</td>\n",
              "      <td>7.602000e+04</td>\n",
              "      <td>7.602000e+04</td>\n",
              "      <td>7.602000e+04</td>\n",
              "      <td>76020.000000</td>\n",
              "      <td>76020.000000</td>\n",
              "      <td>76020.000000</td>\n",
              "      <td>76020.000000</td>\n",
              "      <td>76020.000000</td>\n",
              "      <td>76020.000000</td>\n",
              "      <td>76020.000000</td>\n",
              "      <td>76020.000000</td>\n",
              "      <td>76020.000000</td>\n",
              "      <td>76020.000000</td>\n",
              "      <td>76020.000000</td>\n",
              "      <td>76020.000000</td>\n",
              "      <td>7.602000e+04</td>\n",
              "      <td>76020.000000</td>\n",
              "    </tr>\n",
              "    <tr>\n",
              "      <th>mean</th>\n",
              "      <td>75964.050723</td>\n",
              "      <td>2.716483</td>\n",
              "      <td>33.212865</td>\n",
              "      <td>86.208265</td>\n",
              "      <td>72.363067</td>\n",
              "      <td>119.529632</td>\n",
              "      <td>3.559130</td>\n",
              "      <td>6.472698</td>\n",
              "      <td>0.412946</td>\n",
              "      <td>0.567352</td>\n",
              "      <td>3.160715</td>\n",
              "      <td>68.803937</td>\n",
              "      <td>113.056934</td>\n",
              "      <td>68.205140</td>\n",
              "      <td>113.225058</td>\n",
              "      <td>137.242763</td>\n",
              "      <td>68.618087</td>\n",
              "      <td>113.792410</td>\n",
              "      <td>140.403479</td>\n",
              "      <td>5.477676</td>\n",
              "      <td>0.011458</td>\n",
              "      <td>0.003762</td>\n",
              "      <td>0.0</td>\n",
              "      <td>0.0</td>\n",
              "      <td>0.958024</td>\n",
              "      <td>0.663760</td>\n",
              "      <td>0.000105</td>\n",
              "      <td>0.000026</td>\n",
              "      <td>0.032833</td>\n",
              "      <td>0.028598</td>\n",
              "      <td>0.067522</td>\n",
              "      <td>0.045462</td>\n",
              "      <td>0.052249</td>\n",
              "      <td>0.042936</td>\n",
              "      <td>0.041476</td>\n",
              "      <td>0.010168</td>\n",
              "      <td>0.009997</td>\n",
              "      <td>0.000026</td>\n",
              "      <td>0.000026</td>\n",
              "      <td>0.050855</td>\n",
              "      <td>...</td>\n",
              "      <td>1077.256756</td>\n",
              "      <td>1048.856447</td>\n",
              "      <td>68.275452</td>\n",
              "      <td>9.505287</td>\n",
              "      <td>124.620962</td>\n",
              "      <td>110.026575</td>\n",
              "      <td>3.997023e+03</td>\n",
              "      <td>613.534443</td>\n",
              "      <td>5.703008e+03</td>\n",
              "      <td>4.401002e+03</td>\n",
              "      <td>3639.419939</td>\n",
              "      <td>556.184178</td>\n",
              "      <td>4852.261814</td>\n",
              "      <td>3857.848542</td>\n",
              "      <td>771.227449</td>\n",
              "      <td>162.170439</td>\n",
              "      <td>9.569502e+02</td>\n",
              "      <td>7.509563e+02</td>\n",
              "      <td>0.175324</td>\n",
              "      <td>0.0</td>\n",
              "      <td>0.513023</td>\n",
              "      <td>0.344174</td>\n",
              "      <td>9.117181e+01</td>\n",
              "      <td>3.646318e+01</td>\n",
              "      <td>1.310316e+02</td>\n",
              "      <td>1.092169e+02</td>\n",
              "      <td>0.213071</td>\n",
              "      <td>0.001910</td>\n",
              "      <td>0.253907</td>\n",
              "      <td>0.186630</td>\n",
              "      <td>7.935824</td>\n",
              "      <td>1.365146</td>\n",
              "      <td>12.215580</td>\n",
              "      <td>8.784074</td>\n",
              "      <td>31.505324</td>\n",
              "      <td>1.858575</td>\n",
              "      <td>76.026165</td>\n",
              "      <td>56.614351</td>\n",
              "      <td>1.172358e+05</td>\n",
              "      <td>0.039569</td>\n",
              "    </tr>\n",
              "    <tr>\n",
              "      <th>std</th>\n",
              "      <td>43781.947379</td>\n",
              "      <td>9.447971</td>\n",
              "      <td>12.956486</td>\n",
              "      <td>1614.757313</td>\n",
              "      <td>339.315831</td>\n",
              "      <td>546.266294</td>\n",
              "      <td>93.155749</td>\n",
              "      <td>153.737066</td>\n",
              "      <td>30.604864</td>\n",
              "      <td>36.513513</td>\n",
              "      <td>95.268204</td>\n",
              "      <td>319.605516</td>\n",
              "      <td>512.154823</td>\n",
              "      <td>531.897917</td>\n",
              "      <td>950.086398</td>\n",
              "      <td>697.712596</td>\n",
              "      <td>535.473750</td>\n",
              "      <td>953.578624</td>\n",
              "      <td>712.767240</td>\n",
              "      <td>465.391149</td>\n",
              "      <td>0.106425</td>\n",
              "      <td>0.061221</td>\n",
              "      <td>0.0</td>\n",
              "      <td>0.0</td>\n",
              "      <td>0.200535</td>\n",
              "      <td>0.472425</td>\n",
              "      <td>0.010258</td>\n",
              "      <td>0.005129</td>\n",
              "      <td>0.178202</td>\n",
              "      <td>0.166674</td>\n",
              "      <td>0.250925</td>\n",
              "      <td>0.208316</td>\n",
              "      <td>0.222531</td>\n",
              "      <td>0.202714</td>\n",
              "      <td>0.199390</td>\n",
              "      <td>0.100325</td>\n",
              "      <td>0.099486</td>\n",
              "      <td>0.005129</td>\n",
              "      <td>0.005129</td>\n",
              "      <td>0.219703</td>\n",
              "      <td>...</td>\n",
              "      <td>9614.906985</td>\n",
              "      <td>8189.948852</td>\n",
              "      <td>1733.838226</td>\n",
              "      <td>519.389157</td>\n",
              "      <td>2205.249804</td>\n",
              "      <td>1935.305713</td>\n",
              "      <td>3.777314e+04</td>\n",
              "      <td>9292.752726</td>\n",
              "      <td>4.620254e+04</td>\n",
              "      <td>3.550718e+04</td>\n",
              "      <td>26359.174223</td>\n",
              "      <td>7182.642532</td>\n",
              "      <td>31886.615189</td>\n",
              "      <td>25572.245055</td>\n",
              "      <td>13082.155867</td>\n",
              "      <td>4698.868075</td>\n",
              "      <td>1.600698e+04</td>\n",
              "      <td>1.242252e+04</td>\n",
              "      <td>34.625518</td>\n",
              "      <td>0.0</td>\n",
              "      <td>113.597559</td>\n",
              "      <td>73.376513</td>\n",
              "      <td>1.539248e+04</td>\n",
              "      <td>8.612395e+03</td>\n",
              "      <td>1.495653e+04</td>\n",
              "      <td>1.308216e+04</td>\n",
              "      <td>41.820444</td>\n",
              "      <td>0.526626</td>\n",
              "      <td>52.078775</td>\n",
              "      <td>31.879418</td>\n",
              "      <td>455.887218</td>\n",
              "      <td>113.959637</td>\n",
              "      <td>783.207399</td>\n",
              "      <td>538.439211</td>\n",
              "      <td>2013.125393</td>\n",
              "      <td>147.786584</td>\n",
              "      <td>4040.337842</td>\n",
              "      <td>2852.579397</td>\n",
              "      <td>1.826646e+05</td>\n",
              "      <td>0.194945</td>\n",
              "    </tr>\n",
              "    <tr>\n",
              "      <th>min</th>\n",
              "      <td>1.000000</td>\n",
              "      <td>0.000000</td>\n",
              "      <td>5.000000</td>\n",
              "      <td>0.000000</td>\n",
              "      <td>0.000000</td>\n",
              "      <td>0.000000</td>\n",
              "      <td>0.000000</td>\n",
              "      <td>0.000000</td>\n",
              "      <td>0.000000</td>\n",
              "      <td>0.000000</td>\n",
              "      <td>0.000000</td>\n",
              "      <td>0.000000</td>\n",
              "      <td>0.000000</td>\n",
              "      <td>0.000000</td>\n",
              "      <td>0.000000</td>\n",
              "      <td>0.000000</td>\n",
              "      <td>0.000000</td>\n",
              "      <td>0.000000</td>\n",
              "      <td>0.000000</td>\n",
              "      <td>0.000000</td>\n",
              "      <td>0.000000</td>\n",
              "      <td>0.000000</td>\n",
              "      <td>0.0</td>\n",
              "      <td>0.0</td>\n",
              "      <td>0.000000</td>\n",
              "      <td>0.000000</td>\n",
              "      <td>0.000000</td>\n",
              "      <td>0.000000</td>\n",
              "      <td>0.000000</td>\n",
              "      <td>0.000000</td>\n",
              "      <td>0.000000</td>\n",
              "      <td>0.000000</td>\n",
              "      <td>0.000000</td>\n",
              "      <td>0.000000</td>\n",
              "      <td>0.000000</td>\n",
              "      <td>0.000000</td>\n",
              "      <td>0.000000</td>\n",
              "      <td>0.000000</td>\n",
              "      <td>0.000000</td>\n",
              "      <td>0.000000</td>\n",
              "      <td>...</td>\n",
              "      <td>-922.380000</td>\n",
              "      <td>-476.070000</td>\n",
              "      <td>-287.670000</td>\n",
              "      <td>0.000000</td>\n",
              "      <td>-3401.340000</td>\n",
              "      <td>-1844.520000</td>\n",
              "      <td>0.000000e+00</td>\n",
              "      <td>0.000000</td>\n",
              "      <td>0.000000e+00</td>\n",
              "      <td>0.000000e+00</td>\n",
              "      <td>0.000000</td>\n",
              "      <td>0.000000</td>\n",
              "      <td>0.000000</td>\n",
              "      <td>0.000000</td>\n",
              "      <td>0.000000</td>\n",
              "      <td>0.000000</td>\n",
              "      <td>0.000000e+00</td>\n",
              "      <td>0.000000e+00</td>\n",
              "      <td>0.000000</td>\n",
              "      <td>0.0</td>\n",
              "      <td>0.000000</td>\n",
              "      <td>0.000000</td>\n",
              "      <td>-3.000000e-02</td>\n",
              "      <td>0.000000e+00</td>\n",
              "      <td>0.000000e+00</td>\n",
              "      <td>0.000000e+00</td>\n",
              "      <td>0.000000</td>\n",
              "      <td>0.000000</td>\n",
              "      <td>0.000000</td>\n",
              "      <td>0.000000</td>\n",
              "      <td>0.000000</td>\n",
              "      <td>0.000000</td>\n",
              "      <td>0.000000</td>\n",
              "      <td>0.000000</td>\n",
              "      <td>0.000000</td>\n",
              "      <td>0.000000</td>\n",
              "      <td>0.000000</td>\n",
              "      <td>0.000000</td>\n",
              "      <td>5.163750e+03</td>\n",
              "      <td>0.000000</td>\n",
              "    </tr>\n",
              "    <tr>\n",
              "      <th>25%</th>\n",
              "      <td>38104.750000</td>\n",
              "      <td>2.000000</td>\n",
              "      <td>23.000000</td>\n",
              "      <td>0.000000</td>\n",
              "      <td>0.000000</td>\n",
              "      <td>0.000000</td>\n",
              "      <td>0.000000</td>\n",
              "      <td>0.000000</td>\n",
              "      <td>0.000000</td>\n",
              "      <td>0.000000</td>\n",
              "      <td>0.000000</td>\n",
              "      <td>0.000000</td>\n",
              "      <td>0.000000</td>\n",
              "      <td>0.000000</td>\n",
              "      <td>0.000000</td>\n",
              "      <td>0.000000</td>\n",
              "      <td>0.000000</td>\n",
              "      <td>0.000000</td>\n",
              "      <td>0.000000</td>\n",
              "      <td>0.000000</td>\n",
              "      <td>0.000000</td>\n",
              "      <td>0.000000</td>\n",
              "      <td>0.0</td>\n",
              "      <td>0.0</td>\n",
              "      <td>1.000000</td>\n",
              "      <td>0.000000</td>\n",
              "      <td>0.000000</td>\n",
              "      <td>0.000000</td>\n",
              "      <td>0.000000</td>\n",
              "      <td>0.000000</td>\n",
              "      <td>0.000000</td>\n",
              "      <td>0.000000</td>\n",
              "      <td>0.000000</td>\n",
              "      <td>0.000000</td>\n",
              "      <td>0.000000</td>\n",
              "      <td>0.000000</td>\n",
              "      <td>0.000000</td>\n",
              "      <td>0.000000</td>\n",
              "      <td>0.000000</td>\n",
              "      <td>0.000000</td>\n",
              "      <td>...</td>\n",
              "      <td>0.000000</td>\n",
              "      <td>0.000000</td>\n",
              "      <td>0.000000</td>\n",
              "      <td>0.000000</td>\n",
              "      <td>0.000000</td>\n",
              "      <td>0.000000</td>\n",
              "      <td>0.000000e+00</td>\n",
              "      <td>0.000000</td>\n",
              "      <td>0.000000e+00</td>\n",
              "      <td>0.000000e+00</td>\n",
              "      <td>0.000000</td>\n",
              "      <td>0.000000</td>\n",
              "      <td>0.000000</td>\n",
              "      <td>0.000000</td>\n",
              "      <td>0.000000</td>\n",
              "      <td>0.000000</td>\n",
              "      <td>0.000000e+00</td>\n",
              "      <td>0.000000e+00</td>\n",
              "      <td>0.000000</td>\n",
              "      <td>0.0</td>\n",
              "      <td>0.000000</td>\n",
              "      <td>0.000000</td>\n",
              "      <td>0.000000e+00</td>\n",
              "      <td>0.000000e+00</td>\n",
              "      <td>0.000000e+00</td>\n",
              "      <td>0.000000e+00</td>\n",
              "      <td>0.000000</td>\n",
              "      <td>0.000000</td>\n",
              "      <td>0.000000</td>\n",
              "      <td>0.000000</td>\n",
              "      <td>0.000000</td>\n",
              "      <td>0.000000</td>\n",
              "      <td>0.000000</td>\n",
              "      <td>0.000000</td>\n",
              "      <td>0.000000</td>\n",
              "      <td>0.000000</td>\n",
              "      <td>0.000000</td>\n",
              "      <td>0.000000</td>\n",
              "      <td>6.787061e+04</td>\n",
              "      <td>0.000000</td>\n",
              "    </tr>\n",
              "    <tr>\n",
              "      <th>50%</th>\n",
              "      <td>76043.000000</td>\n",
              "      <td>2.000000</td>\n",
              "      <td>28.000000</td>\n",
              "      <td>0.000000</td>\n",
              "      <td>0.000000</td>\n",
              "      <td>0.000000</td>\n",
              "      <td>0.000000</td>\n",
              "      <td>0.000000</td>\n",
              "      <td>0.000000</td>\n",
              "      <td>0.000000</td>\n",
              "      <td>0.000000</td>\n",
              "      <td>0.000000</td>\n",
              "      <td>0.000000</td>\n",
              "      <td>0.000000</td>\n",
              "      <td>0.000000</td>\n",
              "      <td>0.000000</td>\n",
              "      <td>0.000000</td>\n",
              "      <td>0.000000</td>\n",
              "      <td>0.000000</td>\n",
              "      <td>0.000000</td>\n",
              "      <td>0.000000</td>\n",
              "      <td>0.000000</td>\n",
              "      <td>0.0</td>\n",
              "      <td>0.0</td>\n",
              "      <td>1.000000</td>\n",
              "      <td>1.000000</td>\n",
              "      <td>0.000000</td>\n",
              "      <td>0.000000</td>\n",
              "      <td>0.000000</td>\n",
              "      <td>0.000000</td>\n",
              "      <td>0.000000</td>\n",
              "      <td>0.000000</td>\n",
              "      <td>0.000000</td>\n",
              "      <td>0.000000</td>\n",
              "      <td>0.000000</td>\n",
              "      <td>0.000000</td>\n",
              "      <td>0.000000</td>\n",
              "      <td>0.000000</td>\n",
              "      <td>0.000000</td>\n",
              "      <td>0.000000</td>\n",
              "      <td>...</td>\n",
              "      <td>3.000000</td>\n",
              "      <td>2.730000</td>\n",
              "      <td>0.000000</td>\n",
              "      <td>0.000000</td>\n",
              "      <td>0.000000</td>\n",
              "      <td>0.000000</td>\n",
              "      <td>0.000000e+00</td>\n",
              "      <td>0.000000</td>\n",
              "      <td>0.000000e+00</td>\n",
              "      <td>0.000000e+00</td>\n",
              "      <td>0.000000</td>\n",
              "      <td>0.000000</td>\n",
              "      <td>0.000000</td>\n",
              "      <td>0.000000</td>\n",
              "      <td>0.000000</td>\n",
              "      <td>0.000000</td>\n",
              "      <td>0.000000e+00</td>\n",
              "      <td>0.000000e+00</td>\n",
              "      <td>0.000000</td>\n",
              "      <td>0.0</td>\n",
              "      <td>0.000000</td>\n",
              "      <td>0.000000</td>\n",
              "      <td>0.000000e+00</td>\n",
              "      <td>0.000000e+00</td>\n",
              "      <td>0.000000e+00</td>\n",
              "      <td>0.000000e+00</td>\n",
              "      <td>0.000000</td>\n",
              "      <td>0.000000</td>\n",
              "      <td>0.000000</td>\n",
              "      <td>0.000000</td>\n",
              "      <td>0.000000</td>\n",
              "      <td>0.000000</td>\n",
              "      <td>0.000000</td>\n",
              "      <td>0.000000</td>\n",
              "      <td>0.000000</td>\n",
              "      <td>0.000000</td>\n",
              "      <td>0.000000</td>\n",
              "      <td>0.000000</td>\n",
              "      <td>1.064092e+05</td>\n",
              "      <td>0.000000</td>\n",
              "    </tr>\n",
              "    <tr>\n",
              "      <th>75%</th>\n",
              "      <td>113748.750000</td>\n",
              "      <td>2.000000</td>\n",
              "      <td>40.000000</td>\n",
              "      <td>0.000000</td>\n",
              "      <td>0.000000</td>\n",
              "      <td>0.000000</td>\n",
              "      <td>0.000000</td>\n",
              "      <td>0.000000</td>\n",
              "      <td>0.000000</td>\n",
              "      <td>0.000000</td>\n",
              "      <td>0.000000</td>\n",
              "      <td>0.000000</td>\n",
              "      <td>0.000000</td>\n",
              "      <td>0.000000</td>\n",
              "      <td>0.000000</td>\n",
              "      <td>0.000000</td>\n",
              "      <td>0.000000</td>\n",
              "      <td>0.000000</td>\n",
              "      <td>0.000000</td>\n",
              "      <td>0.000000</td>\n",
              "      <td>0.000000</td>\n",
              "      <td>0.000000</td>\n",
              "      <td>0.0</td>\n",
              "      <td>0.0</td>\n",
              "      <td>1.000000</td>\n",
              "      <td>1.000000</td>\n",
              "      <td>0.000000</td>\n",
              "      <td>0.000000</td>\n",
              "      <td>0.000000</td>\n",
              "      <td>0.000000</td>\n",
              "      <td>0.000000</td>\n",
              "      <td>0.000000</td>\n",
              "      <td>0.000000</td>\n",
              "      <td>0.000000</td>\n",
              "      <td>0.000000</td>\n",
              "      <td>0.000000</td>\n",
              "      <td>0.000000</td>\n",
              "      <td>0.000000</td>\n",
              "      <td>0.000000</td>\n",
              "      <td>0.000000</td>\n",
              "      <td>...</td>\n",
              "      <td>90.000000</td>\n",
              "      <td>83.790000</td>\n",
              "      <td>0.000000</td>\n",
              "      <td>0.000000</td>\n",
              "      <td>0.000000</td>\n",
              "      <td>0.000000</td>\n",
              "      <td>0.000000e+00</td>\n",
              "      <td>0.000000</td>\n",
              "      <td>0.000000e+00</td>\n",
              "      <td>0.000000e+00</td>\n",
              "      <td>0.000000</td>\n",
              "      <td>0.000000</td>\n",
              "      <td>0.000000</td>\n",
              "      <td>0.000000</td>\n",
              "      <td>0.000000</td>\n",
              "      <td>0.000000</td>\n",
              "      <td>0.000000e+00</td>\n",
              "      <td>0.000000e+00</td>\n",
              "      <td>0.000000</td>\n",
              "      <td>0.0</td>\n",
              "      <td>0.000000</td>\n",
              "      <td>0.000000</td>\n",
              "      <td>0.000000e+00</td>\n",
              "      <td>0.000000e+00</td>\n",
              "      <td>0.000000e+00</td>\n",
              "      <td>0.000000e+00</td>\n",
              "      <td>0.000000</td>\n",
              "      <td>0.000000</td>\n",
              "      <td>0.000000</td>\n",
              "      <td>0.000000</td>\n",
              "      <td>0.000000</td>\n",
              "      <td>0.000000</td>\n",
              "      <td>0.000000</td>\n",
              "      <td>0.000000</td>\n",
              "      <td>0.000000</td>\n",
              "      <td>0.000000</td>\n",
              "      <td>0.000000</td>\n",
              "      <td>0.000000</td>\n",
              "      <td>1.187563e+05</td>\n",
              "      <td>0.000000</td>\n",
              "    </tr>\n",
              "    <tr>\n",
              "      <th>max</th>\n",
              "      <td>151838.000000</td>\n",
              "      <td>238.000000</td>\n",
              "      <td>105.000000</td>\n",
              "      <td>210000.000000</td>\n",
              "      <td>12888.030000</td>\n",
              "      <td>21024.810000</td>\n",
              "      <td>8237.820000</td>\n",
              "      <td>11073.570000</td>\n",
              "      <td>6600.000000</td>\n",
              "      <td>6600.000000</td>\n",
              "      <td>8237.820000</td>\n",
              "      <td>12888.030000</td>\n",
              "      <td>16566.810000</td>\n",
              "      <td>45990.000000</td>\n",
              "      <td>131100.000000</td>\n",
              "      <td>47598.090000</td>\n",
              "      <td>45990.000000</td>\n",
              "      <td>131100.000000</td>\n",
              "      <td>47598.090000</td>\n",
              "      <td>105000.000000</td>\n",
              "      <td>1.000000</td>\n",
              "      <td>1.000000</td>\n",
              "      <td>0.0</td>\n",
              "      <td>0.0</td>\n",
              "      <td>1.000000</td>\n",
              "      <td>1.000000</td>\n",
              "      <td>1.000000</td>\n",
              "      <td>1.000000</td>\n",
              "      <td>1.000000</td>\n",
              "      <td>1.000000</td>\n",
              "      <td>1.000000</td>\n",
              "      <td>1.000000</td>\n",
              "      <td>1.000000</td>\n",
              "      <td>1.000000</td>\n",
              "      <td>1.000000</td>\n",
              "      <td>1.000000</td>\n",
              "      <td>1.000000</td>\n",
              "      <td>1.000000</td>\n",
              "      <td>1.000000</td>\n",
              "      <td>1.000000</td>\n",
              "      <td>...</td>\n",
              "      <td>601428.600000</td>\n",
              "      <td>544365.570000</td>\n",
              "      <td>231351.990000</td>\n",
              "      <td>77586.210000</td>\n",
              "      <td>228031.800000</td>\n",
              "      <td>177582.000000</td>\n",
              "      <td>3.000538e+06</td>\n",
              "      <td>668335.320000</td>\n",
              "      <td>3.004186e+06</td>\n",
              "      <td>2.272859e+06</td>\n",
              "      <td>450000.000000</td>\n",
              "      <td>304838.700000</td>\n",
              "      <td>450000.000000</td>\n",
              "      <td>450000.000000</td>\n",
              "      <td>840000.000000</td>\n",
              "      <td>534000.000000</td>\n",
              "      <td>1.500000e+06</td>\n",
              "      <td>1.034483e+06</td>\n",
              "      <td>7741.950000</td>\n",
              "      <td>0.0</td>\n",
              "      <td>30000.000000</td>\n",
              "      <td>18870.990000</td>\n",
              "      <td>4.210084e+06</td>\n",
              "      <td>2.368559e+06</td>\n",
              "      <td>3.998687e+06</td>\n",
              "      <td>3.525777e+06</td>\n",
              "      <td>10430.010000</td>\n",
              "      <td>145.200000</td>\n",
              "      <td>13793.670000</td>\n",
              "      <td>7331.340000</td>\n",
              "      <td>50003.880000</td>\n",
              "      <td>20385.720000</td>\n",
              "      <td>138831.630000</td>\n",
              "      <td>91778.730000</td>\n",
              "      <td>438329.220000</td>\n",
              "      <td>24650.010000</td>\n",
              "      <td>681462.900000</td>\n",
              "      <td>397884.300000</td>\n",
              "      <td>2.203474e+07</td>\n",
              "      <td>1.000000</td>\n",
              "    </tr>\n",
              "  </tbody>\n",
              "</table>\n",
              "<p>8 rows × 371 columns</p>\n",
              "</div>"
            ],
            "text/plain": [
              "                  ID          var3  ...         var38        TARGET\n",
              "count   76020.000000  76020.000000  ...  7.602000e+04  76020.000000\n",
              "mean    75964.050723      2.716483  ...  1.172358e+05      0.039569\n",
              "std     43781.947379      9.447971  ...  1.826646e+05      0.194945\n",
              "min         1.000000      0.000000  ...  5.163750e+03      0.000000\n",
              "25%     38104.750000      2.000000  ...  6.787061e+04      0.000000\n",
              "50%     76043.000000      2.000000  ...  1.064092e+05      0.000000\n",
              "75%    113748.750000      2.000000  ...  1.187563e+05      0.000000\n",
              "max    151838.000000    238.000000  ...  2.203474e+07      1.000000\n",
              "\n",
              "[8 rows x 371 columns]"
            ]
          },
          "metadata": {
            "tags": []
          },
          "execution_count": 17
        }
      ]
    },
    {
      "cell_type": "code",
      "metadata": {
        "execution": {
          "iopub.execute_input": "2021-04-10T09:30:10.424731Z",
          "iopub.status.busy": "2021-04-10T09:30:10.422820Z",
          "iopub.status.idle": "2021-04-10T09:30:10.425415Z",
          "shell.execute_reply": "2021-04-10T09:30:10.425819Z"
        },
        "id": "f5f1ad5c",
        "papermill": {
          "duration": 0.113231,
          "end_time": "2021-04-10T09:30:10.426014",
          "exception": false,
          "start_time": "2021-04-10T09:30:10.312783",
          "status": "completed"
        },
        "tags": []
      },
      "source": [
        "features = train_df.drop(['ID','TARGET'],axis=1)"
      ],
      "id": "f5f1ad5c",
      "execution_count": null,
      "outputs": []
    },
    {
      "cell_type": "markdown",
      "metadata": {
        "id": "cc8c3198",
        "papermill": {
          "duration": 0.033393,
          "end_time": "2021-04-10T09:30:10.493222",
          "exception": false,
          "start_time": "2021-04-10T09:30:10.459829",
          "status": "completed"
        },
        "tags": []
      },
      "source": [
        "## Exploratory data analysis (EDA)\n",
        "* Target Percent\n",
        "* Check Multicollinearity\n",
        "* Check Outlier\n",
        "\n",
        "EDA is a technique that helps to explore and understand the data sets by summarizing their main characteristics often plotting them visually. It consists of Histograms, Box plot, Scatter plot and many more. EDA is about gathering as many insights from data as we can in order to understand it"
      ],
      "id": "cc8c3198"
    },
    {
      "cell_type": "code",
      "metadata": {
        "execution": {
          "iopub.execute_input": "2021-04-10T09:30:10.564726Z",
          "iopub.status.busy": "2021-04-10T09:30:10.563609Z",
          "iopub.status.idle": "2021-04-10T09:30:10.574704Z",
          "shell.execute_reply": "2021-04-10T09:30:10.574163Z"
        },
        "id": "02d9dde2",
        "papermill": {
          "duration": 0.048701,
          "end_time": "2021-04-10T09:30:10.574875",
          "exception": false,
          "start_time": "2021-04-10T09:30:10.526174",
          "status": "completed"
        },
        "tags": []
      },
      "source": [
        "pd.DataFrame(train_df['TARGET'].value_counts())"
      ],
      "id": "02d9dde2",
      "execution_count": null,
      "outputs": []
    },
    {
      "cell_type": "markdown",
      "metadata": {
        "id": "f968764e"
      },
      "source": [
        "The training set is way imbalanced (73012 zeros vs 3008 ones), so some algorithms may learn mostly from the 0 which can affect our predictions. We address that by using oversampling\n"
      ],
      "id": "f968764e"
    },
    {
      "cell_type": "code",
      "metadata": {
        "execution": {
          "iopub.execute_input": "2021-04-10T09:30:10.661950Z",
          "iopub.status.busy": "2021-04-10T09:30:10.650205Z",
          "iopub.status.idle": "2021-04-10T09:30:10.960179Z",
          "shell.execute_reply": "2021-04-10T09:30:10.959645Z"
        },
        "id": "9c79ec39",
        "papermill": {
          "duration": 0.351011,
          "end_time": "2021-04-10T09:30:10.960347",
          "exception": false,
          "start_time": "2021-04-10T09:30:10.609336",
          "status": "completed"
        },
        "tags": []
      },
      "source": [
        "f, ax = plt.subplots(1,2,figsize=(10,4))\n",
        "train_df['TARGET'].value_counts().plot.pie(\n",
        "    explode=[0,0.1],autopct='%1.1f%%',ax=ax[0],shadow=True\n",
        ")\n",
        "sns.countplot('TARGET', data=train_df, ax=ax[1])\n",
        "plt.show()"
      ],
      "id": "9c79ec39",
      "execution_count": null,
      "outputs": []
    },
    {
      "cell_type": "code",
      "metadata": {
        "execution": {
          "iopub.execute_input": "2021-04-10T09:30:11.038954Z",
          "iopub.status.busy": "2021-04-10T09:30:11.037745Z",
          "iopub.status.idle": "2021-04-10T09:30:11.169433Z",
          "shell.execute_reply": "2021-04-10T09:30:11.169937Z"
        },
        "id": "28ef4f58",
        "papermill": {
          "duration": 0.17417,
          "end_time": "2021-04-10T09:30:11.170170",
          "exception": false,
          "start_time": "2021-04-10T09:30:10.996000",
          "status": "completed"
        },
        "tags": []
      },
      "source": [
        "null_value = train_df.isnull().sum().sort_values(ascending=False)\n",
        "null_percent = round(train_df.isnull().sum().sort_values(ascending=False)/len(train_df)*100,2)\n",
        "pd.concat([null_value, null_percent], axis=1, keys=['Null values', 'Percent'])"
      ],
      "id": "28ef4f58",
      "execution_count": null,
      "outputs": []
    },
    {
      "cell_type": "markdown",
      "metadata": {
        "id": "6618c7cd"
      },
      "source": [
        "Ther is no column with null values"
      ],
      "id": "6618c7cd"
    },
    {
      "cell_type": "markdown",
      "metadata": {
        "id": "fcde4213"
      },
      "source": [
        "**Correlation**\n",
        "\n",
        "If we have a big correlation, we have a problem of multicolinearity. That means that there are some features that depend of other features, so we should reduce the dimentionality of our data (if A depends of B, we should either find a way to aggregate or combine the two features and turn it into one variable or drop one of the variables that are too highly correlated with another) and that can be adressed using Principal component analysis (PCA)"
      ],
      "id": "fcde4213"
    },
    {
      "cell_type": "code",
      "metadata": {
        "execution": {
          "iopub.execute_input": "2021-04-10T09:30:11.257537Z",
          "iopub.status.busy": "2021-04-10T09:30:11.256841Z",
          "iopub.status.idle": "2021-04-10T09:30:11.287243Z",
          "shell.execute_reply": "2021-04-10T09:30:11.287732Z"
        },
        "id": "50606c02",
        "papermill": {
          "duration": 0.07645,
          "end_time": "2021-04-10T09:30:11.287892",
          "exception": false,
          "start_time": "2021-04-10T09:30:11.211442",
          "status": "completed"
        },
        "tags": []
      },
      "source": [
        "features[features.columns[:8]].corr()"
      ],
      "id": "50606c02",
      "execution_count": null,
      "outputs": []
    },
    {
      "cell_type": "code",
      "metadata": {
        "execution": {
          "iopub.execute_input": "2021-04-10T09:30:11.374340Z",
          "iopub.status.busy": "2021-04-10T09:30:11.373115Z",
          "iopub.status.idle": "2021-04-10T09:30:12.063179Z",
          "shell.execute_reply": "2021-04-10T09:30:12.063689Z"
        },
        "id": "0547ae73",
        "papermill": {
          "duration": 0.736357,
          "end_time": "2021-04-10T09:30:12.063872",
          "exception": false,
          "start_time": "2021-04-10T09:30:11.327515",
          "status": "completed"
        },
        "tags": []
      },
      "source": [
        "sns.heatmap(features[features.columns[:8]].corr(),annot=True,cmap='YlGnBu')\n",
        "fig=plt.gcf()\n",
        "fig.set_size_inches(10,8)\n",
        "plt.show()"
      ],
      "id": "0547ae73",
      "execution_count": null,
      "outputs": []
    },
    {
      "cell_type": "markdown",
      "metadata": {
        "id": "e9917207",
        "papermill": {
          "duration": 0.036253,
          "end_time": "2021-04-10T09:30:12.138938",
          "exception": false,
          "start_time": "2021-04-10T09:30:12.102685",
          "status": "completed"
        },
        "tags": []
      },
      "source": [
        "=> We Can Check Multicollinearity\n",
        "\n",
        "Multicollinearity is a phenomenon in which one independent variable is highly correlated with one or more of the other independent variables"
      ],
      "id": "e9917207"
    },
    {
      "cell_type": "code",
      "metadata": {
        "execution": {
          "iopub.execute_input": "2021-04-10T09:30:12.234856Z",
          "iopub.status.busy": "2021-04-10T09:30:12.228916Z",
          "iopub.status.idle": "2021-04-10T09:30:14.659466Z",
          "shell.execute_reply": "2021-04-10T09:30:14.658480Z"
        },
        "id": "a7727ec3",
        "papermill": {
          "duration": 2.483,
          "end_time": "2021-04-10T09:30:14.659617",
          "exception": false,
          "start_time": "2021-04-10T09:30:12.176617",
          "status": "completed"
        },
        "tags": []
      },
      "source": [
        "plt.figure(figsize=(16,6))\n",
        "plt.title(\"Distribution of mean values per row in the train and test set\")\n",
        "sns.distplot(train_df[features.columns].mean(axis=1),color=\"black\", kde=True,bins=120, label='train')\n",
        "plt.legend()\n",
        "plt.show()"
      ],
      "id": "a7727ec3",
      "execution_count": null,
      "outputs": []
    },
    {
      "cell_type": "code",
      "metadata": {
        "execution": {
          "iopub.execute_input": "2021-04-10T09:30:14.762204Z",
          "iopub.status.busy": "2021-04-10T09:30:14.759793Z",
          "iopub.status.idle": "2021-04-10T09:30:17.006201Z",
          "shell.execute_reply": "2021-04-10T09:30:17.006691Z"
        },
        "id": "8d5e6a03",
        "papermill": {
          "duration": 2.308513,
          "end_time": "2021-04-10T09:30:17.006870",
          "exception": false,
          "start_time": "2021-04-10T09:30:14.698357",
          "status": "completed"
        },
        "tags": []
      },
      "source": [
        "plt.figure(figsize=(16,6))\n",
        "plt.title(\"Distribution of std values per rows in the train and test set\")\n",
        "sns.distplot(train_df[features.columns].std(axis=1),color=\"blue\",kde=True,bins=120, label='train')\n",
        "plt.legend(); plt.show()"
      ],
      "id": "8d5e6a03",
      "execution_count": null,
      "outputs": []
    },
    {
      "cell_type": "code",
      "metadata": {
        "execution": {
          "iopub.execute_input": "2021-04-10T09:30:17.098785Z",
          "iopub.status.busy": "2021-04-10T09:30:17.097753Z",
          "iopub.status.idle": "2021-04-10T09:30:19.059778Z",
          "shell.execute_reply": "2021-04-10T09:30:19.059210Z"
        },
        "id": "a75dc43a",
        "papermill": {
          "duration": 2.010971,
          "end_time": "2021-04-10T09:30:19.059925",
          "exception": false,
          "start_time": "2021-04-10T09:30:17.048954",
          "status": "completed"
        },
        "tags": []
      },
      "source": [
        "t0 = train_df[train_df['TARGET'] == 0]\n",
        "t1 = train_df[train_df['TARGET'] == 1]\n",
        "plt.figure(figsize=(16,6))\n",
        "plt.title(\"Distribution of skew values per row in the train set\")\n",
        "sns.distplot(t0[features.columns].skew(axis=1),color=\"red\", kde=True,bins=120, label='target = 0')\n",
        "sns.distplot(t1[features.columns].skew(axis=1),color=\"blue\", kde=True,bins=120, label='target = 1')\n",
        "plt.legend(); plt.show()"
      ],
      "id": "a75dc43a",
      "execution_count": null,
      "outputs": []
    },
    {
      "cell_type": "markdown",
      "metadata": {
        "id": "fc2d0ca7",
        "papermill": {
          "duration": 0.038339,
          "end_time": "2021-04-10T09:30:19.138352",
          "exception": false,
          "start_time": "2021-04-10T09:30:19.100013",
          "status": "completed"
        },
        "tags": []
      },
      "source": [
        "=> We Can Check Outlier\n",
        "\n",
        "An outlier is a value or point that differs substantially from the rest of the data"
      ],
      "id": "fc2d0ca7"
    },
    {
      "cell_type": "code",
      "metadata": {
        "execution": {
          "iopub.execute_input": "2021-04-10T09:30:19.292152Z",
          "iopub.status.busy": "2021-04-10T09:30:19.291019Z",
          "iopub.status.idle": "2021-04-10T09:30:20.736357Z",
          "shell.execute_reply": "2021-04-10T09:30:20.735793Z"
        },
        "id": "6fcaa813",
        "papermill": {
          "duration": 1.558729,
          "end_time": "2021-04-10T09:30:20.736523",
          "exception": false,
          "start_time": "2021-04-10T09:30:19.177794",
          "status": "completed"
        },
        "tags": []
      },
      "source": [
        "train_df.describe()"
      ],
      "id": "6fcaa813",
      "execution_count": null,
      "outputs": []
    },
    {
      "cell_type": "code",
      "metadata": {
        "execution": {
          "iopub.execute_input": "2021-04-10T09:30:20.846567Z",
          "iopub.status.busy": "2021-04-10T09:30:20.845574Z",
          "iopub.status.idle": "2021-04-10T09:30:20.947011Z",
          "shell.execute_reply": "2021-04-10T09:30:20.947475Z"
        },
        "id": "f3b92157",
        "papermill": {
          "duration": 0.166387,
          "end_time": "2021-04-10T09:30:20.947629",
          "exception": false,
          "start_time": "2021-04-10T09:30:20.781242",
          "status": "completed"
        },
        "tags": []
      },
      "source": [
        "plt.boxplot(train_df['var3'])"
      ],
      "id": "f3b92157",
      "execution_count": null,
      "outputs": []
    },
    {
      "cell_type": "code",
      "metadata": {
        "execution": {
          "iopub.execute_input": "2021-04-10T09:30:21.037116Z",
          "iopub.status.busy": "2021-04-10T09:30:21.036179Z",
          "iopub.status.idle": "2021-04-10T09:30:21.150551Z",
          "shell.execute_reply": "2021-04-10T09:30:21.150989Z"
        },
        "id": "1813ccb0",
        "papermill": {
          "duration": 0.161176,
          "end_time": "2021-04-10T09:30:21.151170",
          "exception": false,
          "start_time": "2021-04-10T09:30:20.989994",
          "status": "completed"
        },
        "tags": []
      },
      "source": [
        "plt.boxplot(train_df['var38'])"
      ],
      "id": "1813ccb0",
      "execution_count": null,
      "outputs": []
    },
    {
      "cell_type": "markdown",
      "metadata": {
        "id": "15d5668a"
      },
      "source": [
        "The training set:\n",
        "- Contains continuous and and catigorized data (we should treate carigorized data cuz 10000>1 if we interpret them as numeric values and not catigorical (example IDs)\n",
        "- Contains variables with zero variance or non predictive value\n",
        "- Contains fake values (-999999) that were introduced to replace missing data\n",
        "- Is way imbalanced"
      ],
      "id": "15d5668a"
    },
    {
      "cell_type": "markdown",
      "metadata": {
        "id": "f8637fb5",
        "papermill": {
          "duration": 0.043992,
          "end_time": "2021-04-10T09:30:21.238920",
          "exception": false,
          "start_time": "2021-04-10T09:30:21.194928",
          "status": "completed"
        },
        "tags": []
      },
      "source": [
        "## Preprocessing\n",
        "Data preprocessing alludes to the method of cleaning and arranging the crude data to make it appropriate for building and preparing AI models. Data preprocessing is a procedure that changes crude data into an instructive and lucid arrangement. Our dataset is imbalanced. We will use oversampling to resolve this problem because if not some algorithms will learn more from the zeros than the ones in our training dataset\n",
        "\n",
        "\n",
        "* Processing Outlier Values"
      ],
      "id": "f8637fb5"
    },
    {
      "cell_type": "code",
      "metadata": {
        "execution": {
          "iopub.execute_input": "2021-04-10T09:30:21.329714Z",
          "iopub.status.busy": "2021-04-10T09:30:21.328663Z",
          "iopub.status.idle": "2021-04-10T09:30:22.622258Z",
          "shell.execute_reply": "2021-04-10T09:30:22.622990Z"
        },
        "id": "075a5caa",
        "papermill": {
          "duration": 1.341621,
          "end_time": "2021-04-10T09:30:22.623220",
          "exception": false,
          "start_time": "2021-04-10T09:30:21.281599",
          "status": "completed"
        },
        "tags": []
      },
      "source": [
        "train_df['var3'].replace(-999999,2,inplace=True)\n",
        "train_df.describe()"
      ],
      "id": "075a5caa",
      "execution_count": null,
      "outputs": []
    },
    {
      "cell_type": "markdown",
      "metadata": {
        "id": "434d729b"
      },
      "source": [
        "## Connect to your Vectice project"
      ],
      "id": "434d729b"
    },
    {
      "cell_type": "markdown",
      "metadata": {
        "id": "e562e7a0"
      },
      "source": [
        "Here we are going to need an API token and a project token. An API token is used to secure requests between your existing tools and Vectice. You can create and manage those at the API Tokens tab in your workspace, and they impersonate you and your rights per workspace, so we strongly recommend you to avoid sharing them.\n",
        "A project token is used to target the project you're working on in the UI and can found (after creating a project) in the Project settings page, and anyone working on the project can see it and copy/paste it."
      ],
      "id": "e562e7a0"
    },
    {
      "cell_type": "code",
      "metadata": {
        "id": "gHqZV6Ja54tH"
      },
      "source": [
        "# In order to use Vectice SDK, let's set up the configurations first.\n",
        "# The Vectice API key below can be generated from the UI.\n",
        "# For better security, the settings can also be put into a dedicated file called `.vectice` or `.env`.\n",
        "## Make sure that you're using the right endpoint (hint: be-beta.vectice.com)\n",
        "os.environ['VECTICE_API_ENDPOINT']= \"\"\n",
        "os.environ['VECTICE_API_TOKEN'] = \"\"\n",
        "\n",
        "## Create a Vetice instance to connect to your project using your project token\n",
        "## Hint: Do not forget to import vectice (from vectice import Vectice)\n",
        "vectice = Vectice(project_token=\"\")\n",
        "\n",
        "print(vectice)"
      ],
      "id": "gHqZV6Ja54tH",
      "execution_count": null,
      "outputs": []
    },
    {
      "cell_type": "code",
      "metadata": {
        "id": "cd173333",
        "cellView": "form"
      },
      "source": [
        "#@title Double click to show the syntax\n",
        "#os.environ['VECTICE_API_ENDPOINT']= \"be-beta.vectice.com\"\n",
        "os.environ['VECTICE_API_ENDPOINT']= \"be-test.vectice.com\"\n",
        "##Complete with your Vectice API token\n",
        "os.environ['VECTICE_API_TOKEN'] = \"\"\n",
        "from vectice import Vectice\n",
        "## Complete with your project token\n",
        "vectice = Vectice(project_token=\"\")\n",
        "print(vectice)"
      ],
      "id": "cd173333",
      "execution_count": null,
      "outputs": []
    },
    {
      "cell_type": "markdown",
      "metadata": {
        "id": "3e341732",
        "papermill": {
          "duration": 0.043784,
          "end_time": "2021-04-10T09:30:22.714674",
          "exception": false,
          "start_time": "2021-04-10T09:30:22.670890",
          "status": "completed"
        },
        "tags": []
      },
      "source": [
        "## Feature Engineering\n",
        "\n",
        "It's about creating new input features from your existing ones and can be seen as a process of addition that helps to improve the mode's performance by :\n",
        "- Isolating and highlighting key information, which helps the algorithms \"focus\" on what’s important.\n",
        "- You can bring in your own domain expertise.\n",
        "- Most importantly, once you understand the \"vocabulary\" of feature engineering, you can bring in other people’s domain expertise!\n",
        "\n",
        "In this part we will:\n",
        "* Split Data to Train / Test \n",
        "* Train Data to Standard Scaler\n",
        "* Target Data to Oversampling by SMOTE"
      ],
      "id": "3e341732"
    },
    {
      "cell_type": "code",
      "metadata": {
        "id": "bCpyyNIMSahh"
      },
      "source": [
        "train_df.drop('ID',axis=1,inplace=True)"
      ],
      "id": "bCpyyNIMSahh",
      "execution_count": null,
      "outputs": []
    },
    {
      "cell_type": "code",
      "metadata": {
        "execution": {
          "iopub.execute_input": "2021-04-10T09:30:23.107800Z",
          "iopub.status.busy": "2021-04-10T09:30:23.086344Z",
          "iopub.status.idle": "2021-04-10T09:30:23.111031Z",
          "shell.execute_reply": "2021-04-10T09:30:23.110577Z"
        },
        "id": "901292cd",
        "papermill": {
          "duration": 0.12009,
          "end_time": "2021-04-10T09:30:23.111160",
          "exception": false,
          "start_time": "2021-04-10T09:30:22.991070",
          "status": "completed"
        },
        "tags": []
      },
      "source": [
        "x = train_df.drop('TARGET',axis=1)\n",
        "y = train_df['TARGET']"
      ],
      "id": "901292cd",
      "execution_count": null,
      "outputs": []
    },
    {
      "cell_type": "markdown",
      "metadata": {
        "id": "bc0672d3"
      },
      "source": [
        "### Resolving the problem of multicolinearity"
      ],
      "id": "bc0672d3"
    },
    {
      "cell_type": "markdown",
      "metadata": {
        "id": "c8083d72"
      },
      "source": [
        "Here we are going to use the \"The Pearson correlation\" method. It is the most common method to use for numerical variables; it assigns a value between − 1 and 1, where 0 is no correlation, 1 is total positive correlation, and − 1 is total negative correlation. This is interpreted as follows: a correlation value of 0.7 between two variables would indicate that a significant and positive relationship exists between the two. A positive correlation signifies that if variable A goes up, then B will also go up, whereas if the value of the correlation is negative, then if A increases, B decreases"
      ],
      "id": "c8083d72"
    },
    {
      "cell_type": "code",
      "metadata": {
        "id": "13a7505c"
      },
      "source": [
        "def correlation(dataset, threshold):\n",
        "    col_corr = set()  # Set of all the names of correlated columns\n",
        "    corr_matrix = dataset.corr()\n",
        "    for i in range(len(corr_matrix.columns)):\n",
        "        for j in range(i):\n",
        "            if abs(corr_matrix.iloc[i, j]) > threshold: # we are interested in absolute coeff value\n",
        "                colname = corr_matrix.columns[i]  # getting the name of column\n",
        "                col_corr.add(colname)\n",
        "    return col_corr"
      ],
      "id": "13a7505c",
      "execution_count": null,
      "outputs": []
    },
    {
      "cell_type": "markdown",
      "metadata": {
        "id": "8795276c"
      },
      "source": [
        "We consider a threshold of 0.9 to avoid high correlation"
      ],
      "id": "8795276c"
    },
    {
      "cell_type": "code",
      "metadata": {
        "id": "7fc7f0c8"
      },
      "source": [
        "corr_features = correlation(x, 0.9)\n",
        "len(set(corr_features))"
      ],
      "id": "7fc7f0c8",
      "execution_count": null,
      "outputs": []
    },
    {
      "cell_type": "code",
      "metadata": {
        "id": "ae9a9fd0"
      },
      "source": [
        "x = x.drop(corr_features,axis=1)"
      ],
      "id": "ae9a9fd0",
      "execution_count": null,
      "outputs": []
    },
    {
      "cell_type": "markdown",
      "metadata": {
        "id": "bde1a4b8"
      },
      "source": [
        "### Standardize data\n",
        "\n",
        "StandardScaler is an important technique that is mainly performed as a preprocessing step before many machine learning models, in order to standardize the range of functionality of the input dataset. It's used to resize the distribution of values ​​so that the mean of the observed values ​​is 0 and the standard deviation is 1"
      ],
      "id": "bde1a4b8"
    },
    {
      "cell_type": "code",
      "metadata": {
        "execution": {
          "iopub.execute_input": "2021-04-10T09:30:23.209151Z",
          "iopub.status.busy": "2021-04-10T09:30:23.207792Z",
          "iopub.status.idle": "2021-04-10T09:30:24.155479Z",
          "shell.execute_reply": "2021-04-10T09:30:24.154951Z"
        },
        "id": "f3352937",
        "papermill": {
          "duration": 1.001235,
          "end_time": "2021-04-10T09:30:24.155631",
          "exception": false,
          "start_time": "2021-04-10T09:30:23.154396",
          "status": "completed"
        },
        "tags": []
      },
      "source": [
        "scaler = StandardScaler().fit(x)\n",
        "x_scaler = scaler.transform(x)\n",
        "x_scaler_df = pd.DataFrame(x_scaler, columns=x.columns)"
      ],
      "id": "f3352937",
      "execution_count": null,
      "outputs": []
    },
    {
      "cell_type": "markdown",
      "metadata": {
        "id": "1858b9f4"
      },
      "source": [
        "**Principal component analysis (PCA)** \n",
        "\n",
        "It's a statistical technique used for data reduction without losing its properties. Using PCA can help identify correlations between data points. PCA creates a visualization of data that minimizes residual variance in the least squares sense and maximizes the variance of the projection coordinates"
      ],
      "id": "1858b9f4"
    },
    {
      "cell_type": "code",
      "metadata": {
        "execution": {
          "iopub.execute_input": "2021-04-10T09:30:24.246867Z",
          "iopub.status.busy": "2021-04-10T09:30:24.245829Z",
          "iopub.status.idle": "2021-04-10T09:30:28.726482Z",
          "shell.execute_reply": "2021-04-10T09:30:28.725973Z"
        },
        "id": "58f55578",
        "papermill": {
          "duration": 4.528332,
          "end_time": "2021-04-10T09:30:28.726624",
          "exception": false,
          "start_time": "2021-04-10T09:30:24.198292",
          "status": "completed"
        },
        "tags": []
      },
      "source": [
        "pca = PCA(n_components=0.95)\n",
        "x_scaler_pca = pca.fit_transform(x_scaler)\n",
        "x_scaler_pca_df = pd.DataFrame(x_scaler_pca)"
      ],
      "id": "58f55578",
      "execution_count": null,
      "outputs": []
    },
    {
      "cell_type": "code",
      "metadata": {
        "execution": {
          "iopub.execute_input": "2021-04-10T09:30:28.837090Z",
          "iopub.status.busy": "2021-04-10T09:30:28.836300Z",
          "iopub.status.idle": "2021-04-10T09:30:28.840095Z",
          "shell.execute_reply": "2021-04-10T09:30:28.840581Z"
        },
        "id": "dc6033c6",
        "papermill": {
          "duration": 0.070204,
          "end_time": "2021-04-10T09:30:28.840741",
          "exception": false,
          "start_time": "2021-04-10T09:30:28.770537",
          "status": "completed"
        },
        "tags": []
      },
      "source": [
        "x_scaler_pca_df.head()"
      ],
      "id": "dc6033c6",
      "execution_count": null,
      "outputs": []
    },
    {
      "cell_type": "code",
      "metadata": {
        "execution": {
          "iopub.execute_input": "2021-04-10T09:30:28.937349Z",
          "iopub.status.busy": "2021-04-10T09:30:28.936342Z",
          "iopub.status.idle": "2021-04-10T09:30:28.940300Z",
          "shell.execute_reply": "2021-04-10T09:30:28.940805Z"
        },
        "id": "527ca72d",
        "papermill": {
          "duration": 0.053612,
          "end_time": "2021-04-10T09:30:28.940973",
          "exception": false,
          "start_time": "2021-04-10T09:30:28.887361",
          "status": "completed"
        },
        "tags": []
      },
      "source": [
        "pca.explained_variance_ratio_"
      ],
      "id": "527ca72d",
      "execution_count": null,
      "outputs": []
    },
    {
      "cell_type": "code",
      "metadata": {
        "execution": {
          "iopub.execute_input": "2021-04-10T09:30:29.052183Z",
          "iopub.status.busy": "2021-04-10T09:30:29.051277Z",
          "iopub.status.idle": "2021-04-10T09:30:30.526530Z",
          "shell.execute_reply": "2021-04-10T09:30:30.526986Z"
        },
        "id": "8b042a6d",
        "papermill": {
          "duration": 1.540039,
          "end_time": "2021-04-10T09:30:30.527130",
          "exception": false,
          "start_time": "2021-04-10T09:30:28.987091",
          "status": "completed"
        },
        "tags": []
      },
      "source": [
        "plt.scatter(x_scaler_pca_df.loc[:, 0], x_scaler_pca_df.loc[:, 1], c=y,  cmap=\"copper_r\")\n",
        "plt.axis('off')\n",
        "plt.colorbar()\n",
        "plt.show()"
      ],
      "id": "8b042a6d",
      "execution_count": null,
      "outputs": []
    },
    {
      "cell_type": "markdown",
      "metadata": {
        "id": "d171e71a",
        "papermill": {
          "duration": 0.045353,
          "end_time": "2021-04-10T09:30:30.619214",
          "exception": false,
          "start_time": "2021-04-10T09:30:30.573861",
          "status": "completed"
        },
        "tags": []
      },
      "source": [
        "=> We cant use PCA since we can't reduce the dimentionality (The variance is represented by multiple variables and we didn't find a small number of variables that enable to represent a considerable part of the variance)"
      ],
      "id": "d171e71a"
    },
    {
      "cell_type": "markdown",
      "metadata": {
        "id": "-3PKP2Ux8bbd"
      },
      "source": [
        "## Split the data and use oversampling"
      ],
      "id": "-3PKP2Ux8bbd"
    },
    {
      "cell_type": "markdown",
      "metadata": {
        "id": "6e_Luz_U9T51"
      },
      "source": [
        "ML algorithms can have a poor performance when dealing with datasets in which one or more classes represent only a small proportion of the overall dataset compared with a dominant class. This problem can be solved by balancing the number of examples between different classes. Here we suggest to you SMOTE (Synthetic Minority Over-sampling Technique) that creates synthetic data based on creating new data points that are mid-way between two near neighbours in any particular class"
      ],
      "id": "6e_Luz_U9T51"
    },
    {
      "cell_type": "markdown",
      "metadata": {
        "id": "Ys5h4Ed99b9d"
      },
      "source": [
        "Create a dataset containing your dataset to use it as input for your splitting data job. That can be done through the UI by going to your project, clicking on datasets and then click on add (you should add a connection to be able to create a dataset)\n",
        "\n",
        "Create a dataset version based on the dataset you created above"
      ],
      "id": "Ys5h4Ed99b9d"
    },
    {
      "cell_type": "code",
      "metadata": {
        "id": "KDjrlQ-r2Y2o"
      },
      "source": [
        "input_ds_version = \"\""
      ],
      "id": "KDjrlQ-r2Y2o",
      "execution_count": null,
      "outputs": []
    },
    {
      "cell_type": "code",
      "metadata": {
        "cellView": "form",
        "id": "1c3i0UBn2bOM"
      },
      "source": [
        "#@title Double click to show the syntax\n",
        "# Use auto-versioning here\n",
        "input_ds_version =  vectice.create_dataset_version().with_parent_name(\"customer_satisfaction_dataset\")"
      ],
      "id": "1c3i0UBn2bOM",
      "execution_count": null,
      "outputs": []
    },
    {
      "cell_type": "markdown",
      "metadata": {
        "id": "GRHuo2f92kcx"
      },
      "source": [
        "The following code splits the dataset to train and test sets and uses the SMOTE methode for oversampling in order to balance our dataset. Please complete itwith creating PREPARATION job run, start it and then declare train_set and test_set as dataset versions (after creating the datasets in the UI) in order to be able to use them as inputs for the different models"
      ],
      "id": "GRHuo2f92kcx"
    },
    {
      "cell_type": "code",
      "metadata": {
        "id": "_pdU4vz181at"
      },
      "source": [
        "from imblearn.over_sampling import SMOTE\n",
        "from collections import Counter\n",
        "#Split data\n",
        "scaler_x_train, scaler_x_test, scaler_y_train, scaler_y_test = train_test_split(x_scaler, y, test_size=0.3)\n",
        "#Use SMOTE to oversample the dataset\n",
        "x_over, y_over = SMOTE().fit_resample(scaler_x_train,scaler_y_train)\n",
        "print(sorted(Counter(y_over).items()))\n",
        "\n",
        "\n",
        "\n"
      ],
      "id": "_pdU4vz181at",
      "execution_count": null,
      "outputs": []
    },
    {
      "cell_type": "code",
      "metadata": {
        "id": "y0NsPUJR209T",
        "cellView": "form"
      },
      "source": [
        "\n",
        "#@title Double click to show the answer\n",
        "\n",
        "input_code = Vectice.create_code_version_with_github_uri(\"https://github.com/vectice/vectice-examples/Notebooks/Vanilla/Customer_satisfaction_example\")\n",
        "input_ds_version = input_ds_version\n",
        "\n",
        "# Start a Vectice run. The job type should be PREPARATION in this case.\n",
        "\n",
        "vectice.create_run(\"jobSplitData_Customer_Satisfaction\", JobType.PREPARATION)\n",
        "with vectice.start_run(inputs=[input_ds_version,input_code]) as run:\n",
        "#with vectice.start_run(inputs=[input_ds_version]) as run:\n",
        "\n",
        "#Split data\n",
        "  scaler_x_train, scaler_x_test, scaler_y_train, scaler_y_test = train_test_split(x_scaler, y, test_size=0.3)\n",
        "#Use SMOTE to oversample the dataset\n",
        "  x_over, y_over = SMOTE().fit_resample(scaler_x_train,scaler_y_train)\n",
        "  print(sorted(Counter(y_over).items()))\n",
        "\n",
        " \n",
        "# We commented out the code to persist the training and testing test in GCS,\n",
        "# because we already generated it for you, but feel free to uncomment it and execute it.\n",
        "# The key you were provided for this tutorial may not have write permissions to GCS.\n",
        "# Let us know if you want to be able to write files as well and we can issue you a different key.\n",
        "\n",
        "## Get training and testing data in dataframes in orderto upload them to GCS\n",
        "  #train_set = pd.DataFrame(x_over, columns=x.columns).join(pd.DataFrame(y_over, columns=[\"TARGET\"]))\n",
        "  #test_set = pd.DataFrame(scaler_x_test, columns=x.columns).join(pd.DataFrame(scaler_y_test, columns=[\"TARGET\"]))\n",
        "  #train_set.to_csv (r'gs://vectice-examples-samples/Customer_satisfaction_challenge/training_data.csv', index = False, header = True)\n",
        "  #test_set.to_csv (r'gs://vectice-examples-samples/Customer_satisfaction_challenge/testing_data.csv', index = False, header = True)\n",
        "\n",
        "  # Don't forget to create the datasets before creating train_ds_version and test_ds_version \n",
        "\n",
        "  train_ds_version = vectice.create_dataset_version().with_parent_name(\"train dataset name\")\n",
        "  test_ds_version = vectice.create_dataset_version().with_parent_name(\"test dataset name\")\n",
        "  \n",
        "  run.add_outputs([train_ds_version,test_ds_version])\n"
      ],
      "id": "y0NsPUJR209T",
      "execution_count": null,
      "outputs": []
    },
    {
      "cell_type": "markdown",
      "metadata": {
        "id": "16e133e5"
      },
      "source": [
        "Our data contains now the same number of zeros and ones now"
      ],
      "id": "16e133e5"
    },
    {
      "cell_type": "markdown",
      "metadata": {
        "id": "4a071e3a"
      },
      "source": [
        "## Get different user versions\n"
      ],
      "id": "4a071e3a"
    },
    {
      "cell_type": "markdown",
      "metadata": {
        "id": "e09c73d9"
      },
      "source": [
        "Generate a random user version by calling get_random_string"
      ],
      "id": "e09c73d9"
    },
    {
      "cell_type": "code",
      "metadata": {
        "id": "a08ba1f5"
      },
      "source": [
        "# Let's generate some unique names for our following modeling experiments\n",
        "import random\n",
        "import string\n",
        "def get_random_string(length):\n",
        "    return \"\".join(random.choice(string.ascii_letters) for i in range(length))"
      ],
      "id": "a08ba1f5",
      "execution_count": null,
      "outputs": []
    },
    {
      "cell_type": "markdown",
      "metadata": {
        "id": "d42f694c",
        "papermill": {
          "duration": 0.048004,
          "end_time": "2021-04-10T09:30:32.545240",
          "exception": false,
          "start_time": "2021-04-10T09:30:32.497236",
          "status": "completed"
        },
        "tags": []
      },
      "source": [
        "# Modeling\n",
        "* LogisticRegression\n",
        "* LightGBM Classification"
      ],
      "id": "d42f694c"
    },
    {
      "cell_type": "markdown",
      "metadata": {
        "id": "76a140a5"
      },
      "source": [
        "Here we create a function that calculates and shows the confusion matrix and the accuracy, precision, recall, f1_score, roc_auc metrics.\n",
        "\n",
        "- Confusion matrix: Confusion matrices represent counts from predicted and actual values. It shows the rates of TP, FP, FN and TN\n",
        "- Accuracy: The model’s capability to correctly predict both the positives and negatives out of all the predictions. Accuracy_score =  (TP + TN)/ (TP + FN + TN + FP)\n",
        "- Precision: The model's capability to correctly predict the positives out of all the positive prediction it made. Precision Score = TP / (FP + TP)\n",
        "- Recall: The model’s capability to correctly predict the positives out of actual positives. This is unlike precision which measures as to how many predictions made by models are actually positive out of all positive predictions made. Recall score is a useful measure of success of prediction when the classes are very imbalanced. Recall Score = TP / (FN + TP)\n",
        "- F1score: The model score as a function of precision and recall score. This is useful measure of the model in the scenarios where one tries to optimize either of precision or recall score and as a result, the model performance suffers.F1_Score = 2* Precision Score * Recall Score/ (Precision Score + Recall Score)\n",
        "- roc_auc_score : ROC curve is a graph that shows the performance of a classification model at all possible thresholds( threshold is a particular value beyond which you say a point belongs to a particular class). AUC measures how well a model is able to distinguish between classes. The curve is plotted between two parameters :\n",
        "    * TRUE POSITIVE RATE\n",
        "    * FALSE POSTIVIE RATE\n",
        "- True Positive (TP): The value of correct predictions of positives out of actual positive cases. Ex : Predict a well person as not sick\n",
        "- False Positive (FP): The value of incorrect positive predictions. The number of negatives falsly pridected as positives. Ex : Predict a sick person as not sick\n",
        "- True Negative (TN): The value of correct predictions of negatives out of actual negative cases. Ex : Predict a sick person as sick\n",
        "- False Negative (FN): The value of incorrect negative predictions. This value represents the number of positives which gets falsely. Predict a well person as sick"
      ],
      "id": "76a140a5"
    },
    {
      "cell_type": "code",
      "metadata": {
        "execution": {
          "iopub.execute_input": "2021-04-10T09:30:32.647997Z",
          "iopub.status.busy": "2021-04-10T09:30:32.647351Z",
          "iopub.status.idle": "2021-04-10T09:30:32.652002Z",
          "shell.execute_reply": "2021-04-10T09:30:32.651414Z"
        },
        "id": "afef1776",
        "papermill": {
          "duration": 0.05953,
          "end_time": "2021-04-10T09:30:32.652140",
          "exception": false,
          "start_time": "2021-04-10T09:30:32.592610",
          "status": "completed"
        },
        "tags": []
      },
      "source": [
        "def get_clf_eval(y_test, pred = None, pred_proba = None):\n",
        "    confusion = confusion_matrix(y_test, pred)\n",
        "    accuracy = accuracy_score(y_test, pred)\n",
        "    precision = precision_score(y_test, pred)\n",
        "    recall = recall_score(y_test, pred)\n",
        "    f1 = f1_score(y_test, pred)\n",
        "    roc_auc = roc_auc_score(y_test, pred_proba)\n",
        "    \n",
        "    print('confusion')\n",
        "    print(confusion)\n",
        "    print('Accuacy : {}'.format(np.around(accuracy,4)))\n",
        "    print('Precision: {}'.format(np.around(precision,4)))\n",
        "    print('Recall : {}'.format(np.around(recall,4)))\n",
        "    print('F1 : {}'.format(np.around(f1,4)))  \n",
        "    print('ROC_AUC : {}'.format(np.around(roc_auc,4)))\n",
        "    return confusion, accuracy, precision, recall, f1, roc_auc"
      ],
      "id": "afef1776",
      "execution_count": null,
      "outputs": []
    },
    {
      "cell_type": "markdown",
      "metadata": {
        "id": "2f5f2f7a",
        "papermill": {
          "duration": 0.047644,
          "end_time": "2021-04-10T09:30:32.748450",
          "exception": false,
          "start_time": "2021-04-10T09:30:32.700806",
          "status": "completed"
        },
        "tags": []
      },
      "source": [
        "* **LogisticRegression**\n",
        "\n",
        "[Logistic regression](https://scikit-learn.org/stable/modules/generated/sklearn.linear_model.LogisticRegression.html) is used to calculate the probability of a binary event occurring. For example, predicting if a credit card transaction is fraudulent or not fraudulent or predicting if an incoming email is spam or not spam"
      ],
      "id": "2f5f2f7a"
    },
    {
      "cell_type": "markdown",
      "metadata": {
        "id": "z8X87UoraqYR"
      },
      "source": [
        "The following code creates a Logistic regression model and calculates the metrics related to this model. Complete the code by adding a job run to create a model and send the metrics to Vectice (You can look at the examples in the documentation) and don't forget to use the names you generated for your experimints"
      ],
      "id": "z8X87UoraqYR"
    },
    {
      "cell_type": "code",
      "metadata": {
        "id": "8abc4d92"
      },
      "source": [
        "#Logistic Regression\n",
        "## Create a run\n",
        "##Start the run\n",
        "lg_reg = LogisticRegression()\n",
        "lg_reg.fit(x_over, y_over)\n",
        "pred = lg_reg.predict(scaler_x_test)\n",
        "pred_proba = lg_reg.predict_proba(scaler_x_test)[:,1]\n",
        "\n",
        "confusion, accuracy, precision, recall, f1, roc_auc = get_clf_eval(scaler_y_test, pred=pred, pred_proba=pred_proba)\n",
        "\n",
        "## Create a model version and add metrics and properties to it (you can use the function get_random_string defined below in order to be able to generate different user versions)\n",
        "  "
      ],
      "id": "8abc4d92",
      "execution_count": null,
      "outputs": []
    },
    {
      "cell_type": "code",
      "metadata": {
        "id": "25VSc06-abyD",
        "cellView": "form"
      },
      "source": [
        "#@title Double click to show the answer\n",
        "vectice.create_run(job_name = \"Train model with Logistic regression\", job_type = JobType.TRAINING)\n",
        "\n",
        "with vectice.start_run(inputs=[train_ds_version,test_ds_version]) as run:\n",
        "  lg_reg = LogisticRegression()\n",
        "\n",
        "  lg_reg.fit(x_over, y_over)\n",
        "  pred = lg_reg.predict(scaler_x_test)\n",
        "  pred_proba = lg_reg.predict_proba(scaler_x_test)[:,1]\n",
        "\n",
        "  confusion, accuracy, precision, recall, f1, roc_auc = get_clf_eval(scaler_y_test, pred=pred, pred_proba=pred_proba)\n",
        "      \n",
        "  metrics = [('Accuracy score', accuracy), (\"Precision,\",precision), (\"Recall\", recall), ('f1 score', f1), ('ROC_AUC', roc_auc)]\n",
        "\n",
        "  model_version1 = vectice.create_model_version().with_parent_name(\"logisticRegression\").with_metrics(metrics).with_user_version(get_random_string(12))\n",
        "  run.add_outputs([model_version1])"
      ],
      "id": "25VSc06-abyD",
      "execution_count": null,
      "outputs": []
    },
    {
      "cell_type": "markdown",
      "metadata": {
        "id": "4b30a479",
        "papermill": {
          "duration": 0.048212,
          "end_time": "2021-04-10T09:30:40.141181",
          "exception": false,
          "start_time": "2021-04-10T09:30:40.092969",
          "status": "completed"
        },
        "tags": []
      },
      "source": [
        "* **LightGBM Classifier**\n",
        "\n",
        "[LightGBM](https://lightgbm.readthedocs.io/en/latest/index.html) is a gradient boosting classifier in machine learning that uses tree-based learning algorithms. It can handle a large amount of data, less memory usage, has parallel and GPU learning, good accuracy, faster training speed and efficiency"
      ],
      "id": "4b30a479"
    },
    {
      "cell_type": "code",
      "metadata": {
        "execution": {
          "iopub.execute_input": "2021-04-10T09:30:40.247991Z",
          "iopub.status.busy": "2021-04-10T09:30:40.246574Z",
          "iopub.status.idle": "2021-04-10T09:30:40.269645Z",
          "shell.execute_reply": "2021-04-10T09:30:40.270257Z"
        },
        "id": "e1746651",
        "papermill": {
          "duration": 0.079436,
          "end_time": "2021-04-10T09:30:40.270446",
          "exception": false,
          "start_time": "2021-04-10T09:30:40.191010",
          "status": "completed"
        },
        "tags": []
      },
      "source": [
        "scaler_x_test, scaler_x_val, scaler_y_test, scaler_y_val = train_test_split(scaler_x_test, scaler_y_test, test_size=0.5)"
      ],
      "id": "e1746651",
      "execution_count": null,
      "outputs": []
    },
    {
      "cell_type": "code",
      "metadata": {
        "execution": {
          "iopub.execute_input": "2021-04-10T09:30:40.373748Z",
          "iopub.status.busy": "2021-04-10T09:30:40.372987Z",
          "iopub.status.idle": "2021-04-10T09:30:40.377244Z",
          "shell.execute_reply": "2021-04-10T09:30:40.376801Z"
        },
        "id": "f73fc68d",
        "papermill": {
          "duration": 0.058534,
          "end_time": "2021-04-10T09:30:40.377387",
          "exception": false,
          "start_time": "2021-04-10T09:30:40.318853",
          "status": "completed"
        },
        "tags": []
      },
      "source": [
        "##Setting up the model's parameters\n",
        "## Feel free to play with the parameters\n",
        "train_data = lgb.Dataset(x_over, label=y_over)\n",
        "val_data = lgb.Dataset(scaler_x_val, label=scaler_y_val)\n",
        "n_estimators = 5000\n",
        "num_leaves = 20\n",
        "max_depth = -1\n",
        "min_data_in_leaf = 80\n",
        "learning_rate = 0.001\n",
        "boosting = 'gbdt'\n",
        "objective = 'binary'\n",
        "metric = 'auc'\n",
        "n_jobs = -1\n",
        "params = {\n",
        "    'n_estimators': n_estimators,\n",
        "    'num_leaves': num_leaves,\n",
        "    'max_depth': max_depth,\n",
        "    'min_data_in_leaf': min_data_in_leaf,\n",
        "    'learning_rate': learning_rate,\n",
        "    'boosting': boosting,\n",
        "    'objective': objective,\n",
        "    'metric': metric,\n",
        "    'n_jobs': n_jobs\n",
        "}"
      ],
      "id": "f73fc68d",
      "execution_count": null,
      "outputs": []
    },
    {
      "cell_type": "markdown",
      "metadata": {
        "id": "FAxn52vcawZl"
      },
      "source": [
        "The following code creates a LightGBM classifier model and calculates the metrics related to this model. Complete the code by adding a job run to create a model and send the metrics to Vectice and don't forget to give the names dataset version you created before as inputs to you model"
      ],
      "id": "FAxn52vcawZl"
    },
    {
      "cell_type": "code",
      "metadata": {
        "id": "41a28b98"
      },
      "source": [
        "## Create a run\n",
        "##Start the run\n",
        "lgbm = lgb.train(params,\n",
        "                  train_data,\n",
        "                  valid_sets=val_data, \n",
        "                  valid_names=['train','valid'],\n",
        "                  early_stopping_rounds=300)\n",
        "\n",
        "# Predicting the output on the Test Dataset \n",
        "ypred_lgbm = lgbm.predict(scaler_x_test)\n",
        "ypred_lgbm\n",
        "y_pred_lgbm_class = [np.argmax(line) for line in ypred_lgbm]\n",
        "accuracy_lgbm=accuracy_score(scaler_y_test,y_pred_lgbm_class)\n",
        "print(accuracy_lgbm)\n",
        "#Print Area Under Curve\n",
        "plt.figure()\n",
        "false_positive_rate, recall, thresholds = roc_curve(scaler_y_test, ypred_lgbm)\n",
        "roc_auc = auc(false_positive_rate, recall)\n",
        "plt.title('Receiver Operating Characteristic (ROC)')\n",
        "plt.plot(false_positive_rate, recall, 'b', label = 'AUC = %0.3f' %roc_auc)\n",
        "plt.legend(loc='lower right')\n",
        "plt.plot([0,1], [0,1], 'r--')\n",
        "plt.xlim([0.0,1.0])\n",
        "plt.ylim([0.0,1.0])\n",
        "plt.ylabel('Recall')\n",
        "plt.xlabel('Fall-out (1-Specificity)')\n",
        "plt.show()\n",
        "print('AUC score:', roc_auc)\n",
        "\n",
        "## Create a model version and add metrics and properties to it (you can use the function get_random_string defined below in order to be able to generate different user versions)\n",
        "\n"
      ],
      "id": "41a28b98",
      "execution_count": null,
      "outputs": []
    },
    {
      "cell_type": "code",
      "metadata": {
        "id": "cLn__vFAbYfK",
        "cellView": "form"
      },
      "source": [
        "#@title Double click to show the answer\n",
        "\n",
        "vectice.create_run(job_name=\"Train model with lightgbm\", job_type = JobType.TRAINING)\n",
        "\n",
        "with vectice.start_run(inputs=[train_ds_version,test_ds_version]) as run:\n",
        "\n",
        "  lgbm = lgb.train(params,\n",
        "                    train_data,\n",
        "                    valid_sets=val_data, \n",
        "                    valid_names=['train','valid'],\n",
        "                    early_stopping_rounds=300)\n",
        "\n",
        "  # Predicting the output on the Test Dataset \n",
        "  ypred_lgbm = lgbm.predict(scaler_x_test)\n",
        "  ypred_lgbm\n",
        "  y_pred_lgbm_class = [np.argmax(line) for line in ypred_lgbm]\n",
        "  accuracy_lgbm=accuracy_score(scaler_y_test,y_pred_lgbm_class)\n",
        "  print(accuracy_lgbm)\n",
        "  #Print Area Under Curve\n",
        "  plt.figure()\n",
        "  false_positive_rate, recall, thresholds = roc_curve(scaler_y_test, ypred_lgbm)\n",
        "  roc_auc = auc(false_positive_rate, recall)\n",
        "  plt.title('Receiver Operating Characteristic (ROC)')\n",
        "  plt.plot(false_positive_rate, recall, 'b', label = 'AUC = %0.3f' %roc_auc)\n",
        "  plt.legend(loc='lower right')\n",
        "  plt.plot([0,1], [0,1], 'r--')\n",
        "  plt.xlim([0.0,1.0])\n",
        "  plt.ylim([0.0,1.0])\n",
        "  plt.ylabel('Recall')\n",
        "  plt.xlabel('Fall-out (1-Specificity)')\n",
        "  plt.show()\n",
        "  print('AUC score:', roc_auc)\n",
        "\n",
        "  metrics =[(\"Accuracy\", accuracy_lgbm), (\"AUC score\", roc_auc)] \n",
        "  properties =  [(\"n_estimators\", n_estimators), (\"num_leaves\", num_leaves), (\"max_depth\", max_depth),\n",
        "                (\"min_data_in_leaf\", min_data_in_leaf), (\"learning_rate\", learning_rate), (\"boosting\", boosting),\n",
        "                (\"objective\", objective), (\"metric\", metric), (\"n_jobs\", n_jobs)]\n",
        "\n",
        "  model_version2 = vectice.create_model_version().with_parent_name(\"LGBMclassification\").with_properties(properties).with_metrics(metrics).with_user_version(get_random_string(12))\n",
        "  run.add_outputs([model_version2])"
      ],
      "id": "cLn__vFAbYfK",
      "execution_count": null,
      "outputs": []
    }
  ]
}