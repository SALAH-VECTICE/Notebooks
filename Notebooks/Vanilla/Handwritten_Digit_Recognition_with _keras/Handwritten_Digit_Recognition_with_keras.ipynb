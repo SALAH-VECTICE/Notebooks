{
 "cells": [
  {
   "cell_type": "markdown",
   "metadata": {
    "colab_type": "text",
    "id": "view-in-github"
   },
   "source": [
    "<a href=\"https://colab.research.google.com/github/vectice/vectice-examples/blob/master/Notebooks/Vanilla/Handwritten_Digit_Recognition_with%20_keras/Handwritten_Digit_Recognition_with_keras.ipynb\" target=\"_parent\"><img src=\"https://colab.research.google.com/assets/colab-badge.svg\" alt=\"Open In Colab\"/></a>"
   ]
  },
  {
   "cell_type": "markdown",
   "metadata": {
    "id": "1mRYJHN19aar"
   },
   "source": [
    "# Handwritten digits recognition \n",
    "\n"
   ]
  },
  {
   "cell_type": "markdown",
   "metadata": {
    "id": "bsA4pNFZ9gvA"
   },
   "source": [
    "## What this is about?\n",
    "The handwritten digit recognition is the ability of computers to recognize human handwritten digits. Handwritten digits are not perfectly written which makes it hard for machine to recognize them. Handwritten digits recognition could be a solution for several problems, such as those which use the image of a digit and recognizes the digit present in the image, for example."
   ]
  },
  {
   "cell_type": "markdown",
   "metadata": {
    "id": "PH52e51crcqI"
   },
   "source": [
    "## Install vectice "
   ]
  },
  {
   "cell_type": "markdown",
   "metadata": {
    "id": "6uOw7EUDBONh"
   },
   "source": [
    "Vectice provides a generic metadata layer that is potentially suitable for most data science workflows.\n",
    "\n",
    "For this tutorial we will use the keras library for modeling and track experiments directly through our Python SDK to illustrate how to fine-tune exactly what you would like to track: metrics, etc. The same mechanisms would apply to R, Java or even more generic REST APIs to track metadata from any programming language and library."
   ]
  },
  {
   "cell_type": "markdown",
   "metadata": {
    "id": "5MRj2eWBq38E"
   },
   "source": [
    "Here is a link to the Python SDK Documentation, it's not final nor complete and it is updated as we go along. \n",
    "[Python SDK Documentation](https://doc.vectice.com/)"
   ]
  },
  {
   "cell_type": "code",
   "execution_count": null,
   "metadata": {
    "id": "ko8fphPjZI3x"
   },
   "outputs": [],
   "source": [
    "!pip3 install -q vectice[github]"
   ]
  },
  {
   "cell_type": "code",
   "execution_count": null,
   "metadata": {
    "id": "obfp9uQ9k1CK"
   },
   "outputs": [],
   "source": [
    "!pip show vectice"
   ]
  },
  {
   "cell_type": "markdown",
   "metadata": {
    "id": "rznOZr-Hr8Ek"
   },
   "source": [
    "## Install the necessary libraries for this project"
   ]
  },
  {
   "cell_type": "code",
   "execution_count": null,
   "metadata": {
    "id": "_3m2n6DqZ6Ok"
   },
   "outputs": [],
   "source": [
    "!pip3 install -q tensorflow\n",
    "!pip3 install -q keras\n",
    "!pip3 install -q pillow\n",
    "!pip3 install -q numpy"
   ]
  },
  {
   "cell_type": "markdown",
   "metadata": {
    "id": "6zcRODIwalUC"
   },
   "source": [
    "## Import the libraries and the dataset"
   ]
  },
  {
   "cell_type": "code",
   "execution_count": null,
   "metadata": {
    "id": "SkOc3DKqahaW"
   },
   "outputs": [],
   "source": [
    "# organize imports\n",
    "import numpy as np\n",
    "import matplotlib.pyplot as plt\n",
    "import os\n",
    "from keras.models import Sequential\n",
    "from keras.layers.core import Dense, Activation, Dropout\n",
    "from keras.datasets import mnist\n",
    "from keras.utils import np_utils\n",
    "from vectice import Vectice\n",
    "from vectice.models import JobType\n",
    "from vectice.entity.model import ModelType\n",
    "# fix a random seed for reproducibility\n",
    "np.random.seed(9)"
   ]
  },
  {
   "cell_type": "markdown",
   "metadata": {
    "id": "GxOa4vmKscMO"
   },
   "source": [
    "## User inputs for the model"
   ]
  },
  {
   "cell_type": "code",
   "execution_count": null,
   "metadata": {
    "id": "RzvbWiLNg4iX"
   },
   "outputs": [],
   "source": [
    "# user inputs\n",
    "nb_epoch = 25\n",
    "num_classes = 10\n",
    "batch_size = 128\n",
    "train_size = 60000\n",
    "test_size = 10000\n",
    "v_length = 784\n",
    "\n"
   ]
  },
  {
   "cell_type": "markdown",
   "metadata": {
    "id": "WcR0FVdqYN_E"
   },
   "source": [
    "- **nb_epoch**: Number of epochs. An epoch is an arbitrary cutoff, generally defined as \"one pass over the entire dataset\", used to separate training into distinct phases, which is useful for logging and periodic evaluation.\n",
    "- **num_classes**: Digits classes (from 0 to 9)\n",
    "- **bacth_size**: It defines the number of samples that will be propagated through the network. For exampe, if we have 1000 training samples, with a batch_size of 100 the model will train on the first 100 training samples then, the second 100 training sample on so on to the end of the training set. \n",
    "- **train_size**: Number of images in the training set\n",
    "- **test_size**: Number of images in the test set\n",
    "- **v_length**: Dimension of flattened input image size i.e. if input image size is [28x28], then v_length = 784"
   ]
  },
  {
   "cell_type": "markdown",
   "metadata": {
    "id": "4XPvr10FshxQ"
   },
   "source": [
    "## Process the data"
   ]
  },
  {
   "cell_type": "markdown",
   "metadata": {
    "id": "d3X8O7nJD86L"
   },
   "source": [
    "In this tutorial we will use the MNIST keras dataset. The MNIST dataset is a low-complexity data collection of handwritten digits containing 70,000 28x28 black and white images representing the digits zero through nine. It's used to train and test various supervised machine learning algorithms.\n"
   ]
  },
  {
   "cell_type": "code",
   "execution_count": null,
   "metadata": {
    "id": "mhh--Sbng-6N"
   },
   "outputs": [],
   "source": [
    "# split the mnist data into train and test\n",
    "(trainData, trainLabels), (testData, testLabels) = mnist.load_data()\n",
    "print(\"[INFO] train data shape: {}\".format(trainData.shape))\n",
    "print(\"[INFO] test data shape: {}\".format(testData.shape))\n",
    "print(\"[INFO] train samples: {}\".format(trainData.shape[0]))\n",
    "print(\"[INFO] test samples: {}\".format(testData.shape[0]))"
   ]
  },
  {
   "cell_type": "markdown",
   "metadata": {
    "id": "MixPKAJuEXA5"
   },
   "source": [
    "trainData contains the data from which our neural network (model) will learn to recognize images and trainLabels contains the labels (what's in the picture). testData will be used to check if the model can correctly recognize a digit that it hasn't sees before. To evaluate this we will use DataLabels which contains labels for the test set"
   ]
  },
  {
   "cell_type": "markdown",
   "metadata": {
    "id": "kjJUuFXTJovY"
   },
   "source": [
    "### Reshape and normalize the data\n",
    "**Reshaping**\n",
    "\n",
    "If we process an image in a neural network, it expects a vector and not a two-dimensional array (unless we use a convolution). Therefore, before further processing, we should convert the training set to 60,000 x 784 (28 * 28). To change the shape of the data we will use the reshape function.\n",
    "\n",
    "**Normalization**\n",
    "\n",
    "The value of each pixel – indicating the gray level of a given pixel – should be between 0 (typically 0 is completely black) and 255. We divide our data by 255 to make sure that it's between 0 and 1."
   ]
  },
  {
   "cell_type": "code",
   "execution_count": null,
   "metadata": {
    "id": "SRjnegTpg-9O"
   },
   "outputs": [],
   "source": [
    "# reshape the dataset\n",
    "trainData = trainData.reshape(train_size, v_length)\n",
    "testData = testData.reshape(test_size, v_length)\n",
    "trainData = trainData.astype(\"float32\")\n",
    "testData = testData.astype(\"float32\")\n",
    "trainData /= 255\n",
    "testData /= 255\n",
    "\n",
    "print(\"[INFO] train data shape: {}\".format(trainData.shape))\n",
    "print(\"[INFO] test data shape: {}\".format(testData.shape))\n",
    "print(\"[INFO] train samples: {}\".format(trainData.shape[0]))\n",
    "print(\"[INFO] test samples: {}\".format(testData.shape[0]))"
   ]
  },
  {
   "cell_type": "markdown",
   "metadata": {
    "id": "co65DL6ELXqK"
   },
   "source": [
    "In the process, we want the neural network to compare two values and then calculate how far is it from the target. This cannot be done without transforming the target (labels) into so-called one-hot encoding. As a result, our “1” will be written in the following form:\n",
    "\n",
    "[0.0, 1.0, 0.0, 0.0, 0.0, 0.0, 0.0, 0.0, 0.0, 0.0]\n",
    "\n",
    "If we wanted to write the value 5 in this way, the vector would look like this:\n",
    "\n",
    "[0.0, 0.0, 0.0, 0.0, 0.0, 1.0, 0.0, 0.0, 0.0, 0.0]\n",
    "\n",
    "This operation of converting a scalar to a vector is performed by the function to_categorical().\n",
    "\n"
   ]
  },
  {
   "cell_type": "code",
   "execution_count": null,
   "metadata": {
    "id": "cviXB1Lwg_B6"
   },
   "outputs": [],
   "source": [
    "# convert class vectors to binary class matrices --> one-hot encoding\n",
    "mTrainLabels = np_utils.to_categorical(trainLabels, num_classes)\n",
    "mTestLabels = np_utils.to_categorical(testLabels, num_classes)"
   ]
  },
  {
   "cell_type": "markdown",
   "metadata": {
    "id": "IPjC48IKsm-v"
   },
   "source": [
    "## Connect to your Vectice workspace and your Vectice project"
   ]
  },
  {
   "cell_type": "markdown",
   "metadata": {
    "id": "mzLA-bl3lWcC"
   },
   "source": [
    "Here we are going to need an API token and a project token. An API token is used to secure requests between your existing tools and Vectice. You can create and manage those at the API Tokens tab in your workspace, and they impersonate you and your rights per workspace, so we strongly recommend you to avoid sharing them. A project token is used to target the project you're working on in the UI and can found (after creating a project) in the Project settings page, and anyone working on the project can see it and copy/paste it."
   ]
  },
  {
   "cell_type": "code",
   "execution_count": null,
   "metadata": {
    "cellView": "form",
    "id": "I_9_EQuBmAJ_"
   },
   "outputs": [],
   "source": [
    "# In order to use Vectice SDK, let's set up the configurations first.\n",
    "# The Vectice API key below can be generated from the UI.\n",
    "# For better security, the settings can also be put into a dedicated file called `.vectice` or `.env` if you're working locally.\n",
    "\n",
    "## Here, we specify the Vectice API endpoint\n",
    "os.environ['VECTICE_API_ENDPOINT']= \"beta.vectice.com\"\n",
    "\n",
    "##Complete with your Vectice API token\n",
    "os.environ['VECTICE_API_TOKEN'] = \"\"\n",
    "\n",
    "## Complete with your Vectice project token\n",
    "Project_Token = \"PROJECT TOKEN\"\n",
    "\n",
    "## Create a Vetice instance to connect to your project using your project token\n",
    "vectice = Vectice(project_token=Project_Token)\n",
    "\n",
    "print(vectice)"
   ]
  },
  {
   "cell_type": "markdown",
   "metadata": {
    "id": "5jqHGBF3mvqr"
   },
   "source": [
    "Create a dataset version (empty in this case since we download our data directly from here https://storage.googleapis.com/tensorflow/tf-keras-datasets/mnist.npz) containing your data to use them as input for your models. That can be done through the UI by going to your project, clicking on datasets and then clicking on add (you have to add a connection to be able to create a dataset (the service account (readerKey.json) used to create the connection must have writing rights to do that)).\n",
    "\n",
    "We can also create a dataset from the SDK:\n",
    "We can either create a dataset using the connection name, or the connection id. For both methods, we should specify the connection id/name, the dataset name, the list of files and the list of folders that our dataset will contain. To create a dataset containing just folders (no files) we should put None in the files list argument when we call one of the two functions. For exemple:\n",
    "\n",
    "- **vectice.create_dataset_with_connection_id(Connection_id, \"dataset_versioning\", files)** and **vectice.create_dataset_with_connection_name(\"Connection_name\", \"dataset_versioning\",files)** enable to create a dataset named dataset_versioning using the connection whose id/name is Connection_id/Connection_name and add the list of files files to the dataset.\n",
    "\n",
    "- **vectice.create_dataset_with_connection_id(Connection_id, \"dataset_versioning\", files, folders)** and **vectice.create_dataset_with_connection_name(\"Connection_name\", \"dataset_versioning\", files, folders)** enable to create a dataset named dataset_versioning using the connection whose id/name is Connection_id/Connection_name and add the list of files files and the list of folders folders to the dataset.\n",
    " \n",
    "- **vectice.create_dataset_with_connection_id(Connection_id, \"dataset_versioning\", None, folders)** and **vectice.create_dataset_with_connection_name(\"Connection_name\", \"dataset_versioning\", None, folders)** enable to create a dataset named dataset_versioning using the connection whose id/name is Connection_id/Connection_name and add the list of folders folders to the dataset.\n"
   ]
  },
  {
   "cell_type": "markdown",
   "metadata": {},
   "source": [
    "We can check if the datasets are already created in our workspace by calling **vectice.list_datasets()** which lists all the datasets existing in the project"
   ]
  },
  {
   "cell_type": "code",
   "execution_count": null,
   "metadata": {},
   "outputs": [],
   "source": [
    "vectice.list_datasets().list"
   ]
  },
  {
   "cell_type": "markdown",
   "metadata": {},
   "source": [
    "Create a dataset version based on the created/existing dataset that contains your data"
   ]
  },
  {
   "cell_type": "code",
   "execution_count": null,
   "metadata": {
    "id": "iqKKyOT9m3kv"
   },
   "outputs": [],
   "source": [
    "##We use autoversioning here\n",
    "input_ds_version = vectice.create_dataset_version().with_parent_name(\"dataset_name\")"
   ]
  },
  {
   "cell_type": "markdown",
   "metadata": {
    "id": "xmvdKQCb8MIe"
   },
   "source": [
    "## Get different user versions\n",
    "Generate a random user version by calling get_random_string"
   ]
  },
  {
   "cell_type": "code",
   "execution_count": null,
   "metadata": {
    "id": "1_ZvAbOU8Zhb"
   },
   "outputs": [],
   "source": [
    "# Let's generate some unique names for our following modeling experiments\n",
    "import random\n",
    "import string\n",
    "def get_random_string(length):\n",
    "    return \"\".join(random.choice(string.ascii_letters) for i in range(length))\n"
   ]
  },
  {
   "cell_type": "markdown",
   "metadata": {
    "id": "cDOJwvVEsqRa"
   },
   "source": [
    "## Model creation"
   ]
  },
  {
   "cell_type": "markdown",
   "metadata": {},
   "source": [
    "We can get the list of the models existing in our project by calling **vectice.list_models()**"
   ]
  },
  {
   "cell_type": "code",
   "execution_count": null,
   "metadata": {},
   "outputs": [],
   "source": [
    "vectice.list_models().list"
   ]
  },
  {
   "cell_type": "markdown",
   "metadata": {
    "id": "YR-wx9PtMPOf"
   },
   "source": [
    "We are using a [sequential model](https://keras.io/getting-started/sequential-model-guide/) (a Sequential model is appropriate for a plain stack of layers where each layer has exactly one input tensor and one output tensor) and two types of layers: Dense and Dropout.\n",
    "Dense is a standard layer of the neural network in which each neuron is connected to each neuron of the next layer. Dropout is a layer that prevents the phenomenon of over-fitting, i.e. over-matching the operation of the neural network to training data. \n",
    "- We are using 3 Dense layers and 2 Dropout layers.\n",
    "-  Each layer has an activation function. Activation functions available in Keras are listed here: https://keras.io/activations/\n",
    "- Each layer as the first argument takes the size of the output vector for the layer (the first layer accepts 784 parameters and outputs 512)\n",
    "- We use Dropout in our neural network to save it from overfitting. To prevent overfitting, it randomly chooses a fraction of units and set to 0 at each update\n"
   ]
  },
  {
   "cell_type": "code",
   "execution_count": null,
   "metadata": {},
   "outputs": [],
   "source": [
    "## Here, we create a code version in order to use it as input for our runs to show the location of the source code\n",
    "## This notebook is in a Github repository, so we're going to use vectice.create_code_version_with_github_uri to create the code version\n",
    "uri = \"https://github.com/vectice/vectice-examples\"\n",
    "script_relative_path=\"Notebooks/Vanilla/Handwritten_Digit_Recognition_with%20_keras/Handwritten_Digit_Recognition_with_keras.ipynb\"\n",
    "input_code = Vectice.create_code_version_with_github_uri(uri=uri, script_relative_path=script_relative_path)"
   ]
  },
  {
   "cell_type": "markdown",
   "metadata": {
    "id": "_g2Ujqy3nbD0"
   },
   "source": [
    "The following code creates a DNN (Dense Neural Network) model. Complete the code by creating and starting a job run."
   ]
  },
  {
   "cell_type": "code",
   "execution_count": null,
   "metadata": {
    "id": "ROtxIPt7n1mY"
   },
   "outputs": [],
   "source": [
    "# create the model\n",
    "\n",
    "vectice.create_run(job_name = \"Train model with keras\", job_type = JobType.TRAINING)\n",
    "\n",
    "vectice.start_run(inputs=[input_ds_version, input_code])\n",
    "\n",
    "model = Sequential(name=\"Digits_recognition_sequential\")\n",
    "model.add(Dense(512, input_shape=(784,)))\n",
    "model.add(Activation(\"relu\"))\n",
    "model.add(Dropout(0.2))\n",
    "model.add(Dense(256))\n",
    "model.add(Activation(\"relu\"))\n",
    "model.add(Dropout(0.2))\n",
    "model.add(Dense(num_classes))\n",
    "model.add(Activation(\"softmax\"))\n",
    "\n",
    "# summarize the model\n",
    "model.summary()"
   ]
  },
  {
   "cell_type": "markdown",
   "metadata": {
    "id": "upVZTZT5oJa4"
   },
   "source": [
    "Here we define a list containing information about each layer in our neural network"
   ]
  },
  {
   "cell_type": "code",
   "execution_count": null,
   "metadata": {
    "id": "2N4jewVK1Tm5"
   },
   "outputs": [],
   "source": [
    "layers_list = []\n",
    "for layer in model.layers:\n",
    "  layers_list+=[(\"Layer name\", str(layer.name)+\" layer\"), (str(layer.name)+\" layer \"+\" number of input parameters\", str(layer.input_shape[1])),(str(layer.name)+\" layer \"+\" number of output parameters\",str(layer.output_shape[1]))]\n",
    "layers_list"
   ]
  },
  {
   "cell_type": "markdown",
   "metadata": {
    "id": "Vb60dwIbOHqv"
   },
   "source": [
    "After creating the model, we have to compile it. To do this, we call the method compile specifying:\n",
    "- Type of optimizer: https://keras.io/optimizers/\n",
    "- Loss function: https://keras.io/losses/\n",
    "- Optional metrics that we want for our model to register (accuracy for example)"
   ]
  },
  {
   "cell_type": "code",
   "execution_count": null,
   "metadata": {
    "id": "MsvrDVHlhLAS"
   },
   "outputs": [],
   "source": [
    "# compile the model\n",
    "model.compile(loss=\"categorical_crossentropy\", optimizer=\"adam\", metrics=[\"accuracy\"])"
   ]
  },
  {
   "cell_type": "markdown",
   "metadata": {
    "id": "pKWRdWwpOeSr"
   },
   "source": [
    "Implementing the training of the neural network by using the fit method.\n",
    "\n",
    "You can try to play with the network – change the number of epochs, batch_size, type of optimizer or the structure of the network itself."
   ]
  },
  {
   "cell_type": "code",
   "execution_count": null,
   "metadata": {
    "id": "zGIZ0XC2hLC9"
   },
   "outputs": [],
   "source": [
    "# fit the model\n",
    "history = model.fit(trainData, mTrainLabels, validation_data=(testData, mTestLabels), batch_size=batch_size, epochs=nb_epoch, verbose=2)"
   ]
  },
  {
   "cell_type": "markdown",
   "metadata": {
    "id": "XToHWjdpsuUN"
   },
   "source": [
    "## Model evaluation"
   ]
  },
  {
   "cell_type": "markdown",
   "metadata": {
    "id": "DVYVBG83oUyf"
   },
   "source": [
    "Here we calculate some metrics in order to evaluate the model.\n",
    "We already created a job run above and started it. We complete it by creating a model version, adding the metrics and the parameters (properties) to it and end the run."
   ]
  },
  {
   "cell_type": "code",
   "execution_count": null,
   "metadata": {
    "id": "507txQ-Wov6m"
   },
   "outputs": [],
   "source": [
    "# print the history keys\n",
    "print(history.history.keys())\n",
    "# evaluate the model\n",
    "scores = model.evaluate(testData, mTestLabels, verbose=0)\n",
    "\n",
    "# history plot for accuracy\n",
    "plt.plot(history.history[\"accuracy\"])\n",
    "plt.plot(history.history[\"val_accuracy\"])\n",
    "plt.title(\"Model Accuracy\")\n",
    "plt.xlabel(\"Epoch\")\n",
    "plt.ylabel(\"Accuracy\")\n",
    "plt.legend([\"train\", \"test\"], loc=\"upper left\")\n",
    "plt.show()\n",
    "\n",
    "# history plot for accuracy\n",
    "plt.plot(history.history[\"loss\"])\n",
    "plt.plot(history.history[\"val_loss\"])\n",
    "plt.title(\"Model Loss\")\n",
    "plt.xlabel(\"Epoch\")\n",
    "plt.ylabel(\"Loss\")\n",
    "plt.legend([\"train\", \"test\"], loc=\"upper left\")\n",
    "plt.show()\n",
    "\n",
    "# print the results\n",
    "print(\"[INFO] test score - {}\".format(scores[0]))\n",
    "print(\"[INFO] test accuracy - {}\".format(scores[1]))\n",
    "\n",
    "\n",
    "metrics = [('test score',scores[0]), (\"test accuracy\",scores[1])]\n",
    "\n",
    "properties = [(\"Model\", \"Sequential (keras)\")] +layers_list+ [(\"Number of epochs\",str(nb_epoch)), (\"number of digit classes (from 0 to 9) \", str(num_classes)), (\"Batch size \", str(batch_size)), (\"Number of images in the training set \", str(train_size)), (\"Number of images in the test set \", str(test_size)), (\"Dimension of flattened input image size\", str(v_length))]\n",
    "model_version1 = vectice.create_model_version().with_parent_name(\"Classifier\").with_algorithm(\"Neural network\").with_type(ModelType.CLASSIFICATION).with_properties(properties).with_metrics(metrics).with_user_version(get_random_string(12))\n",
    "\n",
    "\n",
    "vectice.end_run(outputs=[model_version1])"
   ]
  },
  {
   "cell_type": "markdown",
   "metadata": {
    "id": "QrrMF9lIQomF"
   },
   "source": [
    "The model's got an accuracy of 0.9826 on the test set. The difference between accuracy on the training and test set is only 0.01% and seems great"
   ]
  },
  {
   "cell_type": "markdown",
   "metadata": {
    "id": "UaVP2yNNS8Q2"
   },
   "source": [
    "We can use our testData to test the model on picture it hasn't seen before. We can do so by using model.predection in keras"
   ]
  },
  {
   "cell_type": "code",
   "execution_count": null,
   "metadata": {
    "id": "Ldn0rYMeQaWF"
   },
   "outputs": [],
   "source": [
    "predictions = model.predict(testData[0:100])"
   ]
  },
  {
   "cell_type": "markdown",
   "metadata": {
    "id": "6kEppwsiTaLK"
   },
   "source": [
    "The method returns a 100-element scoreboard. Each element indicates the probabilities that the input belongs to a given class."
   ]
  },
  {
   "cell_type": "code",
   "execution_count": null,
   "metadata": {
    "id": "42yVrS_6Rln1"
   },
   "outputs": [],
   "source": [
    "predictions[0]"
   ]
  },
  {
   "cell_type": "markdown",
   "metadata": {
    "id": "RAUz8f-wTgaR"
   },
   "source": [
    "As we can see in this example the probabilities are very low except for the eight element (class 7, counted from 0) wich has a probability of 1. So the model predicted that it's 7. Let's verify that"
   ]
  },
  {
   "cell_type": "code",
   "execution_count": null,
   "metadata": {
    "id": "7z4iqIFtg_FA"
   },
   "outputs": [],
   "source": [
    "np.argmax(predictions[0])"
   ]
  },
  {
   "cell_type": "code",
   "execution_count": null,
   "metadata": {
    "id": "iNUwHh2JRtRI"
   },
   "outputs": [],
   "source": [
    "plt.imshow(testData[0].reshape(28,28))"
   ]
  },
  {
   "cell_type": "markdown",
   "metadata": {
    "id": "EWMa_oBxUErL"
   },
   "source": [
    "As you can see the number is 7"
   ]
  },
  {
   "cell_type": "markdown",
   "metadata": {
    "id": "B6kypNDZUJx4"
   },
   "source": [
    "We can take a look at the predictions (after treating the probabilities with the argmax function and specifying to the function in what dimension it should analyze data (in our case, along the y axis, i.e. axis = 1) because we are using a two-dimensional array)"
   ]
  },
  {
   "cell_type": "code",
   "execution_count": null,
   "metadata": {
    "id": "NAOWWHDfR0ge"
   },
   "outputs": [],
   "source": [
    "np.argmax(predictions, axis=1)"
   ]
  },
  {
   "cell_type": "markdown",
   "metadata": {
    "id": "fkjtxaoNUJLg"
   },
   "source": [
    "We can check the labels for the data on which the model did the predictions and compare"
   ]
  },
  {
   "cell_type": "code",
   "execution_count": null,
   "metadata": {
    "id": "Q3zPtqWlR1TI"
   },
   "outputs": [],
   "source": [
    "testLabels[0:100]"
   ]
  },
  {
   "cell_type": "code",
   "execution_count": null,
   "metadata": {
    "id": "bDzpUIIyST4r"
   },
   "outputs": [],
   "source": [
    "np.argmax(predictions, axis=1) == testLabels[0:100]"
   ]
  },
  {
   "cell_type": "code",
   "execution_count": null,
   "metadata": {
    "id": "tjUaQJEESZQH"
   },
   "outputs": [],
   "source": [
    "np.mean(np.argmax(predictions, axis=1) == testLabels[0:100])\n"
   ]
  },
  {
   "cell_type": "markdown",
   "metadata": {
    "id": "7OEr9xp0WYPz"
   },
   "source": [
    "The predictions coincide with reality"
   ]
  },
  {
   "cell_type": "markdown",
   "metadata": {
    "id": "pRAvWenJU-0V"
   },
   "source": [
    "We can also verify if there are wrong predictions by running this cell which uses Numpy's argmin function"
   ]
  },
  {
   "cell_type": "code",
   "execution_count": null,
   "metadata": {
    "id": "BD-RQuW8SitL"
   },
   "outputs": [],
   "source": [
    "wrong_pred = np.argmin(np.argmax(predictions, axis=1) == testLabels[0:100])\n",
    "wrong_pred"
   ]
  },
  {
   "cell_type": "markdown",
   "metadata": {
    "id": "yOCc44-MVg5Q"
   },
   "source": [
    "No element was wrongly predicted (for example, if wrong_pred=2 we can say that the the element in the position 2 is wrongly predicted)"
   ]
  }
 ],
 "metadata": {
  "colab": {
   "collapsed_sections": [],
   "include_colab_link": true,
   "name": "Handwritten_Digit_Recognition_with_keras.ipynb",
   "provenance": []
  },
  "kernelspec": {
   "display_name": "Python 3",
   "language": "python",
   "name": "python3"
  },
  "language_info": {
   "codemirror_mode": {
    "name": "ipython",
    "version": 3
   },
   "file_extension": ".py",
   "mimetype": "text/x-python",
   "name": "python",
   "nbconvert_exporter": "python",
   "pygments_lexer": "ipython3",
   "version": "3.8.5"
  }
 },
 "nbformat": 4,
 "nbformat_minor": 2
}
