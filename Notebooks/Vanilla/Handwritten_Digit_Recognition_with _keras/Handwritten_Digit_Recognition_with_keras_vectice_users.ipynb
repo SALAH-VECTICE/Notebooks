{
  "nbformat": 4,
  "nbformat_minor": 0,
  "metadata": {
    "colab": {
      "name": "Handwritten_Digit_Recognition_with_keras_vectice_users.ipynb",
      "provenance": [],
      "collapsed_sections": []
    },
    "kernelspec": {
      "name": "python3",
      "display_name": "Python 3"
    },
    "language_info": {
      "name": "python"
    }
  },
  "cells": [
    {
      "cell_type": "markdown",
      "metadata": {
        "id": "1mRYJHN19aar"
      },
      "source": [
        "# Handwritten digits recognition \n",
        "\n"
      ]
    },
    {
      "cell_type": "markdown",
      "metadata": {
        "id": "bsA4pNFZ9gvA"
      },
      "source": [
        "## What this is about?\n",
        "The handwritten digit recognition is the ability of computers to recognize human handwritten digits. Handwritten digits are not perfectly written which makes it hard for machine to recognize them. Handwritten digits recognition could be a solution for several problems, such as those which use the image of a digit and recognizes the digit present in the image, for example."
      ]
    },
    {
      "cell_type": "markdown",
      "metadata": {
        "id": "PH52e51crcqI"
      },
      "source": [
        "## Install vectice "
      ]
    },
    {
      "cell_type": "markdown",
      "metadata": {
        "id": "6uOw7EUDBONh"
      },
      "source": [
        "Vectice provides a generic metadata layer that is potentially suitable for most data science workflows.\n",
        "\n",
        "For this tutorial we will use the keras library for modeling and track experiments directly through our Python SDK to illustrate how to fine-tune exactly what you would like to track: metrics, etc. The same mechanisms would apply to R, Java or even more generic REST APIs to track metadata from any programming language and library."
      ]
    },
    {
      "cell_type": "code",
      "metadata": {
        "id": "ko8fphPjZI3x"
      },
      "source": [
        "!pip3 install vectice"
      ],
      "execution_count": null,
      "outputs": []
    },
    {
      "cell_type": "code",
      "metadata": {
        "id": "obfp9uQ9k1CK"
      },
      "source": [
        "!pip show vectice"
      ],
      "execution_count": null,
      "outputs": []
    },
    {
      "cell_type": "markdown",
      "metadata": {
        "id": "rznOZr-Hr8Ek"
      },
      "source": [
        "## Install the necessary libraries for this project"
      ]
    },
    {
      "cell_type": "code",
      "metadata": {
        "id": "_3m2n6DqZ6Ok"
      },
      "source": [
        "!pip3 install tensorflow\n",
        "!pip3 install keras\n",
        "!pip3 install pillow\n",
        "!pip3 install numpy"
      ],
      "execution_count": null,
      "outputs": []
    },
    {
      "cell_type": "markdown",
      "metadata": {
        "id": "6zcRODIwalUC"
      },
      "source": [
        "## Import the libraries and the dataset"
      ]
    },
    {
      "cell_type": "code",
      "metadata": {
        "id": "SkOc3DKqahaW"
      },
      "source": [
        "# organize imports\n",
        "import numpy as np\n",
        "import matplotlib.pyplot as plt\n",
        "\n",
        "from keras.models import Sequential\n",
        "from keras.layers.core import Dense, Activation, Dropout\n",
        "from keras.datasets import mnist\n",
        "from keras.utils import np_utils\n",
        "from vectice.models import JobType\n",
        "\n",
        "# fix a random seed for reproducibility\n",
        "np.random.seed(9)"
      ],
      "execution_count": null,
      "outputs": []
    },
    {
      "cell_type": "markdown",
      "metadata": {
        "id": "GxOa4vmKscMO"
      },
      "source": [
        "## User inputs for the model"
      ]
    },
    {
      "cell_type": "code",
      "metadata": {
        "id": "RzvbWiLNg4iX"
      },
      "source": [
        "# user inputs\n",
        "nb_epoch = 25\n",
        "num_classes = 10\n",
        "batch_size = 128\n",
        "train_size = 60000\n",
        "test_size = 10000\n",
        "v_length = 784\n",
        "\n"
      ],
      "execution_count": null,
      "outputs": []
    },
    {
      "cell_type": "markdown",
      "metadata": {
        "id": "WcR0FVdqYN_E"
      },
      "source": [
        "- **nb_epoch**: Number of epochs. An epoch is an arbitrary cutoff, generally defined as \"one pass over the entire dataset\", used to separate training into distinct phases, which is useful for logging and periodic evaluation.\n",
        "- **num_classes**: Digits classes (from 0 to 9)\n",
        "- **bacth_size**: It defines the number of samples that will be propagated through the network. For exampe, if we have 1000 training samples, with a batch_size of 100 the model will train on the first 100 training samples then, the second 100 training sample on so on to the end of the training set. \n",
        "- **train_size**: Number of images in the training set\n",
        "- **test_size**: Number of images in the test set\n",
        "- **v_length**: Dimension of flattened input image size i.e. if input image size is [28x28], then v_length = 784"
      ]
    },
    {
      "cell_type": "markdown",
      "metadata": {
        "id": "4XPvr10FshxQ"
      },
      "source": [
        "## Process the data"
      ]
    },
    {
      "cell_type": "markdown",
      "metadata": {
        "id": "d3X8O7nJD86L"
      },
      "source": [
        "In this tutorial we will use the MNIST keras dataset. The MNIST dataset is a low-complexity data collection of handwritten digits containing 70,000 28x28 black and white images representing the digits zero through nine. It's used to train and test various supervised machine learning algorithms.\n"
      ]
    },
    {
      "cell_type": "code",
      "metadata": {
        "colab": {
          "base_uri": "https://localhost:8080/"
        },
        "id": "mhh--Sbng-6N",
        "outputId": "8c6a14e0-0928-430b-c78e-123a3bc623b3"
      },
      "source": [
        "# split the mnist data into train and test\n",
        "(trainData, trainLabels), (testData, testLabels) = mnist.load_data()\n",
        "print(\"[INFO] train data shape: {}\".format(trainData.shape))\n",
        "print(\"[INFO] test data shape: {}\".format(testData.shape))\n",
        "print(\"[INFO] train samples: {}\".format(trainData.shape[0]))\n",
        "print(\"[INFO] test samples: {}\".format(testData.shape[0]))"
      ],
      "execution_count": null,
      "outputs": [
        {
          "output_type": "stream",
          "text": [
            "[INFO] train data shape: (60000, 28, 28)\n",
            "[INFO] test data shape: (10000, 28, 28)\n",
            "[INFO] train samples: 60000\n",
            "[INFO] test samples: 10000\n"
          ],
          "name": "stdout"
        }
      ]
    },
    {
      "cell_type": "markdown",
      "metadata": {
        "id": "MixPKAJuEXA5"
      },
      "source": [
        "trainData contains the data from which our neural network (model) will learn to recognize images and trainLabels contains the labels (what's in the picture). testData will be used to check if the model can correctly recognize a digit that it hasn't sees before. To evaluate this we will use DataLabels which contains labels for the test set"
      ]
    },
    {
      "cell_type": "markdown",
      "metadata": {
        "id": "kjJUuFXTJovY"
      },
      "source": [
        "### Reshape and normalize the data\n",
        "**Reshaping**\n",
        "\n",
        "If we process an image in a neural network, it expects a vector and not a two-dimensional array (unless we use a convolution). Therefore, before further processing, we should convert the training set to 60,000 x 784 (28 * 28). To change the shape of the data we will use the reshape function.\n",
        "\n",
        "**Normalization**\n",
        "\n",
        "The value of each pixel – indicating the gray level of a given pixel – should be between 0 (typically 0 is completely black) and 255. We divide our data by 255 to make sure that it's between 0 and 1."
      ]
    },
    {
      "cell_type": "code",
      "metadata": {
        "colab": {
          "base_uri": "https://localhost:8080/"
        },
        "id": "SRjnegTpg-9O",
        "outputId": "9dc3f51c-0e21-4179-a2db-89d80bef72e9"
      },
      "source": [
        "# reshape the dataset\n",
        "trainData = trainData.reshape(train_size, v_length)\n",
        "testData = testData.reshape(test_size, v_length)\n",
        "trainData = trainData.astype(\"float32\")\n",
        "testData = testData.astype(\"float32\")\n",
        "trainData /= 255\n",
        "testData /= 255\n",
        "\n",
        "print(\"[INFO] train data shape: {}\".format(trainData.shape))\n",
        "print(\"[INFO] test data shape: {}\".format(testData.shape))\n",
        "print(\"[INFO] train samples: {}\".format(trainData.shape[0]))\n",
        "print(\"[INFO] test samples: {}\".format(testData.shape[0]))"
      ],
      "execution_count": null,
      "outputs": [
        {
          "output_type": "stream",
          "text": [
            "[INFO] train data shape: (60000, 784)\n",
            "[INFO] test data shape: (10000, 784)\n",
            "[INFO] train samples: 60000\n",
            "[INFO] test samples: 10000\n"
          ],
          "name": "stdout"
        }
      ]
    },
    {
      "cell_type": "markdown",
      "metadata": {
        "id": "co65DL6ELXqK"
      },
      "source": [
        "In the process, we want the neural network to compare two values and then calculate how far is it from the target. This cannot be done without transforming the target (labels) into so-called one-hot encoding. As a result, our “1” will be written in the following form:\n",
        "\n",
        "[0.0, 1.0, 0.0, 0.0, 0.0, 0.0, 0.0, 0.0, 0.0, 0.0]\n",
        "\n",
        "If we wanted to write the value 5 in this way, the vector would look like this:\n",
        "\n",
        "[0.0, 0.0, 0.0, 0.0, 0.0, 1.0, 0.0, 0.0, 0.0, 0.0]\n",
        "\n",
        "This operation of converting a scalar to a vector is performed by the function to_categorical().\n",
        "\n"
      ]
    },
    {
      "cell_type": "code",
      "metadata": {
        "id": "cviXB1Lwg_B6"
      },
      "source": [
        "# convert class vectors to binary class matrices --> one-hot encoding\n",
        "mTrainLabels = np_utils.to_categorical(trainLabels, num_classes)\n",
        "mTestLabels = np_utils.to_categorical(testLabels, num_classes)"
      ],
      "execution_count": null,
      "outputs": []
    },
    {
      "cell_type": "markdown",
      "metadata": {
        "id": "IPjC48IKsm-v"
      },
      "source": [
        "## Connect to your Vectice workspace and your Vectice project"
      ]
    },
    {
      "cell_type": "markdown",
      "metadata": {
        "id": "mzLA-bl3lWcC"
      },
      "source": [
        "Here we are going to need an API token and a project token. An API token is used to secure requests between your existing tools and Vectice. You can create and manage those at the API Tokens tab in your workspace, and they impersonate you and your rights per workspace, so we strongly recommend you to avoid sharing them. A project token is used to target the project you're working on in the UI and can found (after creating a project) in the Project settings page, and anyone working on the project can see it and copy/paste it."
      ]
    },
    {
      "cell_type": "code",
      "metadata": {
        "id": "zqURm5nt3Xqd"
      },
      "source": [
        "# In order to use Vectice SDK, let's set up the configurations first.\n",
        "# The Vectice API key below can be generated from the UI.\n",
        "# For better security, the settings can also be put into a dedicated file called `.vectice` or `.env`.\n",
        "## Make sure that you're using the right endpoint (hint: be-beta.vectice.com)\n",
        "os.environ['VECTICE_API_ENDPOINT']= \"\"\n",
        "os.environ['VECTICE_API_TOKEN'] = \"\"\n",
        "\n",
        "## Create a Vetice instance to connect to your project using your project token\n",
        "## Hint: Do not forget to import vectice (from vectice import Vectice)\n",
        "vectice = \"\"\n",
        "\n",
        "print(vectice)"
      ],
      "execution_count": null,
      "outputs": []
    },
    {
      "cell_type": "code",
      "metadata": {
        "id": "I_9_EQuBmAJ_",
        "cellView": "form"
      },
      "source": [
        "#@title Double click to show the syntax\n",
        "os.environ['VECTICE_API_ENDPOINT']= \"be-beta.vectice.com\"\n",
        "##Complete with your Vectice API token\n",
        "os.environ['VECTICE_API_TOKEN'] = \"\"\n",
        "from vectice import Vectice\n",
        "## Complete with your project token\n",
        "vectice = Vectice(project_token=\"\")\n",
        "print(vectice)"
      ],
      "execution_count": null,
      "outputs": []
    },
    {
      "cell_type": "markdown",
      "metadata": {
        "id": "5jqHGBF3mvqr"
      },
      "source": [
        "Create a dataset containing your dataset to use them as input for your models. That can be done through the UI by going to your project, clicking on datasets and then click on add (you should add a connection to be able to create a dataset)\n",
        "\n",
        "Create a dataset version based on the dataset you created above"
      ]
    },
    {
      "cell_type": "code",
      "metadata": {
        "id": "NtkIo88Wm13f"
      },
      "source": [
        "input_ds_version = \"\""
      ],
      "execution_count": null,
      "outputs": []
    },
    {
      "cell_type": "code",
      "metadata": {
        "cellView": "form",
        "id": "iqKKyOT9m3kv"
      },
      "source": [
        "#@title Double click to show the syntax\n",
        "##We use autoversioning here\n",
        "input_ds_version = vectice.create_dataset_version().with_parent_name(\"dataset_name\")"
      ],
      "execution_count": null,
      "outputs": []
    },
    {
      "cell_type": "markdown",
      "metadata": {
        "id": "xmvdKQCb8MIe"
      },
      "source": [
        "## Get different user versions\n",
        "Generate a random user version by calling get_random_string"
      ]
    },
    {
      "cell_type": "code",
      "metadata": {
        "id": "1_ZvAbOU8Zhb"
      },
      "source": [
        "# Let's generate some unique names for our following modeling experiments\n",
        "import random\n",
        "import string\n",
        "def get_random_string(length):\n",
        "    return \"\".join(random.choice(string.ascii_letters) for i in range(length))\n"
      ],
      "execution_count": null,
      "outputs": []
    },
    {
      "cell_type": "markdown",
      "metadata": {
        "id": "cDOJwvVEsqRa"
      },
      "source": [
        "## Model creation"
      ]
    },
    {
      "cell_type": "markdown",
      "metadata": {
        "id": "YR-wx9PtMPOf"
      },
      "source": [
        "We are using a [sequential model](https://keras.io/getting-started/sequential-model-guide/) (a Sequential model is appropriate for a plain stack of layers where each layer has exactly one input tensor and one output tensor) and two types of layers: Dense and Dropout.\n",
        "Dense is a standard layer of the neural network in which each neuron is connected to each neuron of the next layer. Dropout is a layer that prevents the phenomenon of over-fitting, i.e. over-matching the operation of the neural network to training data. \n",
        "- We are using 3 Dense layers and 2 Dropout layers.\n",
        "-  Each layer has an activation function. Activation functions available in Keras are listed here: https://keras.io/activations/\n",
        "- Each layer as the first argument takes the size of the output vector for the layer (the first layer accepts 784 parameters and outputs 512)\n",
        "- We use Dropout in our neural network to save it from overfitting. To prevent overfitting, it randomly chooses a fraction of units and set to 0 at each update\n"
      ]
    },
    {
      "cell_type": "markdown",
      "metadata": {
        "id": "_g2Ujqy3nbD0"
      },
      "source": [
        "The following code creates a DNN (Dense Neural Network) model. Complete the code by creating and starting a job run."
      ]
    },
    {
      "cell_type": "code",
      "metadata": {
        "id": "LLiIFuXxhK9f"
      },
      "source": [
        "# create a run\n",
        "# Start the run\n",
        "\n",
        "model = Sequential(name=\"Digits_recognition_sequential\")\n",
        "model.add(Dense(512, input_shape=(784,)))\n",
        "model.add(Activation(\"relu\"))\n",
        "model.add(Dropout(0.2))\n",
        "model.add(Dense(256))\n",
        "model.add(Activation(\"relu\"))\n",
        "model.add(Dropout(0.2))\n",
        "model.add(Dense(num_classes))\n",
        "model.add(Activation(\"softmax\"))\n",
        "\n",
        "# summarize the model\n",
        "model.summary()"
      ],
      "execution_count": null,
      "outputs": []
    },
    {
      "cell_type": "code",
      "metadata": {
        "id": "ROtxIPt7n1mY"
      },
      "source": [
        "#@title Double click to show the answer\n",
        "# create the model\n",
        "vectice.create_run(job_name = \"Train model with keras\", job_type = JobType.TRAINING)\n",
        "\n",
        "vectice.start_run(inputs=[input_ds_version])\n",
        "\n",
        "model = Sequential(name=\"Digits_recognition_sequential\")\n",
        "model.add(Dense(512, input_shape=(784,)))\n",
        "model.add(Activation(\"relu\"))\n",
        "model.add(Dropout(0.2))\n",
        "model.add(Dense(256))\n",
        "model.add(Activation(\"relu\"))\n",
        "model.add(Dropout(0.2))\n",
        "model.add(Dense(num_classes))\n",
        "model.add(Activation(\"softmax\"))\n",
        "\n",
        "# summarize the model\n",
        "model.summary()"
      ],
      "execution_count": null,
      "outputs": []
    },
    {
      "cell_type": "markdown",
      "metadata": {
        "id": "upVZTZT5oJa4"
      },
      "source": [
        "Here we define a list containing information about each layer in our neural network"
      ]
    },
    {
      "cell_type": "code",
      "metadata": {
        "id": "2N4jewVK1Tm5"
      },
      "source": [
        "layers_list = []\n",
        "for layer in model.layers:\n",
        "  layers_list+=[(\"Layer name\", layer.name+\" layer\"), (layer.name+\" layer \"+\" number of input parameters\", layer.input_shape[1]),(layer.name+\" layer \"+\" number of output parameters\",layer.output_shape[1])]\n",
        "layers_list"
      ],
      "execution_count": null,
      "outputs": []
    },
    {
      "cell_type": "markdown",
      "metadata": {
        "id": "Vb60dwIbOHqv"
      },
      "source": [
        "After creating the model, we have to compile it. To do this, we call the method compile specifying:\n",
        "- Type of optimizer: https://keras.io/optimizers/\n",
        "- Loss function: https://keras.io/losses/\n",
        "- Optional metrics that we want for our model to register (accuracy for example)"
      ]
    },
    {
      "cell_type": "code",
      "metadata": {
        "id": "MsvrDVHlhLAS"
      },
      "source": [
        "# compile the model\n",
        "model.compile(loss=\"categorical_crossentropy\", optimizer=\"adam\", metrics=[\"accuracy\"])"
      ],
      "execution_count": null,
      "outputs": []
    },
    {
      "cell_type": "markdown",
      "metadata": {
        "id": "pKWRdWwpOeSr"
      },
      "source": [
        "Implementing the training of the neural network by using the fit method.\n",
        "\n",
        "You can try to play with the network – change the number of epochs, batch_size, type of optimizer or the structure of the network itself."
      ]
    },
    {
      "cell_type": "code",
      "metadata": {
        "id": "zGIZ0XC2hLC9"
      },
      "source": [
        "# fit the model\n",
        "history = model.fit(trainData, mTrainLabels, validation_data=(testData, mTestLabels), batch_size=batch_size, epochs=nb_epoch, verbose=2)"
      ],
      "execution_count": null,
      "outputs": []
    },
    {
      "cell_type": "markdown",
      "metadata": {
        "id": "XToHWjdpsuUN"
      },
      "source": [
        "## Model evaluation"
      ]
    },
    {
      "cell_type": "markdown",
      "metadata": {
        "id": "DVYVBG83oUyf"
      },
      "source": [
        "Here we calculate some metrics in order to evaluate the model.\n",
        "We already created a job run aboce and started it. Please complete the code by creating a model version, adding the metrics and the parameters (properties) to it and end the run."
      ]
    },
    {
      "cell_type": "code",
      "metadata": {
        "id": "OUO9N6nzyqd6"
      },
      "source": [
        "# print the history keys\n",
        "print(history.history.keys())\n",
        "# evaluate the model\n",
        "scores = model.evaluate(testData, mTestLabels, verbose=0)\n",
        "\n",
        "# history plot for accuracy\n",
        "plt.plot(history.history[\"accuracy\"])\n",
        "plt.plot(history.history[\"val_accuracy\"])\n",
        "plt.title(\"Model Accuracy\")\n",
        "plt.xlabel(\"Epoch\")\n",
        "plt.ylabel(\"Accuracy\")\n",
        "plt.legend([\"train\", \"test\"], loc=\"upper left\")\n",
        "plt.show()\n",
        "\n",
        "# history plot for accuracy\n",
        "plt.plot(history.history[\"loss\"])\n",
        "plt.plot(history.history[\"val_loss\"])\n",
        "plt.title(\"Model Loss\")\n",
        "plt.xlabel(\"Epoch\")\n",
        "plt.ylabel(\"Loss\")\n",
        "plt.legend([\"train\", \"test\"], loc=\"upper left\")\n",
        "plt.show()\n",
        "\n",
        "# print the results\n",
        "print(\"[INFO] test score - {}\".format(scores[0]))\n",
        "print(\"[INFO] test accuracy - {}\".format(scores[1]))\n",
        "\n",
        "## Create metrics list\n",
        "## Create properties list (you can use the list layers_list we defined above)\n",
        "##Create model_version()\n",
        "##End the job run you created"
      ],
      "execution_count": null,
      "outputs": []
    },
    {
      "cell_type": "code",
      "metadata": {
        "cellView": "form",
        "id": "507txQ-Wov6m"
      },
      "source": [
        "#@title double click to show the answer\n",
        "# print the history keys\n",
        "print(history.history.keys())\n",
        "# evaluate the model\n",
        "scores = model.evaluate(testData, mTestLabels, verbose=0)\n",
        "\n",
        "# history plot for accuracy\n",
        "plt.plot(history.history[\"accuracy\"])\n",
        "plt.plot(history.history[\"val_accuracy\"])\n",
        "plt.title(\"Model Accuracy\")\n",
        "plt.xlabel(\"Epoch\")\n",
        "plt.ylabel(\"Accuracy\")\n",
        "plt.legend([\"train\", \"test\"], loc=\"upper left\")\n",
        "plt.show()\n",
        "\n",
        "# history plot for accuracy\n",
        "plt.plot(history.history[\"loss\"])\n",
        "plt.plot(history.history[\"val_loss\"])\n",
        "plt.title(\"Model Loss\")\n",
        "plt.xlabel(\"Epoch\")\n",
        "plt.ylabel(\"Loss\")\n",
        "plt.legend([\"train\", \"test\"], loc=\"upper left\")\n",
        "plt.show()\n",
        "\n",
        "# print the results\n",
        "print(\"[INFO] test score - {}\".format(scores[0]))\n",
        "print(\"[INFO] test accuracy - {}\".format(scores[1]))\n",
        "\n",
        "\n",
        "metrics = [('test score',scores[0]), (\"test accuracy\",scores[1])]\n",
        "\n",
        "properties = [(\"Algorithm\",\"Neural networks\"), (\"Model\", \"Sequential (keras)\")] +layers_list+ [(\"Number of epochs\",nb_epoch), (\"number of digit classes (from 0 to 9) \", num_classes), (\"Batch size \", batch_size), (\"Number of images in the training set \", train_size), (\"Number of images in the test set \", test_size), (\"Dimension of flattened input image size\", v_length)]\n",
        "model_version1 = vectice.create_model_version().with_parent_name(\"DNN__\").with_properties(properties).with_metrics(metrics).with_user_version(get_random_string(12))\n",
        "\n",
        "\n",
        "vectice.end_run(outputs=[model_version1])"
      ],
      "execution_count": null,
      "outputs": []
    },
    {
      "cell_type": "markdown",
      "metadata": {
        "id": "QrrMF9lIQomF"
      },
      "source": [
        "The model's got an accuracy of 0.9826 on the test set. The difference between accuracy on the training and test set is only 0.01% and seems great"
      ]
    },
    {
      "cell_type": "markdown",
      "metadata": {
        "id": "UaVP2yNNS8Q2"
      },
      "source": [
        "We can use our testData to test the model on picture it hasn't seen before. We can do so by using model.predection in keras"
      ]
    },
    {
      "cell_type": "code",
      "metadata": {
        "id": "Ldn0rYMeQaWF"
      },
      "source": [
        "predictions = model.predict(testData[0:100])"
      ],
      "execution_count": null,
      "outputs": []
    },
    {
      "cell_type": "markdown",
      "metadata": {
        "id": "6kEppwsiTaLK"
      },
      "source": [
        "The method returns a 100-element scoreboard. Each element indicates the probabilities that the input belongs to a given class."
      ]
    },
    {
      "cell_type": "code",
      "metadata": {
        "colab": {
          "base_uri": "https://localhost:8080/"
        },
        "id": "42yVrS_6Rln1",
        "outputId": "0b138679-b2bb-4597-c5e0-0ad877ea2e1a"
      },
      "source": [
        "predictions[0]"
      ],
      "execution_count": null,
      "outputs": [
        {
          "output_type": "execute_result",
          "data": {
            "text/plain": [
              "array([8.37433046e-16, 1.08782815e-14, 2.97688379e-16, 4.90299431e-14,\n",
              "       8.15111303e-18, 4.19393303e-16, 3.04530058e-19, 1.00000000e+00,\n",
              "       1.25218924e-19, 1.94541258e-11], dtype=float32)"
            ]
          },
          "metadata": {
            "tags": []
          },
          "execution_count": 70
        }
      ]
    },
    {
      "cell_type": "markdown",
      "metadata": {
        "id": "RAUz8f-wTgaR"
      },
      "source": [
        "As we can see in this example the probabilities are very low except for the eight element (class 7, counted from 0) wich has a probability of 1. So the model predicted that it's 7. Let's verify that"
      ]
    },
    {
      "cell_type": "code",
      "metadata": {
        "id": "7z4iqIFtg_FA",
        "colab": {
          "base_uri": "https://localhost:8080/"
        },
        "outputId": "1dd0537b-5a3f-467a-dad6-32a603487e25"
      },
      "source": [
        "np.argmax(predictions[0])"
      ],
      "execution_count": null,
      "outputs": [
        {
          "output_type": "execute_result",
          "data": {
            "text/plain": [
              "7"
            ]
          },
          "metadata": {
            "tags": []
          },
          "execution_count": 71
        }
      ]
    },
    {
      "cell_type": "code",
      "metadata": {
        "colab": {
          "base_uri": "https://localhost:8080/",
          "height": 282
        },
        "id": "iNUwHh2JRtRI",
        "outputId": "b2ea938c-9f61-47ee-9600-35a4fd0f5f1e"
      },
      "source": [
        "plt.imshow(testData[0].reshape(28,28))"
      ],
      "execution_count": null,
      "outputs": [
        {
          "output_type": "execute_result",
          "data": {
            "text/plain": [
              "<matplotlib.image.AxesImage at 0x7febba9331d0>"
            ]
          },
          "metadata": {
            "tags": []
          },
          "execution_count": 73
        },
        {
          "output_type": "display_data",
          "data": {
            "image/png": "[encoded data removed]",
            "text/plain": [
              "<Figure size 432x288 with 1 Axes>"
            ]
          },
          "metadata": {
            "tags": [],
            "needs_background": "light"
          }
        }
      ]
    },
    {
      "cell_type": "markdown",
      "metadata": {
        "id": "EWMa_oBxUErL"
      },
      "source": [
        "As you can see the number is 7"
      ]
    },
    {
      "cell_type": "markdown",
      "metadata": {
        "id": "B6kypNDZUJx4"
      },
      "source": [
        "We can take a look at the predictions (after treating the probabilities with the argmax function and specifying to the function in what dimension it should analyze data (in our case, along the y axis, i.e. axis = 1) because we are using a two-dimensional array)"
      ]
    },
    {
      "cell_type": "code",
      "metadata": {
        "colab": {
          "base_uri": "https://localhost:8080/"
        },
        "id": "NAOWWHDfR0ge",
        "outputId": "991509ec-ea11-45be-fe45-686d802c60e5"
      },
      "source": [
        "np.argmax(predictions, axis=1)"
      ],
      "execution_count": null,
      "outputs": [
        {
          "output_type": "execute_result",
          "data": {
            "text/plain": [
              "array([7, 2, 1, 0, 4, 1, 4, 9, 5, 9, 0, 6, 9, 0, 1, 5, 9, 7, 3, 4, 9, 6,\n",
              "       6, 5, 4, 0, 7, 4, 0, 1, 3, 1, 3, 4, 7, 2, 7, 1, 2, 1, 1, 7, 4, 2,\n",
              "       3, 5, 1, 2, 4, 4, 6, 3, 5, 5, 6, 0, 4, 1, 9, 5, 7, 8, 9, 3, 7, 4,\n",
              "       6, 4, 3, 0, 7, 0, 2, 9, 1, 7, 3, 2, 9, 7, 7, 6, 2, 7, 8, 4, 7, 3,\n",
              "       6, 1, 3, 6, 9, 3, 1, 4, 1, 7, 6, 9])"
            ]
          },
          "metadata": {
            "tags": []
          },
          "execution_count": 74
        }
      ]
    },
    {
      "cell_type": "markdown",
      "metadata": {
        "id": "fkjtxaoNUJLg"
      },
      "source": [
        "We can check the labels for the data on which the model did the predictions and compare"
      ]
    },
    {
      "cell_type": "code",
      "metadata": {
        "colab": {
          "base_uri": "https://localhost:8080/"
        },
        "id": "Q3zPtqWlR1TI",
        "outputId": "55599f4b-f116-4f51-a1ca-650bf942350d"
      },
      "source": [
        "testLabels[0:100]"
      ],
      "execution_count": null,
      "outputs": [
        {
          "output_type": "execute_result",
          "data": {
            "text/plain": [
              "array([7, 2, 1, 0, 4, 1, 4, 9, 5, 9, 0, 6, 9, 0, 1, 5, 9, 7, 3, 4, 9, 6,\n",
              "       6, 5, 4, 0, 7, 4, 0, 1, 3, 1, 3, 4, 7, 2, 7, 1, 2, 1, 1, 7, 4, 2,\n",
              "       3, 5, 1, 2, 4, 4, 6, 3, 5, 5, 6, 0, 4, 1, 9, 5, 7, 8, 9, 3, 7, 4,\n",
              "       6, 4, 3, 0, 7, 0, 2, 9, 1, 7, 3, 2, 9, 7, 7, 6, 2, 7, 8, 4, 7, 3,\n",
              "       6, 1, 3, 6, 9, 3, 1, 4, 1, 7, 6, 9], dtype=uint8)"
            ]
          },
          "metadata": {
            "tags": []
          },
          "execution_count": 76
        }
      ]
    },
    {
      "cell_type": "code",
      "metadata": {
        "colab": {
          "base_uri": "https://localhost:8080/"
        },
        "id": "bDzpUIIyST4r",
        "outputId": "f7a54b34-0b7f-474b-ac97-72d221f41210"
      },
      "source": [
        "np.argmax(predictions, axis=1) == testLabels[0:100]"
      ],
      "execution_count": null,
      "outputs": [
        {
          "output_type": "execute_result",
          "data": {
            "text/plain": [
              "array([ True,  True,  True,  True,  True,  True,  True,  True,  True,\n",
              "        True,  True,  True,  True,  True,  True,  True,  True,  True,\n",
              "        True,  True,  True,  True,  True,  True,  True,  True,  True,\n",
              "        True,  True,  True,  True,  True,  True,  True,  True,  True,\n",
              "        True,  True,  True,  True,  True,  True,  True,  True,  True,\n",
              "        True,  True,  True,  True,  True,  True,  True,  True,  True,\n",
              "        True,  True,  True,  True,  True,  True,  True,  True,  True,\n",
              "        True,  True,  True,  True,  True,  True,  True,  True,  True,\n",
              "        True,  True,  True,  True,  True,  True,  True,  True,  True,\n",
              "        True,  True,  True,  True,  True,  True,  True,  True,  True,\n",
              "        True,  True,  True,  True,  True,  True,  True,  True,  True,\n",
              "        True])"
            ]
          },
          "metadata": {
            "tags": []
          },
          "execution_count": 78
        }
      ]
    },
    {
      "cell_type": "code",
      "metadata": {
        "colab": {
          "base_uri": "https://localhost:8080/"
        },
        "id": "tjUaQJEESZQH",
        "outputId": "ea05269a-f829-4ae8-faec-33dfdc228503"
      },
      "source": [
        "np.mean(np.argmax(predictions, axis=1) == testLabels[0:100])\n"
      ],
      "execution_count": null,
      "outputs": [
        {
          "output_type": "execute_result",
          "data": {
            "text/plain": [
              "1.0"
            ]
          },
          "metadata": {
            "tags": []
          },
          "execution_count": 80
        }
      ]
    },
    {
      "cell_type": "markdown",
      "metadata": {
        "id": "7OEr9xp0WYPz"
      },
      "source": [
        "The predictions coincide with reality"
      ]
    },
    {
      "cell_type": "markdown",
      "metadata": {
        "id": "pRAvWenJU-0V"
      },
      "source": [
        "We can also verify if there are wrong predictions by running this cell which uses Numpy's argmin function"
      ]
    },
    {
      "cell_type": "code",
      "metadata": {
        "colab": {
          "base_uri": "https://localhost:8080/"
        },
        "id": "BD-RQuW8SitL",
        "outputId": "c5c22cd8-4d10-4e01-aeb0-29c76b032093"
      },
      "source": [
        "wrong_pred = np.argmin(np.argmax(predictions, axis=1) == testLabels[0:100])\n",
        "wrong_pred"
      ],
      "execution_count": null,
      "outputs": [
        {
          "output_type": "execute_result",
          "data": {
            "text/plain": [
              "0"
            ]
          },
          "metadata": {
            "tags": []
          },
          "execution_count": 87
        }
      ]
    },
    {
      "cell_type": "markdown",
      "metadata": {
        "id": "yOCc44-MVg5Q"
      },
      "source": [
        "No element was wrongly predicted (for example, if wrong_pred=2 we can say that the the element in the position 2 is wrongly predicted)"
      ]
    }
  ]
}