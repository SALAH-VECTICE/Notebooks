{
 "cells": [
  {
   "cell_type": "markdown",
   "metadata": {
    "id": "B9PKJggkxfMo"
   },
   "source": [
    "## Preparation"
   ]
  },
  {
   "cell_type": "markdown",
   "metadata": {},
   "source": [
    "<a href=\"https://colab.research.google.com/github/vectice/vectice-examples/blob/master/Notebooks/Vanilla/Tutorial/Quickstart.ipynb\" target=\"_parent\"><img src=\"https://colab.research.google.com/assets/colab-badge.svg\" alt=\"Open In Colab\"/></a>  "
   ]
  },
  {
   "cell_type": "markdown",
   "metadata": {
    "id": "EBGxhcG7xZzr"
   },
   "source": [
    "Welcome to this Vectice Quickstart notebook!\n",
    "\n",
    "\n",
    "Through this notebook, we will be illustrating how to log the following information into Vectice using the Vectice Python library:\n",
    "- Dataset versions\n",
    "- Model versions\n",
    "- Code\n",
    "- Runs and lineage\n",
    "\n",
    "For more information on the tutorial, please refer to the \"Vectice Tutorial Page\" inside the app.\n",
    "\n"
   ]
  },
  {
   "cell_type": "markdown",
   "metadata": {
    "id": "3McxMcLPxkdJ"
   },
   "source": [
    "### Install Vectice"
   ]
  },
  {
   "cell_type": "code",
   "execution_count": null,
   "metadata": {
    "colab": {
     "base_uri": "https://localhost:8080/"
    },
    "id": "aXrYRKNiIlOn",
    "outputId": "a37be0d1-0213-42a9-ea87-78115b358277"
   },
   "outputs": [
    {
     "name": "stdout",
     "output_type": "stream",
     "text": [
      "\u001b[K     |████████████████████████████████| 132 kB 22.9 MB/s \n",
      "\u001b[K     |████████████████████████████████| 1.1 MB 50.9 MB/s \n",
      "\u001b[K     |████████████████████████████████| 192 kB 55.3 MB/s \n",
      "\u001b[K     |████████████████████████████████| 271 kB 55.3 MB/s \n",
      "\u001b[K     |████████████████████████████████| 160 kB 70.6 MB/s \n",
      "\u001b[K     |████████████████████████████████| 75 kB 3.2 MB/s \n",
      "\u001b[?25h"
     ]
    }
   ],
   "source": [
    "#Install Vectice Python library \n",
    "# In this tutorial we will do code versioning using github, we also support gitlab\n",
    "# and bitbucket: !pip install -q \"vectice[github, gitlab, bitbucket]\"\n",
    "!pip install vectice[github]"
   ]
  },
  {
   "cell_type": "code",
   "execution_count": 1,
   "metadata": {
    "id": "hHkVwYekVYxU"
   },
   "outputs": [
    {
     "name": "stdout",
     "output_type": "stream",
     "text": [
      "Name: vectice\n",
      "Version: 0.23.0\n",
      "Summary: Vectice Python library\n",
      "Home-page: https://github.com/vectice/vectice-python\n",
      "Author: Vectice Inc.\n",
      "Author-email: sdk@vectice.com\n",
      "License: Apache License 2.0\n",
      "Location: c:\\users\\salah\\anaconda3\\lib\\site-packages\n",
      "Requires: requests, urllib3, python-dotenv\n",
      "Required-by: \n"
     ]
    }
   ],
   "source": [
    "#Verify if Vectice python library was installed\n",
    "!pip3 show vectice"
   ]
  },
  {
   "cell_type": "markdown",
   "metadata": {
    "id": "r0ymRR_pPGCg"
   },
   "source": [
    "## Log in to your Vectice account"
   ]
  },
  {
   "cell_type": "code",
   "execution_count": 5,
   "metadata": {
    "colab": {
     "base_uri": "https://localhost:8080/"
    },
    "id": "KsXBhrmeJ0sZ",
    "outputId": "16b6b4b0-59ea-4198-d913-1e0e4898df9e"
   },
   "outputs": [
    {
     "name": "stderr",
     "output_type": "stream",
     "text": [
      "INFO:vectice.auth:Vectice: Refreshing token... \n",
      "INFO:vectice.auth:Success!\n",
      "INFO:vectice.auth:Vectice: Validating project token... \n",
      "INFO:vectice.auth:The entered token is OK, and allows you to work on the 'test' Project, part of the 'test' Workspace\n"
     ]
    }
   ],
   "source": [
    "#Import the Vectice library\n",
    "from vectice import Vectice\n",
    "from vectice.models import JobType\n",
    "from vectice.entity.model import ModelType\n",
    "import os\n",
    "import logging\n",
    "logging.basicConfig(level=logging.INFO)\n",
    "\n",
    "# Specify the API endpoint for Vectice.\n",
    "os.environ['VECTICE_API_ENDPOINT']= \"beta.vectice.com\"\n",
    "\n",
    "# To use the Vectice Python library, you first need to authenticate your account using an API key.\n",
    "# You can generate an API key from the Vectice UI, by going to the \"My API Keys\" section under your profile's picture\n",
    "# Copy and paste your API key here\n",
    "os.environ['VECTICE_API_TOKEN'] = \"RDo3N9Zz4.6WgryNO96vMYlXKQ1e7jLRDo3N9Zz45w0a3G2BAxkPVbd8pmqJ\"\n",
    "\n",
    "# Next, you need to specify the tutorial project where you will run this notebook using a \n",
    "# \"Project Token\". You can find the \"Project Token\" under the \"Settings\" tab of your project.\n",
    "\n",
    "# Copy and paste your Project Token here\n",
    "# autocode = True enables you to track your git changes for your code automatically every time you execute a run (see below).\n",
    "vectice = Vectice(project_token=\"jPJenrwVh5aeA2OZDVaA\", autocode= True)\n"
   ]
  },
  {
   "cell_type": "markdown",
   "metadata": {
    "id": "WHQCpW9kuDZz"
   },
   "source": [
    "## Creating datasets and dataset versions"
   ]
  },
  {
   "cell_type": "markdown",
   "metadata": {
    "id": "pM_IgVAzuZ9S"
   },
   "source": [
    "Vectice enables you to create datasets with and without connections."
   ]
  },
  {
   "cell_type": "markdown",
   "metadata": {
    "id": "hd1P0iLVuOWU"
   },
   "source": [
    "### Datasets with connections"
   ]
  },
  {
   "cell_type": "markdown",
   "metadata": {
    "id": "Ku7PUy5uuRy4"
   },
   "source": [
    "To create datasets with connections, you can use **vectice.create_dataset_with_connection_id()** or **vectice.create_dataset_with_connection_name()**. You can get the connection name and id of the connections you have in your workspace by calling **vectice.list_connections()**."
   ]
  },
  {
   "cell_type": "code",
   "execution_count": 7,
   "metadata": {
    "id": "3dVKm7B9uVIA"
   },
   "outputs": [
    {
     "data": {
      "text/plain": [
       "PagedResponse(total=1, list=[ConnectionOutput(id=1244, name='test', status='Connected', type='GoogleStorage')], current_page=Page(index=1, size=20))"
      ]
     },
     "execution_count": 7,
     "metadata": {},
     "output_type": "execute_result"
    }
   ],
   "source": [
    "vectice.list_connections()"
   ]
  },
  {
   "cell_type": "code",
   "execution_count": 8,
   "metadata": {
    "id": "K9kj5khkuVmD"
   },
   "outputs": [
    {
     "name": "stderr",
     "output_type": "stream",
     "text": [
      "INFO:Vectice:Dataset: Dataset 1 has been successfully created.\n"
     ]
    },
    {
     "data": {
      "text/plain": [
       "5663"
      ]
     },
     "execution_count": 8,
     "metadata": {},
     "output_type": "execute_result"
    }
   ],
   "source": [
    "vectice.create_dataset_with_connection_name(connection_name='Tutorial GCS',\n",
    "                                            dataset_name=\"Dataset 1\",\n",
    "                                            files=[\"gs://vectice_tutorial/kc_house_data.csv\"],\n",
    "                                            data_properties=[(\"property\", \"value\"), (\"property 2\", \"value \")]\n",
    "                                            )"
   ]
  },
  {
   "cell_type": "markdown",
   "metadata": {
    "id": "r-KkTiQ6ZBd9"
   },
   "source": [
    "You can see in the app that a new dataset with the name \"Dataset 1\" has been created. You can easily find your dataset in the application by typing its name in the global search."
   ]
  },
  {
   "cell_type": "markdown",
   "metadata": {
    "id": "02vop676uGPf"
   },
   "source": [
    "### Dataset without connections"
   ]
  },
  {
   "cell_type": "code",
   "execution_count": 9,
   "metadata": {
    "id": "JV3Je46yuLZd"
   },
   "outputs": [
    {
     "name": "stderr",
     "output_type": "stream",
     "text": [
      "INFO:Vectice:Dataset: Dataset 2 has been successfully created.\n"
     ]
    },
    {
     "data": {
      "text/plain": [
       "5664"
      ]
     },
     "execution_count": 9,
     "metadata": {},
     "output_type": "execute_result"
    }
   ],
   "source": [
    "vectice.create_dataset(dataset_name=\"Dataset 2\",data_properties=[(\"property\", \"value\"), (\"property 2\", \"value\")])"
   ]
  },
  {
   "cell_type": "markdown",
   "metadata": {
    "id": "ckxtRFXV1dzo"
   },
   "source": [
    "### Create a dataset and a dataset version at the same time"
   ]
  },
  {
   "cell_type": "markdown",
   "metadata": {
    "id": "BlKMMWOa2URw"
   },
   "source": [
    "When creating a new dataset version, if the parent dataset doesn't exist in the project, a new dataset is created automatically and it will contain the first version we created."
   ]
  },
  {
   "cell_type": "code",
   "execution_count": 10,
   "metadata": {
    "id": "EdVmXe101dMF"
   },
   "outputs": [],
   "source": [
    "dataset_version = vectice.create_dataset_version().with_parent_name(\"Dataset 3\").with_properties([(\"key\", \"prop\")])"
   ]
  },
  {
   "cell_type": "markdown",
   "metadata": {
    "id": "sZ8cbz56Z6sh"
   },
   "source": [
    "We can check in the app that a new dataset called \"Dataset 3\" has been created."
   ]
  },
  {
   "cell_type": "markdown",
   "metadata": {
    "id": "9355M4I8T1Vf"
   },
   "source": [
    "### Attach a dataset version to a run"
   ]
  },
  {
   "cell_type": "markdown",
   "metadata": {
    "id": "tEuIGqaPT4mE"
   },
   "source": [
    " A run is an execution of a job. You can think of a job like an experiment grouping runs.\n",
    "\n",
    "When creating a run we need to specify:\n",
    "\n",
    " 1) a job name (mandatory): Job names are unique for each project\n",
    " \n",
    " 2) a job type (optional)\n",
    " \n",
    " 3) a run name (optional): The run names are unique for each job\n",
    "\n",
    "Job names, job types and run names are useful to group and search runs in the Vectice UI.\n",
    "\n",
    "You can also specify inputs when you start your run and outputs when you end it. The inputs can be code, dataset and model versions and the outputs can be dataset and model versions.\n"
   ]
  },
  {
   "cell_type": "code",
   "execution_count": 11,
   "metadata": {
    "id": "RwOzYtwaT5Tx"
   },
   "outputs": [
    {
     "name": "stderr",
     "output_type": "stream",
     "text": [
      "WARNING:root:Automatic code detection failed because the .git couldn't be found or file wasn't found by Github\n"
     ]
    },
    {
     "data": {
      "text/plain": [
       "10265"
      ]
     },
     "execution_count": 11,
     "metadata": {},
     "output_type": "execute_result"
    }
   ],
   "source": [
    "dataset_version = vectice.create_dataset_version().with_parent_name(\"Dataset 3\").with_properties([(\"key\", \"prop\")])\n",
    "vectice.create_run(job_name = \"My First Job\", job_type = JobType.PREPARATION, run_name = \"Run 1\").with_properties([(\"run key\", \"run prop\")])\n",
    "vectice.start_run(inputs = [dataset_version])\n",
    "vectice.end_run()"
   ]
  },
  {
   "cell_type": "markdown",
   "metadata": {
    "id": "isXFm1E3aYiX"
   },
   "source": [
    "### Declare files' metadata when creating a dataset version"
   ]
  },
  {
   "cell_type": "markdown",
   "metadata": {
    "id": "vC2s3H3JatYk"
   },
   "source": [
    "Vectice enables you to declare your files' metadata when creating a new dataset version."
   ]
  },
  {
   "cell_type": "markdown",
   "metadata": {
    "id": "VqCjZCdybbM3"
   },
   "source": [
    "#### Declare files metadata manually"
   ]
  },
  {
   "cell_type": "markdown",
   "metadata": {
    "id": "4hmxkct5Wg89"
   },
   "source": [
    "You can declare your files metadata when creating a new dataset version by using **.with_metadata()**. To use this method, you need to declare at least the file's name. You can also declare the file's size, type, uri, path, digest, creation date, and update date."
   ]
  },
  {
   "cell_type": "code",
   "execution_count": 12,
   "metadata": {
    "id": "XQ0YgG43WiD0"
   },
   "outputs": [
    {
     "name": "stderr",
     "output_type": "stream",
     "text": [
      "WARNING:root:Automatic code detection failed because the .git couldn't be found or file wasn't found by Github\n"
     ]
    },
    {
     "data": {
      "text/plain": [
       "10266"
      ]
     },
     "execution_count": 12,
     "metadata": {},
     "output_type": "execute_result"
    }
   ],
   "source": [
    "dataset_version = vectice.create_dataset_version().with_parent_name(\"Dataset 4\").with_properties([(\"key\", \"property\")]).with_metadata(\n",
    "            name=\"My_file.txt\",\n",
    "            size=10600,\n",
    "            type=\"TextFile\",\n",
    "            uri=\"gs://Bucket_name/My_file.txt\",\n",
    "            itemCreatedDate=\"2022-01-11\",\n",
    "            itemUpdatedDate=\"2022-01-11\",\n",
    "        )\n",
    "vectice.create_run(job_name = \"My second Job\", job_type = JobType.PREPARATION, run_name = \"Run 1\").with_properties([(\"run property\", \"run value\")])\n",
    "vectice.start_run(inputs = [dataset_version])\n",
    "vectice.end_run()"
   ]
  },
  {
   "cell_type": "markdown",
   "metadata": {
    "id": "aUhST7OU2qHC"
   },
   "source": [
    "The Vectice library automatically detects if there have been changes to the dataset you are using. If it detects changes in the metadata, it will generate a new version of your dataset automatically. Else, it's going to use the latest version of your dataset.\n",
    "Let's change the update date of our file and see if Vectice creates a new version of our dataset."
   ]
  },
  {
   "cell_type": "markdown",
   "metadata": {
    "id": "-sLKxqhj1J9A"
   },
   "source": [
    "We can see in Vectice that a new dataset version is created for the dataset \"Dataset\" . You can easily find your dataset by going to the application and typing its name on the global search or from the datasets tab of your project.\n",
    "You can also search for the run and see that the dataset version has been used as input of this run."
   ]
  },
  {
   "cell_type": "code",
   "execution_count": 13,
   "metadata": {
    "id": "oXpiZkbV2y7D"
   },
   "outputs": [
    {
     "name": "stderr",
     "output_type": "stream",
     "text": [
      "WARNING:root:Automatic code detection failed because the .git couldn't be found or file wasn't found by Github\n"
     ]
    },
    {
     "data": {
      "text/plain": [
       "10267"
      ]
     },
     "execution_count": 13,
     "metadata": {},
     "output_type": "execute_result"
    }
   ],
   "source": [
    "dataset_version = vectice.create_dataset_version().with_parent_name(\"Dataset 4\").with_properties([(\"key\", \"property\")]).with_metadata(\n",
    "            name=\"My_file.txt\",\n",
    "            size=10600,\n",
    "            type=\"TextFile\",\n",
    "            uri=\"gs://Bucket_name/My_file.txt\",\n",
    "            itemCreatedDate=\"2022-01-11\",\n",
    "            ## Here we change the update date\n",
    "            itemUpdatedDate=\"2022-01-28\",\n",
    "        )\n",
    "vectice.create_run(job_name = \"My second Job\", job_type = JobType.PREPARATION, run_name = \"Run 2\").with_properties([(\"run property\", \"run value\")])\n",
    "vectice.start_run(inputs = [dataset_version])\n",
    "vectice.end_run()"
   ]
  },
  {
   "cell_type": "markdown",
   "metadata": {
    "id": "uyIAUna7Xyqx"
   },
   "source": [
    "We can see in Vectice that a new dataset version is created since the file's metadata has been changed. You can easily find your dataset by going to the application and typing its name on the global search or from the datasets tab of your project.\n",
    "You can also search for the run and see that the dataset version has been used as input of this run."
   ]
  },
  {
   "cell_type": "markdown",
   "metadata": {
    "id": "N_GztrSVbyBL"
   },
   "source": [
    "#### Declare files' metadata automatically for GCS"
   ]
  },
  {
   "cell_type": "markdown",
   "metadata": {
    "id": "oyJmxuOLb2WR"
   },
   "source": [
    "You can declare your GCS files metadata when creating a new dataset version by using **vectice.create_gcs_dataset**. To use this method, you need a Google Cloud Service Account key. This is used to authenticate your access to Google Cloud Storage. Secondly, you will need to get the uri of the folder/file you intend to use. This is the uri you get when you select the file/folder in Google Cloud Storage.\n",
    "For this notebook, we use the service account that can be found in the tutorial page to access Vectice tutorial data on GCS."
   ]
  },
  {
   "cell_type": "code",
   "execution_count": null,
   "metadata": {},
   "outputs": [],
   "source": [
    "# Upload the Google Cloud Service Account key\n",
    "from google.colab import files\n",
    "uploaded = files.upload()\n"
   ]
  },
  {
   "cell_type": "code",
   "execution_count": 16,
   "metadata": {
    "id": "yyQZwjZRcP36"
   },
   "outputs": [
    {
     "name": "stderr",
     "output_type": "stream",
     "text": [
      "WARNING:root:Automatic code detection failed because the .git couldn't be found or file wasn't found by Github\n"
     ]
    },
    {
     "data": {
      "text/plain": [
       "10268"
      ]
     },
     "execution_count": 16,
     "metadata": {},
     "output_type": "execute_result"
    }
   ],
   "source": [
    "import os \n",
    "# Double check the json file name below so that it matches the name of the file that you downloaded.\n",
    "\n",
    "os.environ[\"GOOGLE_APPLICATION_CREDENTIALS\"] = \"readerKey.json\"\n",
    "#uri = [\"bucket_name/folder\"]  # Folder level example / 'bucket_name/folder/file.csv' (would be file level)\n",
    "uri = \"vectice_tutorial/kc_house_data_cleaned.csv\"\n",
    "\n",
    "metadataset = vectice.create_gcs_dataset_version(uri=uri).with_parent_name(\"GCS dataset\").with_properties([(\"property\", \"1\"), (\"property 2\", \"2\")])\n",
    "\n",
    "vectice.create_run(job_name = \"My second Job\", job_type = JobType.PREPARATION, run_name = \"Run 3\")\n",
    "vectice.start_run(inputs=[metadataset])\n",
    "vectice.end_run()"
   ]
  },
  {
   "cell_type": "markdown",
   "metadata": {
    "id": "4Hj42EFizcQ-"
   },
   "source": [
    "You can see in the application that a new dataset called \"GCS dataset\" has been created and you can find it by typing its name in the global search or by going to the Datasets tab of your project. You can also find it in the inputs of the run called \"Run 3\" which can be found from the global search also or from the Runs tab in your project.\n",
    "\n"
   ]
  },
  {
   "cell_type": "markdown",
   "metadata": {},
   "source": [
    "#### Declare files' metadata automatically for BigQuery"
   ]
  },
  {
   "cell_type": "markdown",
   "metadata": {},
   "source": [
    "You can declare your BigQuery files metadata when creating a new dataset version by using vectice.create_bigquery_dataset. To use this method, you need a Google Cloud Service Account key. This is used to authenticate your access to BigQuery. Secondly, you will need to get the url of the table you intend to use. This is the url you get when you select the table/dataset in BigQuery."
   ]
  },
  {
   "cell_type": "code",
   "execution_count": null,
   "metadata": {},
   "outputs": [],
   "source": [
    "# Upload the Google Cloud Service Account key\n",
    "from google.colab import files\n",
    "uploaded = files.upload()"
   ]
  },
  {
   "cell_type": "code",
   "execution_count": 25,
   "metadata": {},
   "outputs": [
    {
     "name": "stderr",
     "output_type": "stream",
     "text": [
      "WARNING:root:Automatic code detection failed because the .git couldn't be found or file wasn't found by Github\n"
     ]
    },
    {
     "data": {
      "text/plain": [
       "10270"
      ]
     },
     "execution_count": 25,
     "metadata": {},
     "output_type": "execute_result"
    }
   ],
   "source": [
    "os.environ[\"GOOGLE_APPLICATION_CREDENTIALS\"] = \"test.json\"\n",
    "\n",
    "#uri = \"https://console.cloud.google.com/bigquery?project=Project_Name&d=Dataset_Name&p=Project_Name&t=Table_Name&page=table\"\n",
    "uri = \"https://console.cloud.google.com/bigquery?referrer=search&project=qa-environment-281904&d=healthcareData&p=nodal-unity-277700&t=StrokeDataClean&page=table&ws=!1m5!1m4!4m3!1snodal-unity-277700!2shealthcareData!3sStrokeDataClean\"\n",
    "\n",
    "metadataset = vectice.create_bigquery_dataset_version(uri=uri).with_parent_name(\"BQ dataset\").with_properties([(\"property 1\", \"1\"), (\"property 2\", \"2\")])\n",
    "\n",
    "vectice.create_run(job_name = \"My second Job\", job_type = JobType.PREPARATION, run_name = \"Run 4\")\n",
    "vectice.start_run(inputs= [metadataset])\n",
    "vectice.end_run()"
   ]
  },
  {
   "cell_type": "markdown",
   "metadata": {},
   "source": [
    "You can see in the application that a new dataset called \"BQ dataset\" has been created and you can find it by typing its name in the global search or by going to the Datasets tab of your project. You can also find it in the inputs of the run called \"Run 4\" which can be found from the global search also or from the Runs tab in your project."
   ]
  },
  {
   "cell_type": "markdown",
   "metadata": {
    "id": "tqCTXv1jJYHQ"
   },
   "source": [
    "## Create models and model versions"
   ]
  },
  {
   "cell_type": "markdown",
   "metadata": {
    "id": "b_wuDM-CxtJW"
   },
   "source": [
    "Vectice enables you to create your models and model versions and log the metrics, hyperparameters and model properties"
   ]
  },
  {
   "cell_type": "markdown",
   "metadata": {
    "id": "-lRczox6xvdc"
   },
   "source": [
    "When creating a model version, if there is a model with the same name as the given model name in your project, a new model version is added to the given model. Else, a new model is created automatically."
   ]
  },
  {
   "cell_type": "code",
   "execution_count": 26,
   "metadata": {
    "id": "QeRZH-h7xslU"
   },
   "outputs": [
    {
     "data": {
      "text/plain": [
       "ModelVersionArtifact(None,ModelVersion(metrics=None, properties=None, version=None, userDeclaredVersion=None, parentName='Regressor', parentId=None, tags=None, algorithmName=None, status=None, type=None))"
      ]
     },
     "execution_count": 26,
     "metadata": {},
     "output_type": "execute_result"
    }
   ],
   "source": [
    "Vectice.create_model_version().with_parent_name('Regressor')"
   ]
  },
  {
   "cell_type": "markdown",
   "metadata": {
    "id": "sngOrFv2x0Qv"
   },
   "source": [
    "You can declare your model metrics by using **.with_metrics(metrics)**, hyperparameters and properties by using **.with_properties(properties)**, type by usnig **.with_type()**, the used algorithme by using **.with_algorithm(Algorithme name)** and model attachments, by using **.with_attachments(Attachments)**, when creating a model version."
   ]
  },
  {
   "cell_type": "markdown",
   "metadata": {
    "id": "cAn_eva3x2Ch"
   },
   "source": [
    "We also use **.with_user_version()** for model versioning. You can provide a version name for your model version. An error will be thrown if the given user version already exists anvd if you don't provide a version name, the version name will be generated automatically.\n"
   ]
  },
  {
   "cell_type": "markdown",
   "metadata": {
    "id": "wxsNtxZFx4Om"
   },
   "source": [
    "### Attach a model version as input or output of a run"
   ]
  },
  {
   "cell_type": "code",
   "execution_count": 40,
   "metadata": {
    "id": "R8ZJZtwdx6ln"
   },
   "outputs": [
    {
     "name": "stderr",
     "output_type": "stream",
     "text": [
      "WARNING:root:Automatic code detection failed because the .git couldn't be found or file wasn't found by Github\n"
     ]
    },
    {
     "data": {
      "text/plain": [
       "10278"
      ]
     },
     "execution_count": 40,
     "metadata": {},
     "output_type": "execute_result"
    }
   ],
   "source": [
    "vectice.create_run(job_name = \"My second Job\", job_type = JobType.TRAINING, run_name = \"Run 5\")\n",
    "vectice.start_run(inputs=[dataset_version])\n",
    "\n",
    "metrics = [('metric', 10), ('metric 2', 100)]\n",
    "properties = [('property', 'value'), ('property 2', 'value')]\n",
    "\n",
    "model_version = vectice.create_model_version().with_user_version().with_parent_name(\"Regressor\").with_algorithm(\"Decision Tree\").with_properties(properties).with_metrics(metrics)\n",
    "\n",
    "vectice.end_run(outputs=[model_version])"
   ]
  },
  {
   "cell_type": "markdown",
   "metadata": {
    "id": "vQuDg0sQy8M5"
   },
   "source": [
    "You can see in the application that a new model version has been added to the model called Regressor. You can find the model by typing its name in the global search or from the Models tab of your project. The model version can be also found in the Run \"Run 5\" outputs. The run can be found also from the global search or from the Runs tab of your project."
   ]
  },
  {
   "cell_type": "markdown",
   "metadata": {},
   "source": [
    "You can also get the list of your models and their information by calling **vectice.list_models()**"
   ]
  },
  {
   "cell_type": "code",
   "execution_count": 41,
   "metadata": {
    "id": "9BzQvVr4y2E3"
   },
   "outputs": [
    {
     "data": {
      "text/plain": [
       "[ModelOutput(createdDate='2022-02-04T15:23:20.247Z', updatedDate='2022-02-04T15:23:20.289Z', version=1, id=2900, authorId=12, workspaceId=1029, projectId=3484, repository=None, deletedDate=None, name='Regressor', type='OTHER', description=None)]"
      ]
     },
     "execution_count": 41,
     "metadata": {},
     "output_type": "execute_result"
    }
   ],
   "source": [
    "vectice.list_models().list"
   ]
  },
  {
   "cell_type": "markdown",
   "metadata": {},
   "source": [
    "You can use **vectice.update_model()** to update your model's type and description."
   ]
  },
  {
   "cell_type": "code",
   "execution_count": 43,
   "metadata": {},
   "outputs": [
    {
     "name": "stderr",
     "output_type": "stream",
     "text": [
      "INFO:Vectice:Model: '2900' has been updated\n"
     ]
    }
   ],
   "source": [
    "vectice.update_model(model_id = 2900, model_type = ModelType.REGRESSION, description = \"This is a regression model\")"
   ]
  },
  {
   "cell_type": "markdown",
   "metadata": {},
   "source": [
    "You can see in the UI that the model's Type and description have been updated."
   ]
  },
  {
   "cell_type": "markdown",
   "metadata": {},
   "source": [
    "You can also get all the model versions you created in previous runs, for offline analysis and understanding in more details what's driving the models performance by using **vectice.list_model_versions_dataframe(model_id)**"
   ]
  },
  {
   "cell_type": "code",
   "execution_count": null,
   "metadata": {},
   "outputs": [],
   "source": [
    "vectice.list_model_versions_dataframe(model_id = 2899)"
   ]
  },
  {
   "cell_type": "markdown",
   "metadata": {
    "id": "rrVJ_xjS3n-j"
   },
   "source": [
    "## Create code versions"
   ]
  },
  {
   "cell_type": "markdown",
   "metadata": {
    "id": "Rv3tY9h033Rr"
   },
   "source": [
    "Vectice enables you to track your source code by creating code versions. This can be done automatically and manually."
   ]
  },
  {
   "cell_type": "markdown",
   "metadata": {
    "id": "94PzrsfJ4Tr9"
   },
   "source": [
    "### Creating a code version automatically"
   ]
  },
  {
   "cell_type": "markdown",
   "metadata": {
    "id": "XJZVj9614V5W"
   },
   "source": [
    "If you are using your local environment with GIT installed or JupyterLab etc... the code tracking can be automated by setting  autocode=True when creating the Vectice instance."
   ]
  },
  {
   "cell_type": "markdown",
   "metadata": {
    "id": "KbbhBUid4Z8q"
   },
   "source": [
    "### Creating a code version manually"
   ]
  },
  {
   "cell_type": "markdown",
   "metadata": {
    "id": "Sx2bGZX94ajf"
   },
   "source": [
    "You can create a code version manually by using:\n",
    "\n",
    "1- **vectice.create_code_version_with_github_uri()** for GitHub\n",
    "\n",
    "2- **vectice.create_code_version_with_gitlab_uri()** for GitLab\n",
    "\n",
    "3- **vectice.create_code_version_with_bitbucket_uri()** for Bitbucket"
   ]
  },
  {
   "cell_type": "code",
   "execution_count": 33,
   "metadata": {
    "id": "qMT-vvy_4yse"
   },
   "outputs": [
    {
     "data": {
      "text/plain": [
       "10274"
      ]
     },
     "execution_count": 33,
     "metadata": {},
     "output_type": "execute_result"
    }
   ],
   "source": [
    "## Example for code versioning with Github\n",
    "code_version = Vectice.create_code_version_with_github_uri(\"https://github.com/vectice/vectice-examples\",\n",
    "        \"Notebooks/Vanilla/Tutorial/Quickstart.ipynb\")\n",
    "\n",
    "vectice.create_run(job_name = \"My second Job\", job_type = JobType.TRAINING, run_name = \"Run 6\")\n",
    "vectice.start_run(inputs=[code_version])\n",
    "vectice.end_run()"
   ]
  },
  {
   "cell_type": "markdown",
   "metadata": {
    "id": "Z7nHqaWY4cei"
   },
   "source": [
    "You can see in the Vectice UI that the code version has been attached to the run \"Run 6\". You can  find the run by typing its name in the global search or in the Runs tab of your project."
   ]
  },
  {
   "cell_type": "markdown",
   "metadata": {
    "id": "HSJ5QSy55cEr"
   },
   "source": [
    "## What's next 🚀 ?\n",
    "You can now do the Vectice tutorial that can be found in the \"Vectice Tutorial Page\" accessible from your account."
   ]
  }
 ],
 "metadata": {
  "colab": {
   "collapsed_sections": [
    "3McxMcLPxkdJ",
    "r0ymRR_pPGCg",
    "WHQCpW9kuDZz",
    "hd1P0iLVuOWU",
    "02vop676uGPf",
    "ckxtRFXV1dzo",
    "isXFm1E3aYiX",
    "VqCjZCdybbM3",
    "N_GztrSVbyBL",
    "tqCTXv1jJYHQ",
    "wxsNtxZFx4Om",
    "rrVJ_xjS3n-j",
    "KbbhBUid4Z8q"
   ],
   "name": "Quickstart.ipynb",
   "provenance": []
  },
  "kernelspec": {
   "display_name": "Python 3",
   "language": "python",
   "name": "python3"
  },
  "language_info": {
   "codemirror_mode": {
    "name": "ipython",
    "version": 3
   },
   "file_extension": ".py",
   "mimetype": "text/x-python",
   "name": "python",
   "nbconvert_exporter": "python",
   "pygments_lexer": "ipython3",
   "version": "3.8.5"
  }
 },
 "nbformat": 4,
 "nbformat_minor": 1
}
