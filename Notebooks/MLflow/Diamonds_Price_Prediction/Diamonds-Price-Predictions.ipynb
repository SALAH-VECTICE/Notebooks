{
 "cells": [
  {
   "cell_type": "markdown",
   "source": [
    "<a href=\"https://colab.research.google.com/github/vectice/vectice-examples/blob/master/Notebooks/MLflow/Diamonds_Price_Prediction/Diamonds-Price-Predictions.ipynb\" target=\"_parent\"><img src=\"https://colab.research.google.com/assets/colab-badge.svg\" alt=\"Open In Colab\"/></a>"
   ],
   "metadata": {
    "colab_type": "text",
    "id": "view-in-github"
   }
  },
  {
   "cell_type": "code",
   "execution_count": null,
   "source": [
    "!pip3 install -q fsspec\r\n",
    "!pip3 install -q gcsfs\r\n",
    "!pip3 install -q vectice\r\n",
    "!pip3 install -q mlflow\r\n",
    "!pip3 install -q google-cloud-storage"
   ],
   "outputs": [],
   "metadata": {
    "id": "xxb_wbl9qsFC"
   }
  },
  {
   "cell_type": "code",
   "execution_count": null,
   "source": [
    "!pip3 show vectice"
   ],
   "outputs": [],
   "metadata": {
    "id": "xAy3xntcY2dw",
    "pycharm": {
     "name": "#%%\n"
    }
   }
  },
  {
   "cell_type": "markdown",
   "source": [
    "The main entrypoint of the SDK is the high level API which provide several solutions to follow your runs.\r\n",
    "\r\n",
    "* a procedural solution with 2 methods to call vectice.create_run() and vectice.save_after_run()\r\n",
    "\r\n",
    "* a more powerful solution based on vectice.Vectice class that provides itself several possibilities:\r\n",
    "\r\n",
    "* use an instance of vectice.Vectice object to create_run(), start_run() and end_run() (fluent API)\r\n",
    "\r\n",
    "* You can also use the context manager syntax (python with keyword): In this case, the end of the run will be automatically managed."
   ],
   "metadata": {
    "id": "7LCp3S-hY2dy",
    "pycharm": {
     "name": "#%% md\n"
    }
   }
  },
  {
   "cell_type": "code",
   "execution_count": null,
   "source": [
    "import logging\r\n",
    "from math import sqrt\r\n",
    "import os \r\n",
    "\r\n",
    "import numpy as np \r\n",
    "import pandas as pd \r\n",
    "import seaborn as sns\r\n",
    "import matplotlib.pyplot as plt\r\n",
    "import matplotlib.pylab as pylab\r\n",
    "from sklearn.preprocessing import OneHotEncoder, LabelEncoder\r\n",
    "from sklearn.model_selection import train_test_split\r\n",
    "from sklearn.preprocessing import StandardScaler, MinMaxScaler, QuantileTransformer\r\n",
    "from sklearn.decomposition import PCA\r\n",
    "from sklearn.pipeline import Pipeline\r\n",
    "from sklearn.tree import DecisionTreeRegressor, plot_tree\r\n",
    "from sklearn.ensemble import RandomForestRegressor\r\n",
    "from sklearn.linear_model import LinearRegression\r\n",
    "from xgboost import XGBRegressor\r\n",
    "from sklearn.neighbors import KNeighborsRegressor\r\n",
    "from sklearn.model_selection import cross_val_score, GridSearchCV\r\n",
    "from sklearn.metrics import mean_squared_error, mean_absolute_error, mean_squared_error\r\n",
    "from sklearn import metrics\r\n",
    "\r\n",
    "import mlflow\r\n",
    "from vectice import Vectice"
   ],
   "outputs": [],
   "metadata": {
    "id": "tuo0X3iPrEXn"
   }
  },
  {
   "cell_type": "markdown",
   "source": [
    "### Data:\r\n",
    "This classic dataset contains the prices and other attributes of almost 54,000 diamonds. There are 10 attributes included in the dataset including the target ie. price.\r\n",
    "\r\n",
    "### Feature description:\r\n",
    "\r\n",
    "price price in US dollars ($326--$18,823)This is the target column containing tags for the features. \r\n",
    "\r\n",
    "### The 4 Cs of Diamonds:-\r\n",
    "\r\n",
    "- carat (0.2--5.01) The carat is the diamond’s physical weight measured in metric carats.  One carat equals 1/5 gram and is subdivided into 100 points. Carat weight is the most objective grade of the 4Cs. \r\n",
    "\r\n",
    "- cut (Fair, Good, Very Good, Premium, Ideal) In determining the quality of the cut, the diamond grader evaluates the cutter’s skill in the fashioning of the diamond. The more precise the diamond is cut, the more captivating the diamond is to the eye.  \r\n",
    "\r\n",
    "- color, from J (worst) to D (best) The colour of gem-quality diamonds occurs in many hues. In the range from colourless to light yellow or light brown. Colourless diamonds are the rarest. Other natural colours (blue, red, pink for example) are known as \"fancy,” and their colour grading is different than from white colorless diamonds.  \r\n",
    "\r\n",
    "- clarity (I1 (worst), SI2, SI1, VS2, VS1, VVS2, VVS1, IF (best)) Diamonds can have internal characteristics known as inclusions or external characteristics known as blemishes. Diamonds without inclusions or blemishes are rare; however, most characteristics can only be seen with magnification.  \r\n",
    "\r\n",
    "### Goal: \r\n",
    "\r\n",
    "The goal is to predict the prices of diamonds using the features in the given dataset. Thus it's a regression problem, you'll perform a bit of data cleaning and create a multiple models that are fed into MLflow. The code used to achieve this is hiddin but you can view it. However, it'll be more fun to give it a good old college try as a team and resort to the hidden code if all else fails."
   ],
   "metadata": {
    "id": "cwCGj5K06PM7"
   }
  },
  {
   "cell_type": "markdown",
   "source": [
    "Here is a link to the Python SDK Documentation, it's not final nor complete so you might need to troubleshoot a bit. \r\n",
    "[Python SDK Documentation](https://doc-dev.vectice.com/)"
   ],
   "metadata": {
    "id": "RCo1DKnP5-Kh"
   }
  },
  {
   "cell_type": "markdown",
   "source": [
    "Upload the GCS JSON. This is then declared as an environmental as seen below.\r\n",
    "\r\n",
    "```\r\n",
    "os.environ['GOOGLE_APPLICATION_CREDENTIALS'] = 'test.json'\r\n",
    "```"
   ],
   "metadata": {
    "id": "t5fCsgSAAcfQ"
   }
  },
  {
   "cell_type": "code",
   "execution_count": null,
   "source": [
    "# In Google Collab you can upload the json file that has your Google Cloud Service account details, with the following widget. This is used to access the data needed to perform the steps in the notenook.\r\n",
    "from google.colab import files\r\n",
    "uploaded = files.upload()"
   ],
   "outputs": [],
   "metadata": {
    "id": "7KRW2FrKr_qB"
   }
  },
  {
   "cell_type": "markdown",
   "source": [
    "## Vectice Credentials \r\n",
    "\r\n",
    "To connect to the Vectice App through the SDK you'll need the Project Token, Vectice API Endpoint and the Vectice API Token. You'll find all of this in the Vectice App. The Workspace allows you to create the Vectice API Token, in Projects you'll be able to get the Project Token, as seen below. The Vectice API Endpoint is 'https://be-beta.vectice.com'. You're provided with the GCS Service Account JSON, this will allow you to connect to the GCS Bucket in the Vectice App and get the needed data for the example. "
   ],
   "metadata": {
    "id": "nqrQFkpQY2eC"
   }
  },
  {
   "cell_type": "markdown",
   "source": [
    "## Credentials Setup:\r\n",
    "##### The Vectice API Endpoint and Token are needed to connect to the Vectice UI. Furthermore, a Google Cloud Storage credential JSON is needed to connect to the Google Cloud Storage to retrieve and upload the datasets. A project token links the runs to the relevant project and it's needed to create runs."
   ],
   "metadata": {
    "id": "OzVSDgQftE1p"
   }
  },
  {
   "cell_type": "code",
   "execution_count": null,
   "source": [
    "# Vectice API Endpoint\r\n",
    "os.environ['VECTICE_API_ENDPOINT'] ='https://beta.vectice.com'\r\n",
    "# The connection API token created in the Vectice Workspace\r\n",
    "os.environ['VECTICE_API_TOKEN'] = \"CONNECTION_TOKEN\"\r\n",
    "# The Google Cloud Storage Service Account. Can be found in the tutorial page \r\n",
    "os.environ['GOOGLE_APPLICATION_CREDENTIALS'] = \"readerKey.json\"\r\n",
    "# Project token from Vectice UI\r\n",
    "PROJECT_TOKEN = \"TOKEN\""
   ],
   "outputs": [],
   "metadata": {
    "id": "Bls21M22rXVQ"
   }
  },
  {
   "cell_type": "code",
   "execution_count": null,
   "source": [
    "# Intialize the connection with Vectice\r\n",
    "vectice = Vectice(project_token=PROJECT_TOKEN)\r\n",
    "# Create a ds_version as an input for the run\r\n",
    "ds_version = [vectice.create_dataset_version().with_parent_name(\"diamonds data\")]\r\n",
    "# Create a run that will be passed into a start run\r\n",
    "run = vectice.create_run(\"Data Cleaning\")\r\n",
    "# Start the run \r\n",
    "vectice.start_run(run, inputs = ds_version)"
   ],
   "outputs": [],
   "metadata": {
    "cellView": "code",
    "id": "2COUQbQ2rcId"
   }
  },
  {
   "cell_type": "markdown",
   "source": [
    "This is an example how you would push your data into your GCS bucket. Throughout the tutorial you'll be interacting with GCS but we'll only be utilizing read rights. Thus, we won't be pushing any data into the GCS Bucket.\r\n",
    "\r\n",
    "```\r\n",
    "data.to_csv(\"gs://BUCKET/FILE_PATH/FILE_NAME.csv\")\r\n",
    "```\r\n",
    "\r\n"
   ],
   "metadata": {
    "id": "jpyiHjbGPvQs"
   }
  },
  {
   "cell_type": "markdown",
   "source": [
    "The dataset used in this tutorial can be retrieved from a Google Cloud Storage Bucket:"
   ],
   "metadata": {
    "id": "oUtOhVRlyvea"
   }
  },
  {
   "cell_type": "code",
   "execution_count": null,
   "source": [
    "data = pd.read_csv(r\"gs://vectice-examples-samples/Diamonds/diamonds.csv\")\r\n",
    "data.head(5)"
   ],
   "outputs": [],
   "metadata": {
    "id": "YY2wMx5DY2eM",
    "pycharm": {
     "name": "#%%\n"
    }
   }
  },
  {
   "cell_type": "code",
   "execution_count": null,
   "source": [
    "# This shows you the number of rows and columns\r\n",
    "data.shape"
   ],
   "outputs": [],
   "metadata": {
    "id": "8ddBRGmDrnt8"
   }
  },
  {
   "cell_type": "code",
   "execution_count": null,
   "source": [
    "# The details of the data\r\n",
    "data.info()"
   ],
   "outputs": [],
   "metadata": {
    "id": "tQISB5kEsp9u"
   }
  },
  {
   "cell_type": "markdown",
   "source": [
    "### Data Cleaing \r\n",
    "In machine learning, if the data is irrelevant or error-prone then it leads to an incorrect model being built.\r\n",
    "\r\n",
    "The first column is an index (\"Unnamed: 0\") and thus we are going to remove it."
   ],
   "metadata": {
    "id": "qV-C_cHYtzc7"
   }
  },
  {
   "cell_type": "code",
   "execution_count": null,
   "source": [
    "# The first column seems to be just index\r\n",
    "data = data.drop([\"Unnamed: 0\"], axis=1)\r\n",
    "data.describe()"
   ],
   "outputs": [],
   "metadata": {
    "id": "WPLry1uOsrRG"
   }
  },
  {
   "cell_type": "code",
   "execution_count": null,
   "source": [
    "#Dropping dimentionless diamonds\r\n",
    "data = data.drop(data[data[\"x\"]==0].index)\r\n",
    "data = data.drop(data[data[\"y\"]==0].index)\r\n",
    "data = data.drop(data[data[\"z\"]==0].index)\r\n",
    "# We dropped 20 dimensionless entries\r\n",
    "data.shape"
   ],
   "outputs": [],
   "metadata": {
    "id": "-crp58S1stMt"
   }
  },
  {
   "cell_type": "code",
   "execution_count": null,
   "source": [
    "sns.pairplot(data,hue= \"cut\", palette=\"rocket\");"
   ],
   "outputs": [],
   "metadata": {
    "id": "EgSNKWBosu3G"
   }
  },
  {
   "cell_type": "markdown",
   "source": [
    "#### A few points to notice in these pair plots\r\n",
    "##### There are some features with datapoints that are far from the rest of the dataset which will affect the outcome of our regression model.\r\n",
    "\r\n",
    "* \"y\" and \"z\" have some dimensional outliers in our dataset that needs to be eliminated.\r\n",
    "* The \"depth\" should be capped but we must examine the regression line to be sure.\r\n",
    "* The \"table\" featured should be capped too.\r\n",
    "* Let's have a look at regression plots to get a close look at the outliers."
   ],
   "metadata": {
    "id": "DiZIdhMDs8JD"
   }
  },
  {
   "cell_type": "code",
   "execution_count": null,
   "source": [
    "ax = sns.regplot(x=\"price\", y=\"y\", data=data, scatter_kws={'color': 'purple'}, line_kws={'color': 'orange'}).set(title=\"Regression Line on Price vs 'y'\")"
   ],
   "outputs": [],
   "metadata": {
    "id": "fkZprTh3s9yt"
   }
  },
  {
   "cell_type": "code",
   "execution_count": null,
   "source": [
    "ax = sns.regplot(x=\"price\", y=\"z\", data=data, scatter_kws={'color': 'purple'}, line_kws={'color': 'orange'}).set(title=\"Regression Line on Price vs 'z'\")"
   ],
   "outputs": [],
   "metadata": {
    "id": "pBhf4Dyzt5S3"
   }
  },
  {
   "cell_type": "code",
   "execution_count": null,
   "source": [
    "ax = sns.regplot(x=\"price\", y=\"depth\", data=data, scatter_kws={'color': 'purple'}, line_kws={'color': 'orange'}).set(title=\"Regression Line on Price vs 'depth'\")"
   ],
   "outputs": [],
   "metadata": {
    "id": "LZkCLeU3t7Kd"
   }
  },
  {
   "cell_type": "markdown",
   "source": [
    "We can clearly spot outliers in these attributes. Next up, we will remove these data points."
   ],
   "metadata": {
    "id": "kLxpEpICt-23"
   }
  },
  {
   "cell_type": "code",
   "execution_count": null,
   "source": [
    "#Dropping the outliers. \r\n",
    "data = data[(data[\"depth\"]<75)&(data[\"depth\"]>45)]\r\n",
    "data = data[(data[\"table\"]<80)&(data[\"table\"]>40)]\r\n",
    "data = data[(data[\"x\"]<30)]\r\n",
    "data = data[(data[\"y\"]<30)]\r\n",
    "data = data[(data[\"z\"]<30)&(data[\"z\"]>2)]\r\n",
    "# We dropped 13 outliers\r\n",
    "data.shape"
   ],
   "outputs": [],
   "metadata": {
    "id": "hlubQwQ4t8vM"
   }
  },
  {
   "cell_type": "markdown",
   "source": [
    "Let us have another look at the pair plot of data."
   ],
   "metadata": {
    "id": "5Q-_4_fWuGWb"
   }
  },
  {
   "cell_type": "code",
   "execution_count": null,
   "source": [
    "sns.pairplot(data, hue= \"cut\",palette=\"rocket\");"
   ],
   "outputs": [],
   "metadata": {
    "id": "4l5pAtwkuFo1"
   }
  },
  {
   "cell_type": "markdown",
   "source": [
    "That's a much cleaner dataset. Next, we will deal with the categorical variables."
   ],
   "metadata": {
    "id": "50kItC1buLXw"
   }
  },
  {
   "cell_type": "code",
   "execution_count": null,
   "source": [
    "# Get list of categorical variables\r\n",
    "object_cols = [i for i in data.columns if data[i].dtype == 'object']\r\n",
    "print(f\"Categorical variables: {object_cols}\")"
   ],
   "outputs": [],
   "metadata": {
    "id": "xTokW8h6uJGc"
   }
  },
  {
   "cell_type": "markdown",
   "source": [
    "#### Why are Categorical Features important?\r\n",
    "Machine learning models require all input and output variables to be numeric.\r\n",
    "\r\n",
    "This means that if your data contains categorical data, you must encode it to numbers before you can fit and evaluate a model."
   ],
   "metadata": {
    "id": "cfrAL_VIGkzA"
   }
  },
  {
   "cell_type": "markdown",
   "source": [
    "#### We have three categorical variables. Let us have a look at them with violin plots.\r\n",
    "##### Violin plots are a method of plotting numeric data and can be considered a combination of the box plot with a kernel density plot. In the violin plot, we can find the same information as in the box plots:\r\n",
    "* median (a white dot on the violin plot)\r\n",
    "* interquartile range (the black bar in the center of violin)\r\n",
    "* the lower/upper adjacent values (the black lines stretched from the bar) — defined as first quartile — 1.5 IQR and third quartile + 1.5 IQR respectively. These values can be used in a simple outlier detection technique (Tukey’s fences) — observations lying outside of these “fences” can be considered outliers."
   ],
   "metadata": {
    "id": "97vBqZYAuVxv"
   }
  },
  {
   "cell_type": "markdown",
   "source": [
    "![Image](https://miro.medium.com/max/520/1*TTMOaNG1o4PgQd-e8LurMg.png)\r\n",
    "\r\n",
    "Probability Density Function:\r\n",
    "\r\n",
    "![Image](https://upload.wikimedia.org/wikipedia/commons/thumb/1/1a/Boxplot_vs_PDF.svg/525px-Boxplot_vs_PDF.svg.png)"
   ],
   "metadata": {
    "id": "Cen5AfrixmEz"
   }
  },
  {
   "cell_type": "code",
   "execution_count": null,
   "source": [
    "ax = sns.violinplot(x=\"cut\", y=\"price\", data=data).set(title=\"Violinplot for Cut vs Price\")"
   ],
   "outputs": [],
   "metadata": {
    "id": "mlWxM8r0ucfG"
   }
  },
  {
   "cell_type": "code",
   "execution_count": null,
   "source": [
    "ax = sns.violinplot(x=\"color\", y=\"price\", data=data).set(title=\"Violinplot for Color vs Price\")"
   ],
   "outputs": [],
   "metadata": {
    "id": "nysEmMK3xq5g"
   }
  },
  {
   "cell_type": "code",
   "execution_count": null,
   "source": [
    "ax = sns.violinplot(x=\"clarity\", y=\"price\", data=data).set(title=\"Violinplot for Clarity vs Price\")"
   ],
   "outputs": [],
   "metadata": {
    "id": "ditvhIpKxsiV"
   }
  },
  {
   "cell_type": "markdown",
   "source": [
    "#### Lable encoding the data to get rid of object dtype.\r\n",
    "This approach is very simple and it involves converting each value in a column to a number. Consider a dataset of bridges having a column names bridge-types having below values. Though there will be many more columns in the dataset, to understand label-encoding, we will focus on one categorical column only.We choose to encode the text values by putting a running sequence for each text values like below:"
   ],
   "metadata": {
    "id": "wRjqypZfxx9Q"
   }
  },
  {
   "cell_type": "markdown",
   "source": [
    "![Markdown Logo is here.](https://miro.medium.com/max/289/1*VinegxkUYMzik9GpucWCFA.png)\r\n"
   ],
   "metadata": {
    "id": "ugf2Npxpx0bO"
   }
  },
  {
   "cell_type": "code",
   "execution_count": null,
   "source": [
    "# Make copy to avoid changing original data \r\n",
    "label_data = data.copy()"
   ],
   "outputs": [],
   "metadata": {
    "id": "_vwhlHUCxt02"
   }
  },
  {
   "cell_type": "code",
   "execution_count": null,
   "source": [
    "def encoder_labels(columns: list, dataframe: pd.DataFrame, encoder: LabelEncoder) -> pd.DataFrame:\r\n",
    "    for col in columns:\r\n",
    "        dataframe[col] = encoder.fit_transform(dataframe[col])\r\n",
    "    return dataframe"
   ],
   "outputs": [],
   "metadata": {
    "id": "phme_1ZKxxy2"
   }
  },
  {
   "cell_type": "code",
   "execution_count": null,
   "source": [
    "encoder = LabelEncoder()\r\n",
    "label_data = encoder_labels(object_cols, label_data, encoder)"
   ],
   "outputs": [],
   "metadata": {
    "id": "3Dm7fT6Nx413"
   }
  },
  {
   "cell_type": "code",
   "execution_count": null,
   "source": [
    "label_data.head(5)"
   ],
   "outputs": [],
   "metadata": {
    "id": "WGBYeB0px6hu"
   }
  },
  {
   "cell_type": "code",
   "execution_count": null,
   "source": [
    "data.describe()"
   ],
   "outputs": [],
   "metadata": {
    "id": "kF0j123FyCKe"
   }
  },
  {
   "cell_type": "markdown",
   "source": [
    "#### Correlation Matrix:\r\n",
    "A correlation matrix is useful for showing the correlation coefficients (or degree of relationship) between variables. The correlation matrix is symmetric, as the correlation between a variable V1 and variable V2 is the same as the correlation between V2 and variable V1. Also, the values on the diagonal are always equal to one, because a variable is always perfectly correlated with itself."
   ],
   "metadata": {
    "id": "Zk2dAM5PyFrn"
   }
  },
  {
   "cell_type": "code",
   "execution_count": null,
   "source": [
    "#correlation matrix\r\n",
    "corrmat= label_data.corr()\r\n",
    "f, ax = plt.subplots(figsize=(12,12))\r\n",
    "sns.heatmap(corrmat,annot=True);"
   ],
   "outputs": [],
   "metadata": {
    "id": "3wR1WONgyDu_"
   }
  },
  {
   "cell_type": "markdown",
   "source": [
    "#### Points to notice:\r\n",
    "* \"x\", \"y\" and \"z\" show a high correlation to the target column.\r\n",
    "* \"depth\", \"cut\" and \"table\" show low correlation. We could consider dropping them but let's rather keep them."
   ],
   "metadata": {
    "id": "JcAVhcvxyKN1"
   }
  },
  {
   "cell_type": "code",
   "execution_count": null,
   "source": [
    "# Create a new version of the orginal_cleaned dataset\r\n",
    "# An example of uploading the data to GCS -> label_data.to_csv(r'gs://\"GCS_URI\")\r\n",
    "outputs = [vectice.create_dataset_version().with_parent_name(\"diamonds cleaned\")]\r\n",
    "# End the run and save the new dataset version.\r\n",
    "# Set the diamonds cleaned as an output.\r\n",
    "vectice.end_run(outputs=outputs)"
   ],
   "outputs": [],
   "metadata": {
    "id": "ttaQqspIyICX"
   }
  },
  {
   "cell_type": "code",
   "execution_count": null,
   "source": [
    "# Create inputs \r\n",
    "ds_version = [vectice.create_dataset_version().with_parent_name(\"diamonds cleaned\")]\r\n",
    "# Start a run to track this data train-test-split\r\n",
    "# It will specify the dataset version we just created as the run's input.\r\n",
    "run = vectice.create_run('Split Diamonds Data')\r\n",
    "# Start the run\r\n",
    "vectice.start_run(run, inputs=ds_version)"
   ],
   "outputs": [],
   "metadata": {
    "cellView": "code",
    "id": "t0Ij6-DRyW6t"
   }
  },
  {
   "cell_type": "code",
   "execution_count": null,
   "source": [
    "train, test = train_test_split(label_data, test_size=0.2, random_state = 42)"
   ],
   "outputs": [],
   "metadata": {
    "id": "eni9eg4PybdN"
   }
  },
  {
   "cell_type": "code",
   "execution_count": null,
   "source": [
    "# The key you were provided for this tutorial may not have write permissions to GCS.\r\n",
    "# Example of uploading to the GCS bucket -> train.to_csv (r'GCS_URI', index = False, header = True)\r\n",
    "# Example of uploading to the GCS bucket -> test.to_csv (r'GCS_URI', index = False, header = True)\r\n",
    "outputs = [vectice.create_dataset_version().with_parent_name(\"diamonds train test data\")]\r\n",
    "# End the run\r\n",
    "vectice.end_run(outputs=outputs)"
   ],
   "outputs": [],
   "metadata": {
    "id": "-Qm5wznCyd7l"
   }
  },
  {
   "cell_type": "markdown",
   "source": [
    "### Model Building\r\n",
    "#### Steps involved in Model Building\r\n",
    "\r\n",
    "* Setting up features and target\r\n",
    "* Build a pipeline of standard scalar and model for five different regressors.\r\n",
    "* Fit all the models on training data\r\n",
    "* Get mean of cross-validation on the training set for all the models for negative root mean square error\r\n",
    "* Pick the model with the best cross-validation score\r\n",
    "* Fit the best model on the training set and get"
   ],
   "metadata": {
    "id": "jO3M1I0zykfH"
   }
  },
  {
   "cell_type": "markdown",
   "source": [
    "### Train-Test Split Evaluation \r\n",
    "The procedure involves taking a dataset and dividing it into two subsets. The first subset is used to fit the model and is referred to as the training dataset. The second subset is not used to train the model; instead, the input element of the dataset is provided to the model, then predictions are made and compared to the expected values. This second dataset is referred to as the test dataset."
   ],
   "metadata": {
    "id": "KzGujRX6ynMB"
   }
  },
  {
   "cell_type": "code",
   "execution_count": null,
   "source": [
    "# Assigning the featurs as X and trarget as y\r\n",
    "X = label_data.drop([\"price\"], axis =1)\r\n",
    "y = label_data[\"price\"]\r\n",
    "X_train, X_test, y_train, y_test = train_test_split(X, y,test_size=0.25, random_state=42)"
   ],
   "outputs": [],
   "metadata": {
    "id": "BDDmkPYWylKy"
   }
  },
  {
   "cell_type": "code",
   "execution_count": null,
   "source": [
    "# Initialise Vectice with MLflow\r\n",
    "vectice = Vectice(project_token=\"PROJECT_TOKEN\", lib=\"MLflow\")"
   ],
   "outputs": [],
   "metadata": {
    "cellView": "code",
    "id": "QiAhpKX2APeQ"
   }
  },
  {
   "cell_type": "code",
   "execution_count": null,
   "source": [
    "# Create the inputs\r\n",
    "def create_inputs():\r\n",
    "    return [\r\n",
    "        Vectice.create_dataset_version().with_parent_name(\"diamonds train test data\"),\r\n",
    "    ]\r\n",
    "# Data preparation\r\n",
    "def prepare_data():\r\n",
    "    \"\"\"Read and prepare data.\"\"\"\r\n",
    "    df = pd.read_csv(r\"gs://vectice-examples-samples/Diamonds/diamonds_cleaned.csv\")\r\n",
    "\r\n",
    "    X = df.drop([\"price\"], axis =1)\r\n",
    "    y = df[\"price\"]\r\n",
    "    X_train, X_test, y_train, y_test = train_test_split(X, y,test_size=0.25, random_state=42)\r\n",
    "\r\n",
    "    return X_train, X_test, y_train, y_test"
   ],
   "outputs": [],
   "metadata": {
    "id": "IWDbwJ3eyv2x"
   }
  },
  {
   "cell_type": "markdown",
   "source": [
    "### Pipelines\r\n",
    "In most machine learning projects the data that you have to work with is unlikely to be in the ideal format for producing the best performing model. There are quite often a number of transformational steps such as encoding categorical variables, feature scaling and normalisation that need to be performed. Scikit-learn has built in functions for most of these commonly used transformations in it’s preprocessing package.\r\n",
    "However, in a typical machine learning workflow you will need to apply all these transformations at least twice. Once when training the model and again on any new data you want to predict on. Of course you could write a function to apply them and reuse that but you would still need to run this first and then call the model separately. Scikit-learn pipelines are a tool to simplify this process. They have several key benefits:\r\n",
    "* They make your workflow much easier to read and understand.\r\n",
    "* They enforce the implementation and order of steps in your project.\r\n",
    "* These in turn make your work much more reproducible."
   ],
   "metadata": {
    "id": "0NqzDN41y0Ff"
   }
  },
  {
   "cell_type": "markdown",
   "source": [
    "### StandardScaler Example:\r\n",
    "A StandardScaler substarcts the mean and then divides by the standard deviation, this shifts the distribution to have a mean of 0 and a standard deviation of one."
   ],
   "metadata": {
    "id": "me1SdV6My47Y"
   }
  },
  {
   "cell_type": "code",
   "execution_count": null,
   "source": [
    "example = np.array([[ 1., -1.,  2.],\r\n",
    "                    [ 2.,  0.,  0.],\r\n",
    "                    [ 0.,  1., -1.]])\r\n",
    "scaler = StandardScaler().fit(example)\r\n",
    "X_scaled = scaler.transform(example)\r\n",
    "print(f\"Before: {example[0]} \\nAfter: {X_scaled[0]}\")"
   ],
   "outputs": [],
   "metadata": {
    "id": "hlKQwjaMy4On"
   }
  },
  {
   "cell_type": "markdown",
   "source": [
    "### Cross Validation:\r\n",
    "\r\n",
    "Cross validation follows the following logic. A test set should still be held out for final evaluation, but the validation set is no longer needed when doing CV. In the basic approach, called k-fold CV, the training set is split into k smaller sets (other approaches are described below, but generally follow the same principles). The following procedure is followed for each of the k “folds”:\r\n",
    "\r\n",
    "- A model is trained using of the folds as training data;\r\n",
    "\r\n",
    "- the resulting model is validated on the remaining part of the data (i.e., it is used as a test set to compute a performance measure such as accuracy).\r\n",
    "\r\n",
    "The performance measure reported by k-fold cross-validation is then the average of the values computed in the loop. This approach can be computationally expensive, but does not waste too much data (as is the case when fixing an arbitrary validation set), which is a major advantage in problems such as inverse inference where the number of samples is very small.\r\n",
    "\r\n",
    "![Image](https://scikit-learn.org/stable/_images/grid_search_cross_validation.png)"
   ],
   "metadata": {
    "id": "Xr2c54gvy-4k"
   }
  },
  {
   "cell_type": "markdown",
   "source": [
    "### Models:\r\n",
    "\r\n",
    "1. LinearRegression <a href=\"https://ml-cheatsheet.readthedocs.io/en/latest/linear_regression.html\" target=\"_blank\">more info</a>.\r\n",
    "2. DecisionTreeRegressor <a href=\"https://ml-cheatsheet.readthedocs.io/en/latest/classification_algos.html#decision-trees\" target=\"_blank\">more info</a>.\r\n",
    "3. RandomForestRegressor <a href=\"https://www.geeksforgeeks.org/random-forest-regression-in-python/\" target=\"_blank\">more info</a>.\r\n",
    "4. KNeighborsRegressor <a href=\"https://ml-cheatsheet.readthedocs.io/en/latest/classification_algos.html#k-nearest-neighbor\" target=\"_blank\">more info</a>.\r\n",
    "5. XGBRegressor <a href=\"https://machinelearningmastery.com/xgboost-for-regression/\" target=\"_blank\">more info</a>."
   ],
   "metadata": {
    "id": "Hxu31e5MzB3p"
   }
  },
  {
   "cell_type": "code",
   "execution_count": null,
   "source": [
    "import warnings\r\n",
    "warnings.filterwarnings(\"ignore\")\r\n",
    "logging.basicConfig(level=logging.INFO)\r\n",
    "\"\"\"Vectice MLflow adapter fluent usage in Python ``with`` syntax.\"\"\"\r\n",
    "X_train, X_test, y_train, y_test = prepare_data()\r\n",
    "\r\n",
    "mlflow.set_tracking_uri(\"http://localhost:5000\")\r\n",
    "mlflow.autolog(silent=True)\r\n",
    "\r\n",
    "\r\n",
    "# Set up Vectice MLflow adapter\r\n",
    "vectice = Vectice(project_token=PROJECT_TOKEN, lib=\"MLflow\")\r\n",
    "\r\n",
    "# Building pipelins of standard scaler and model for regressors.\r\n",
    "pipeline_lr=Pipeline([(\"scalar1\",StandardScaler()),\r\n",
    "                 (\"lr_classifier\",LinearRegression())])\r\n",
    "\r\n",
    "pipeline_dt=Pipeline([(\"scalar2\",StandardScaler()),\r\n",
    "                    (\"dt_classifier\",DecisionTreeRegressor())])\r\n",
    "\r\n",
    "pipeline_rf=Pipeline([(\"scalar3\",StandardScaler()),\r\n",
    "                    (\"rf_classifier\",RandomForestRegressor())])\r\n",
    "\r\n",
    "\r\n",
    "pipeline_kn=Pipeline([(\"scalar4\",StandardScaler()),\r\n",
    "                    (\"kn_classifier\",KNeighborsRegressor())])\r\n",
    "\r\n",
    "\r\n",
    "pipeline_xgb=Pipeline([(\"scalar5\",StandardScaler()),\r\n",
    "                    (\"xgb_classifier\",XGBRegressor())])\r\n",
    "\r\n",
    "# Pipelines list to iterate over\r\n",
    "pipelines = [pipeline_lr, pipeline_dt, pipeline_rf, pipeline_kn, pipeline_xgb]\r\n",
    "\r\n",
    "for pipe in pipelines:\r\n",
    "    # Create inputs for each Vectice & MLflow run\r\n",
    "    inputs = create_inputs()\r\n",
    "    # Expermient name for each pipeline \r\n",
    "    MLFLOW_EXPERIMENT_NAME = pipe.steps[1][0]\r\n",
    "    # Create each run that the start run will then start \r\n",
    "    run = vectice.create_run(MLFLOW_EXPERIMENT_NAME)\r\n",
    "    # Fit each model \r\n",
    "    pipe.fit(X_train, y_train)\r\n",
    "    \r\n",
    "    with vectice.start_run(run, inputs=inputs):\r\n",
    "        cv_score = cross_val_score(pipe, X_train, y_train,scoring=\"neg_root_mean_squared_error\", cv=10, n_jobs=-1)\r\n",
    "        mlflow.log_param('Algorithm', MLFLOW_EXPERIMENT_NAME)\r\n",
    "        mlflow.log_param('Scaler', 'StandardScaler')\r\n",
    "        mlflow.log_metric(\"Cross Validation\", float(cv_score.mean()))\r\n",
    "        print(f\"{MLFLOW_EXPERIMENT_NAME}: {cv_score.mean()}\")"
   ],
   "outputs": [],
   "metadata": {
    "id": "FkQ2WUpZy7z3"
   }
  },
  {
   "cell_type": "markdown",
   "source": [
    "#### Testing the Model with the best score on the test set\r\n",
    "In the above scores, XGBClassifier appears to be the model with the best scoring on negative root mean square error. Let's test this model on a test set and evaluate it with different parameters. But you might get different results."
   ],
   "metadata": {
    "id": "7HMKpZxAzNhl"
   }
  },
  {
   "cell_type": "code",
   "execution_count": null,
   "source": [
    "# If you have a mlflow run that is still running and you need to end it, then run this cell.\r\n",
    "mlflow.end_run()"
   ],
   "outputs": [],
   "metadata": {
    "id": "dQlEVHT4Y2ez"
   }
  },
  {
   "cell_type": "code",
   "execution_count": null,
   "source": [
    "# Model prediction on test data\r\n",
    "pred = pipeline_xgb.predict(X_test)"
   ],
   "outputs": [],
   "metadata": {
    "id": "ZcwMnsWhzE2J"
   }
  },
  {
   "cell_type": "code",
   "execution_count": null,
   "source": [
    "# Model Evaluation\r\n",
    "print(\"R^2:\",metrics.r2_score(y_test, pred))\r\n",
    "print(\"Adjusted R^2:\",1 - (1-metrics.r2_score(y_test, pred))*(len(y_test)-1)/(len(y_test)-X_test.shape[1]-1))\r\n",
    "print(\"MAE:\",metrics.mean_absolute_error(y_test, pred))\r\n",
    "print(\"MSE:\",metrics.mean_squared_error(y_test, pred))\r\n",
    "print(\"RMSE:\",np.sqrt(metrics.mean_squared_error(y_test, pred)))"
   ],
   "outputs": [],
   "metadata": {
    "id": "Xjzp8oIAz666"
   }
  },
  {
   "cell_type": "markdown",
   "source": [
    "#### End\r\n",
    "\r\n",
    "Congratulations and as Jake Peralta would say:\r\n",
    "\r\n",
    "![Image](https://i.imgur.com/I1wR7mE.gif?noredirect)"
   ],
   "metadata": {
    "id": "Md9YwqEGz_SZ"
   }
  }
 ],
 "metadata": {
  "colab": {
   "collapsed_sections": [],
   "include_colab_link": true,
   "name": "Diamonds-Price-Predictions.ipynb",
   "provenance": []
  },
  "interpreter": {
   "hash": "5970002f2814f9b5c80d9d4fc10f2bf2fda215a6ce99a901ef026501edeb9abe"
  },
  "kernelspec": {
   "display_name": "Python 3",
   "language": "python",
   "name": "python3"
  },
  "language_info": {
   "codemirror_mode": {
    "name": "ipython",
    "version": 3
   },
   "file_extension": ".py",
   "mimetype": "text/x-python",
   "name": "python",
   "nbconvert_exporter": "python",
   "pygments_lexer": "ipython3",
   "version": "3.8.5"
  }
 },
 "nbformat": 4,
 "nbformat_minor": 1
}