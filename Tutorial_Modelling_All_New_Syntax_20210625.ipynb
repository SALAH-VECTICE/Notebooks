{
  "nbformat": 4,
  "nbformat_minor": 0,
  "metadata": {
    "colab": {
      "name": "Tutorial_Modelling_All_New_Syntax_20210625.ipynb",
      "provenance": [],
      "collapsed_sections": []
    },
    "kernelspec": {
      "name": "python3",
      "display_name": "Python 3"
    },
    "language_info": {
      "name": "python"
    }
  },
  "cells": [
    {
      "cell_type": "markdown",
      "metadata": {
        "id": "B9PKJggkxfMo"
      },
      "source": [
        "## Preparation"
      ]
    },
    {
      "cell_type": "markdown",
      "metadata": {
        "id": "EBGxhcG7xZzr"
      },
      "source": [
        "This is the continuation of our EDA notebook. Like for the EDA notebook, you will need the secret key json file that was provided with your Vectice account to be able to access the housing data stored in Google Cloud Storage.\n",
        "\n",
        "We will be using the following models to make our predictions and illustrate how to log information into Vectice via Vectice SDK:\n",
        "- Linear Regression\n",
        "- Decision Tree Regression\n",
        "- Random Forest Regression\n",
        "\n",
        "Vectice is going to enable us to track our experiments, datasets, analyses, and documentation all in one place."
      ]
    },
    {
      "cell_type": "markdown",
      "metadata": {
        "id": "3McxMcLPxkdJ"
      },
      "source": [
        "### Install Vectice and GCS packages"
      ]
    },
    {
      "cell_type": "code",
      "metadata": {
        "id": "aXrYRKNiIlOn"
      },
      "source": [
        "## Requirements\n",
        "!pip3 install fsspec\n",
        "!pip3 install gcsfs\n",
        "!pip3 install vectice"
      ],
      "execution_count": null,
      "outputs": []
    },
    {
      "cell_type": "code",
      "metadata": {
        "id": "bGJeoplKI06E"
      },
      "source": [
        "!pip3 show vectice"
      ],
      "execution_count": null,
      "outputs": []
    },
    {
      "cell_type": "markdown",
      "metadata": {
        "id": "8a-NGpCnxo0A"
      },
      "source": [
        "### Retrieve the data from GCS\n",
        "\n",
        "Let's retrieve the file that was generated after the EDA was completed."
      ]
    },
    {
      "cell_type": "code",
      "metadata": {
        "id": "OkboM-VSI5wL"
      },
      "source": [
        "# Load your service account json key file to access GCS that was provided with your tutorial account. \n",
        "# The name should be something like gridmauk-10b1aaafb63f.json.\n",
        "from google.colab import files\n",
        "uploaded = files.upload()\n"
      ],
      "execution_count": null,
      "outputs": []
    },
    {
      "cell_type": "code",
      "metadata": {
        "id": "X44K8EaHJBAu"
      },
      "source": [
        "# Once your file is loaded, set the credentials for GCS and load the file in a Pandas frame.\n",
        "# Double check the json file name you uploaded below so it matches.\n",
        "import os\n",
        "import numpy as np\n",
        "import pandas as pd\n",
        "from matplotlib import pyplot as plt\n",
        "import seaborn as sns\n",
        "%matplotlib inline\n",
        "\n",
        "os.environ['GOOGLE_APPLICATION_CREDENTIALS'] = 'gcsTutorialTest.json'\n",
        "\n",
        "#df_2019 = pd.read_csv('gs://test-vectice-storage/kc_house_data_2019.csv')\n",
        "df = pd.read_csv('gs://vectice_tutorial/kc_house_data_cleaned.csv')\n",
        "\n",
        "# Run head to make sure the data was loaded properly\n",
        "df.head()\n"
      ],
      "execution_count": null,
      "outputs": []
    },
    {
      "cell_type": "markdown",
      "metadata": {
        "id": "c0k4Xz-sxtgZ"
      },
      "source": [
        "Vectice provides a generic metadata layer that is potentially suitable for most data science workflows.\n",
        "\n",
        "For this tutorial we will use the popular scikit-learn library for modeling and track experiments directly through our Python SDK to illustrate how to fine-tune exactly what you would like to track: metrics, etc. The same mechanisms would apply to R, Java or even more generic REST APIs to track metadata from any programming language and library."
      ]
    },
    {
      "cell_type": "code",
      "metadata": {
        "id": "KsXBhrmeJ0sZ"
      },
      "source": [
        "# In order to use Vectice SDK, let's set up the configurations first.\n",
        "# The Vectice API key below can be generated from the UI.\n",
        "# For better security, we strongly recommend for the settings to be put into a dedicated file and not to be added directly.\n",
        "os.environ['VECTICE_API_ENDPOINT']= \"be-dev.vectice.com\"\n",
        "#os.environ['VECTICE_API_TOKEN'] = \"APITOKEN_APITOKEN\"\n",
        "os.environ['VECTICE_API_TOKEN'] = \"wz1pa0y0Z.2xQ7rgbPO3Gdm4qLNRkWwz1pa0y0ZoX6V5BK82aM9DjnlJEYem\"\n",
        "\n",
        "from vectice import Vectice\n",
        "\n",
        "#vectice = Vectice(project_token=\"PROJECTTOKEN_PROJECTTOKEN\")\n",
        "vectice = Vectice(project_token=\"nwlOqv91Hgn9JaGve863\")\n"
      ],
      "execution_count": null,
      "outputs": []
    },
    {
      "cell_type": "markdown",
      "metadata": {
        "id": "26ChSoJtxyiu"
      },
      "source": [
        "### Split dataset into training and testing\n",
        "\n",
        "We are splitting the dataset into training data and testing data below and save that in GCS. The GCS code has been commented out as the data has already been generated."
      ]
    },
    {
      "cell_type": "code",
      "metadata": {
        "id": "G4Wu5npWJ5U1"
      },
      "source": [
        "import string\n",
        "from math import sqrt\n",
        "\n",
        "# Load scikit-learn packages\n",
        "from sklearn.model_selection import train_test_split  # Model Selection\n",
        "from sklearn.metrics import mean_absolute_error, mean_squared_error  # Model Evaluation\n",
        "from sklearn.linear_model import LinearRegression  # Linear Regression\n",
        "from sklearn.tree import DecisionTreeRegressor, plot_tree  # Decision Tree Regression\n",
        "from sklearn.ensemble import RandomForestRegressor  # Random Forest Regression\n"
      ],
      "execution_count": null,
      "outputs": []
    },
    {
      "cell_type": "code",
      "metadata": {
        "id": "JU50t9fHKALv"
      },
      "source": [
        "# Use auto-versioning here\n",
        "input_ds_version = vectice.create_dataset_version().with_parent_name(\"kc_house_data\")\n",
        "\n",
        "# Start a Vectice run. The job type should be PREPARATION in this case.\n",
        "vectice.create_run(\"jobSplitHousingData\")\n",
        "vectice.start_run(inputs=[input_ds_version])\n",
        "\n",
        "# Let's split training and testing sets using a random split of 80% for training, 20% for testing.\n",
        "# We use a seed to make the results reproducible for this example.\n",
        "train, test = train_test_split(df, test_size=0.2, random_state = 42)\n",
        "\n",
        "# We commented out the code to persist the training and testing test in GCS,\n",
        "# because we already generated it for you, but feel free to uncomment it and execute it.\n",
        "# The key you were provided for this tutorial may not have write permissions to GCS.\n",
        "# Let us know if you want to be able to write files as well and we can issue you a different key.\n",
        "# train.to_csv (r'gs://vectice_data_examples/reference_data/training_data.csv', index = False, header = True)\n",
        "# test.to_csv (r'gs://vectice_data_examples/reference_data/testing_data.csv', index = False, header = True)\n",
        "\n",
        "# Let's futher generate X_train, X_test, y_train, y_test, which we will need for modeling\n",
        "X = df.drop(\"price\", axis=1).values\n",
        "y = df[\"price\"].values\n",
        "X_train, X_test, y_train, y_test = train_test_split(X, y, test_size=0.2, random_state=42)\n",
        "\n",
        "train_ds_version = vectice.create_dataset_version().with_parent_name(\"train_kc_house_data\")\n",
        "test_ds_version = vectice.create_dataset_version().with_parent_name(\"test_kc_house_data\")\n",
        "\n",
        "vectice.end_run(outputs=[train_ds_version,test_ds_version])\n",
        "\n",
        "X_train\n"
      ],
      "execution_count": null,
      "outputs": []
    },
    {
      "cell_type": "markdown",
      "metadata": {
        "id": "UWCBtvUDx2km"
      },
      "source": [
        "### Name your experiments"
      ]
    },
    {
      "cell_type": "markdown",
      "metadata": {
        "id": "khVCyL5ox2Vn"
      },
      "source": [
        "Input the experiment names and make them unique"
      ]
    },
    {
      "cell_type": "code",
      "metadata": {
        "id": "6QtC_bmCMhXy"
      },
      "source": [
        "# Let's generate some unique names for our following modeling experiments\n",
        "import random\n",
        "\n",
        "def get_random_string(length):\n",
        "    return \"\".join(random.choice(string.ascii_letters) for i in range(length))\n",
        "\n",
        "rdm_str = get_random_string(5)\n",
        "print(\"Generated random string to make job names unique:\", rdm_str)\n",
        "\n",
        "# Linear regression\n",
        "LR_EXPERIMENT_NAME = \"LR-Model-\" + rdm_str\n",
        "\n",
        "# Decision tree\n",
        "DT_EXPERIMENT_NAME = \"DT-Model-\" + rdm_str\n",
        "\n",
        "# Random forest\n",
        "RF_EXPERIMENT_NAME = \"RF-Model-\" + rdm_str\n"
      ],
      "execution_count": null,
      "outputs": []
    },
    {
      "cell_type": "markdown",
      "metadata": {
        "id": "tNlnYdQ_x8AZ"
      },
      "source": [
        "## Modeling"
      ]
    },
    {
      "cell_type": "markdown",
      "metadata": {
        "id": "14f1pDCdx82I"
      },
      "source": [
        "### Linear regression model"
      ]
    },
    {
      "cell_type": "markdown",
      "metadata": {
        "id": "jQU-NU7Mx_Mn"
      },
      "source": [
        "First, we will do a basic Linear Regression and observe the baseline accuracy metrics."
      ]
    },
    {
      "cell_type": "code",
      "metadata": {
        "id": "eu5z76qtMvW6"
      },
      "source": [
        "# Each \"trial\" for a given job is called a run, for LR we will only do one run.\n",
        "# Setting the job's name is mandatory and run's name is optional, though both of them can be updated from Vectice UI.\n",
        "\n",
        "vectice.create_run(LR_EXPERIMENT_NAME)\n",
        "\n",
        "vectice.start_run(inputs=[input_ds_version])\n",
        "\n",
        "lr_rg = LinearRegression()\n",
        "lr_rg.fit(X_train, y_train)\n",
        "lr_pred = lr_rg.predict(X_test)\n",
        "\n",
        "# Evaluate Metrics\n",
        "MAE = mean_absolute_error(lr_pred, y_test)\n",
        "RMSE = sqrt(mean_squared_error(lr_pred, y_test))\n",
        "\n",
        "print(\"Root Mean Squared Error: \", RMSE)\n",
        "print(\"Mean Absolute Error: \", MAE)\n",
        "\n",
        "# For the first time, you must define a user version\n",
        "# Here, we use a random string to avoid using the same user-generated name more than once (probabilistically speaking). This is to avoid the known issue mentioned in the next commented lines\n",
        "model_version = vectice.create_model_version().with_parent_name(\"linearRegression\").with_property(\"Algorithm\",\"Linear Regression\").with_metric(\"RMSE\",RMSE).with_metric(\"MAE\",MAE).with_user_version(get_random_string(12))\n",
        "\n",
        "# Known issue: successive runs fail and may point to another model despite defining the parent_name and number and version\n",
        "#model_version = vectice.create_model_version().with_parent_name(\"linearRegression\").with_property(\"Algorithm\",\"Linear Regression\").with_metric(\"RMSE\",RMSE).with_metric(\"MAE\",MAE).with_existing_version(186,\"Version 1\")\n",
        "\n",
        "vectice.end_run(outputs=[model_version])\n"
      ],
      "execution_count": null,
      "outputs": []
    },
    {
      "cell_type": "markdown",
      "metadata": {
        "id": "kHfTyn5ByD0M"
      },
      "source": [
        "### Decision tree model"
      ]
    },
    {
      "cell_type": "markdown",
      "metadata": {
        "id": "-FIP53giyFc_"
      },
      "source": [
        "Let's try decision tree and see if it gives a better accuracy. Try different values for the tree_depth. Same principle of logging metrics as above."
      ]
    },
    {
      "cell_type": "code",
      "metadata": {
        "id": "k-iP1UhKuLeN"
      },
      "source": [
        "# We can do a few runs with different max depth for the tree.\n",
        "# Just change the value below and re-run this cell.\n",
        "# You should see the new runs showing up in the Vectice UI.\n",
        "tree_depth = 4\n",
        "\n",
        "vectice.create_run(DT_EXPERIMENT_NAME)\n",
        "\n",
        "vectice.start_run(inputs=[input_ds_version])\n",
        "\n",
        "dtr = DecisionTreeRegressor(max_depth=tree_depth, min_samples_split=50)\n",
        "dtr.fit(X_train,y_train)\n",
        "dtr_pred = dtr.predict(X_test) \n",
        "\n",
        "data_feature_names = ['bedrooms', 'bathrooms', 'sqft_living', 'sqft_lot', 'floors',\n",
        "                      'waterfront', 'view', 'condition', 'grade', 'sqft_above',\n",
        "                      'sqft_basement', 'yr_built', 'yr_renovated', 'zipcode', 'lat',\n",
        "                      'long', 'sqft_living15', 'sqft_lot15']\n",
        "\n",
        "# Visualize the Decision Tree Model\n",
        "plt.figure(figsize=(25, 10))\n",
        "plot_tree(dtr, feature_names=data_feature_names, filled=True, fontsize=10)\n",
        "\n",
        "MAE = mean_absolute_error(dtr_pred, y_test)\n",
        "RMSE = sqrt(mean_squared_error(dtr_pred, y_test))\n",
        "\n",
        "print(\"Root Mean Squared Error:\", RMSE)\n",
        "print(\"Mean Absolute Error:\", MAE)\n",
        "\n",
        "model_version2 = vectice.create_model_version().with_parent_name(\"decisionTree\").with_property(\"Algorithm\",\"Decision Tree\").with_metric(\"RMSE\",RMSE).with_metric(\"MAE\",MAE).with_user_version(get_random_string(12))\n",
        "\n",
        "vectice.end_run(outputs=[model_version2])"
      ],
      "execution_count": null,
      "outputs": []
    },
    {
      "cell_type": "markdown",
      "metadata": {
        "id": "eSA7zAZGyQmu"
      },
      "source": [
        "### Random forest model\n",
        "\n",
        "Let's use the Random Forest Regression and do some hyper-parameter tuning on it."
      ]
    },
    {
      "cell_type": "code",
      "metadata": {
        "id": "B3I4rcTVu5PF"
      },
      "source": [
        "# You can do multiple runs by modifying the values below\n",
        "nb_trees = 30\n",
        "min_samples = 30\n",
        "\n",
        "vectice.create_run(RF_EXPERIMENT_NAME)\n",
        "\n",
        "vectice.start_run(inputs=[input_ds_version])\n",
        "\n",
        "rf_regressor = RandomForestRegressor(n_estimators=nb_trees, min_samples_leaf=min_samples)\n",
        "rf_regressor.fit(X_train, y_train)\n",
        "rf_regressor.score(X_test, y_test)\n",
        "rf_regressor_pred = rf_regressor.predict(X_test)\n",
        "\n",
        "MAE = mean_absolute_error(rf_regressor_pred, y_test)\n",
        "RMSE = sqrt(mean_squared_error(rf_regressor_pred, y_test))\n",
        "\n",
        "print(\"Root Mean Squared Error:\", RMSE)\n",
        "print(\"Mean Absolute Error:\", MAE)\n",
        "\n",
        "# Here's an alternative version to declare metrics\n",
        "metrics = [(\"RMSE\",RMSE),\n",
        "           (\"MAE\",MAE)]\n",
        "\n",
        "model_version3 = vectice.create_model_version().with_parent_name(\"randomForest\").with_property(\"Algorithm\",\"Random Forest\").with_metrics(metrics).with_user_version(get_random_string(12))\n",
        "\n",
        "vectice.end_run(outputs=[model_version3])\n"
      ],
      "execution_count": null,
      "outputs": []
    },
    {
      "cell_type": "markdown",
      "metadata": {
        "id": "QhotjOQUyTcH"
      },
      "source": [
        "We can see that the Random Forest Regressor model gives the lowest error and should be the preferred approach despite the complexity of the algorithm. Let's get the list of features' importance to discuss which variables are influencing the model the most."
      ]
    },
    {
      "cell_type": "code",
      "metadata": {
        "id": "CHcKAqzDyUQZ"
      },
      "source": [
        "columns = ['bedrooms', 'bathrooms', 'sqft_living', 'sqft_lot', 'floors',\n",
        "           'waterfront', 'view', 'condition', 'grade', 'sqft_above',\n",
        "           'sqft_basement', 'yr_built', 'yr_renovated', 'zipcode', 'lat',\n",
        "           'long', 'sqft_living15', 'sqft_lot15']\n",
        "\n",
        "importance = pd.DataFrame({'Importance': rf_regressor.feature_importances_ * 100}, index=columns)\n",
        "importance.sort_values(by=\"Importance\", axis=0, ascending=True).plot(kind=\"barh\", color=\"b\")\n",
        "plt.xlabel(\"Variable Importance\")\n",
        "plt.gca().legend_ = None\n"
      ],
      "execution_count": null,
      "outputs": []
    },
    {
      "cell_type": "markdown",
      "metadata": {
        "id": "z_BYeT1hyZwj"
      },
      "source": [
        "Thank you and congratulations! You have succesfully completed this tutorial.\n",
        "\n",
        "In this tutorial we have illustrated how you can capture your experiments, hyper-parameters, datasets and metrics inside Vectice for analysis, documentation and to engage a business conversation around the findings.\n",
        "\n",
        "This will enable you to:\n",
        "1. Make your experiments more reproducible.\n",
        "2. Track the data that is used for each experiment and be able to quickly debug issues with live models.\n",
        "3. Capture the key insights that were discovered during the project and record all decisions taken.\n",
        "\n",
        "We are keeping extending our support of the Vectice SDK.\n",
        "\n",
        "Let us know what improvements you would like to see in the solution and what your favorite features are after completing this tutorial. Any comments will be appreciated!\n",
        "\n",
        "Feel free to explore more and come up with your own ideas on how to best start leveraging Vectice!\n"
      ]
    }
  ]
}